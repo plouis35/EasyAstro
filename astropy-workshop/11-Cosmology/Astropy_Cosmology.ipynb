{
 "cells": [
  {
   "cell_type": "markdown",
   "metadata": {},
   "source": [
    "# Astropy Cosmologies"
   ]
  },
  {
   "cell_type": "markdown",
   "metadata": {},
   "source": [
    "Astropy includes a convenient framework for defining cosmologies and working with realizations thereof.  These realizations hold the cosmological parameters and enable computation of a variety of redshift-parameterized properties, e.g. the luminosity distance.\n",
    "\n",
    "For more information about the features presented below, please see the\n",
    "[astropy.cosmology](https://docs.astropy.org/en/stable/cosmology/index.html) docs.\n",
    "\n",
    "Also note that this tutorial assumes you have little or no knowledge of the astropy cosmology docs.  If you're familiar with them and have interest in extending this framework to more cosmologies, realizations, or methods, Astropy always welcomes contributions."
   ]
  },
  {
   "cell_type": "markdown",
   "metadata": {},
   "source": [
    "## Introduction"
   ]
  },
  {
   "cell_type": "markdown",
   "metadata": {},
   "source": [
    "The [``astropy.cosmology``](https://docs.astropy.org/en/stable/cosmology/index.html) package provides an object-oriented approach to cosmology that tightly integrates with the rest of the Astropy ecosystem, and units in particular.\n",
    "\n",
    "With that in mind, the following is the standard set of imports to begin working with the cosmology package."
   ]
  },
  {
   "cell_type": "code",
   "execution_count": null,
   "metadata": {},
   "outputs": [],
   "source": [
    "from astropy import cosmology\n",
    "import astropy.units as u"
   ]
  },
  {
   "cell_type": "markdown",
   "metadata": {},
   "source": [
    "The first thing we will need is to select a cosmology, essentially the physics, in which to work. The most commonly used is a flat $\\Lambda$CDM cosmology with a Friedmann–Lemaître–Robertson–Walker (FLRW) metric. We will use it here as well.\n",
    "\n",
    "Concordant to OOP, in ``astropy.cosmology`` the cosmology types are classes and realizations of those cosmologies are instances of the classes. We can import the flat-$\\Lambda$CDM cosmology and examine its public methods and attributes:"
   ]
  },
  {
   "cell_type": "code",
   "execution_count": null,
   "metadata": {},
   "outputs": [],
   "source": [
    "from astropy.cosmology import FlatLambdaCDM  # same as cosmology.FlatLambdaCDM\n",
    "\n",
    "pubdir = {x for x in dir(FlatLambdaCDM) if not x.startswith(\"_\")}\n",
    "print(\"Attributes: \", {x for x in pubdir if not callable(getattr(FlatLambdaCDM, x))})\n",
    "print(\"\\nMethods: \", {x for x in pubdir if callable(getattr(FlatLambdaCDM, x))})"
   ]
  },
  {
   "cell_type": "markdown",
   "metadata": {},
   "source": [
    "Many of the attributes are for components to the energy density (e.g. `.Onu0`) or derived quantities like the Hubble time (`.hubble_time`).\n",
    "\n",
    "The methods are for more involved calculations, like the comoving volume (``.comoving_volume()``)."
   ]
  },
  {
   "cell_type": "markdown",
   "metadata": {},
   "source": [
    "Before we dive into using the ``FlatLambdaCDM`` cosmology, it is worth noting that there are numerous other cosmologies, many offering alternative dark energy models."
   ]
  },
  {
   "cell_type": "code",
   "execution_count": null,
   "metadata": {},
   "outputs": [],
   "source": [
    "from astropy.cosmology.core import Cosmology  # the base class\n",
    "\n",
    "def all_subclasses(cosmo):  # recursively find all subclasses\n",
    "    yield cosmo.__qualname__\n",
    "    for c in cosmo.__subclasses__(): yield from all_subclasses(c)\n",
    "\n",
    "print(\"Other available cosmologies:\", \", \".join(all_subclasses(Cosmology)))"
   ]
  },
  {
   "cell_type": "markdown",
   "metadata": {},
   "source": [
    "To work with a cosmology we must create an instance, a *realization*, of the cosmology class.\n",
    "A realization sets single values for the cosmological parameters and allows for numerical computation."
   ]
  },
  {
   "cell_type": "code",
   "execution_count": null,
   "metadata": {},
   "outputs": [],
   "source": [
    "# make a realization, setting the required H0 & Om0 and overriding the default Tcmb0\n",
    "cosmo = FlatLambdaCDM(H0=70*u.km/u.s/u.Mpc, Om0=0.3, Tcmb0=2.7*u.K)\n",
    "cosmo"
   ]
  },
  {
   "cell_type": "markdown",
   "metadata": {},
   "source": [
    "Now the attributes and methods shown above can be called."
   ]
  },
  {
   "cell_type": "code",
   "execution_count": null,
   "metadata": {},
   "outputs": [],
   "source": [
    "cosmo.H0"
   ]
  },
  {
   "cell_type": "code",
   "execution_count": null,
   "metadata": {},
   "outputs": [],
   "source": [
    "cosmo.hubble_time"
   ]
  },
  {
   "cell_type": "code",
   "execution_count": null,
   "metadata": {},
   "outputs": [],
   "source": [
    "cosmo.angular_diameter_distance_z1z2(2, 4)"
   ]
  },
  {
   "cell_type": "code",
   "execution_count": null,
   "metadata": {},
   "outputs": [],
   "source": [
    "# these also work on array input\n",
    "cosmo.comoving_distance([1, 2, 3, 4, 5])"
   ]
  },
  {
   "cell_type": "markdown",
   "metadata": {},
   "source": [
    "## Built-in Cosmology Realizations\n"
   ]
  },
  {
   "cell_type": "markdown",
   "metadata": {},
   "source": [
    "While the cosmology classes support arbitrary realizations, most often we are looking to work with a \"standard\" cosmology, such as the Planck 2018 best-fit values.\n",
    "\n",
    "Astropy provides a number of these built-in realizations:"
   ]
  },
  {
   "cell_type": "code",
   "execution_count": null,
   "metadata": {},
   "outputs": [],
   "source": [
    "from astropy.cosmology import parameters\n",
    "\n",
    "print(parameters.available)"
   ]
  },
  {
   "cell_type": "markdown",
   "metadata": {},
   "source": [
    "From here on we will work with the ``Planck18`` realization."
   ]
  },
  {
   "cell_type": "code",
   "execution_count": null,
   "metadata": {},
   "outputs": [],
   "source": [
    "from astropy.cosmology import Planck18; Planck18"
   ]
  },
  {
   "cell_type": "markdown",
   "metadata": {},
   "source": [
    "The Planck'18 realization sets the cosmology components, the temperature, and also has massive neutrinos."
   ]
  },
  {
   "cell_type": "markdown",
   "metadata": {},
   "source": [
    "Astropy ``cosmology`` and ``Quantity``s are built on NumPy, meaning that all methods are vectorized.\n",
    "We can see this in the following plot showing the Universe's age as a function of redshift."
   ]
  },
  {
   "cell_type": "code",
   "execution_count": null,
   "metadata": {},
   "outputs": [],
   "source": [
    "import numpy as np\n",
    "import matplotlib.pyplot as plt\n",
    "\n",
    "z = np.geomspace(0.1, 2e3, num=100)\n",
    "\n",
    "fig = plt.figure()\n",
    "ax = fig.add_subplot(xlabel=\"Redshift\", ylabel=\"Age [Gyr]\")\n",
    "ax.loglog(z, Planck18.age(z))\n",
    "ax.invert_xaxis()\n",
    "plt.show();"
   ]
  },
  {
   "cell_type": "markdown",
   "metadata": {},
   "source": [
    "### Modifying a Realization"
   ]
  },
  {
   "cell_type": "markdown",
   "metadata": {},
   "source": [
    "Cosmology realizations are immutable, but it's often useful to \"perturb\" about a cosmology. For this, cosmologies have a ``.clone()`` method that can also override any value, but keeps the remaining values the same. For example,"
   ]
  },
  {
   "cell_type": "code",
   "execution_count": null,
   "metadata": {},
   "outputs": [],
   "source": [
    "newcosmo = Planck18.clone(Om0=0.4, Ob0=0.3, name=\"perturbed\")  # override \n",
    "newcosmo"
   ]
  },
  {
   "cell_type": "markdown",
   "metadata": {},
   "source": [
    "We can see the difference between ``Planck18`` and the new cosmology."
   ]
  },
  {
   "cell_type": "code",
   "execution_count": null,
   "metadata": {},
   "outputs": [],
   "source": [
    "fig = plt.figure(figsize=(14, 5))\n",
    "ax = fig.add_subplot(121, title=\"Cosmology age\", xlabel=\"Redshift\", ylabel=r\"age  [Gyr]\")\n",
    "ax.semilogx(z, Planck18.age(z))\n",
    "ax.semilogx(z, newcosmo.age(z))\n",
    "ax.invert_xaxis()\n",
    "\n",
    "ax = fig.add_subplot(122, title=\"Cosmology age perturbation\", xlabel=\"Redshift\", ylabel=r\"$1 - \\frac{\\rm{perturbed}}{\\rm{Planck'18}}$\")\n",
    "ax.semilogx(z, np.abs(1 - newcosmo.age(z)/Planck18.age(z)))\n",
    "ax.invert_xaxis()\n",
    "plt.tight_layout()\n",
    "plt.show();"
   ]
  },
  {
   "cell_type": "markdown",
   "metadata": {},
   "source": [
    "## The Default Realization"
   ]
  },
  {
   "cell_type": "markdown",
   "metadata": {},
   "source": [
    "Consider the ``coordinates.Distance`` function. It is Astropy's flexible method to describe distances and understand the connection between distance, parallax, and other related distance measures."
   ]
  },
  {
   "cell_type": "code",
   "execution_count": null,
   "metadata": {},
   "outputs": [],
   "source": [
    "from astropy.coordinates import Distance\n",
    "d = Distance(1 * u.Gpc)"
   ]
  },
  {
   "cell_type": "code",
   "execution_count": null,
   "metadata": {},
   "outputs": [],
   "source": [
    "d.distmod"
   ]
  },
  {
   "cell_type": "code",
   "execution_count": null,
   "metadata": {},
   "outputs": [],
   "source": [
    "d.z  # the redshift"
   ]
  },
  {
   "cell_type": "markdown",
   "metadata": {},
   "source": [
    "The redshift calculation requires a Cosmology.\n",
    "When a ``Distance`` is initialized, it accepts the cosmology as a keyword argument, but if one is not provided, it will fall back to a default value. This default cosmology realization is controlled by the [``cosmology.default_cosmology``](https://docs.astropy.org/en/stable/api/astropy.cosmology.default_cosmology.html) global state (for more information see [``ScienceState``](https://docs.astropy.org/en/stable/api/astropy.utils.state.ScienceState.html)).\n",
    "\n",
    "Lets take a closer look."
   ]
  },
  {
   "cell_type": "code",
   "execution_count": null,
   "metadata": {},
   "outputs": [],
   "source": [
    "from astropy.cosmology import default_cosmology"
   ]
  },
  {
   "cell_type": "code",
   "execution_count": null,
   "metadata": {},
   "outputs": [],
   "source": [
    "# the public methods\n",
    "{x for x in dir(default_cosmology) if not x.startswith(\"_\")}"
   ]
  },
  {
   "cell_type": "markdown",
   "metadata": {},
   "source": [
    "The ``get``/``set`` methods are the standard interface.\n",
    "\n",
    "``get`` will return the curent default cosmology realization,"
   ]
  },
  {
   "cell_type": "code",
   "execution_count": null,
   "metadata": {},
   "outputs": [],
   "source": [
    "default_cosmology.get()  # to get the default Cosmology"
   ]
  },
  {
   "cell_type": "markdown",
   "metadata": {},
   "source": [
    "while ``set`` will set the default cosmology realization. If used as a [context-manager](https://docs.python.org/3/reference/compound_stmts.html#the-with-statement), the changed default cosmology realization\n",
    "will revert to the old default."
   ]
  },
  {
   "cell_type": "code",
   "execution_count": null,
   "metadata": {},
   "outputs": [],
   "source": [
    "with default_cosmology.set(\"WMAP5\"):\n",
    "    cosmo = default_cosmology.get()\n",
    "    # do calculations here\n",
    "    print(\"New: \", cosmo.name)\n",
    "\n",
    "print(\"Reverted: \", default_cosmology.get().name)"
   ]
  },
  {
   "cell_type": "markdown",
   "metadata": {},
   "source": [
    "Returning to ``Distance``, we can see how changing the default cosmology realization will impact redshift calculations."
   ]
  },
  {
   "cell_type": "code",
   "execution_count": null,
   "metadata": {},
   "outputs": [],
   "source": [
    "d = Distance(1 * u.Gpc)\n",
    "dz = d.z\n",
    "dz"
   ]
  },
  {
   "cell_type": "code",
   "execution_count": null,
   "metadata": {},
   "outputs": [],
   "source": [
    "with default_cosmology.set(\"WMAP5\"):\n",
    "    print(f\"WMAP5 - Planck18: {100 * (d.z / dz - 1):.3}% difference\")"
   ]
  },
  {
   "cell_type": "markdown",
   "metadata": {},
   "source": [
    "For a stable distance-to-redshift, do all calculations with a set cosmology."
   ]
  },
  {
   "cell_type": "code",
   "execution_count": null,
   "metadata": {},
   "outputs": [],
   "source": [
    "with default_cosmology.set(\"Planck13\"):\n",
    "    print(Distance(z=0.1))"
   ]
  },
  {
   "cell_type": "markdown",
   "metadata": {},
   "source": [
    "## Equivalencies\n",
    "\n",
    "Equivalencies can be used to convert quantities that are not strictly the same physical type, but in a specific context are interchangable.  "
   ]
  },
  {
   "cell_type": "code",
   "execution_count": null,
   "metadata": {},
   "outputs": [],
   "source": [
    "distance = 105 * (u.Mpc/cosmology.units.littleh)\n",
    "distance"
   ]
  },
  {
   "cell_type": "code",
   "execution_count": null,
   "metadata": {},
   "outputs": [],
   "source": [
    "# This raises an error because they are different units.\n",
    "try:\n",
    "    distance.to(u.Mpc)\n",
    "except u.UnitConversionError:\n",
    "    print(\"Cannot convert incompatible units.\")"
   ]
  },
  {
   "cell_type": "markdown",
   "metadata": {},
   "source": [
    "For cosmologies, Astropy offers a $h$ - $H_0$ equivalency for switching between the unitless and unit-ful Hubble constant. "
   ]
  },
  {
   "cell_type": "code",
   "execution_count": null,
   "metadata": {},
   "outputs": [],
   "source": [
    "# This succeeds using equivalencies.\n",
    "H0_70 = 70 * u.km / u.s / u.Mpc\n",
    "\n",
    "distance.to(u.Mpc, cosmology.units.with_H0(H0_70))"
   ]
  },
  {
   "cell_type": "markdown",
   "metadata": {},
   "source": [
    "And vice versa"
   ]
  },
  {
   "cell_type": "code",
   "execution_count": null,
   "metadata": {},
   "outputs": [],
   "source": [
    "(150 * u.Mpc).to(u.Mpc/cosmology.units.littleh, cosmology.units.with_H0(H0_70))"
   ]
  },
  {
   "cell_type": "markdown",
   "metadata": {},
   "source": [
    "This equivalency works for arbitrary Quantities."
   ]
  },
  {
   "cell_type": "code",
   "execution_count": null,
   "metadata": {},
   "outputs": [],
   "source": [
    "luminosity = 0.49 * u.Lsun * cosmology.units.littleh**-2\n",
    "luminosity.to(u.Lsun, cosmology.units.with_H0(H0_70))"
   ]
  },
  {
   "cell_type": "markdown",
   "metadata": {},
   "source": [
    "Note that the equivalency is cosmology dependent."
   ]
  },
  {
   "cell_type": "code",
   "execution_count": null,
   "metadata": {},
   "outputs": [],
   "source": [
    "print(distance.to(u.Mpc, cosmology.units.with_H0(H0_70)),\n",
    "      distance.to(u.Mpc, cosmology.units.with_H0(Planck18.H0)), sep=\"\\n\")"
   ]
  },
  {
   "cell_type": "markdown",
   "metadata": {},
   "source": [
    "To perform a number of computations with the same cosmology, use [astropy.units.add_enabled_equivalencies](https://docs.astropy.org/en/stable/api/astropy.units.add_enabled_equivalencies.html?highlight=add_enabled_equivalencies). When done as a ``with`` statement, this equivalency will only be enabled within the block and prevent mistakenly using the Planck18 equivalency when working with, e.g., WMAP data."
   ]
  },
  {
   "cell_type": "code",
   "execution_count": null,
   "metadata": {},
   "outputs": [],
   "source": [
    "with u.add_enabled_equivalencies(cosmology.units.with_H0(Planck18.H0)):\n",
    "    print(f\"distance: {distance.to(u.Mpc)}\",\n",
    "          f\"luminosity: {luminosity.to(u.Lsun)}\", sep=\"\\n\")"
   ]
  },
  {
   "cell_type": "markdown",
   "metadata": {},
   "source": [
    "There's a lot of flexibility with equivalencies, including a variety of other built-in equivalencies, useful in difference contexts.  So if you want to know more, you might want to check out the [equivalencies narrative documentation](https://docs.astropy.org/en/stable/units/equivalencies.html) or the [astropy.units.equivalencies reference docs](https://docs.astropy.org/en/stable/units/index.html#module-astropy.units.equivalencies)."
   ]
  },
  {
   "cell_type": "markdown",
   "metadata": {},
   "source": [
    "# Putting it all together:  a concise example\n"
   ]
  },
  {
   "cell_type": "markdown",
   "metadata": {},
   "source": [
    "Let's say we have a data set with an array of luminosity distances and we are interested in finding the corresponding redshift for an array of cosmologies.\n",
    "\n",
    "For this exercise we'll need a ``astropy.cosmology`` function to invert redshift-dependent function and find the redshift at a value."
   ]
  },
  {
   "cell_type": "code",
   "execution_count": null,
   "metadata": {},
   "outputs": [],
   "source": [
    "from astropy.cosmology import z_at_value  # only works on scalar inputs"
   ]
  },
  {
   "cell_type": "code",
   "execution_count": null,
   "metadata": {},
   "outputs": [],
   "source": [
    "z_at_value(Planck18.age, 10*u.Gyr)"
   ]
  },
  {
   "cell_type": "markdown",
   "metadata": {},
   "source": [
    "Our \"dataset\" will consist of a nice set of measurements"
   ]
  },
  {
   "cell_type": "code",
   "execution_count": null,
   "metadata": {},
   "outputs": [],
   "source": [
    "distances = Distance(np.linspace(45, 2535, 100) * u.Mpc)"
   ]
  },
  {
   "cell_type": "markdown",
   "metadata": {},
   "source": [
    "Now we iterate over a number of cosmologies, perturbing the matter (and baryonic) parameters."
   ]
  },
  {
   "cell_type": "code",
   "execution_count": null,
   "metadata": {},
   "outputs": [],
   "source": [
    "perturb_Om0 = np.linspace(-0.2, 0.2, num=50)  # the perturbation\n",
    "zs = np.empty((50, 100))  # preload derived redshift arrays\n",
    "\n",
    "for i, cosmo in enumerate(Planck18.clone(Om0=Planck18.Om0+dm, Ob0=Planck18.Om0+dm-0.001) for dm in perturb_Om0):\n",
    "    # compute the redshift at the luminosity distance\n",
    "    zs[i] = [z_at_value(cosmo.luminosity_distance, d) for d in distances]\n",
    "\n",
    "zs.shape"
   ]
  },
  {
   "cell_type": "code",
   "execution_count": null,
   "metadata": {},
   "outputs": [],
   "source": [
    "fig = plt.figure()\n",
    "ax = fig.add_subplot(title=\"Perturbed Matter Component\", xlabel=\"Distance [Mpc]\", ylabel=\"z\")\n",
    "ax.plot(distances, zs.T, c=\"gray\", alpha=0.1);\n",
    "for z, dm in zip(zs[::10, :], perturb_Om0[::10]):\n",
    "    ax.plot(distances, z, label=r\"$\\Delta\\Omega_{m0}=$\" + f\"{Planck18.Om0+dm:.3}\")\n",
    "ax.legend()\n",
    "plt.show();"
   ]
  },
  {
   "cell_type": "markdown",
   "metadata": {},
   "source": [
    "# Exercises\n",
    "\n",
    "## Exercise 1\n",
    "\n",
    "Compute the redshift of matter-radiation equality for the Planck 2018 flat-$\\Lambda$CDM realization.\n",
    "Convert this into a variety of distance measures: the scale factor, luminosity distance, distance modulus, etc."
   ]
  },
  {
   "cell_type": "markdown",
   "metadata": {},
   "source": [
    "*Hints*:\n",
    "\n",
    "- Check out ``z_at_value``\n",
    "- Astropy cosmology instances have defined methods for calculating the matter and radiation components as a function of redshift. See [the docs](https://docs.astropy.org/en/stable/api/astropy.cosmology.FLRW.html)."
   ]
  },
  {
   "cell_type": "code",
   "execution_count": null,
   "metadata": {},
   "outputs": [],
   "source": [
    "z_at_value?"
   ]
  },
  {
   "cell_type": "code",
   "execution_count": null,
   "metadata": {
    "slideshow": {
     "slide_type": "-"
    }
   },
   "outputs": [],
   "source": [
    "# Answer here (z)"
   ]
  },
  {
   "cell_type": "code",
   "execution_count": null,
   "metadata": {},
   "outputs": [],
   "source": [
    "# Answer here (a, d, m-M)"
   ]
  }
 ],
 "metadata": {
  "anaconda-cloud": {},
  "kernelspec": {
   "display_name": "Python 3 (ipykernel)",
   "language": "python",
   "name": "python3"
  },
  "language_info": {
   "codemirror_mode": {
    "name": "ipython",
    "version": 3
   },
   "file_extension": ".py",
   "mimetype": "text/x-python",
   "name": "python",
   "nbconvert_exporter": "python",
   "pygments_lexer": "ipython3",
   "version": "3.11.6"
  },
  "nteract": {
   "version": "0.28.0"
  },
  "toc": {
   "base_numbering": 1,
   "nav_menu": {},
   "number_sections": true,
   "sideBar": true,
   "skip_h1_title": false,
   "title_cell": "Table of Contents",
   "title_sidebar": "Contents",
   "toc_cell": false,
   "toc_position": {},
   "toc_section_display": true,
   "toc_window_display": false
  }
 },
 "nbformat": 4,
 "nbformat_minor": 4
}
