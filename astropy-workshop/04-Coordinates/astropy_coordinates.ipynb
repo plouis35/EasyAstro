{
 "cells": [
  {
   "cell_type": "markdown",
   "metadata": {},
   "source": [
    "# An Overview of `astropy.coordinates`:\n",
    "\n",
    "### Matching catalogs, planning observations, and handling stellar velocities"
   ]
  },
  {
   "cell_type": "markdown",
   "metadata": {},
   "source": [
    "Astronomers use a wide variety of coordinate systems and formats to represent sky coordinates of celestial objects. For example, you may be familiar with terms like \"right ascension\" and \"declination\" or \"galactic latitude/longitude,\" and you may have seen angular coordinate components represented as \"0h39m15.9s,\" \"00:39:15.9,\" or 9.81625º. `astropy.coordinates` provides tools for representing the coordinates of objects and transforming them between different systems. \n",
    "\n",
    "In this tutorial, we will explore how the `astropy.coordinates` package and related Astropy functionality can be used to help in planning observations or other exercises focused on large coordinate catalogs. \n",
    "\n",
    "You may find it helpful to keep [the Astropy documentation for the coordinates package](http://docs.astropy.org/en/stable/coordinates/index.html) open alongside this tutorial for reference or additional reading. In the text below, you may also see some links that look like ([docs](http://docs.astropy.org/en/stable/coordinates/index.html)). These links will take you to parts of the documentation that are directly relevant to the cells from which they link.\n",
    "\n",
    "Some of the exercises below are quite complex to complete. For this reason, we provide a possible solution to each one (although there are many possible right answers!). Also note that there is likely not enough time to complete *all* of the exercises in the time we have. So if you're stuck on or disinterested in an exercise, we encourage you to skip over it and come back only if you have time later."
   ]
  },
  {
   "cell_type": "markdown",
   "metadata": {},
   "source": [
    "### Preliminary imports\n",
    "\n",
    "We start by importing some general packages we will need below:"
   ]
  },
  {
   "cell_type": "code",
   "execution_count": 1,
   "metadata": {},
   "outputs": [],
   "source": [
    "%matplotlib inline\n",
    "from matplotlib import pyplot as plt\n",
    "import numpy as np"
   ]
  },
  {
   "cell_type": "markdown",
   "metadata": {},
   "source": [
    "Note: If the next cell fails, make sure you have installed `astroquery` by running:\n",
    "```\n",
    "pip install astroquery\n",
    "```\n",
    "in your terminal. If so, you will need to go to \"Kernel->Restart\" in this notebook after installing."
   ]
  },
  {
   "cell_type": "code",
   "execution_count": 2,
   "metadata": {},
   "outputs": [],
   "source": [
    "from astropy import units as u\n",
    "from astropy.coordinates import SkyCoord, Distance\n",
    "from astropy.io import fits\n",
    "from astropy.table import QTable\n",
    "from astropy.utils.data import download_file"
   ]
  },
  {
   "cell_type": "markdown",
   "metadata": {},
   "source": [
    "### Preface: representing times\n",
    "\n",
    "Keeping time can be a messy business, but astropy can make it easier! There are many different units that you may need to use, and many different conventions for representing those times, all implemented in astropy.\n",
    "\n",
    "First, we import the Time object and represent a time with a Julian date:"
   ]
  },
  {
   "cell_type": "code",
   "execution_count": 3,
   "metadata": {},
   "outputs": [
    {
     "data": {
      "text/plain": [
       "<Time object: scale='utc' format='jd' value=2455000.0>"
      ]
     },
     "execution_count": 3,
     "metadata": {},
     "output_type": "execute_result"
    }
   ],
   "source": [
    "from astropy.time import Time\n",
    "\n",
    "t = Time(2455000, format='jd')\n",
    "\n",
    "## Alternatively, you could initialize the same time with: \n",
    "# t = Time('2009-06-17 12:00')\n",
    "\n",
    "t"
   ]
  },
  {
   "cell_type": "markdown",
   "metadata": {},
   "source": [
    "You can see that by default the time scale is in UTC, the format provided was JD and it is represented in that format to the right. \n",
    "\n",
    "You can trivially convert between time formats by calling the name of the time format that you want as an attribute on the time object, like this:  "
   ]
  },
  {
   "cell_type": "code",
   "execution_count": 4,
   "metadata": {},
   "outputs": [
    {
     "data": {
      "text/plain": [
       "(2455000.0, '2009-06-17 12:00:00.000', datetime.datetime(2009, 6, 17, 12, 0))"
      ]
     },
     "execution_count": 4,
     "metadata": {},
     "output_type": "execute_result"
    }
   ],
   "source": [
    "t.jd, t.iso, t.datetime"
   ]
  },
  {
   "cell_type": "markdown",
   "metadata": {},
   "source": [
    "Let's say you want to convert to a different scale, like from UTC to UT1, just add a `ut1` to the attribute:"
   ]
  },
  {
   "cell_type": "code",
   "execution_count": 5,
   "metadata": {},
   "outputs": [
    {
     "data": {
      "text/plain": [
       "'2009-06-17 12:00:00.240'"
      ]
     },
     "execution_count": 5,
     "metadata": {},
     "output_type": "execute_result"
    }
   ],
   "source": [
    "t.ut1.iso"
   ]
  },
  {
   "cell_type": "markdown",
   "metadata": {},
   "source": [
    "You can quickly initialize a vector time array of 10 linearly separated times, starting at the current time, like so: "
   ]
  },
  {
   "cell_type": "code",
   "execution_count": 6,
   "metadata": {},
   "outputs": [
    {
     "data": {
      "text/plain": [
       "<Time object: scale='utc' format='datetime' value=[datetime.datetime(2024, 2, 29, 19, 8, 51, 686282)\n",
       " datetime.datetime(2024, 2, 29, 21, 48, 51, 686282)\n",
       " datetime.datetime(2024, 3, 1, 0, 28, 51, 686282)\n",
       " datetime.datetime(2024, 3, 1, 3, 8, 51, 686282)\n",
       " datetime.datetime(2024, 3, 1, 5, 48, 51, 686282)\n",
       " datetime.datetime(2024, 3, 1, 8, 28, 51, 686282)\n",
       " datetime.datetime(2024, 3, 1, 11, 8, 51, 686282)\n",
       " datetime.datetime(2024, 3, 1, 13, 48, 51, 686282)\n",
       " datetime.datetime(2024, 3, 1, 16, 28, 51, 686282)\n",
       " datetime.datetime(2024, 3, 1, 19, 8, 51, 686282)]>"
      ]
     },
     "execution_count": 6,
     "metadata": {},
     "output_type": "execute_result"
    }
   ],
   "source": [
    "times = Time.now() + np.linspace(0, 1, 10) * u.day\n",
    "times"
   ]
  },
  {
   "cell_type": "markdown",
   "metadata": {},
   "source": [
    "## Representing on-sky locations with `astropy.coordinates`\n",
    "\n",
    "In Astropy, the most common way of representing and working with sky coordinates is to use the `SkyCoord` object. A `SkyCoord` can be created directly from angles or arrays of angles with associated units, as demonstrated below. \n",
    "\n",
    "To get started, let's assume that we want to create a `SkyCoord` object for the center of the open cluster NGC 188 so that later we can query and retrieve stars that might be members of the cluster. Let's also assume, for now, that we already know the sky coordinates of the cluster to be (12.11, 85.26) degrees in the ICRS coordinate frame. The ICRS — sometimes referred to as \"equitorial\" or \"J2000\" coordinates — is currently the most common astronomical coordinate frame for stellar or extragalactic astronomy, and is the default coordinate frame for `SkyCoord`. We could therefore create a `SkyCoord` object for the center of NGC 188 as:"
   ]
  },
  {
   "cell_type": "code",
   "execution_count": 7,
   "metadata": {},
   "outputs": [
    {
     "data": {
      "text/plain": [
       "<SkyCoord (ICRS): (ra, dec) in deg\n",
       "    (12.11, 85.26)>"
      ]
     },
     "execution_count": 7,
     "metadata": {},
     "output_type": "execute_result"
    }
   ],
   "source": [
    "ngc188_center = SkyCoord(12.11*u.deg, 85.26*u.deg)\n",
    "ngc188_center"
   ]
  },
  {
   "cell_type": "markdown",
   "metadata": {},
   "source": [
    "It is generally recommended to explicitly specify the frame your coordinates are in. In this case, because ICRS is the default, this would be an equivalent way of creating our `SkyCoord` object:"
   ]
  },
  {
   "cell_type": "code",
   "execution_count": 8,
   "metadata": {},
   "outputs": [
    {
     "data": {
      "text/plain": [
       "<SkyCoord (ICRS): (ra, dec) in deg\n",
       "    (12.11, 85.26)>"
      ]
     },
     "execution_count": 8,
     "metadata": {},
     "output_type": "execute_result"
    }
   ],
   "source": [
    "ngc188_center = SkyCoord(12.11*u.deg, 85.26*u.deg, frame='icrs')\n",
    "ngc188_center"
   ]
  },
  {
   "cell_type": "markdown",
   "metadata": {},
   "source": [
    "As we will see below, there are many other supported coordinate frames.\n",
    "\n",
    "In the above initializations, we passed in `astropy.units.Quantity` objects with angular units to specify the angular components of our sky coordinates. However, `SkyCoord` will also accept string-formatted coordinates either as separate strings for Right Ascension (RA) and Declination (Dec) or a single string:"
   ]
  },
  {
   "cell_type": "code",
   "execution_count": 9,
   "metadata": {},
   "outputs": [
    {
     "data": {
      "text/plain": [
       "<SkyCoord (ICRS): (ra, dec) in deg\n",
       "    (12.11, 85.26)>"
      ]
     },
     "execution_count": 9,
     "metadata": {},
     "output_type": "execute_result"
    }
   ],
   "source": [
    "SkyCoord('00h48m26.4s', '85d15m36s', frame='icrs')"
   ]
  },
  {
   "cell_type": "markdown",
   "metadata": {},
   "source": [
    "Some string representations do not explicitly define units, so you would have to specify the units explicitly if they are not included in the string:"
   ]
  },
  {
   "cell_type": "code",
   "execution_count": 10,
   "metadata": {},
   "outputs": [
    {
     "data": {
      "text/plain": [
       "<SkyCoord (ICRS): (ra, dec) in deg\n",
       "    (12.11, 85.26)>"
      ]
     },
     "execution_count": 10,
     "metadata": {},
     "output_type": "execute_result"
    }
   ],
   "source": [
    "SkyCoord('00:48:26.4 85:15:36', unit=(u.hour, u.deg), \n",
    "         frame='icrs')"
   ]
  },
  {
   "cell_type": "markdown",
   "metadata": {},
   "source": [
    "For more information and examples on initializing `SkyCoord` objects, [see this documentation](http://docs.astropy.org/en/latest/coordinates/skycoord.html)."
   ]
  },
  {
   "cell_type": "markdown",
   "metadata": {},
   "source": [
    "For the initializations above, we assumed that we already had the coordinate component values ready. If you do not know the coordinate values, and the object you are interested in is in [SESAME](http://cdsweb.u-strasbg.fr/cgi-bin/Sesame), you can also automatically look up and load coordinate values from its name using the `SkyCoord.from_name()` class method<sup>1</sup> ([docs](http://docs.astropy.org/en/latest/coordinates/index.html#convenience-methods)). Note, however, that this requires an internet connection. It is safe to skip this cell if you are not connected to the internet because we already defined it above.\n",
    "\n",
    "<sub> <sup>1</sup>If you don't know what a class method is, think of it like an alternative constructor for a `SkyCoord` object — calling `SkyCoord.from_name()` with a name gives you a new `SkyCoord` object. For more detailed background on what class methods are and when they're useful, see [this page](https://julien.danjou.info/blog/2013/guide-python-static-class-abstract-methods).</sub>"
   ]
  },
  {
   "cell_type": "code",
   "execution_count": 11,
   "metadata": {},
   "outputs": [
    {
     "data": {
      "text/plain": [
       "<SkyCoord (ICRS): (ra, dec) in deg\n",
       "    (11.798, 85.244)>"
      ]
     },
     "execution_count": 11,
     "metadata": {},
     "output_type": "execute_result"
    }
   ],
   "source": [
    "# NOTE: skip this cell if you do not have an internet connection\n",
    "\n",
    "ngc188_center = SkyCoord.from_name('NGC 188')\n",
    "ngc188_center"
   ]
  },
  {
   "cell_type": "markdown",
   "metadata": {},
   "source": [
    "The `SkyCoord` object we created has various ways of accessing the information contained within it. All `SkyCoord` objects have attributes that allow you to retrieve the coordinate component data, but the component names will change depending on the coordinate frame of the `SkyCoord` you have. In our case, we have a `SkyCoord` with ICRS coordinates: The component names are therefore lower-case abbreviations of Right Ascension, `.ra`, and Declination, `.dec`:"
   ]
  },
  {
   "cell_type": "code",
   "execution_count": 12,
   "metadata": {},
   "outputs": [
    {
     "data": {
      "text/plain": [
       "(<Longitude 11.798 deg>, <Latitude 85.244 deg>)"
      ]
     },
     "execution_count": 12,
     "metadata": {},
     "output_type": "execute_result"
    }
   ],
   "source": [
    "ngc188_center.ra, ngc188_center.dec"
   ]
  },
  {
   "cell_type": "markdown",
   "metadata": {},
   "source": [
    "These ``ra`` and ``dec`` attributes return specialized [``Quantity``](http://docs.astropy.org/en/stable/units/index.html) objects (actually, a subclass called [``Angle``](http://docs.astropy.org/en/stable/api/astropy.coordinates.Angle.html), which in turn is subclassed by [``Latitude``](http://docs.astropy.org/en/stable/api/astropy.coordinates.Latitude.html) and [``Longitude``](http://docs.astropy.org/en/stable/api/astropy.coordinates.Longitude.html)).  These objects store angles and provide pretty representations of those angles, as well as some useful attributes to quickly convert to common angle units. For example, in a Jupyter notebook, these objects know how to represent themselves using LaTeX:"
   ]
  },
  {
   "cell_type": "code",
   "execution_count": 13,
   "metadata": {},
   "outputs": [
    {
     "data": {
      "text/latex": [
       "$11^\\circ47{}^\\prime52.8{}^{\\prime\\prime}$"
      ],
      "text/plain": [
       "<Longitude 11.798 deg>"
      ]
     },
     "execution_count": 13,
     "metadata": {},
     "output_type": "execute_result"
    }
   ],
   "source": [
    "ngc188_center.ra"
   ]
  },
  {
   "cell_type": "code",
   "execution_count": 14,
   "metadata": {},
   "outputs": [
    {
     "data": {
      "text/latex": [
       "$85^\\circ14{}^\\prime38.4{}^{\\prime\\prime}$"
      ],
      "text/plain": [
       "<Latitude 85.244 deg>"
      ]
     },
     "execution_count": 14,
     "metadata": {},
     "output_type": "execute_result"
    }
   ],
   "source": [
    "ngc188_center.dec"
   ]
  },
  {
   "cell_type": "markdown",
   "metadata": {},
   "source": [
    "We can also retrieve the component values in different units:"
   ]
  },
  {
   "cell_type": "code",
   "execution_count": 15,
   "metadata": {},
   "outputs": [
    {
     "data": {
      "text/plain": [
       "(0.7865333333333335, 0.205913945150291, 11.798)"
      ]
     },
     "execution_count": 15,
     "metadata": {},
     "output_type": "execute_result"
    }
   ],
   "source": [
    "ngc188_center.ra.hour, ngc188_center.ra.radian, ngc188_center.ra.degree"
   ]
  },
  {
   "cell_type": "markdown",
   "metadata": {},
   "source": [
    "And format the values into strings with specified units ([docs](http://docs.astropy.org/en/latest/coordinates/formatting.html)), for example:"
   ]
  },
  {
   "cell_type": "code",
   "execution_count": 16,
   "metadata": {},
   "outputs": [
    {
     "data": {
      "text/plain": [
       "'0:47:11.52'"
      ]
     },
     "execution_count": 16,
     "metadata": {},
     "output_type": "execute_result"
    }
   ],
   "source": [
    "ngc188_center.ra.to_string(unit=u.hourangle, sep=':')"
   ]
  },
  {
   "cell_type": "markdown",
   "metadata": {},
   "source": [
    "Now that we have a `SkyCoord` object for the center of NGC 188, we can select sources from the *Gaia* Data Release 2 catalog around this position to try to find stars that might be members of the cluster. To do this, we will use the `astroquery.gaia` module to query the *Gaia* data archive ([docs](https://astroquery.readthedocs.io/en/latest/gaia/gaia.html)).\n",
    "\n",
    "This requires an internet connection, but if it fails, the catalog file is included in the repository so you can load it locally (i.e., skip the next cell if you do not have an internet connection):"
   ]
  },
  {
   "cell_type": "code",
   "execution_count": 17,
   "metadata": {},
   "outputs": [],
   "source": [
    "from astroquery.gaia import Gaia"
   ]
  },
  {
   "cell_type": "code",
   "execution_count": 18,
   "metadata": {},
   "outputs": [
    {
     "name": "stdout",
     "output_type": "stream",
     "text": [
      "INFO: Query finished. [astroquery.utils.tap.core]\n"
     ]
    }
   ],
   "source": [
    "# NOTE: skip this cell if you do not have an internet connection\n",
    "\n",
    "job = Gaia.cone_search_async(ngc188_center, radius=0.5*u.deg)\n",
    "table = job.get_results()\n",
    "\n",
    "# only keep stars brighter than G=19 magnitude\n",
    "table = table[table['phot_g_mean_mag'] < 19*u.mag]"
   ]
  },
  {
   "cell_type": "markdown",
   "metadata": {},
   "source": [
    "The above cell may not work if you do not have an internet connection, so we have included the results table along with the notebook:"
   ]
  },
  {
   "cell_type": "code",
   "execution_count": 19,
   "metadata": {},
   "outputs": [],
   "source": [
    "table = QTable.read('gaia_results.fits')"
   ]
  },
  {
   "cell_type": "code",
   "execution_count": 20,
   "metadata": {},
   "outputs": [
    {
     "data": {
      "text/plain": [
       "4977"
      ]
     },
     "execution_count": 20,
     "metadata": {},
     "output_type": "execute_result"
    }
   ],
   "source": [
    "len(table)"
   ]
  },
  {
   "cell_type": "markdown",
   "metadata": {},
   "source": [
    "This table now contains about 5000 stars from *Gaia* DR2 around the coordinate position of the center of NGC 188. Let's now construct a `SkyCoord` object with the results table. In the *Gaia* data archive, the ICRS coordinates of a source are given as column names `\"ra\"` and `\"dec\"`:"
   ]
  },
  {
   "cell_type": "code",
   "execution_count": 21,
   "metadata": {},
   "outputs": [
    {
     "data": {
      "text/latex": [
       "$[12.12844,~12.093813,~12.09833,~\\dots,~14.151609,~12.610737,~9.634002] \\; \\mathrm{{}^{\\circ}}$"
      ],
      "text/plain": [
       "<Quantity [12.12843989, 12.09381253, 12.09832966, ..., 14.15160862,\n",
       "           12.6107374 ,  9.634002  ] deg>"
      ]
     },
     "execution_count": 21,
     "metadata": {},
     "output_type": "execute_result"
    }
   ],
   "source": [
    "table['ra']"
   ]
  },
  {
   "cell_type": "code",
   "execution_count": 22,
   "metadata": {},
   "outputs": [
    {
     "data": {
      "text/latex": [
       "$[85.260769,~85.265226,~85.254431,~\\dots,~84.792813,~85.758263,~84.808327] \\; \\mathrm{{}^{\\circ}}$"
      ],
      "text/plain": [
       "<Quantity [85.26076889, 85.26522648, 85.25443128, ..., 84.79281259,\n",
       "           85.75826293, 84.80832667] deg>"
      ]
     },
     "execution_count": 22,
     "metadata": {},
     "output_type": "execute_result"
    }
   ],
   "source": [
    "table['dec']"
   ]
  },
  {
   "cell_type": "markdown",
   "metadata": {},
   "source": [
    "Note that, because the *Gaia* archive provides data tables with associated units, and we read this table with the `QTable` object ([docs](http://docs.astropy.org/en/latest/table/mixin_columns.html#quantity-and-qtable)), the above columns are represented as `Quantity` objects with units of degrees. Note also that these columns contain many (>5000!) coordinate values. We can pass these directly in to `SkyCoord` to get a single `SkyCoord` object to represent all of these coordinates:"
   ]
  },
  {
   "cell_type": "code",
   "execution_count": 23,
   "metadata": {},
   "outputs": [
    {
     "data": {
      "text/plain": [
       "<SkyCoord (ICRS): (ra, dec) in deg\n",
       "    [(12.12843989, 85.26076889), (12.09381253, 85.26522648),\n",
       "     (12.09832966, 85.25443128), ..., (14.15160862, 84.79281259),\n",
       "     (12.6107374 , 85.75826293), ( 9.634002  , 84.80832667)]>"
      ]
     },
     "execution_count": 23,
     "metadata": {},
     "output_type": "execute_result"
    }
   ],
   "source": [
    "gaia_coords = SkyCoord(table['ra'], table['dec'])\n",
    "gaia_coords"
   ]
  },
  {
   "cell_type": "markdown",
   "metadata": {},
   "source": [
    "### Exercises"
   ]
  },
  {
   "cell_type": "markdown",
   "metadata": {},
   "source": [
    "Create a `SkyCoord` of the open cluster the Pleiades (either by looking up the coordinates and passing them in, or by using the convenience method we learned about above):"
   ]
  },
  {
   "cell_type": "code",
   "execution_count": null,
   "metadata": {},
   "outputs": [],
   "source": []
  },
  {
   "cell_type": "markdown",
   "metadata": {},
   "source": [
    "Using only a single method/function call on the `SkyCoord` object representing the center of NGC 188, print a string with the RA/Dec in the form 'HH:MM:SS.S DD:MM:SS.S'. Check your answer against [SIMBAD](http://simbad.u-strasbg.fr/simbad/), which will show you sexagesimal coordinates for the object.\n",
    "\n",
    "<sub>(Hint: `SkyCoord.to_string()` might be useful.)</sub>"
   ]
  },
  {
   "cell_type": "code",
   "execution_count": null,
   "metadata": {},
   "outputs": [],
   "source": []
  },
  {
   "cell_type": "markdown",
   "metadata": {},
   "source": [
    "Using a single method/function call on the `SkyCoord` object containing the results of our *Gaia* query, compute the angular separation between each resulting star and the coordinates of the cluster center.\n",
    "\n",
    "<sub>(Hint: `SkyCoord.separation()` might be useful.)</sub>"
   ]
  },
  {
   "cell_type": "code",
   "execution_count": null,
   "metadata": {},
   "outputs": [],
   "source": []
  },
  {
   "cell_type": "markdown",
   "metadata": {},
   "source": [
    "---\n",
    "\n",
    "## More than just sky positions: Including distance information in `SkyCoord`\n",
    "\n",
    "So far, we have only used `SkyCoord` to represent sky positions (i.e., `ra` and `dec` only). It is sometimes useful to include distance information with the sky coordinates, thereby fully specifying the 3D position of a given source. To pass in distance information, `SkyCoord` accepts a keyword argument `distance`. So, if we knew the distance to NGC 188, we could also pass in a distance (as a `Quantity` object) using this argument:"
   ]
  },
  {
   "cell_type": "code",
   "execution_count": 24,
   "metadata": {},
   "outputs": [],
   "source": [
    "ngc188_center_3d = SkyCoord(12.11*u.deg, 85.26*u.deg,\n",
    "                            distance=1.96*u.kpc)"
   ]
  },
  {
   "cell_type": "markdown",
   "metadata": {},
   "source": [
    "With our results from querying the *Gaia* catalog, we are also given parallax measurements to each star in the catalog. The default way of passing in a distance, as above, is to pass in a `Quantity` with a unit of length. However, `astropy.coordinates` also provides a specialized object, `Distance`, for handling common transformations of different distance representations ([docs](http://docs.astropy.org/en/latest/coordinates/index.html#distance)). Among other things, this class supports passing in a parallax value (but note that the transformation to distance here inverts the parallax, which is not always a good idea!):"
   ]
  },
  {
   "cell_type": "code",
   "execution_count": 25,
   "metadata": {},
   "outputs": [
    {
     "data": {
      "text/latex": [
       "$1000 \\; \\mathrm{pc}$"
      ],
      "text/plain": [
       "<Distance 1000. pc>"
      ]
     },
     "execution_count": 25,
     "metadata": {},
     "output_type": "execute_result"
    }
   ],
   "source": [
    "Distance(parallax=1*u.mas)"
   ]
  },
  {
   "cell_type": "markdown",
   "metadata": {},
   "source": [
    "The catalog of stars we queried from *Gaia* contains parallax information, so we can also create a `SkyCoord` object to represent the 3D positions of all of the *Gaia* stars. Here, we sub-select the table to return only stars with positive parallax values:"
   ]
  },
  {
   "cell_type": "code",
   "execution_count": 26,
   "metadata": {},
   "outputs": [
    {
     "data": {
      "text/plain": [
       "<SkyCoord (ICRS): (ra, dec, distance) in (deg, deg, pc)\n",
       "    [(12.12843989, 85.26076889, 1835.66340989),\n",
       "     (12.09381253, 85.26522648, 2184.90012993),\n",
       "     (12.09832966, 85.25443128, 1109.14781668), ...,\n",
       "     (14.15160862, 84.79281259, 1159.84996432),\n",
       "     (12.6107374 , 85.75826293, 2412.31892   ),\n",
       "     ( 9.634002  , 84.80832667, 1040.65423705)]>"
      ]
     },
     "execution_count": 26,
     "metadata": {},
     "output_type": "execute_result"
    }
   ],
   "source": [
    "table_3d = table[table['parallax'] > 0]\n",
    "\n",
    "gaia_dist = Distance(parallax=table_3d['parallax'])\n",
    "gaia_coords_3d = SkyCoord(table_3d['ra'], table_3d['dec'],\n",
    "                          distance=gaia_dist)\n",
    "gaia_coords_3d"
   ]
  },
  {
   "cell_type": "markdown",
   "metadata": {},
   "source": [
    "Now that we have 3D position information for both the cluster center, and for the stars we queried from *Gaia*, we can compute the 3D separation (distance) between all of the *Gaia* sources and the cluster center:"
   ]
  },
  {
   "cell_type": "code",
   "execution_count": 27,
   "metadata": {},
   "outputs": [
    {
     "data": {
      "text/latex": [
       "$[124.3366,~224.90021,~850.8522,~\\dots,~800.258,~452.71645,~919.43018] \\; \\mathrm{pc}$"
      ],
      "text/plain": [
       "<Distance [124.33660295, 224.90021433, 850.85219575, ..., 800.25800151,\n",
       "           452.71644735, 919.43018437] pc>"
      ]
     },
     "execution_count": 27,
     "metadata": {},
     "output_type": "execute_result"
    }
   ],
   "source": [
    "sep3d = gaia_coords_3d.separation_3d(ngc188_center_3d)\n",
    "sep3d"
   ]
  },
  {
   "cell_type": "markdown",
   "metadata": {},
   "source": [
    "### Exercises\n",
    "\n",
    "Using the 3D separation values, define a boolean mask to select candidate members of the cluster. Select all stars within 50 pc of the cluster center. How many candidate members of NGC 188 do we have, based on their 3D positions?"
   ]
  },
  {
   "cell_type": "code",
   "execution_count": null,
   "metadata": {},
   "outputs": [],
   "source": []
  },
  {
   "cell_type": "markdown",
   "metadata": {},
   "source": [
    "---\n",
    "\n",
    "## Cross-matching and comparing catalogs\n",
    "\n",
    "Let's recap what we have done so far: We defined a `SkyCoord` object to represent the center of an open cluster (NGC 188), we queried the *Gaia* DR2 catalog to select stars that are close (on the sky) to the center of the cluster, and we used the parallax values from *Gaia* to select stars that are near NGC 188 in 3D position.\n",
    "\n",
    "Imagine that we now want to cross-match our catalog of candidate members of NGC 188 to another catalog: Here we will cross-match the *Gaia* stars with the 2MASS photometric catalog to retrieve infrared magnitudes for these stars, and then plot a color-magnitude diagram. To do this, we first need to query the 2MASS catalog to retrieve all sources in a region around the center of NGC 188, as we did for *Gaia*. We will once again use `astroquery` to execute this query. This will again require an internet connection, but we have again included the results of this query in a file along with this notebook in case you are not connected to the internet.\n",
    "\n",
    "To query 2MASS, we will use the `astroquery.vizier` module ([docs](https://astroquery.readthedocs.io/en/latest/vizier/vizier.html)):"
   ]
  },
  {
   "cell_type": "code",
   "execution_count": 28,
   "metadata": {},
   "outputs": [],
   "source": [
    "from astroquery.vizier import Vizier"
   ]
  },
  {
   "cell_type": "code",
   "execution_count": 29,
   "metadata": {},
   "outputs": [],
   "source": [
    "# NOTE: skip this cell if you do not have an internet connection\n",
    "\n",
    "# II/246 is the catalog name for the main 2MASS photometric catalog\n",
    "v = Vizier(catalog=\"II/246\")  \n",
    "v.ROW_LIMIT = -1\n",
    "\n",
    "result = v.query_region(ngc188_center, radius=0.5*u.deg)\n",
    "tmass_table = result[0]"
   ]
  },
  {
   "cell_type": "code",
   "execution_count": 30,
   "metadata": {},
   "outputs": [],
   "source": [
    "tmass_table = QTable.read('2MASS_results.fits')"
   ]
  },
  {
   "cell_type": "markdown",
   "metadata": {},
   "source": [
    "As with the *Gaia* results table, we can now create a single `SkyCoord` object to represent all of the sources returned from our query to the 2MASS catalog. Let's look at the column names in this table by displaying the first few rows:"
   ]
  },
  {
   "cell_type": "code",
   "execution_count": 31,
   "metadata": {},
   "outputs": [
    {
     "data": {
      "text/html": [
       "<div><i>QTable length=3</i>\n",
       "<table id=\"table4854916928\" class=\"table-striped table-bordered table-condensed\">\n",
       "<thead><tr><th>RAJ2000</th><th>DEJ2000</th><th>_2MASS</th><th>Jmag</th><th>e_Jmag</th><th>Hmag</th><th>e_Hmag</th><th>Kmag</th><th>e_Kmag</th><th>Qflg</th><th>Rflg</th><th>Bflg</th><th>Cflg</th><th>Xflg</th><th>Aflg</th></tr></thead>\n",
       "<thead><tr><th>deg</th><th>deg</th><th></th><th>mag</th><th>mag</th><th>mag</th><th>mag</th><th>mag</th><th>mag</th><th></th><th></th><th></th><th></th><th></th><th></th></tr></thead>\n",
       "<thead><tr><th>float64</th><th>float64</th><th>bytes17</th><th>float32</th><th>float32</th><th>float32</th><th>float32</th><th>float32</th><th>float32</th><th>bytes3</th><th>bytes3</th><th>bytes3</th><th>bytes3</th><th>uint8</th><th>uint8</th></tr></thead>\n",
       "<tr><td>9.633532</td><td>84.808350</td><td>00383204+8448300</td><td>13.079</td><td>0.030</td><td>12.742</td><td>0.033</td><td>12.729</td><td>0.035</td><td>AAA</td><td>222</td><td>111</td><td>000</td><td>0</td><td>0</td></tr>\n",
       "<tr><td>8.562472</td><td>84.873627</td><td>00341499+8452250</td><td>14.459</td><td>0.029</td><td>14.103</td><td>0.041</td><td>14.166</td><td>0.063</td><td>AAA</td><td>222</td><td>111</td><td>000</td><td>0</td><td>0</td></tr>\n",
       "<tr><td>8.645318</td><td>84.868584</td><td>00343487+8452069</td><td>10.356</td><td>0.026</td><td>10.057</td><td>0.032</td><td>10.000</td><td>0.020</td><td>AAA</td><td>222</td><td>111</td><td>000</td><td>0</td><td>0</td></tr>\n",
       "</table></div>"
      ],
      "text/plain": [
       "<QTable length=3>\n",
       " RAJ2000    DEJ2000        _2MASS        Jmag   e_Jmag   Hmag   e_Hmag   Kmag   e_Kmag  Qflg   Rflg   Bflg   Cflg   Xflg  Aflg\n",
       "   deg        deg                        mag     mag     mag     mag     mag     mag                                          \n",
       " float64    float64       bytes17      float32 float32 float32 float32 float32 float32 bytes3 bytes3 bytes3 bytes3 uint8 uint8\n",
       "---------- ---------- ---------------- ------- ------- ------- ------- ------- ------- ------ ------ ------ ------ ----- -----\n",
       "  9.633532  84.808350 00383204+8448300  13.079   0.030  12.742   0.033  12.729   0.035    AAA    222    111    000     0     0\n",
       "  8.562472  84.873627 00341499+8452250  14.459   0.029  14.103   0.041  14.166   0.063    AAA    222    111    000     0     0\n",
       "  8.645318  84.868584 00343487+8452069  10.356   0.026  10.057   0.032  10.000   0.020    AAA    222    111    000     0     0"
      ]
     },
     "execution_count": 31,
     "metadata": {},
     "output_type": "execute_result"
    }
   ],
   "source": [
    "tmass_table[:3]"
   ]
  },
  {
   "cell_type": "markdown",
   "metadata": {},
   "source": [
    "From looking at the column names, it looks like the two relevant sky coordinate columns are `RAJ2000` for `ra` and `DEJ2000` for `dec`:"
   ]
  },
  {
   "cell_type": "code",
   "execution_count": 32,
   "metadata": {},
   "outputs": [
    {
     "data": {
      "text/plain": [
       "5014"
      ]
     },
     "execution_count": 32,
     "metadata": {},
     "output_type": "execute_result"
    }
   ],
   "source": [
    "tmass_coords = SkyCoord(tmass_table['RAJ2000'], \n",
    "                        tmass_table['DEJ2000'])\n",
    "len(tmass_coords)"
   ]
  },
  {
   "cell_type": "markdown",
   "metadata": {},
   "source": [
    "We now want to cross-match our *Gaia*-selected candidate members of NGC 188 with this table of photometry from 2MASS. Let's first use the mask we defined above (in the exercise) to select members of NGC 188 based on 3D position:"
   ]
  },
  {
   "cell_type": "code",
   "execution_count": 33,
   "metadata": {},
   "outputs": [],
   "source": [
    "ngc188_3d_mask = sep3d < 50*u.pc\n",
    "gaia_ngc188_members = gaia_coords_3d[ngc188_3d_mask]\n",
    "gaia_ngc188_members_table = table_3d[ngc188_3d_mask]"
   ]
  },
  {
   "cell_type": "markdown",
   "metadata": {},
   "source": [
    "Now we can use the ``SkyCoord.match_to_catalog_sky`` method to match the two catalogs ([docs](http://docs.astropy.org/en/latest/coordinates/matchsep.html#astropy-coordinates-matching)). Note that order matters: Here we are matching 2MASS to *Gaia* because we ultimately want to make a color-magnitude diagram using the 2MASS photometry. `SkyCoord.match_to_catalog_sky` returns three objects: first, the indices into `gaia_ngc188_members` that get the closest matches in `tmass_coords`, second, the angular separation between each `tmass_coords` coordinate and the closest source in `gaia_ngc188_members`, and finally, the 3D distance between each `tmass_coords` coordinate and the closest source in `gaia_ngc188_members`. Here, the 3D distances will not be useful because the 2MASS coordinates do not have associated distance information:"
   ]
  },
  {
   "cell_type": "code",
   "execution_count": 34,
   "metadata": {},
   "outputs": [],
   "source": [
    "idx_tmass, d2d_tmass, d3d_tmass = tmass_coords.match_to_catalog_sky(gaia_ngc188_members)"
   ]
  },
  {
   "cell_type": "markdown",
   "metadata": {},
   "source": [
    "Let's now look at the distribution of separations for all of the cross-matched sources:"
   ]
  },
  {
   "cell_type": "code",
   "execution_count": 35,
   "metadata": {},
   "outputs": [
    {
     "data": {
      "image/png": "[encoded data removed]",
      "text/plain": [
       "<Figure size 640x480 with 1 Axes>"
      ]
     },
     "metadata": {},
     "output_type": "display_data"
    }
   ],
   "source": [
    "plt.hist(d2d_tmass.arcsec, histtype='step', \n",
    "         bins=np.logspace(-2, 2., 64))\n",
    "plt.xlabel('separation [arcsec]')\n",
    "plt.xscale('log')\n",
    "plt.yscale('log')\n",
    "plt.tight_layout()"
   ]
  },
  {
   "cell_type": "markdown",
   "metadata": {},
   "source": [
    "From this, it looks like the sources that actually match to our *Gaia* NGC 188 members are all within about 2 arcseconds, so that is promising! How many of the 2MASS sources matched to one of our NGC 188 candidate members?"
   ]
  },
  {
   "cell_type": "code",
   "execution_count": 36,
   "metadata": {},
   "outputs": [
    {
     "data": {
      "text/plain": [
       "309"
      ]
     },
     "execution_count": 36,
     "metadata": {},
     "output_type": "execute_result"
    }
   ],
   "source": [
    "(d2d_tmass < 2*u.arcsec).sum()"
   ]
  },
  {
   "cell_type": "markdown",
   "metadata": {},
   "source": [
    "That is a large fraction of the 321 members we identified. Missing sources may be too faint for 2MASS to detect, so we do not expect all of the *Gaia* sources to be in 2MASS. With our cross-match done, we can now make 2MASS+Gaia color-magnitude diagrams of our candidate NGC 188 members:"
   ]
  },
  {
   "cell_type": "code",
   "execution_count": 37,
   "metadata": {},
   "outputs": [
    {
     "data": {
      "image/png": "[encoded data removed]",
      "text/plain": [
       "<Figure size 1000x500 with 2 Axes>"
      ]
     },
     "metadata": {},
     "output_type": "display_data"
    }
   ],
   "source": [
    "Jmag = tmass_table['Jmag'][d2d_tmass < 2*u.arcsec]\n",
    "Gmag = gaia_ngc188_members_table['phot_g_mean_mag'][idx_tmass[d2d_tmass < 2*u.arcsec]]\n",
    "Bmag = gaia_ngc188_members_table['phot_bp_mean_mag'][idx_tmass[d2d_tmass < 2*u.arcsec]]\n",
    "\n",
    "fig, axes = plt.subplots(1, 2, figsize=(10, 5))\n",
    "\n",
    "ax = axes[0]\n",
    "ax.scatter(Gmag - Jmag, Gmag, \n",
    "           marker='o', color='k', \n",
    "           linewidth=0, alpha=0.5)\n",
    "ax.set_xlabel('$G - J$')\n",
    "ax.set_ylabel('$G$')\n",
    "ax.set_xlim(0, 3)\n",
    "ax.set_ylim(19, 10) # backwards because magnitudes!\n",
    "\n",
    "ax = axes[1]\n",
    "ax.scatter(Bmag - Gmag, Jmag, \n",
    "           marker='o', color='k', \n",
    "           linewidth=0, alpha=0.5)\n",
    "ax.set_xlabel('$G_{BP} - G$')\n",
    "ax.set_ylabel('$J$')\n",
    "ax.set_xlim(0.2, 1)\n",
    "ax.set_ylim(17, 8) # backwards because magnitudes!\n",
    "\n",
    "fig.tight_layout()"
   ]
  },
  {
   "cell_type": "markdown",
   "metadata": {},
   "source": [
    "Those both look like color-magnitude diagrams of a main sequence + red giant branch of an intermediate-age stellar cluster, so it looks like our selection and cross-matching has worked!\n",
    "\n",
    "For more on what matching options are available, check out the [separation and matching section of the Astropy documentation](https://astropy.readthedocs.io/en/stable/coordinates/matchsep.html). Or for more on what you can do with `SkyCoord`, see [its API documentation](http://astropy.readthedocs.org/en/stable/api/astropy.coordinates.SkyCoord.html)."
   ]
  },
  {
   "cell_type": "markdown",
   "metadata": {},
   "source": [
    "### Exercises"
   ]
  },
  {
   "cell_type": "markdown",
   "metadata": {},
   "source": [
    "*Note: skip this exercise if you do not have an internet connection.*\n",
    "\n",
    "Using the coordinates of the center of the Pleiades you defined in the previous set of exercises, download a catalog of 2MASS sources within 1 degree of the center of the Pleiades. Make a color-magnitude diagram of J-H vs. J for all sources. Can you see the main sequence corresponding to the Pleiades?"
   ]
  },
  {
   "cell_type": "code",
   "execution_count": null,
   "metadata": {},
   "outputs": [],
   "source": []
  },
  {
   "cell_type": "markdown",
   "metadata": {},
   "source": [
    "*Note: skip this exercise if you do not have an internet connection.*\n",
    "\n",
    "Again using the coordinates of the center of the Pleiades, now download all *Gaia* sources within 1 degree of the center of the Pleiades. Cross-match the 2MASS and *Gaia* sources, and make a G-J vs. G color-magnitude diagram of all sources within 200 parsecs of the Sun."
   ]
  },
  {
   "cell_type": "code",
   "execution_count": null,
   "metadata": {},
   "outputs": [],
   "source": []
  },
  {
   "cell_type": "markdown",
   "metadata": {},
   "source": [
    "---\n",
    "\n",
    "## Transforming between coordinate systems and planning observations\n",
    "\n",
    "Imagine that we found something exciting in our exploration of the data for NGC 188, and we would like to follow-up with our own observations of a given sources. `astropy.coordinates` provides tools to assist in planning observations, especially from ground-based observatories, as we will see below. "
   ]
  },
  {
   "cell_type": "markdown",
   "metadata": {},
   "source": [
    "### Introducting frame transformations"
   ]
  },
  {
   "cell_type": "markdown",
   "metadata": {},
   "source": [
    "To understand the code in this section, it may help to read over the [overview of the astropy coordinates scheme](http://astropy.readthedocs.org/en/stable/coordinates/index.html#overview-of-astropy-coordinates-concepts).  The key concept to understand is that all coordinates in Astropy are in particular reference \"frames,\" and we can transform between a specific `SkyCoord` object in one frame to another. For example, we can transform our previously-defined center of NGC 188 from ICRS to another coordinate frame, like Galactic coordinates. In `astropy.coordinates`, this is typically done using the `.transform_to()` method:"
   ]
  },
  {
   "cell_type": "code",
   "execution_count": 38,
   "metadata": {},
   "outputs": [
    {
     "data": {
      "text/plain": [
       "<SkyCoord (Galactic): (l, b) in deg\n",
       "    (122.8367566, 22.37303701)>"
      ]
     },
     "execution_count": 38,
     "metadata": {},
     "output_type": "execute_result"
    }
   ],
   "source": [
    "ngc188_center.transform_to('galactic')"
   ]
  },
  {
   "cell_type": "markdown",
   "metadata": {},
   "source": [
    "This method either takes a string name of a coordinate frame, or an instance of a coordinate frame object itself. For example, the class representing the Galactic frame is:"
   ]
  },
  {
   "cell_type": "code",
   "execution_count": 39,
   "metadata": {},
   "outputs": [
    {
     "data": {
      "text/plain": [
       "<SkyCoord (Galactic): (l, b) in deg\n",
       "    (122.8367566, 22.37303701)>"
      ]
     },
     "execution_count": 39,
     "metadata": {},
     "output_type": "execute_result"
    }
   ],
   "source": [
    "from astropy.coordinates import Galactic\n",
    "ngc188_center.transform_to(Galactic())"
   ]
  },
  {
   "cell_type": "markdown",
   "metadata": {},
   "source": [
    "For coordinate frames that do not require additional parameters, the transformations can also be accessed by attributes of the `SkyCoord` object. Another way to transform to the Galactic frame, then, is to do:"
   ]
  },
  {
   "cell_type": "code",
   "execution_count": 40,
   "metadata": {},
   "outputs": [
    {
     "data": {
      "text/plain": [
       "<SkyCoord (Galactic): (l, b) in deg\n",
       "    (122.8367566, 22.37303701)>"
      ]
     },
     "execution_count": 40,
     "metadata": {},
     "output_type": "execute_result"
    }
   ],
   "source": [
    "ngc188_center.galactic"
   ]
  },
  {
   "cell_type": "markdown",
   "metadata": {},
   "source": [
    "Note that changing frames also changes some of the attributes of the object, most often the names of the component attributes. Recall that for the ICRS frame the components were `ra` and `dec`. For the Galactic frame, the corresponding longitude and latitude are named `l` and `b`:"
   ]
  },
  {
   "cell_type": "code",
   "execution_count": 41,
   "metadata": {},
   "outputs": [
    {
     "data": {
      "text/plain": [
       "(<Longitude 122.8367566 deg>, <Latitude 22.37303701 deg>)"
      ]
     },
     "execution_count": 41,
     "metadata": {},
     "output_type": "execute_result"
    }
   ],
   "source": [
    "ngc188_gal = ngc188_center.galactic\n",
    "ngc188_gal.l, ngc188_gal.b"
   ]
  },
  {
   "cell_type": "markdown",
   "metadata": {},
   "source": [
    "Note that the names `.ra` and `.dec` will therefore *not* work on this transformed `SkyCoord`:"
   ]
  },
  {
   "cell_type": "code",
   "execution_count": 42,
   "metadata": {
    "tags": [
     "raises-exception"
    ]
   },
   "outputs": [
    {
     "ename": "AttributeError",
     "evalue": "'SkyCoord' object has no attribute 'ra'",
     "output_type": "error",
     "traceback": [
      "\u001b[1;31m---------------------------------------------------------------------------\u001b[0m",
      "\u001b[1;31mAttributeError\u001b[0m                            Traceback (most recent call last)",
      "Cell \u001b[1;32mIn[42], line 2\u001b[0m\n\u001b[0;32m      1\u001b[0m \u001b[38;5;66;03m# THIS SHOULD ERROR:\u001b[39;00m\n\u001b[1;32m----> 2\u001b[0m \u001b[43mngc188_gal\u001b[49m\u001b[38;5;241;43m.\u001b[39;49m\u001b[43mra\u001b[49m\n",
      "File \u001b[1;32mD:\\Astro\\astroconda\\Lib\\site-packages\\astropy\\coordinates\\sky_coordinate.py:887\u001b[0m, in \u001b[0;36mSkyCoord.__getattr__\u001b[1;34m(self, attr)\u001b[0m\n\u001b[0;32m    884\u001b[0m         \u001b[38;5;28;01mreturn\u001b[39;00m \u001b[38;5;28mself\u001b[39m\u001b[38;5;241m.\u001b[39mtransform_to(attr)\n\u001b[0;32m    886\u001b[0m \u001b[38;5;66;03m# Call __getattribute__; this will give correct exception.\u001b[39;00m\n\u001b[1;32m--> 887\u001b[0m \u001b[38;5;28;01mreturn\u001b[39;00m \u001b[38;5;28;43mself\u001b[39;49m\u001b[38;5;241;43m.\u001b[39;49m\u001b[38;5;21;43m__getattribute__\u001b[39;49m\u001b[43m(\u001b[49m\u001b[43mattr\u001b[49m\u001b[43m)\u001b[49m\n",
      "\u001b[1;31mAttributeError\u001b[0m: 'SkyCoord' object has no attribute 'ra'"
     ]
    }
   ],
   "source": [
    "# THIS SHOULD ERROR:\n",
    "ngc188_gal.ra"
   ]
  },
  {
   "cell_type": "markdown",
   "metadata": {},
   "source": [
    "### Using frame transformations to get to AltAz\n",
    "\n",
    "To determine whether a target is observable from a given observatory on Earth, we need to convert our coordinate to a frame local to an on-earth observer. The most common choice for such a frame is horizontal coordinates, or \"AltAz\" coordinates. The `AltAz` coordinate frame requires a few extra pieces of information to define: a location on Earth, and the time of observation. These are handled with the `EarthLocation` and `Time` objects, respectively:"
   ]
  },
  {
   "cell_type": "code",
   "execution_count": 43,
   "metadata": {},
   "outputs": [],
   "source": [
    "from astropy.coordinates import EarthLocation\n",
    "from astropy.time import Time"
   ]
  },
  {
   "cell_type": "markdown",
   "metadata": {},
   "source": [
    "Let's assume we will be observing at Kitt Peak in a few weeks. We can retrieve the Earth location of Kitt Peak using the `EarthLocation.of_site` method:"
   ]
  },
  {
   "cell_type": "code",
   "execution_count": 44,
   "metadata": {},
   "outputs": [],
   "source": [
    "observing_location = EarthLocation.of_site('Kitt Peak')\n",
    "# List of all locations can be viewed using\n",
    "# EarthLocation.get_site_names()"
   ]
  },
  {
   "cell_type": "markdown",
   "metadata": {},
   "source": [
    "And let's pretend our observing run starts on Jan 20 this year:"
   ]
  },
  {
   "cell_type": "code",
   "execution_count": 45,
   "metadata": {},
   "outputs": [],
   "source": [
    "observing_time = Time('2020-01-20 1:00')  # 1am UTC=6pm AZ mountain time"
   ]
  },
  {
   "cell_type": "markdown",
   "metadata": {},
   "source": [
    "Now we use these to create an `AltAz` frame object. Note that this frame has even more information about the atmosphere, which can be used to correct for atmospheric refraction. Here we leave that alone, because the default is to ignore this effect (by setting the air pressure to 0)."
   ]
  },
  {
   "cell_type": "code",
   "execution_count": 46,
   "metadata": {},
   "outputs": [
    {
     "data": {
      "text/plain": [
       "<AltAz Frame (obstime=2020-01-20 01:00:00.000, location=(-1994502.60430614, -5037538.54232911, 3358104.99690298) m, pressure=0.0 hPa, temperature=0.0 deg_C, relative_humidity=0.0, obswl=1.0 micron)>"
      ]
     },
     "execution_count": 46,
     "metadata": {},
     "output_type": "execute_result"
    }
   ],
   "source": [
    "from astropy.coordinates import AltAz\n",
    "\n",
    "altaz = AltAz(location=observing_location, obstime=observing_time)\n",
    "altaz"
   ]
  },
  {
   "cell_type": "markdown",
   "metadata": {},
   "source": [
    "Now we can transform our ICRS `SkyCoord` to `AltAz` to get the location in the sky over Kitt Peak at the requested time:"
   ]
  },
  {
   "cell_type": "code",
   "execution_count": 47,
   "metadata": {},
   "outputs": [
    {
     "data": {
      "text/plain": [
       "<SkyCoord (AltAz: obstime=2020-01-20 01:00:00.000, location=(-1994502.60430614, -5037538.54232911, 3358104.99690298) m, pressure=0.0 hPa, temperature=0.0 deg_C, relative_humidity=0.0, obswl=1.0 micron): (az, alt) in deg\n",
       "    (359.00085221, 36.5327235)>"
      ]
     },
     "execution_count": 47,
     "metadata": {},
     "output_type": "execute_result"
    }
   ],
   "source": [
    "ngc188_center.transform_to(altaz)"
   ]
  },
  {
   "cell_type": "markdown",
   "metadata": {},
   "source": [
    "Alright, the cluster NGC 188 is up at 6PM local time at Kitt Peak, but that is pretty early to be observing. We could try various times one at a time to see if the airmass is at a darker time, but we can do better — we can make an airmass plot for the whole night:"
   ]
  },
  {
   "cell_type": "code",
   "execution_count": 48,
   "metadata": {},
   "outputs": [
    {
     "data": {
      "image/png": "[encoded data removed]",
      "text/plain": [
       "<Figure size 640x480 with 1 Axes>"
      ]
     },
     "metadata": {},
     "output_type": "display_data"
    }
   ],
   "source": [
    "# this gives a Time object with an *array* of times\n",
    "delta_hours = np.linspace(0, 6, 100)*u.hour\n",
    "full_night_times = observing_time + delta_hours\n",
    "full_night_altaz = AltAz(location=observing_location, obstime=full_night_times)\n",
    "full_night_altaz_coords = ngc188_center.transform_to(full_night_altaz)\n",
    "\n",
    "plt.plot(delta_hours, full_night_altaz_coords.secz)\n",
    "plt.xlabel('Hours from 6PM AZ time')\n",
    "plt.ylabel('Airmass [Sec(z)]')\n",
    "plt.ylim(0.9, 3)\n",
    "plt.tight_layout()"
   ]
  },
  {
   "cell_type": "markdown",
   "metadata": {},
   "source": [
    "It looks like our source is observable at relatively high airmass for most of the night, but the minimum airmass is at the start of the night. When can we start observing with proper dark skies? Astropy also provides a ``get_sun`` function that can be used to check the sky position of the sun to check, for example, when we are in 18-degree twilight:"
   ]
  },
  {
   "cell_type": "code",
   "execution_count": 49,
   "metadata": {},
   "outputs": [
    {
     "data": {
      "image/png": "[encoded data removed]",
      "text/plain": [
       "<Figure size 640x480 with 1 Axes>"
      ]
     },
     "metadata": {},
     "output_type": "display_data"
    }
   ],
   "source": [
    "from astropy.coordinates import get_sun\n",
    "\n",
    "full_night_sun_coos = get_sun(full_night_times).transform_to(full_night_altaz)\n",
    "plt.plot(delta_hours, full_night_sun_coos.alt.deg)\n",
    "plt.axhline(-18, color='k')\n",
    "plt.xlabel('Hours from 6PM AZ time')\n",
    "plt.ylabel('Sun altitude')\n",
    "plt.tight_layout()"
   ]
  },
  {
   "cell_type": "markdown",
   "metadata": {},
   "source": [
    "It looks like it's just below -18 degrees a little after 7PM local time, so we can start observing our target then!"
   ]
  },
  {
   "cell_type": "markdown",
   "metadata": {},
   "source": [
    "### Exercises"
   ]
  },
  {
   "cell_type": "markdown",
   "metadata": {},
   "source": [
    "Try converting the NGC 188 center coordinates to an equatorial frame at some other equinox a while in the past (e.g., J1900). Do you see the precession of the equinoxes?\n",
    "\n",
    "<sub>Hint: To see a diagram of the supported frames, see [here](http://docs.astropy.org/en/stable/coordinates/#module-astropy.coordinates). `FK5` has a parameter called 'equinox' — that looks promising!</sub>"
   ]
  },
  {
   "cell_type": "code",
   "execution_count": null,
   "metadata": {},
   "outputs": [],
   "source": []
  },
  {
   "cell_type": "markdown",
   "metadata": {},
   "source": [
    "What time is Sunset on our observing night? Try solving for the time at which the Sun's altitude is closest to 0 (i.e., do not just eyeball the plot, like we did above)."
   ]
  },
  {
   "cell_type": "code",
   "execution_count": null,
   "metadata": {},
   "outputs": [],
   "source": []
  },
  {
   "cell_type": "markdown",
   "metadata": {},
   "source": [
    "---\n",
    "\n",
    "## More than just sky positions: Including velocity information in `SkyCoord`\n",
    "\n",
    "As we have seen above, the `SkyCoord` object can store scalars or arrays of positional coordinate information, can transform between different coordinate frames, and can cross-match sets of coordinates. But wait, there's more! `astropy.coordinates` also supports representing and transforming *velocity* information along with positions ([docs](http://docs.astropy.org/en/latest/coordinates/velocities.html)).\n",
    "\n",
    "### Passing velocity data in to `SkyCoord`\n",
    "\n",
    "Velocity data is passed in to `SkyCoord` in a very similar way to the positional coordinates demonstrated above. However, velocity data must be passed in using keyword arguments, meaning that you must write out the velocity component names, for example:"
   ]
  },
  {
   "cell_type": "code",
   "execution_count": 50,
   "metadata": {},
   "outputs": [
    {
     "data": {
      "text/plain": [
       "<SkyCoord (ICRS): (ra, dec) in deg\n",
       "    (10., 20.)\n",
       " (pm_ra_cosdec, pm_dec) in mas / yr\n",
       "    (1., 2.)>"
      ]
     },
     "execution_count": 50,
     "metadata": {},
     "output_type": "execute_result"
    }
   ],
   "source": [
    "SkyCoord(ra=10*u.deg, \n",
    "         dec=20*u.deg,\n",
    "         pm_ra_cosdec=1*u.mas/u.yr,\n",
    "         pm_dec=2*u.mas/u.yr)"
   ]
  },
  {
   "cell_type": "markdown",
   "metadata": {},
   "source": [
    "In the above, we create a `SkyCoord` instance with sky position and proper motion data. The proper motion component names for ICRS coordinates are, by default, `pm_ra_cosdec` and `pm_dec` (\"pm\" for \"proper motion\"). You can also specify radial velocity data via the `radial_velocity` argument, for example:"
   ]
  },
  {
   "cell_type": "code",
   "execution_count": 51,
   "metadata": {},
   "outputs": [
    {
     "data": {
      "text/plain": [
       "<SkyCoord (ICRS): (ra, dec) in deg\n",
       "    (10., 20.)\n",
       " (pm_ra_cosdec, pm_dec, radial_velocity) in (mas / yr, mas / yr, km / s)\n",
       "    (1., 2., 100.)>"
      ]
     },
     "execution_count": 51,
     "metadata": {},
     "output_type": "execute_result"
    }
   ],
   "source": [
    "velocity_coord = SkyCoord(ra=10*u.deg, \n",
    "                          dec=20*u.deg,\n",
    "                          pm_ra_cosdec=1*u.mas/u.yr,\n",
    "                          pm_dec=2*u.mas/u.yr,\n",
    "                          radial_velocity=100*u.km/u.s)\n",
    "velocity_coord"
   ]
  },
  {
   "cell_type": "markdown",
   "metadata": {},
   "source": [
    "A `SkyCoord` object with velocity data can be transformed to other frames just like the objects we are used to from above:"
   ]
  },
  {
   "cell_type": "code",
   "execution_count": 52,
   "metadata": {},
   "outputs": [
    {
     "data": {
      "text/plain": [
       "<SkyCoord (Galactic): (l, b) in deg\n",
       "    (119.26936774, -42.79039286)\n",
       " (pm_l_cosb, pm_b, radial_velocity) in (mas / yr, mas / yr, km / s)\n",
       "    (1.11917063, 1.93583499, 100.)>"
      ]
     },
     "execution_count": 52,
     "metadata": {},
     "output_type": "execute_result"
    }
   ],
   "source": [
    "velocity_coord.transform_to('galactic')"
   ]
  },
  {
   "cell_type": "markdown",
   "metadata": {},
   "source": [
    "An important caveat, however, is that some reference frames require knowing distance in order to transform all velocity components — something we did not specify in the `velocity_coord` definition above:"
   ]
  },
  {
   "cell_type": "code",
   "execution_count": 53,
   "metadata": {
    "tags": [
     "raises-exception"
    ]
   },
   "outputs": [
    {
     "ename": "UnitConversionError",
     "evalue": "need a distance to retrieve a cartesian representation when both radial velocity and proper motion are present, since otherwise the units cannot match.",
     "output_type": "error",
     "traceback": [
      "\u001b[1;31m---------------------------------------------------------------------------\u001b[0m",
      "\u001b[1;31mUnitConversionError\u001b[0m                       Traceback (most recent call last)",
      "Cell \u001b[1;32mIn[53], line 2\u001b[0m\n\u001b[0;32m      1\u001b[0m \u001b[38;5;66;03m# THIS SHOULD ERROR:\u001b[39;00m\n\u001b[1;32m----> 2\u001b[0m \u001b[43mvelocity_coord\u001b[49m\u001b[38;5;241;43m.\u001b[39;49m\u001b[43mtransform_to\u001b[49m\u001b[43m(\u001b[49m\u001b[43maltaz\u001b[49m\u001b[43m)\u001b[49m\n",
      "File \u001b[1;32mD:\\Astro\\astroconda\\Lib\\site-packages\\astropy\\coordinates\\sky_coordinate.py:692\u001b[0m, in \u001b[0;36mSkyCoord.transform_to\u001b[1;34m(self, frame, merge_attributes)\u001b[0m\n\u001b[0;32m    688\u001b[0m generic_frame \u001b[38;5;241m=\u001b[39m GenericFrame(frame_kwargs)\n\u001b[0;32m    690\u001b[0m \u001b[38;5;66;03m# Do the transformation, returning a coordinate frame of the desired\u001b[39;00m\n\u001b[0;32m    691\u001b[0m \u001b[38;5;66;03m# final type (not generic).\u001b[39;00m\n\u001b[1;32m--> 692\u001b[0m new_coord \u001b[38;5;241m=\u001b[39m \u001b[43mtrans\u001b[49m\u001b[43m(\u001b[49m\u001b[38;5;28;43mself\u001b[39;49m\u001b[38;5;241;43m.\u001b[39;49m\u001b[43mframe\u001b[49m\u001b[43m,\u001b[49m\u001b[43m \u001b[49m\u001b[43mgeneric_frame\u001b[49m\u001b[43m)\u001b[49m\n\u001b[0;32m    694\u001b[0m \u001b[38;5;66;03m# Finally make the new SkyCoord object from the `new_coord` and\u001b[39;00m\n\u001b[0;32m    695\u001b[0m \u001b[38;5;66;03m# remaining frame_kwargs that are not frame_attributes in `new_coord`.\u001b[39;00m\n\u001b[0;32m    696\u001b[0m \u001b[38;5;28;01mfor\u001b[39;00m attr \u001b[38;5;129;01min\u001b[39;00m \u001b[38;5;28mset\u001b[39m(new_coord\u001b[38;5;241m.\u001b[39mframe_attributes) \u001b[38;5;241m&\u001b[39m \u001b[38;5;28mset\u001b[39m(frame_kwargs\u001b[38;5;241m.\u001b[39mkeys()):\n",
      "File \u001b[1;32mD:\\Astro\\astroconda\\Lib\\site-packages\\astropy\\coordinates\\transformations.py:1537\u001b[0m, in \u001b[0;36mCompositeTransform.__call__\u001b[1;34m(self, fromcoord, toframe)\u001b[0m\n\u001b[0;32m   1534\u001b[0m             frattrs[inter_frame_attr_nm] \u001b[38;5;241m=\u001b[39m attr\n\u001b[0;32m   1536\u001b[0m     curr_toframe \u001b[38;5;241m=\u001b[39m t\u001b[38;5;241m.\u001b[39mtosys(\u001b[38;5;241m*\u001b[39m\u001b[38;5;241m*\u001b[39mfrattrs)\n\u001b[1;32m-> 1537\u001b[0m     curr_coord \u001b[38;5;241m=\u001b[39m \u001b[43mt\u001b[49m\u001b[43m(\u001b[49m\u001b[43mcurr_coord\u001b[49m\u001b[43m,\u001b[49m\u001b[43m \u001b[49m\u001b[43mcurr_toframe\u001b[49m\u001b[43m)\u001b[49m\n\u001b[0;32m   1539\u001b[0m \u001b[38;5;66;03m# this is safe even in the case where self.transforms is empty, because\u001b[39;00m\n\u001b[0;32m   1540\u001b[0m \u001b[38;5;66;03m# coordinate objects are immutable, so copying is not needed\u001b[39;00m\n\u001b[0;32m   1541\u001b[0m \u001b[38;5;28;01mreturn\u001b[39;00m curr_coord\n",
      "File \u001b[1;32mD:\\Astro\\astroconda\\Lib\\site-packages\\astropy\\coordinates\\transformations.py:1041\u001b[0m, in \u001b[0;36mFunctionTransformWithFiniteDifference.__call__\u001b[1;34m(self, fromcoord, toframe)\u001b[0m\n\u001b[0;32m   1037\u001b[0m reprwithoutdiff \u001b[38;5;241m=\u001b[39m supcall(from_diffless, toframe)\n\u001b[0;32m   1039\u001b[0m \u001b[38;5;66;03m# first we use the existing differential to compute an offset due to\u001b[39;00m\n\u001b[0;32m   1040\u001b[0m \u001b[38;5;66;03m# the already-existing velocity, but in the new frame\u001b[39;00m\n\u001b[1;32m-> 1041\u001b[0m fromcoord_cart \u001b[38;5;241m=\u001b[39m \u001b[43mfromcoord\u001b[49m\u001b[38;5;241;43m.\u001b[39;49m\u001b[43mcartesian\u001b[49m\n\u001b[0;32m   1042\u001b[0m \u001b[38;5;28;01mif\u001b[39;00m \u001b[38;5;28mself\u001b[39m\u001b[38;5;241m.\u001b[39msymmetric_finite_difference:\n\u001b[0;32m   1043\u001b[0m     fwdxyz \u001b[38;5;241m=\u001b[39m (\n\u001b[0;32m   1044\u001b[0m         fromcoord_cart\u001b[38;5;241m.\u001b[39mxyz \u001b[38;5;241m+\u001b[39m fromcoord_cart\u001b[38;5;241m.\u001b[39mdifferentials[\u001b[38;5;124m\"\u001b[39m\u001b[38;5;124ms\u001b[39m\u001b[38;5;124m\"\u001b[39m]\u001b[38;5;241m.\u001b[39md_xyz \u001b[38;5;241m*\u001b[39m halfdt\n\u001b[0;32m   1045\u001b[0m     )\n",
      "File \u001b[1;32mD:\\Astro\\astroconda\\Lib\\site-packages\\astropy\\coordinates\\baseframe.py:1868\u001b[0m, in \u001b[0;36mBaseCoordinateFrame.cartesian\u001b[1;34m(self)\u001b[0m\n\u001b[0;32m   1862\u001b[0m \u001b[38;5;250m\u001b[39m\u001b[38;5;124;03m\"\"\"\u001b[39;00m\n\u001b[0;32m   1863\u001b[0m \u001b[38;5;124;03mShorthand for a cartesian representation of the coordinates in this\u001b[39;00m\n\u001b[0;32m   1864\u001b[0m \u001b[38;5;124;03mobject.\u001b[39;00m\n\u001b[0;32m   1865\u001b[0m \u001b[38;5;124;03m\"\"\"\u001b[39;00m\n\u001b[0;32m   1866\u001b[0m \u001b[38;5;66;03m# TODO: if representations are updated to use a full transform graph,\u001b[39;00m\n\u001b[0;32m   1867\u001b[0m \u001b[38;5;66;03m#       the representation aliases should not be hard-coded like this\u001b[39;00m\n\u001b[1;32m-> 1868\u001b[0m \u001b[38;5;28;01mreturn\u001b[39;00m \u001b[38;5;28;43mself\u001b[39;49m\u001b[38;5;241;43m.\u001b[39;49m\u001b[43mrepresent_as\u001b[49m\u001b[43m(\u001b[49m\u001b[38;5;124;43m\"\u001b[39;49m\u001b[38;5;124;43mcartesian\u001b[39;49m\u001b[38;5;124;43m\"\u001b[39;49m\u001b[43m,\u001b[49m\u001b[43m \u001b[49m\u001b[43min_frame_units\u001b[49m\u001b[38;5;241;43m=\u001b[39;49m\u001b[38;5;28;43;01mTrue\u001b[39;49;00m\u001b[43m)\u001b[49m\n",
      "File \u001b[1;32mD:\\Astro\\astroconda\\Lib\\site-packages\\astropy\\coordinates\\baseframe.py:1139\u001b[0m, in \u001b[0;36mBaseCoordinateFrame.represent_as\u001b[1;34m(self, base, s, in_frame_units)\u001b[0m\n\u001b[0;32m   1123\u001b[0m \u001b[38;5;28;01mif\u001b[39;00m differential_cls:\n\u001b[0;32m   1124\u001b[0m     \u001b[38;5;66;03m# Sanity check to ensure we do not just drop radial\u001b[39;00m\n\u001b[0;32m   1125\u001b[0m     \u001b[38;5;66;03m# velocity.  TODO: should Representation.represent_as\u001b[39;00m\n\u001b[0;32m   1126\u001b[0m     \u001b[38;5;66;03m# allow this transformation in the first place?\u001b[39;00m\n\u001b[0;32m   1127\u001b[0m     \u001b[38;5;28;01mif\u001b[39;00m (\n\u001b[0;32m   1128\u001b[0m         \u001b[38;5;28misinstance\u001b[39m(\u001b[38;5;28mself\u001b[39m\u001b[38;5;241m.\u001b[39mdata, r\u001b[38;5;241m.\u001b[39mUnitSphericalRepresentation)\n\u001b[0;32m   1129\u001b[0m         \u001b[38;5;129;01mand\u001b[39;00m \u001b[38;5;28missubclass\u001b[39m(representation_cls, r\u001b[38;5;241m.\u001b[39mCartesianRepresentation)\n\u001b[1;32m   (...)\u001b[0m\n\u001b[0;32m   1137\u001b[0m         )\n\u001b[0;32m   1138\u001b[0m     ):\n\u001b[1;32m-> 1139\u001b[0m         \u001b[38;5;28;01mraise\u001b[39;00m u\u001b[38;5;241m.\u001b[39mUnitConversionError(\n\u001b[0;32m   1140\u001b[0m             \u001b[38;5;124m\"\u001b[39m\u001b[38;5;124mneed a distance to retrieve a cartesian representation \u001b[39m\u001b[38;5;124m\"\u001b[39m\n\u001b[0;32m   1141\u001b[0m             \u001b[38;5;124m\"\u001b[39m\u001b[38;5;124mwhen both radial velocity and proper motion are present, \u001b[39m\u001b[38;5;124m\"\u001b[39m\n\u001b[0;32m   1142\u001b[0m             \u001b[38;5;124m\"\u001b[39m\u001b[38;5;124msince otherwise the units cannot match.\u001b[39m\u001b[38;5;124m\"\u001b[39m\n\u001b[0;32m   1143\u001b[0m         )\n\u001b[0;32m   1145\u001b[0m     \u001b[38;5;66;03m# TODO NOTE: only supports a single differential\u001b[39;00m\n\u001b[0;32m   1146\u001b[0m     data \u001b[38;5;241m=\u001b[39m \u001b[38;5;28mself\u001b[39m\u001b[38;5;241m.\u001b[39mdata\u001b[38;5;241m.\u001b[39mrepresent_as(representation_cls, differential_cls)\n",
      "\u001b[1;31mUnitConversionError\u001b[0m: need a distance to retrieve a cartesian representation when both radial velocity and proper motion are present, since otherwise the units cannot match."
     ]
    }
   ],
   "source": [
    "# THIS SHOULD ERROR:\n",
    "velocity_coord.transform_to(altaz)"
   ]
  },
  {
   "cell_type": "markdown",
   "metadata": {},
   "source": [
    "### Evolving coordinate positions between epochs\n",
    "\n",
    "For nearby or fast-moving stars, a star's position could change appreciably between two well-spaced observations of the source. For such cases, it might be necessary to evolve the position of the star using the proper motion or velocity of the star in order to accurately predict its position at a new time. Below, we will demonstrate this using data from the Digitized Sky Survey (DSS; digital scans of photographic plates observed in the 1950s) and data from the *Gaia* mission (at epoch J2015.5).\n",
    "\n",
    "The star HD 219829 has a very large proper motion, close to 0.5 arcsec/year. Between the DSS and *Gaia*, we therefore expect that the position of the star has changed by about 0.5 arcmin; let's see if this is the case! To start, we will query the *Gaia* catalog to retrieve data for this star (but skip the cell below if you do not have an internet connection):"
   ]
  },
  {
   "cell_type": "code",
   "execution_count": 38,
   "metadata": {},
   "outputs": [
    {
     "name": "stdout",
     "output_type": "stream",
     "text": [
      "INFO: Query finished. [astroquery.utils.tap.core]\n"
     ]
    }
   ],
   "source": [
    "# NOTE: skip this cell if you do not have an internet connection\n",
    "\n",
    "hd219829_coord_2015 = SkyCoord(349.72896715675495, 5.405115847648341, unit=u.deg)\n",
    "hd219829_gaia_table = Gaia.query_object_async(hd219829_coord_2015, radius=2*u.arcsec)\n",
    "hd219829_gaia_table = QTable(hd219829_gaia_table)  # ignore any warnings output by this!\n",
    "\n",
    "hd219829_coord = SkyCoord(ra=hd219829_gaia_table['ra'],\n",
    "                          dec=hd219829_gaia_table['dec'],\n",
    "                          distance=Distance(parallax=hd219829_gaia_table['parallax']),\n",
    "                          pm_ra_cosdec=hd219829_gaia_table['pmra'],\n",
    "                          pm_dec=hd219829_gaia_table['pmdec'],\n",
    "                          radial_velocity=hd219829_gaia_table['radial_velocity'],\n",
    "                          obstime=Time('J2015.5'))"
   ]
  },
  {
   "cell_type": "code",
   "execution_count": 39,
   "metadata": {},
   "outputs": [],
   "source": [
    "hd219829_coord = SkyCoord(ra=349.72896716*u.deg, \n",
    "                          dec=5.40511585*u.deg,\n",
    "                          distance=34.47896*u.pc,\n",
    "                          pm_ra_cosdec=483.41659*u.mas/u.yr,\n",
    "                          pm_dec=-114.86339*u.mas/u.yr,\n",
    "                          obstime=Time('J2015.5'))"
   ]
  },
  {
   "cell_type": "markdown",
   "metadata": {},
   "source": [
    "Note above that we specify a new keyword argument, `obstime`, to `SkyCoord`: This is the observation time of the coordinates, and will be important later when we evolve the position of this star using its proper motion.\n",
    "\n",
    "We now have the position and proper motion for HD 219829. Let's now query the DSS to retrieve a FITS image of the field around this star, using the STSCI DSS image cutout service. Again, skip the cell below if you do not have an internet connection:"
   ]
  },
  {
   "cell_type": "code",
   "execution_count": 46,
   "metadata": {},
   "outputs": [],
   "source": [
    "# NOTE: skip this cell if you do not have an internet connection\n",
    "\n",
    "dss_cutout_filename = download_file(f\"http://archive.stsci.edu/cgi-bin/dss_search?\"\n",
    "                                    f\"f=FITS&ra={hd219829_coord.ra.degree}&dec={hd219829_coord.dec.degree}\"\n",
    "                                    f\"&width=400&height=400\")  # width/height in arcmin"
   ]
  },
  {
   "cell_type": "code",
   "execution_count": 47,
   "metadata": {},
   "outputs": [],
   "source": [
    "dss_cutout_filename = 'dss_hd219829.fits'"
   ]
  },
  {
   "cell_type": "markdown",
   "metadata": {},
   "source": [
    "We can now load the FITS image of the cutout and use `astropy.visualization` to display the image using its World Coordinate System (WCS) info ([docs](http://docs.astropy.org/en/latest/visualization/wcsaxes/index.html)). By passing in the WCS information (included in the FITS cutout header), we can over-plot a marker for the *Gaia*-measured sky position of HD 219829:"
   ]
  },
  {
   "cell_type": "code",
   "execution_count": 50,
   "metadata": {},
   "outputs": [
    {
     "name": "stderr",
     "output_type": "stream",
     "text": [
      "WARNING: FITSFixedWarning: 'datfix' made the change 'Set MJD-OBS to 33867.416667 from DATE-OBS'. [astropy.wcs.wcs]\n"
     ]
    },
    {
     "data": {
      "text/plain": [
       "<matplotlib.collections.PathCollection at 0x1233213f0>"
      ]
     },
     "execution_count": 50,
     "metadata": {},
     "output_type": "execute_result"
    },
    {
     "data": {
      "image/png": "[encoded data removed]",
      "text/plain": [
       "<Figure size 800x800 with 1 Axes>"
      ]
     },
     "metadata": {},
     "output_type": "display_data"
    }
   ],
   "source": [
    "from astropy.wcs import WCS\n",
    "\n",
    "hdu = fits.open(dss_cutout_filename)[0]\n",
    "wcs = WCS(hdu.header)\n",
    "\n",
    "fig, ax = plt.subplots(1, 1, figsize=(8, 8), \n",
    "                       subplot_kw=dict(projection=wcs))\n",
    "ax.imshow(hdu.data, origin='lower', cmap='Greys_r')\n",
    "ax.set_xlabel('RA')\n",
    "ax.set_ylabel('Dec')\n",
    "ax.set_autoscale_on(False)\n",
    "\n",
    "ax.scatter(hd219829_coord.ra.degree,\n",
    "           hd219829_coord.dec.degree,\n",
    "           s=500,\n",
    "           transform=ax.get_transform('world'),\n",
    "           facecolor='none', linewidth=2, color='tab:red')"
   ]
  },
  {
   "cell_type": "markdown",
   "metadata": {},
   "source": [
    "The bright star (as observed by DSS) is our target, and the red circle is where *Gaia* observed this star — it has moved! But, we can account for this, and predict the position of the star at around the time the DSS plate was observed (let's assume it was exactly 1950 — this is not strictly correct, but should be good enough).\n",
    "\n",
    "To account for the proper motion of the source and evolve the position to a new time, we can use the `SkyCoord.apply_space_motion()` method ([docs](http://docs.astropy.org/en/latest/api/astropy.coordinates.SkyCoord.html#astropy.coordinates.SkyCoord.apply_space_motion)):"
   ]
  },
  {
   "cell_type": "code",
   "execution_count": 51,
   "metadata": {},
   "outputs": [
    {
     "name": "stderr",
     "output_type": "stream",
     "text": [
      "/Users/papa/miniforge3/lib/python3.10/site-packages/erfa/core.py:154: ErfaWarning: ERFA function \"taiutc\" yielded 1 of \"dubious year (Note 4)\"\n",
      "  warnings.warn('ERFA function \"{}\" yielded {}'.format(func_name, wmsg),\n"
     ]
    }
   ],
   "source": [
    "hd219829_coord_1950 = hd219829_coord.apply_space_motion(new_obstime=Time('J1950'))  # ignore the ErfaWarning"
   ]
  },
  {
   "cell_type": "code",
   "execution_count": 52,
   "metadata": {},
   "outputs": [
    {
     "data": {
      "text/plain": [
       "<matplotlib.collections.PathCollection at 0x123283490>"
      ]
     },
     "execution_count": 52,
     "metadata": {},
     "output_type": "execute_result"
    },
    {
     "data": {
      "image/png": "[encoded data removed]",
      "text/plain": [
       "<Figure size 800x800 with 1 Axes>"
      ]
     },
     "metadata": {},
     "output_type": "display_data"
    }
   ],
   "source": [
    "fig, ax = plt.subplots(1, 1, figsize=(8, 8), \n",
    "                       subplot_kw=dict(projection=wcs))\n",
    "ax.imshow(hdu.data, origin='lower', cmap='Greys_r')\n",
    "ax.set_xlabel('RA')\n",
    "ax.set_ylabel('Dec')\n",
    "ax.set_autoscale_on(False)\n",
    "\n",
    "ax.scatter(hd219829_coord.ra.degree,\n",
    "           hd219829_coord.dec.degree,\n",
    "           s=500,\n",
    "           transform=ax.get_transform('world'),\n",
    "           facecolor='none', linewidth=2, color='tab:red')\n",
    "\n",
    "# Plot the predicted (past) position:\n",
    "ax.scatter(hd219829_coord_1950.ra.degree,\n",
    "           hd219829_coord_1950.dec.degree,\n",
    "           s=500,\n",
    "           transform=ax.get_transform('world'),\n",
    "           facecolor='none', linewidth=2, color='tab:blue')"
   ]
  },
  {
   "cell_type": "markdown",
   "metadata": {},
   "source": [
    "The predicted position of the star from 1950 is much closer to where the star is in the DSS image. Success!"
   ]
  },
  {
   "cell_type": "markdown",
   "metadata": {},
   "source": [
    "### Exercises"
   ]
  },
  {
   "cell_type": "markdown",
   "metadata": {},
   "source": [
    "The *Gaia* data table we downloaded for sources around NGC 188 also contains proper motion information. Do any of the sources in the field around NGC 188 have large enough proper motions that we might detect a difference between the DSS position of a star and the *Gaia* position? How many stars have an apparent change in position > 5 arcsec over 60 years?"
   ]
  },
  {
   "cell_type": "code",
   "execution_count": null,
   "metadata": {},
   "outputs": [],
   "source": []
  },
  {
   "cell_type": "markdown",
   "metadata": {},
   "source": [
    "Download a DSS image for the region around the fastest-moving star in the NGC 188 field. By accounting for the proper motion, can you predict where the star is in the DSS image using only the *Gaia* position and proper motion?"
   ]
  },
  {
   "cell_type": "code",
   "execution_count": null,
   "metadata": {},
   "outputs": [],
   "source": []
  },
  {
   "cell_type": "markdown",
   "metadata": {},
   "source": [
    "## Wrap-up\n",
    "\n",
    "This tutorial covers a lot of material, but `astropy.coordinates` has even more functionality that we were unable to cover in this workshop. For documentation on other features of `astropy.coordinates`, check out [the astropy.coordinates section of the Astropy documentation](http://astropy.readthedocs.org/en/stable/coordinates/index.html).\n",
    "\n",
    "You might also be interested in [the astroplan affiliated package](http://astroplan.readthedocs.org/), which uses the `astropy.coordinates` to do more advanced versions of the observation planning tasks briefly covered above."
   ]
  },
  {
   "cell_type": "code",
   "execution_count": null,
   "metadata": {},
   "outputs": [],
   "source": []
  }
 ],
 "metadata": {
  "anaconda-cloud": {},
  "astropy-tutorials": {
   "author": "Erik Tollerud <erik.tollerud@gmail.com>",
   "date": "July 2015",
   "description": "Demonstrates use of astropy.coordinates for common tasks. Includes matching catalogs against each other, basic observing planning tasks, and basic usage of coordinates.",
   "link_name": "Using astropy.coordinates to Match Catalogs and Plan Observations",
   "name": "",
   "published": true
  },
  "kernelspec": {
   "display_name": "Python 3 (ipykernel)",
   "language": "python",
   "name": "python3"
  },
  "language_info": {
   "codemirror_mode": {
    "name": "ipython",
    "version": 3
   },
   "file_extension": ".py",
   "mimetype": "text/x-python",
   "name": "python",
   "nbconvert_exporter": "python",
   "pygments_lexer": "ipython3",
   "version": "3.10.13"
  },
  "toc": {
   "base_numbering": 1,
   "nav_menu": {},
   "number_sections": true,
   "sideBar": true,
   "skip_h1_title": false,
   "title_cell": "Table of Contents",
   "title_sidebar": "Contents",
   "toc_cell": false,
   "toc_position": {},
   "toc_section_display": true,
   "toc_window_display": false
  }
 },
 "nbformat": 4,
 "nbformat_minor": 4
}
