{
 "cells": [
  {
   "cell_type": "markdown",
   "id": "6efa28ff-83e2-418f-9f96-ee0e1add9090",
   "metadata": {},
   "source": [
    "# atelier astropy de la SAR - contenu\n",
    "## introduction (en visio - 1h)\n",
    "### objectifs, non-objectifs\n",
    "### public visé, prérequis\n",
    "### pourquoi python ? (historique, applications, outils)\n",
    "### astropy core et affiliated modules\n",
    "### les pros : pyraf, pymidas, stsci, jdaviz, exoclock, Ariel, ...\n",
    "\n",
    "## premiers pas en python (en visio - 1h ou au CALC 1/2j ?)\n",
    "### demo python, ipython, spyder, jupyter, colab\n",
    "### demo astropy, core, units, coord, tables, fits\n",
    "### demo astroquery, astroplan , charts and fields, astrometry\n",
    "### demo models, image, ccdproc, photutil, specutil, specreduce\n",
    "### demo easyspec\n",
    "\n",
    "## travaux pratiques (au CALC - 1/2 journée)\n",
    "### réduction / analyse spectres Deneb, BF lyn, RR Lyr et 10 Lac\n",
    "### réducton / analyse étoiles variables RR Lyr, DY Per\n",
    "### réduction / analyse exoplanète Wasp-12b (ou autre)\n",
    "\n",
    "\n",
    "\n",
    "\n",
    "\n",
    "\n",
    "\n",
    "\n",
    "\n"
   ]
  },
  {
   "cell_type": "code",
   "execution_count": null,
   "id": "c1dc0878-b1e3-434a-878d-9532ae907f7b",
   "metadata": {},
   "outputs": [],
   "source": []
  }
 ],
 "metadata": {
  "kernelspec": {
   "display_name": "Python 3 (ipykernel)",
   "language": "python",
   "name": "python3"
  },
  "language_info": {
   "codemirror_mode": {
    "name": "ipython",
    "version": 3
   },
   "file_extension": ".py",
   "mimetype": "text/x-python",
   "name": "python",
   "nbconvert_exporter": "python",
   "pygments_lexer": "ipython3",
   "version": "3.11.7"
  }
 },
 "nbformat": 4,
 "nbformat_minor": 5
}
