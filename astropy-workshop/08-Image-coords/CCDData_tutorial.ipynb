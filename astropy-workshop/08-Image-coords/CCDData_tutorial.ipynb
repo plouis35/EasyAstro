{
 "cells": [
  {
   "cell_type": "markdown",
   "metadata": {},
   "source": [
    "# CCDData as a container for CCD images"
   ]
  },
  {
   "cell_type": "markdown",
   "metadata": {},
   "source": [
    "A `CCDData` object can store the data, mask and metadata for an image."
   ]
  },
  {
   "cell_type": "code",
   "execution_count": 1,
   "metadata": {},
   "outputs": [],
   "source": [
    "import numpy as np\n",
    "import matplotlib.pyplot as plt\n",
    "\n",
    "from astropy.utils.data import get_pkg_data_filename\n",
    "from astropy.nddata import CCDData\n",
    "\n",
    "%matplotlib inline"
   ]
  },
  {
   "cell_type": "markdown",
   "metadata": {},
   "source": [
    "Read in a small sample CCD image"
   ]
  },
  {
   "cell_type": "code",
   "execution_count": 2,
   "metadata": {},
   "outputs": [],
   "source": [
    "ccd = CCDData.read(get_pkg_data_filename('data/sip-wcs.fits', package='astropy.nddata.tests'))"
   ]
  },
  {
   "cell_type": "markdown",
   "metadata": {},
   "source": [
    "The header or metadata is available via `ccd.header` or `ccd.meta`."
   ]
  },
  {
   "cell_type": "code",
   "execution_count": 3,
   "metadata": {},
   "outputs": [
    {
     "data": {
      "text/plain": [
       "SIMPLE  =                    T / Created by ImageJ FITS_Writer                  \n",
       "BITPIX  =                   16 / number of bits per data pixel                  \n",
       "NAXIS   =                    2 / number of data axes                            \n",
       "NAXIS1  =                  100 / length of data axis 1                          \n",
       "NAXIS2  =                   50 / length of data axis 2                          \n",
       "INSTRUME= 'Apogee Alta' /       instrument or camera used                       \n",
       "DATE-OBS= '2011-09-01T02:09:05' / YYYY-MM-DDThh:mm:ss observation start, UT     \n",
       "EXPTIME =   120.00000000000000 /Exposure time in seconds                        \n",
       "EXPOSURE=   120.00000000000000 /Exposure time in seconds                        \n",
       "SET-TEMP=  -18.899999618530273 /CCD temperature setpoint in C                   \n",
       "CCD-TEMP=  -19.015454250000001 /CCD temperature at start of exposure in C       \n",
       "XPIXSZ  =   9.0000000000000000 /Pixel Width in microns (after binning)          \n",
       "YPIXSZ  =   9.0000000000000000 /Pixel Height in microns (after binning)         \n",
       "XBINNING=                    1 /Binning factor in width                         \n",
       "YBINNING=                    1 /Binning factor in height                        \n",
       "XORGSUBF=                    0 /Subframe X position in binned pixels            \n",
       "YORGSUBF=                    0 /Subframe Y position in binned pixels            \n",
       "FILTER  = 'B       ' /          Filter used when taking image                   \n",
       "IMAGETYP= 'LIGHT   '           / Type of image                                  \n",
       "FOCALLEN=  0.00000000000000000 /Focal length of telescope in mm                 \n",
       "APTDIA  =  0.00000000000000000 /Aperture diameter of telescope in mm            \n",
       "APTAREA =  0.00000000000000000 /Aperture area of telescope in mm^2              \n",
       "SWCREATE= 'MaxIm DL Version 4.10' /Name of software that created the image      \n",
       "SBSTDVER= 'SBFITSEXT Version 1.0' /Version of SBFITSEXT standard in effect      \n",
       "SWOWNER = 'Linda Winkler' /     Licensed owner of software                      \n",
       "PURGED  =                    T / Have bad keywords been removed?                \n",
       "LATITUDE= '+46:52:00.408'      / [degrees] Observatory latitude                 \n",
       "SITELAT = '+46:52:00.408'      / [degrees] Observatory latitude                 \n",
       "LONGITUD= '-96:27:11.8008'     / [degrees east] Observatory longitude           \n",
       "SITELONG= '-96:27:11.8008'     / [degrees east] Observatory longitude           \n",
       "ALTITUDE=    311.7999999995668 / [meters] Observatory altitude                  \n",
       "LST     = '18:22:52.8880'      / Local Sidereal Time at start of observation    \n",
       "JD-OBS  =    2455805.589641204 / Julian Date at start of observation            \n",
       "MJD-OBS =      55805.089641204 / Modified Julian date at start of observation   \n",
       "OBSERVER= 'Matt Craig'                                                          \n",
       "BUNIT   = 'adu     '                                                            \n",
       "HISTORY +++++ BEGIN patch_headers history on 2013-11-07 13:54:02.872029 +++++   \n",
       "HISTORY patch_headers.py modified this file on 2013-11-07 13:54:02.872029       \n",
       "HISTORY Changed IMAGETYP from Light Frame to LIGHT                              \n",
       "HISTORY Updated keyword LATITUDE to value +46:52:00.41                          \n",
       "HISTORY Updated keyword SITELAT to value +46:52:00.41                           \n",
       "HISTORY Updated keyword LONGITUD to value -96:27:11.80                          \n",
       "HISTORY Updated keyword SITELONG to value -96:27:11.80                          \n",
       "HISTORY Updated keyword ALTITUDE to value 311.8                                 \n",
       "HISTORY Updated keyword LST to value 18:22:53.19                                \n",
       "HISTORY Updated keyword JD-OBS to value 2455805.58964                           \n",
       "HISTORY Updated keyword MJD-OBS to value 55805.0896412                          \n",
       "HISTORY ********* FILE NOT PATCHED *********~~Stopped patching header of /Users/\n",
       "HISTORY m                                                                       \n",
       "HISTORY attcraig/ast390/raw/2011/2011-08-31/sa110sf2-001std_b.fit because of Val\n",
       "HISTORY ueError: No RA is present.                                              \n",
       "HISTORY ----- END patch_headers history on 2013-11-07 13:54:02.872029 -----     \n",
       "HISTORY Updated keyword OBSERVER to value Matt Craig                            \n",
       "HISTORY +++++ BEGIN patch_headers history on 2016-11-21 20:10:41.595989 +++++   \n",
       "HISTORY patch_headers.py modified this file on 2016-11-21 20:10:41.595989       \n",
       "HISTORY Updated keyword LATITUDE to value +46:52:00.408                         \n",
       "HISTORY Updated keyword SITELAT to value +46:52:00.408                          \n",
       "HISTORY Updated keyword LONGITUD to value -96:27:11.8008                        \n",
       "HISTORY Updated keyword SITELONG to value -96:27:11.8008                        \n",
       "HISTORY Updated keyword ALTITUDE to value 311.8                                 \n",
       "HISTORY Updated keyword LST to value 18:22:52.8880                              \n",
       "HISTORY Updated keyword JD-OBS to value 2455805.58964                           \n",
       "HISTORY Updated keyword MJD-OBS to value 55805.0896412                          \n",
       "HISTORY Set image data unit to adu                                              \n",
       "HISTORY ********* FILE NOT PATCHED *********Stopped patching header of sa110sf2-\n",
       "HISTORY 001std_b.fit because of ValueError: No RA is present.                   \n",
       "HISTORY ----- END patch_headers history on 2016-11-21 20:10:41.595989 -----     \n",
       "HISTORY +++++ BEGIN patch_headers history on 2016-11-22 13:44:33.242638 +++++   \n",
       "HISTORY patch_headers.py modified this file on 2016-11-22 13:44:33.242638       \n",
       "HISTORY Updated keyword LATITUDE to value +46:52:00.408                         \n",
       "HISTORY Updated keyword SITELAT to value +46:52:00.408                          \n",
       "HISTORY Updated keyword LONGITUD to value -96:27:11.8008                        \n",
       "HISTORY Updated keyword SITELONG to value -96:27:11.8008                        \n",
       "HISTORY Updated keyword ALTITUDE to value 311.8                                 \n",
       "HISTORY Updated keyword LST to value 18:22:52.8880                              \n",
       "HISTORY Updated keyword JD-OBS to value 2455805.58964                           \n",
       "HISTORY Updated keyword MJD-OBS to value 55805.0896412                          \n",
       "HISTORY Set image data unit to adu                                              \n",
       "HISTORY ********* FILE NOT PATCHED *********Stopped patching header of sa110sf2-\n",
       "HISTORY 001std_b.fit because of ValueError: No RA is present.                   \n",
       "HISTORY ----- END patch_headers history on 2016-11-22 13:44:33.242638 -----     \n",
       "HISTORY WCS created by AIJ link to Astronomy.net website                        \n",
       "HISTORY WCS created on 2017-04-16T21:01:55.162                                  \n",
       "ANNOTATE= '269.5,1756.51,30,1,0,1,1' / HD 172652                                \n",
       "ANNOTATE= '1681.64,1324.56,30,1,0,1,1' / HD 172829                              \n",
       "BSCALE  =                    1                                                  \n",
       "BZERO   =                32768                                                  "
      ]
     },
     "execution_count": 3,
     "metadata": {},
     "output_type": "execute_result"
    }
   ],
   "source": [
    "ccd.header"
   ]
  },
  {
   "cell_type": "markdown",
   "metadata": {},
   "source": [
    "For this file, the mask and uncertainty are None."
   ]
  },
  {
   "cell_type": "code",
   "execution_count": 4,
   "metadata": {},
   "outputs": [],
   "source": [
    "ccd.mask"
   ]
  },
  {
   "cell_type": "code",
   "execution_count": 5,
   "metadata": {},
   "outputs": [],
   "source": [
    "ccd.uncertainty"
   ]
  },
  {
   "cell_type": "code",
   "execution_count": 6,
   "metadata": {},
   "outputs": [
    {
     "data": {
      "text/plain": [
       "WCS Keywords\n",
       "\n",
       "Number of WCS axes: 2\n",
       "CTYPE : 'RA---TAN-SIP' 'DEC--TAN-SIP' \n",
       "CRVAL : 280.544106813 0.112838900008 \n",
       "CRPIX : 37.5 25.0 \n",
       "PC1_1 PC1_2  : 0.000152978060309 2.52560835888e-05 \n",
       "PC2_1 PC2_2  : -2.48148467064e-05 0.000152891927788 \n",
       "CDELT : 1.0 1.0 \n",
       "NAXIS : 100  50"
      ]
     },
     "execution_count": 6,
     "metadata": {},
     "output_type": "execute_result"
    }
   ],
   "source": [
    "ccd.wcs"
   ]
  },
  {
   "cell_type": "code",
   "execution_count": 7,
   "metadata": {},
   "outputs": [
    {
     "data": {
      "text/plain": [
       "SIMPLE  =                    T / Created by ImageJ FITS_Writer                  \n",
       "BITPIX  =                   16 / number of bits per data pixel                  \n",
       "NAXIS   =                    2 / number of data axes                            \n",
       "NAXIS1  =                  100 / length of data axis 1                          \n",
       "NAXIS2  =                   50 / length of data axis 2                          \n",
       "INSTRUME= 'Apogee Alta' /       instrument or camera used                       \n",
       "DATE-OBS= '2011-09-01T02:09:05' / YYYY-MM-DDThh:mm:ss observation start, UT     \n",
       "EXPTIME =   120.00000000000000 /Exposure time in seconds                        \n",
       "EXPOSURE=   120.00000000000000 /Exposure time in seconds                        \n",
       "SET-TEMP=  -18.899999618530273 /CCD temperature setpoint in C                   \n",
       "CCD-TEMP=  -19.015454250000001 /CCD temperature at start of exposure in C       \n",
       "XPIXSZ  =   9.0000000000000000 /Pixel Width in microns (after binning)          \n",
       "YPIXSZ  =   9.0000000000000000 /Pixel Height in microns (after binning)         \n",
       "XBINNING=                    1 /Binning factor in width                         \n",
       "YBINNING=                    1 /Binning factor in height                        \n",
       "XORGSUBF=                    0 /Subframe X position in binned pixels            \n",
       "YORGSUBF=                    0 /Subframe Y position in binned pixels            \n",
       "FILTER  = 'B       ' /          Filter used when taking image                   \n",
       "IMAGETYP= 'LIGHT   '           / Type of image                                  \n",
       "FOCALLEN=  0.00000000000000000 /Focal length of telescope in mm                 \n",
       "APTDIA  =  0.00000000000000000 /Aperture diameter of telescope in mm            \n",
       "APTAREA =  0.00000000000000000 /Aperture area of telescope in mm^2              \n",
       "SWCREATE= 'MaxIm DL Version 4.10' /Name of software that created the image      \n",
       "SBSTDVER= 'SBFITSEXT Version 1.0' /Version of SBFITSEXT standard in effect      \n",
       "SWOWNER = 'Linda Winkler' /     Licensed owner of software                      \n",
       "PURGED  =                    T / Have bad keywords been removed?                \n",
       "LATITUDE= '+46:52:00.408'      / [degrees] Observatory latitude                 \n",
       "SITELAT = '+46:52:00.408'      / [degrees] Observatory latitude                 \n",
       "LONGITUD= '-96:27:11.8008'     / [degrees east] Observatory longitude           \n",
       "SITELONG= '-96:27:11.8008'     / [degrees east] Observatory longitude           \n",
       "ALTITUDE=    311.7999999995668 / [meters] Observatory altitude                  \n",
       "LST     = '18:22:52.8880'      / Local Sidereal Time at start of observation    \n",
       "JD-OBS  =    2455805.589641204 / Julian Date at start of observation            \n",
       "MJD-OBS =      55805.089641204 / Modified Julian date at start of observation   \n",
       "OBSERVER= 'Matt Craig'                                                          \n",
       "BUNIT   = 'adu     '                                                            \n",
       "HISTORY +++++ BEGIN patch_headers history on 2013-11-07 13:54:02.872029 +++++   \n",
       "HISTORY patch_headers.py modified this file on 2013-11-07 13:54:02.872029       \n",
       "HISTORY Changed IMAGETYP from Light Frame to LIGHT                              \n",
       "HISTORY Updated keyword LATITUDE to value +46:52:00.41                          \n",
       "HISTORY Updated keyword SITELAT to value +46:52:00.41                           \n",
       "HISTORY Updated keyword LONGITUD to value -96:27:11.80                          \n",
       "HISTORY Updated keyword SITELONG to value -96:27:11.80                          \n",
       "HISTORY Updated keyword ALTITUDE to value 311.8                                 \n",
       "HISTORY Updated keyword LST to value 18:22:53.19                                \n",
       "HISTORY Updated keyword JD-OBS to value 2455805.58964                           \n",
       "HISTORY Updated keyword MJD-OBS to value 55805.0896412                          \n",
       "HISTORY ********* FILE NOT PATCHED *********~~Stopped patching header of /Users/\n",
       "HISTORY m                                                                       \n",
       "HISTORY attcraig/ast390/raw/2011/2011-08-31/sa110sf2-001std_b.fit because of Val\n",
       "HISTORY ueError: No RA is present.                                              \n",
       "HISTORY ----- END patch_headers history on 2013-11-07 13:54:02.872029 -----     \n",
       "HISTORY Updated keyword OBSERVER to value Matt Craig                            \n",
       "HISTORY +++++ BEGIN patch_headers history on 2016-11-21 20:10:41.595989 +++++   \n",
       "HISTORY patch_headers.py modified this file on 2016-11-21 20:10:41.595989       \n",
       "HISTORY Updated keyword LATITUDE to value +46:52:00.408                         \n",
       "HISTORY Updated keyword SITELAT to value +46:52:00.408                          \n",
       "HISTORY Updated keyword LONGITUD to value -96:27:11.8008                        \n",
       "HISTORY Updated keyword SITELONG to value -96:27:11.8008                        \n",
       "HISTORY Updated keyword ALTITUDE to value 311.8                                 \n",
       "HISTORY Updated keyword LST to value 18:22:52.8880                              \n",
       "HISTORY Updated keyword JD-OBS to value 2455805.58964                           \n",
       "HISTORY Updated keyword MJD-OBS to value 55805.0896412                          \n",
       "HISTORY Set image data unit to adu                                              \n",
       "HISTORY ********* FILE NOT PATCHED *********Stopped patching header of sa110sf2-\n",
       "HISTORY 001std_b.fit because of ValueError: No RA is present.                   \n",
       "HISTORY ----- END patch_headers history on 2016-11-21 20:10:41.595989 -----     \n",
       "HISTORY +++++ BEGIN patch_headers history on 2016-11-22 13:44:33.242638 +++++   \n",
       "HISTORY patch_headers.py modified this file on 2016-11-22 13:44:33.242638       \n",
       "HISTORY Updated keyword LATITUDE to value +46:52:00.408                         \n",
       "HISTORY Updated keyword SITELAT to value +46:52:00.408                          \n",
       "HISTORY Updated keyword LONGITUD to value -96:27:11.8008                        \n",
       "HISTORY Updated keyword SITELONG to value -96:27:11.8008                        \n",
       "HISTORY Updated keyword ALTITUDE to value 311.8                                 \n",
       "HISTORY Updated keyword LST to value 18:22:52.8880                              \n",
       "HISTORY Updated keyword JD-OBS to value 2455805.58964                           \n",
       "HISTORY Updated keyword MJD-OBS to value 55805.0896412                          \n",
       "HISTORY Set image data unit to adu                                              \n",
       "HISTORY ********* FILE NOT PATCHED *********Stopped patching header of sa110sf2-\n",
       "HISTORY 001std_b.fit because of ValueError: No RA is present.                   \n",
       "HISTORY ----- END patch_headers history on 2016-11-22 13:44:33.242638 -----     \n",
       "HISTORY WCS created by AIJ link to Astronomy.net website                        \n",
       "HISTORY WCS created on 2017-04-16T21:01:55.162                                  \n",
       "ANNOTATE= '269.5,1756.51,30,1,0,1,1' / HD 172652                                \n",
       "ANNOTATE= '1681.64,1324.56,30,1,0,1,1' / HD 172829                              \n",
       "BSCALE  =                    1                                                  \n",
       "BZERO   =                32768                                                  "
      ]
     },
     "execution_count": 7,
     "metadata": {},
     "output_type": "execute_result"
    }
   ],
   "source": [
    "ccd.meta"
   ]
  },
  {
   "cell_type": "code",
   "execution_count": 8,
   "metadata": {},
   "outputs": [
    {
     "data": {
      "text/latex": [
       "$\\mathrm{adu}$"
      ],
      "text/plain": [
       "Unit(\"adu\")"
      ]
     },
     "execution_count": 8,
     "metadata": {},
     "output_type": "execute_result"
    }
   ],
   "source": [
    "ccd.unit"
   ]
  },
  {
   "cell_type": "code",
   "execution_count": 9,
   "metadata": {},
   "outputs": [],
   "source": [
    "ccd.uncertainty"
   ]
  },
  {
   "cell_type": "markdown",
   "metadata": {},
   "source": [
    "Populate the mask and uncertainty"
   ]
  },
  {
   "cell_type": "code",
   "execution_count": 10,
   "metadata": {},
   "outputs": [],
   "source": [
    "ccd.mask = ccd.data > 3800"
   ]
  },
  {
   "cell_type": "markdown",
   "metadata": {},
   "source": [
    "Assume a read noise of 2.9 electrons, and a gain of 15 electrons per ADU, compute an uncertainty."
   ]
  },
  {
   "cell_type": "code",
   "execution_count": 11,
   "metadata": {},
   "outputs": [
    {
     "name": "stdout",
     "output_type": "stream",
     "text": [
      "INFO: array provided for uncertainty; assuming it is a StdDevUncertainty. [astropy.nddata.ccddata]\n"
     ]
    }
   ],
   "source": [
    "read_noise = 2.9\n",
    "gain = 15\n",
    "ccd.uncertainty = np.sqrt(read_noise**2 + gain*ccd.data) / gain"
   ]
  },
  {
   "cell_type": "markdown",
   "metadata": {},
   "source": [
    "Subtract off a DC offset"
   ]
  },
  {
   "cell_type": "code",
   "execution_count": 12,
   "metadata": {},
   "outputs": [],
   "source": [
    "ccd.data = ccd.data - np.median(ccd.data)"
   ]
  },
  {
   "cell_type": "markdown",
   "metadata": {},
   "source": [
    "Write out to a file"
   ]
  },
  {
   "cell_type": "code",
   "execution_count": 13,
   "metadata": {},
   "outputs": [],
   "source": [
    "ccd.write('ccddata.fits', overwrite=True)"
   ]
  },
  {
   "cell_type": "markdown",
   "metadata": {},
   "source": [
    "Read back in"
   ]
  },
  {
   "cell_type": "code",
   "execution_count": 14,
   "metadata": {},
   "outputs": [],
   "source": [
    "ccd_new = CCDData.read('ccddata.fits')"
   ]
  },
  {
   "cell_type": "code",
   "execution_count": 15,
   "metadata": {},
   "outputs": [
    {
     "data": {
      "text/plain": [
       "<matplotlib.image.AxesImage at 0x129202920>"
      ]
     },
     "execution_count": 15,
     "metadata": {},
     "output_type": "execute_result"
    },
    {
     "data": {
      "image/png": "[encoded data removed]",
      "text/plain": [
       "<Figure size 640x480 with 1 Axes>"
      ]
     },
     "metadata": {},
     "output_type": "display_data"
    }
   ],
   "source": [
    "plt.imshow(ccd_new.data)"
   ]
  },
  {
   "cell_type": "markdown",
   "metadata": {},
   "source": [
    "## The ccdproc package\n",
    "\n",
    "The [ccdproc](https://ccdproc.readthedocs.io) coordinated package provides the essential tools for processing of CCD images in a framework that provides error propagation and bad pixel tracking throughout the reduction process. "
   ]
  },
  {
   "cell_type": "code",
   "execution_count": null,
   "metadata": {},
   "outputs": [],
   "source": []
  }
 ],
 "metadata": {
  "kernelspec": {
   "display_name": "Python 3 (ipykernel)",
   "language": "python",
   "name": "python3"
  },
  "language_info": {
   "codemirror_mode": {
    "name": "ipython",
    "version": 3
   },
   "file_extension": ".py",
   "mimetype": "text/x-python",
   "name": "python",
   "nbconvert_exporter": "python",
   "pygments_lexer": "ipython3",
   "version": "3.10.13"
  }
 },
 "nbformat": 4,
 "nbformat_minor": 4
}
