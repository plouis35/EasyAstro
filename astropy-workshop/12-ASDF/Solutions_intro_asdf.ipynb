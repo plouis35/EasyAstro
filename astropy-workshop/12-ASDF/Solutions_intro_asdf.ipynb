{
 "cells": [
  {
   "cell_type": "markdown",
   "id": "eda5a854",
   "metadata": {},
   "source": [
    "### Exercise\n",
    "\n",
    "Reading and accessing data\n",
    "\n",
    "- Open the file `jwst.asdf` in the 02_Working_With_ASDF_Files directory. \n",
    "- Look at the `info` method's help and display the file using some of the arguments to show more contents.\n",
    "- Search for a few attributes - `wcs`, `data` (wcs stands for World Coordinate System. In astronomy it represents the transform from pixel coordinates to sky coordinates or some physical system.)\n",
    "- Retrieve the wcs object following the path showed by the search method\n",
    "- Look at the wcs object and print `wcs.forward_transform`\n",
    "- Use matplotlib to display the data array\n",
    "- Look at the data array and modify the value of data[0, 0] to 999."
   ]
  },
  {
   "cell_type": "code",
   "execution_count": null,
   "id": "5fb1ba78",
   "metadata": {},
   "outputs": [],
   "source": [
    "import asdf"
   ]
  },
  {
   "cell_type": "code",
   "execution_count": null,
   "id": "498a1b81",
   "metadata": {},
   "outputs": [],
   "source": [
    "jw = asdf.open('jwst.asdf')\n",
    "jw.info()"
   ]
  },
  {
   "cell_type": "code",
   "execution_count": null,
   "id": "94e856dc",
   "metadata": {},
   "outputs": [],
   "source": [
    "jw.info(max_rows=200, max_cols=200)"
   ]
  },
  {
   "cell_type": "code",
   "execution_count": null,
   "id": "8c07bc07",
   "metadata": {},
   "outputs": [],
   "source": [
    "jw.search('data')"
   ]
  },
  {
   "cell_type": "code",
   "execution_count": null,
   "id": "0ee689de",
   "metadata": {},
   "outputs": [],
   "source": [
    "jw.search('wcs')"
   ]
  },
  {
   "cell_type": "code",
   "execution_count": null,
   "id": "2d2996e4",
   "metadata": {},
   "outputs": [],
   "source": [
    "wcs = jw['meta']['wcs']\n",
    "print(type(wcs))"
   ]
  },
  {
   "cell_type": "code",
   "execution_count": null,
   "id": "fb220f4b",
   "metadata": {},
   "outputs": [],
   "source": [
    "print(wcs.forward_transform)"
   ]
  },
  {
   "cell_type": "code",
   "execution_count": null,
   "id": "8de7aeef",
   "metadata": {},
   "outputs": [],
   "source": [
    "sky = wcs.pixel_to_world(200, 300)\n",
    "print('ICRS :', sky)\n",
    "print('Galactic :',sky.galactic)"
   ]
  },
  {
   "cell_type": "code",
   "execution_count": null,
   "id": "7e25be97",
   "metadata": {},
   "outputs": [],
   "source": [
    "from matplotlib import pyplot as plt\n",
    "\n",
    "plt.imshow(jw['data'])"
   ]
  },
  {
   "cell_type": "markdown",
   "id": "f8272337",
   "metadata": {},
   "source": [
    "By default asdf opens files in `readonly` mode. Attempting to modify them raises an error.\n"
   ]
  },
  {
   "cell_type": "code",
   "execution_count": null,
   "id": "0bfc238a",
   "metadata": {},
   "outputs": [],
   "source": [
    "# # Uncomment this to see the error:\n",
    "# jw['data'][0,0] = 900"
   ]
  }
 ],
 "metadata": {
  "kernelspec": {
   "display_name": "Python 3 (ipykernel)",
   "language": "python",
   "name": "python3"
  },
  "language_info": {
   "codemirror_mode": {
    "name": "ipython",
    "version": 3
   },
   "file_extension": ".py",
   "mimetype": "text/x-python",
   "name": "python",
   "nbconvert_exporter": "python",
   "pygments_lexer": "ipython3",
   "version": "3.9.13"
  }
 },
 "nbformat": 4,
 "nbformat_minor": 5
}
