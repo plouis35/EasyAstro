{
 "cells": [
  {
   "cell_type": "markdown",
   "id": "20d08cc0",
   "metadata": {},
   "source": [
    "## Outline\n",
    "\n",
    "- Why a new data format?\n",
    "- Main features of the ASDF standard\n",
    "- Working with ASDF files\n",
    "  - Read a file and look at the contents\n",
    "  - Modify a file\n",
    "  - Save a file to disk\n",
    "  - File introspection\n",
    "- Other functionality\n",
    "- Documentation\n",
    "- Exercise\n"
   ]
  },
  {
   "cell_type": "markdown",
   "id": "791b1276",
   "metadata": {},
   "source": [
    "### Why a New Data Format\n",
    "\n",
    "Astronomy has long had a standard format called FITS (Flexible Image Transport System) created in 1981.\n",
    "\n",
    "- Metadata based on 80 character cards (remnants of punch cards era)\n",
    "  - Limits size of keyword names to 8 characters; values and comments must fit on the rest of the card.\n",
    "- Structure of file consists of a list of header/binary items, however:\n",
    "  - More complex organization must be by convention or using nonstandard extensions\n",
    "  - Astronomical data sets continue to become more complex\n",
    "- The specific motivation for developing the standard was that FITS WCS conventions proved unusable for raw HST data that included complex distortion models and required high accuracy. The experience with HST showed that those conventions will not work with the much more complex JWST WCS transforms.\n",
    "  \n",
    "\n",
    "The issues with FITS have been documented in a paper by B. Thomas, et al. (Learning from FITS: Limitations in use in modern astronomical research, Astron. Comput. (2015), 10.1016/j.ascom.2015.01.009, arXiv:1502.00996v2).\n",
    "  \n",
    "  "
   ]
  },
  {
   "cell_type": "markdown",
   "id": "9c0f55b9",
   "metadata": {},
   "source": [
    "### Main Features of ASDF\n",
    "\n",
    "\n",
    "- It has a hierarchical metadata structure, made up of basic dynamic data types such as strings, numbers, lists and mappings.\n",
    "\n",
    "- Attribute names and values are not constrained by size as is the case for FITS header cards.\n",
    "\n",
    "- It has human-readable metadata that can be edited directly in place in the file.\n",
    "\n",
    "- The structure of the files can be automatically validated using associated schema files.\n",
    "\n",
    "- It’s designed for extensibility: new conventions may be used without breaking backward compatibility with tools that do not understand those conventions. Versioning systems are used to prevent conflicting with alternative conventions.\n",
    "\n",
    "- The binary array data (when compression is not used) is a raw memory dump, and techniques such as memory mapping can be used to efficiently access it.\n",
    "\n",
    "- It is possible to read and write the file in as a stream, without requiring random access.\n",
    "\n",
    "- It’s built on top of industry standards, such as YAML and JSON Schema to take advantage of a larger community\n",
    "working on the core problems of data representation. This also makes it easier to support ASDF in new programming languages and environments by building on top of existing libraries.\n",
    "\n",
    "- Since every ASDF file has the version of the specification to which it is written, it will be possible, through careful planning, to evolve the ASDF format over time, allowing for files that use new features while retaining backward compatibility with older tools."
   ]
  },
  {
   "cell_type": "markdown",
   "id": "88282758",
   "metadata": {},
   "source": [
    "### Who Uses ASDF?\n",
    "\n",
    "- James Webb Space Telescope (JWST)\n",
    "- Nancy Grace Roman Space Telescope\n",
    "- Daniel K Inoue Solar Telescope (DKIST) \n",
    "- Vera Rubin Telescope as a WCS exchange format.\n",
    "- Other non-institutional projects using it in astronomy and other fields. "
   ]
  },
  {
   "cell_type": "code",
   "execution_count": null,
   "id": "0629b74d",
   "metadata": {},
   "outputs": [],
   "source": [
    "import numpy as np\n",
    "\n",
    "from astropy.modeling import models\n",
    "from astropy.modeling.core import Model\n",
    "from astropy.time import Time\n",
    "from astropy import units as u"
   ]
  },
  {
   "cell_type": "markdown",
   "id": "8ef751b0",
   "metadata": {},
   "source": [
    "### Working with ASDF files\n",
    "\n",
    "In this section we'll look at the structure of ASDF files and learn how to read, write, create and modify them. ASDF files have an extension `.asdf`. Since it's a human redable format we can simply look at the file with a comman line shell tool or an editor.\n",
    "\n",
    "#### Anatomy of an ASDF file\n",
    "\n",
    "ASDF is a hybrid text and binary format. The text uses YAML. The general layout of the file is\n",
    "\n",
    "- Header \n",
    "- Tree (optional)\n",
    "  The tree is a dictionary. Most Python types can be serialized directly, using YAML, as {key: value} pairs in the tree. \n",
    "- Binary blocks (optional)\n",
    "- Binary block index (optional)\n",
    "\n",
    "The header, tree and block index are text, while the blocks are raw binary.\n",
    "\n",
    "Python primitives are supported natively in YAML.\n",
    " "
   ]
  },
  {
   "cell_type": "code",
   "execution_count": null,
   "id": "c2efd020",
   "metadata": {},
   "outputs": [],
   "source": [
    "!cat primitives.asdf"
   ]
  },
  {
   "cell_type": "markdown",
   "id": "8e191cc4",
   "metadata": {},
   "source": [
    "The Python ASDF library is a standalone package distributed through PyPi and conda-forge.\n",
    "\n",
    "To open a file use the `open` function. It accepts several keyword arguments; there are options specifying in what mode a file should be opened or whether it should be validated during opening. For this example we will use the default behavior and look at the object. By default asdf opens files in memory mapping mode but there's an option to read the entire file in memory when opening it."
   ]
  },
  {
   "cell_type": "code",
   "execution_count": null,
   "id": "78c8bb6f",
   "metadata": {},
   "outputs": [],
   "source": [
    "import asdf"
   ]
  },
  {
   "cell_type": "code",
   "execution_count": null,
   "id": "e3306d75",
   "metadata": {},
   "outputs": [],
   "source": [
    "af = asdf.open('primitives.asdf')"
   ]
  },
  {
   "cell_type": "code",
   "execution_count": null,
   "id": "53c5c39c",
   "metadata": {},
   "outputs": [],
   "source": [
    "af.tree"
   ]
  },
  {
   "cell_type": "markdown",
   "id": "68befd3d",
   "metadata": {},
   "source": [
    "#### Create an ASDF file\n",
    "\n",
    "The tree is a Python dictionary. The code to create the above file is"
   ]
  },
  {
   "cell_type": "code",
   "execution_count": null,
   "id": "49f3ebee",
   "metadata": {},
   "outputs": [],
   "source": [
    "tree = {\n",
    "    'number': 6.0,\n",
    "    'boolean': True,\n",
    "    'integer': 11,\n",
    "    'string': 'goodbye world',\n",
    "    'list': [1, 4, 9, 16],\n",
    "    'dictionary': {'x': [1, 3, 5], 'y': {'nests': True, 'top': False}}\n",
    "    }\n",
    "\n",
    "af = asdf.AsdfFile(tree)\n",
    "# af.write_to('primitives.asdf')"
   ]
  },
  {
   "cell_type": "markdown",
   "id": "33b03499",
   "metadata": {},
   "source": [
    "Before writing the file to disk, let's look at what other types can be serialized to ASDF without writing custom code. These include\n",
    "\n",
    "- numpy arrays\n",
    "- many astropy types\n",
    "  - models\n",
    "  - coordinate frames\n",
    "  - tables\n",
    "  - Time objects\n",
    "  - Units and Quantities\n",
    "- Generalized World Coordinate (gwcs) objects\n",
    "\n",
    "Adding new objects to the file is done by assigning to the `tree`. Note that assigning to the tree is equivalent to assigning to the AsdfFile object."
   ]
  },
  {
   "cell_type": "code",
   "execution_count": null,
   "id": "95ce53c9",
   "metadata": {},
   "outputs": [],
   "source": [
    "ar = np.random.randn(20)\n",
    "\n",
    "af.tree['array_1'] = ar\n",
    "af['array_2'] = ar\n",
    "af['array_3'] = ar+1\n",
    "\n",
    "# af.tree"
   ]
  },
  {
   "cell_type": "code",
   "execution_count": null,
   "id": "20d3ad3c",
   "metadata": {},
   "outputs": [],
   "source": [
    "gauss = models.Gaussian1D(amplitude=3.4, mean=2.3, stddev=1.6)\n",
    "p = models.Polynomial1D(1, c0=0.2, c1=.1)\n",
    "af['model'] = gauss + p\n",
    "\n",
    "af['time'] = Time.now().isot\n",
    "\n",
    "#af.tree"
   ]
  },
  {
   "cell_type": "markdown",
   "id": "1d693d43",
   "metadata": {},
   "source": [
    "#### Add one or more `History`  entries to the file"
   ]
  },
  {
   "cell_type": "code",
   "execution_count": null,
   "id": "c4393d46",
   "metadata": {},
   "outputs": [],
   "source": [
    "af.add_history_entry(\"This file was generated during AAS.\")"
   ]
  },
  {
   "cell_type": "code",
   "execution_count": null,
   "id": "9dc25268",
   "metadata": {},
   "outputs": [],
   "source": [
    "af.write_to('other_types.asdf')"
   ]
  },
  {
   "cell_type": "code",
   "execution_count": null,
   "id": "2115d8a8",
   "metadata": {},
   "outputs": [],
   "source": [
    "!cat other_types.asdf"
   ]
  },
  {
   "cell_type": "code",
   "execution_count": null,
   "id": "50274abc",
   "metadata": {},
   "outputs": [],
   "source": [
    "af1 = asdf.open('other_types.asdf')\n",
    "af1.tree"
   ]
  },
  {
   "cell_type": "markdown",
   "id": "7fac9dd5",
   "metadata": {},
   "source": [
    "#### Things to note\n",
    "\n",
    "- Arrays are not loaded to memory until accessed\n",
    "\n",
    "`'array_1': <array (unloaded) shape: [20] dtype: float64>`\n",
    "\n",
    "- Identical objects are not saved as copies but references \n",
    "\n",
    "```\n",
    "array_1: &id001 !core/ndarray-1.0.0\n",
    "  source: 0\n",
    "  datatype: float64\n",
    "  byteorder: little\n",
    "  shape: [20]\n",
    "array_2: *id001\n",
    "```\n",
    "\n",
    "- Tags\n",
    "\n",
    "The use of YAML tag syntax provides a mechanism to the asdf library to do something\n",
    "special with the content that follows. The library has machinery that links tags to code that knows how to turn the content into a Python object, as well as find an associated schema to validate that content in the ASDF file. Every custom type has an associated code that performs the conversion, called `Converter`. Reading a file recreates the serialized objects in memory. For example, the model we read in is ready to be evaluated."
   ]
  },
  {
   "cell_type": "code",
   "execution_count": null,
   "id": "cd029268",
   "metadata": {},
   "outputs": [],
   "source": [
    "print(af['model'](1.2))"
   ]
  },
  {
   "cell_type": "markdown",
   "id": "48ded1b8",
   "metadata": {},
   "source": [
    "Anyone can define their own tags and write their own converters for turning tags into Python objects."
   ]
  },
  {
   "cell_type": "code",
   "execution_count": null,
   "id": "5662446d",
   "metadata": {},
   "outputs": [],
   "source": [
    "# It's possible to save arrays \"inline\", i.e. as text and not as a binary block, by passing\n",
    "# a keyword argument to the \"write_to\" method. This is OK for small arrays and deteriorates \n",
    "# performance for large ones.\n",
    "\n",
    "# af.write_to('other_types_inline.asdf', all_array_storage='inline')\n",
    "\n",
    "# !cat other_types_inline.asdf"
   ]
  },
  {
   "cell_type": "markdown",
   "id": "fc324094",
   "metadata": {},
   "source": [
    "#### Getting information about an ASDF file\n",
    "\n",
    "There are two functions that allow file introspection, `info` and `search`. They are available as methods on the `AsdFile` object or on the command line. Both are configurable through multiple parameters."
   ]
  },
  {
   "cell_type": "code",
   "execution_count": null,
   "id": "96ee25e9",
   "metadata": {},
   "outputs": [],
   "source": [
    "af1.info()"
   ]
  },
  {
   "cell_type": "code",
   "execution_count": null,
   "id": "fbb17214",
   "metadata": {},
   "outputs": [],
   "source": [
    "af.search('array')"
   ]
  },
  {
   "cell_type": "markdown",
   "id": "aac041dd",
   "metadata": {},
   "source": [
    "### Other capabilities\n",
    "\n",
    "##### compression\n",
    "\n",
    "ASDF supports array compression using **zlib**, **bzp2**, **lz4**, and there's mechanism to add custom compression algorithms.\n",
    "\n",
    "To specify which compression algorithm to use, pass the code to the *set_array_compression* method."
   ]
  },
  {
   "cell_type": "code",
   "execution_count": null,
   "id": "54229260",
   "metadata": {},
   "outputs": [],
   "source": [
    "comp = asdf.AsdfFile()\n",
    "ar_zeros = np.zeros((4000, 4000))\n",
    "comp['compressed'] = ar_zeros\n",
    "comp.set_array_compression(ar_zeros, 'bzp2')\n",
    "comp.write_to('with_compression.asdf')"
   ]
  },
  {
   "cell_type": "code",
   "execution_count": null,
   "id": "e61b5a56",
   "metadata": {},
   "outputs": [],
   "source": [
    "!cat with_compression.asdf"
   ]
  },
  {
   "cell_type": "code",
   "execution_count": null,
   "id": "e16259c8",
   "metadata": {},
   "outputs": [],
   "source": [
    "c=asdf.open('with_compression.asdf')"
   ]
  },
  {
   "cell_type": "code",
   "execution_count": null,
   "id": "2b09e79c",
   "metadata": {},
   "outputs": [],
   "source": [
    "c.tree"
   ]
  },
  {
   "cell_type": "markdown",
   "id": "516079c5",
   "metadata": {},
   "source": [
    "\n",
    "##### command line tool\n",
    "\n",
    "There's a command line tool, `asdftool` which does many of the operations shown sofar outside the Python interpreter. Check the options using `asdftool --help`.\n",
    "\n"
   ]
  },
  {
   "cell_type": "markdown",
   "id": "81535312",
   "metadata": {},
   "source": [
    "##### validation using json schemas\n",
    "\n",
    "ASDF uses JSON schema to validate the contents of the files. If used this is a powerful way to make sure files are correct.\n",
    "\n",
    "##### exploded form\n",
    "\n",
    "ASDF supports the so called exploded form. ASDF files can be split into one for the YAML content and one for each of the binary blocks contained within the file, facilitating easier editor access to the YAML, and independent program access to the binary data."
   ]
  },
  {
   "cell_type": "markdown",
   "id": "760b4c05",
   "metadata": {},
   "source": [
    "#### Future work\n",
    "\n",
    "- Add support for chunking arrays using **zarr**\n",
    "\n",
    "- Add support for efficient access of large files in the cloud\n",
    "\n",
    "- Visualization suport\n",
    "\n",
    "- A C/C++ library, an IDL library?\n",
    "\n",
    "- Add more compression options\n"
   ]
  },
  {
   "cell_type": "markdown",
   "id": "b2f8aee7",
   "metadata": {},
   "source": [
    "#### Documentation\n",
    "\n",
    "- Original ASDF Paper: https://www.sciencedirect.com/science/article/pii/S2213133715000645\n",
    "- Standard Documentation: https://asdf-standard.readthedocs.io/en/latest/\n",
    "- Python package documentation: https://asdf.readthedocs.io/en/stable/\n",
    "- Tutorial at Scipy, 2022: https://github.com/spacetelescope/scipy2022tutorial"
   ]
  },
  {
   "cell_type": "markdown",
   "id": "8320f746",
   "metadata": {},
   "source": [
    "### Exercise\n",
    "\n",
    "Reading and accessing data\n",
    "\n",
    "- Open the file jwst.asdf in the 02_Working_With_ASDF_Files directory. \n",
    "- Look at the info method's help and display the file using some of the arguments to show more contents.\n",
    "- Search for a few attributes - wcs, data (wcs stands for World Coordinate System. In astronomy it represents the transform from pixel coordinates to sky coordinates or some physical system.)\n",
    "- Retrieve the wcs object following the path showed by the search method\n",
    "- Look at the wcs object and print `wcs.forward_transform`\n",
    "- Use matplotlib to display the data array\n",
    "- Look at the data array and modify the value of data[0, 0] to 999."
   ]
  },
  {
   "cell_type": "code",
   "execution_count": null,
   "id": "2d63bfbf",
   "metadata": {},
   "outputs": [],
   "source": []
  }
 ],
 "metadata": {
  "kernelspec": {
   "display_name": "Python 3 (ipykernel)",
   "language": "python",
   "name": "python3"
  },
  "language_info": {
   "codemirror_mode": {
    "name": "ipython",
    "version": 3
   },
   "file_extension": ".py",
   "mimetype": "text/x-python",
   "name": "python",
   "nbconvert_exporter": "python",
   "pygments_lexer": "ipython3",
   "version": "3.11.3"
  }
 },
 "nbformat": 4,
 "nbformat_minor": 5
}
