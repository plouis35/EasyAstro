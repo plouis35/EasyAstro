{
 "cells": [
  {
   "cell_type": "markdown",
   "id": "2788bbd4-a91a-41c3-a4e2-b48ae0ff914e",
   "metadata": {},
   "source": [
    "# tools for pre-processing images"
   ]
  },
  {
   "cell_type": "code",
   "execution_count": null,
   "id": "e59b004a",
   "metadata": {
    "scrolled": true
   },
   "outputs": [],
   "source": [
    "%load_ext autoreload\n",
    "%autoreload 2\n",
    "%matplotlib widget"
   ]
  },
  {
   "cell_type": "code",
   "execution_count": null,
   "id": "f53b903b-1dec-4efb-9d32-21366f10e12f",
   "metadata": {},
   "outputs": [],
   "source": [
    "__author__ = 'Pascal Louis <plouis35@gmail.com>'\n",
    "__version__ = '0.1 alpha'\n",
    "__keywords__ = ['astronomy', 'astropy', 'astroalign', 'ccdproc', 'matplotlib']\n"
   ]
  },
  {
   "cell_type": "code",
   "execution_count": null,
   "id": "5dae82e3-a88c-49ee-bf18-f36fb184fc3a",
   "metadata": {},
   "outputs": [],
   "source": [
    "import numpy as np\n",
    "import matplotlib.pyplot as plt\n",
    "\n",
    "%config InlineBackend.rc = {}\n",
    "plt.style.use(['dark_background'])\n",
    "plt.rcParams.update({'figure.max_open_warning': 0})      \n",
    "\n",
    "def show_image(img):\n",
    "    #img = lights_c[1]\n",
    "    #p2, p98 = np.percentile(img, (2, 98))\n",
    "    #l_rescale = sk.exposure.rescale_intensity(img, in_range=(p2, p98))\n",
    "    #plt.imshow(l_rescale / np.max(l_rescale), cmap=\"gray\")\n",
    "    colormap = plt.cm.inferno\n",
    "    cuts = (5, 98.0)\n",
    "    fig, ax = plt.subplots(1, 1, figsize=(8, 5))\n",
    "    plt.tight_layout()\n",
    "    im = ax.imshow(img, origin='lower', aspect='auto', cmap=colormap)\n",
    "    cb = plt.colorbar(im)\n",
    "    im.set_clim(np.percentile(img, cuts))\n",
    "    plt.show()\n"
   ]
  },
  {
   "cell_type": "code",
   "execution_count": null,
   "id": "200f202b-5cc7-4c62-87b5-e900e456440a",
   "metadata": {},
   "outputs": [],
   "source": [
    "from logger_utils import logger, handler\n",
    "handler.show_logs()\n",
    "logger.setLevel('INFO')\n",
    "handler.clear_logs()\n"
   ]
  },
  {
   "cell_type": "code",
   "execution_count": null,
   "id": "e6b84cce",
   "metadata": {},
   "outputs": [],
   "source": [
    "CAPTURE_DIR='../../../CAPTURES/NY_Vir/'\n",
    "BIAS_FILES = \"offset-15c-Bin2-*.fits\"\n",
    "DARK_FILES = \"darkBin2X-35C-30s-*.fits\"\n",
    "FLAT_FILES = \"Flat_v-*.fits\"\n",
    "CALIB_FILES = \"\"\n",
    "SCIENCE_FILES = \"NY VIR2*.fits\"\n",
    "TRIM_REGION = None\n",
    "EXPOSURE_KEY = 'EXPOSURE'"
   ]
  },
  {
   "cell_type": "code",
   "execution_count": null,
   "id": "aee5caab-a779-4a9f-9e0e-7b311411ed62",
   "metadata": {},
   "outputs": [],
   "source": [
    "CAPTURE_DIR='../../../CAPTURES/2023_RENNES_L3_TP/images_spectro/images_tp_spectro/'\n",
    "BIAS_FILES = \"offset-*.fit\"\n",
    "DARK_FILES = \"noir-600-*.fit\"\n",
    "FLAT_FILES = \"flat-*.fit\"\n",
    "CALIB_FILES = \"neon-*.fit\"\n",
    "SCIENCE_FILES = \"agdra-*.fit\"\n",
    "TRIM_REGION = '600, 600, 2700, 1400'              # x1, y1, x2, y2 \n",
    "#TRIM_REGION = None\n",
    "EXPOSURE_KEY = 'EXPTIME'"
   ]
  },
  {
   "cell_type": "code",
   "execution_count": null,
   "id": "412f69bd-3530-47ce-b673-110f8bd180fe",
   "metadata": {},
   "outputs": [],
   "source": [
    "CAPTURE_DIR='../../../CAPTURES/20231008_Void/'\n",
    "BIAS_FILES = \"Bias-0s-*.fit\"\n",
    "DARK_FILES = \"Dark-300s-*.fit\"\n",
    "FLAT_FILES = \"flat-*.fit\"\n",
    "CALIB_FILES = \"neon-15s-*.fit\"\n",
    "SCIENCE_FILES = \"deneb-200s-*.fit\"\n",
    "TRIM_REGION = None   \n",
    "EXPOSURE_KEY = 'EXPTIME'"
   ]
  },
  {
   "cell_type": "code",
   "execution_count": null,
   "id": "6505b75d-b56d-4c14-bb58-18c2f008909a",
   "metadata": {},
   "outputs": [],
   "source": [
    "CAPTURE_DIR='../../../CAPTURES/20231007_Void/'\n",
    "BIAS_FILES = \"Bias-*.fit\"\n",
    "DARK_FILES = \"Dark-300s-*.fit\"\n",
    "FLAT_FILES = \"flat-*.fit\"\n",
    "CALIB_FILES = \"neon-10s-*.fit\"\n",
    "SCIENCE_FILES = \"10lac-300s-*.fit\"\n",
    "TRIM_REGION = None\n",
    "TRIM_REGION = '0, 600, 1600, 700'  \n",
    "EXPOSURE_KEY = 'EXPTIME'"
   ]
  },
  {
   "cell_type": "code",
   "execution_count": null,
   "id": "038c5d3b-8185-43f7-b231-0c577782b33b",
   "metadata": {},
   "outputs": [],
   "source": [
    "CAPTURE_DIR='../../../CAPTURES/HAT-P-32b/'\n",
    "BIAS_FILES = \"d*BIASR*.fit\"\n",
    "DARK_FILES = None\n",
    "FLAT_FILES = \"d*FLATR*.fit\"\n",
    "CALIB_FILES = None\n",
    "SCIENCE_FILES = \"d*UW32R10*.fit\"\n",
    "TRIM_REGION = None\n",
    "EXPOSURE_KEY = 'EXPOSURE'"
   ]
  },
  {
   "cell_type": "code",
   "execution_count": null,
   "id": "16ffd74d",
   "metadata": {},
   "outputs": [],
   "source": [
    "import fnmatch, os\n",
    "from astropy import units as u\n",
    "from astropy.nddata import CCDData\n",
    "from ccdproc import ImageFileCollection\n",
    "from combiner import Images\n",
    "\n",
    "### collect and sort (according to fit header 'date') file names using a wildcard filter\n",
    "def find_files(directory: str, files_filter: str, sort_key: str = 'date'):\n",
    "    ic = ImageFileCollection(directory, glob_include=files_filter)\n",
    "    ic.sort([sort_key])\n",
    "    return (ic.files_filtered(include_path=True))\n",
    "\n",
    "### create master bias\n",
    "if (BIAS_FILES is not None) and not (os.path.exists(CAPTURE_DIR + 'masterbias.fit')):\n",
    "    master_bias = Images.from_fit(find_files(CAPTURE_DIR, BIAS_FILES)) \\\n",
    "                            .trim(TRIM_REGION) \\\n",
    "                            .median() \n",
    "    master_bias.write(CAPTURE_DIR + 'masterbias.fit', overwrite=True) \n",
    "\n",
    "### create master dark\n",
    "if (DARK_FILES is not None) and not (os.path.exists(CAPTURE_DIR + 'masterdark.fit')):\n",
    "    master_dark = Images.from_fit(find_files(CAPTURE_DIR, DARK_FILES)) \\\n",
    "                                .trim(TRIM_REGION) \\\n",
    "                                .bias_substract(master_bias) \\\n",
    "                                .median()\n",
    "    master_dark.write(CAPTURE_DIR + 'masterdark.fit', overwrite=True) \n",
    "\n",
    "### create master flat\n",
    "if (FLAT_FILES is not None) and not (os.path.exists(CAPTURE_DIR + 'masterflat.fit')):\n",
    "    master_flat = Images.from_fit(find_files(CAPTURE_DIR, FLAT_FILES)) \\\n",
    "                                .trim(TRIM_REGION) \\\n",
    "                                .bias_substract(master_bias) \\\n",
    "                                .median()\n",
    "    master_flat.write(CAPTURE_DIR + 'masterflat.fit', overwrite=True) \n",
    "\n",
    "### reduce and align science frames\n",
    "master_sciences = Images.from_fit(find_files(CAPTURE_DIR, SCIENCE_FILES)) \\\n",
    "                            .trim(TRIM_REGION) \\\n",
    "                            .bias_substract(master_bias) \\\n",
    "                            .dark_substract(master_dark, scale_exposure = True, exposure = EXPOSURE_KEY) \\\n",
    "                            .flat_divide(master_flat) \\\n",
    "                            .spec_align(ref_image_index = 0) \n",
    "#                            .star_align(ref_image_index = 0)\n",
    "for i, frame in zip(range(0, len(master_sciences)), master_sciences):\n",
    "    frame.write(f'{CAPTURE_DIR}science_reduced_{i}.fit', overwrite=True)\n",
    "\n",
    "### combine science frames\n",
    "master_science = master_sciences.sum() \n",
    "#master_science = master_sciences.median()\n",
    "master_science.write(CAPTURE_DIR + 'masterscience.fit', overwrite=True) \n"
   ]
  },
  {
   "cell_type": "code",
   "execution_count": null,
   "id": "80012856-86a0-4258-ad1a-d67777a20763",
   "metadata": {},
   "outputs": [],
   "source": [
    "plt.close('all')\n",
    "#master_bias = CCDData.read(CAPTURE_DIR + 'masterbias.fit')\n",
    "\n",
    "#show_image(master_bias)\n",
    "#show_image(master_dark)\n",
    "#show_image(master_flat)\n",
    "#show_image(master_sciences[5])\n",
    "#show_image(master_sciences[6])\n",
    "\n",
    "show_image(master_science)"
   ]
  },
  {
   "cell_type": "code",
   "execution_count": null,
   "id": "1f97a9c4-c1d9-4195-ad24-7c97ccb5522c",
   "metadata": {},
   "outputs": [],
   "source": [
    "CAPTURE_DIR='../../../CAPTURES/NY_Vir/'\n",
    "BIAS_FILES = \"offset-15c-Bin2-*.fits\"\n",
    "DARK_FILES = \"darkBin2X-35C-30s-*.fits\"\n",
    "FLAT_FILES = \"Flat_v-*.fits\"\n",
    "CALIB_FILES = \"\"\n",
    "SCIENCE_FILES = \"NY VIR2*.fits\"\n",
    "TRIM_REGION = None\n",
    "EXPOSURE_KEY = 'EXPOSURE'"
   ]
  },
  {
   "cell_type": "code",
   "execution_count": null,
   "id": "49ba448d-c9ee-408b-88c1-d770662436df",
   "metadata": {},
   "outputs": [],
   "source": [
    "import warnings\n",
    "import numpy as np\n",
    "from astropy.nddata import CCDData\n",
    "from astropy.utils.exceptions import AstropyWarning\n",
    "from ccdproc import ImageFileCollection, Combiner, combine\n",
    "warnings.simplefilter('ignore', category=AstropyWarning)\n",
    "warnings.simplefilter('ignore', UserWarning)\n"
   ]
  },
  {
   "cell_type": "code",
   "execution_count": null,
   "id": "da9be98a-df74-4a2c-bf9b-c750ca212b68",
   "metadata": {},
   "outputs": [],
   "source": [
    "ic = ImageFileCollection(CAPTURE_DIR, glob_include=SCIENCE_FILES)\n",
    "ic.sort(['date'])\n",
    "ic.files_filtered(include_path=True)\n",
    "#ic.summary.colnames\n",
    "#ic.sort(['date'])\n",
    "#print(ic)\n"
   ]
  },
  {
   "cell_type": "code",
   "execution_count": null,
   "id": "1e0f0198-fef0-4ff5-9564-953ba0129504",
   "metadata": {},
   "outputs": [],
   "source": [
    "#ic = ImageFileCollection(CAPTURE_DIR, glob_include=BIAS_FILES)\n",
    "#print(ic.files_filtered(include_path=True))\n",
    "master_bias = combine(img_list = ic.files_filtered(include_path=True),\n",
    "                    method = 'median',  \n",
    "                    dtype = np.float32, \n",
    "                    unit = 'u.adu', \n",
    "                    output_file = CAPTURE_DIR + 'masterbias_3.fit',\n",
    "                    overwrite_output = True,\n",
    "                    mem_limit=1e9)\n"
   ]
  },
  {
   "cell_type": "code",
   "execution_count": null,
   "id": "8ad86bc2-e081-49c6-9c2e-d49c5f14e511",
   "metadata": {},
   "outputs": [],
   "source": [
    "master_bias.dtype\n",
    "master_bias.write(CAPTURE_DIR + 'masterbias_2.fit', overwrite=True) "
   ]
  },
  {
   "cell_type": "code",
   "execution_count": null,
   "id": "1d3a50cb-77f0-4c1a-8ab2-4ffdeb55da43",
   "metadata": {},
   "outputs": [],
   "source": [
    "for hdu in ic.hdus(save_with_name='_new'):\n",
    "   hdu.header['meansub'] = True\n",
    "   hdu.data = hdu.data - hdu.data.mean()"
   ]
  },
  {
   "cell_type": "code",
   "execution_count": null,
   "id": "1fb3f346-5c6d-478d-a621-4196c534d854",
   "metadata": {},
   "outputs": [],
   "source": [
    "hdu.header"
   ]
  },
  {
   "cell_type": "code",
   "execution_count": null,
   "id": "fadf34ba-6540-40b0-a146-2e43f021dd02",
   "metadata": {},
   "outputs": [],
   "source": []
  }
 ],
 "metadata": {
  "kernelspec": {
   "display_name": "Python 3 (ipykernel)",
   "language": "python",
   "name": "python3"
  },
  "language_info": {
   "codemirror_mode": {
    "name": "ipython",
    "version": 3
   },
   "file_extension": ".py",
   "mimetype": "text/x-python",
   "name": "python",
   "nbconvert_exporter": "python",
   "pygments_lexer": "ipython3",
   "version": "3.10.14"
  }
 },
 "nbformat": 4,
 "nbformat_minor": 5
}
