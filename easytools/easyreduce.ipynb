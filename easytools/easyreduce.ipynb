{
 "cells": [
  {
   "cell_type": "markdown",
   "id": "2788bbd4-a91a-41c3-a4e2-b48ae0ff914e",
   "metadata": {},
   "source": [
    "# tools for pre-processing images"
   ]
  },
  {
   "cell_type": "code",
   "execution_count": null,
   "id": "e59b004a",
   "metadata": {
    "scrolled": true
   },
   "outputs": [],
   "source": [
    "%load_ext autoreload\n",
    "%autoreload 2\n",
    "%matplotlib widget"
   ]
  },
  {
   "cell_type": "code",
   "execution_count": null,
   "id": "f53b903b-1dec-4efb-9d32-21366f10e12f",
   "metadata": {},
   "outputs": [],
   "source": [
    "__author__ = 'Pascal Louis <plouis35@gmail.com>'\n",
    "__version__ = '0.1 alpha'\n",
    "__keywords__ = ['astronomy', 'astropy', 'astroalign', 'ccdproc', 'matplotlib']\n"
   ]
  },
  {
   "cell_type": "markdown",
   "id": "f68dc2ae-292e-41e3-a5be-9caacc1ea4af",
   "metadata": {},
   "source": [
    "## configure display"
   ]
  },
  {
   "cell_type": "code",
   "execution_count": null,
   "id": "5dae82e3-a88c-49ee-bf18-f36fb184fc3a",
   "metadata": {},
   "outputs": [],
   "source": [
    "### allow full width of browser\n",
    "from IPython.display import display, HTML\n",
    "display(HTML(\"<style>:root { --jp-notebook-max-width: 100% !important; }</style>\"))\n",
    "\n",
    "### matplotlib settings\n",
    "import matplotlib.pyplot as plt\n",
    "\n",
    "%config InlineBackend.rc = {}\n",
    "plt.style.use(['dark_background'])\n",
    "plt.rcParams.update({'figure.max_open_warning': 0})      \n"
   ]
  },
  {
   "cell_type": "markdown",
   "id": "730e784e-db4e-40be-9422-0f898614a5cb",
   "metadata": {},
   "source": [
    "## import libraries"
   ]
  },
  {
   "cell_type": "code",
   "execution_count": null,
   "id": "16ffd74d",
   "metadata": {},
   "outputs": [],
   "source": [
    "import fnmatch, os\n",
    "from astropy import units as u\n",
    "from astropy.nddata import CCDData\n",
    "from ccdproc import ImageFileCollection, cosmicray_median, cosmicray_lacosmic, gain_correct\n",
    "from easycombiner import Images\n",
    "\n",
    "### collect and sort (according to fit header 'date') file names using a wildcard filter\n",
    "def find_files(directory: str, files_filter: str, sort_key: str = 'date-obs'):\n",
    "    ic = ImageFileCollection(directory, glob_include=files_filter)\n",
    "    ic.sort([sort_key])\n",
    "    return (ic.files_filtered(include_path=True))\n",
    "\n",
    "### simple image display\n",
    "def show_image(img):\n",
    "    #img = lights_c[1]\n",
    "    #p2, p98 = np.percentile(img, (2, 98))\n",
    "    #l_rescale = sk.exposure.rescale_intensity(img, in_range=(p2, p98))\n",
    "    #plt.imshow(l_rescale / np.max(l_rescale), cmap=\"gray\")\n",
    "    colormap = plt.cm.inferno\n",
    "    cuts = (5, 99.5)\n",
    "    fig, ax = plt.subplots(1, 1, figsize=(8, 5))\n",
    "    plt.tight_layout()\n",
    "    im = ax.imshow(img, origin='lower', aspect='auto', cmap=colormap)\n",
    "    cb = plt.colorbar(im)\n",
    "    im.set_clim(np.percentile(img, cuts))\n",
    "    plt.show()\n",
    "\n"
   ]
  },
  {
   "cell_type": "markdown",
   "id": "7cf7f3bf-45e6-4e3e-94b5-c94f53226586",
   "metadata": {},
   "source": [
    "## define targets"
   ]
  },
  {
   "cell_type": "code",
   "execution_count": null,
   "id": "e6b84cce",
   "metadata": {},
   "outputs": [],
   "source": [
    "CAPTURE_DIR='../../../CAPTURES/NY_Vir/'\n",
    "BIAS_FILES = \"offset-15c-Bin2-*.fits\"\n",
    "DARK_FILES = \"darkBin2X-35C-30s-*.fits\"\n",
    "FLAT_FILES = \"Flat_v-*.fits\"\n",
    "CALIB_FILES = None\n",
    "SCIENCE_FILES = \"NY VIR2*.fits\"\n",
    "TRIM_REGION = None\n",
    "EXPOSURE_KEY = 'EXPOSURE'"
   ]
  },
  {
   "cell_type": "code",
   "execution_count": null,
   "id": "aee5caab-a779-4a9f-9e0e-7b311411ed62",
   "metadata": {},
   "outputs": [],
   "source": [
    "CAPTURE_DIR='../../../CAPTURES/2023_RENNES_L3_TP/images_spectro/images_tp_spectro/'\n",
    "BIAS_FILES = \"offset-*.fit\"\n",
    "DARK_FILES = \"noir-600-*.fit\"\n",
    "FLAT_FILES = \"flat-*.fit\"\n",
    "CALIB_FILES = \"neon-*.fit\"\n",
    "SCIENCE_FILES = \"agdra-*.fit\"\n",
    "TRIM_REGION = '600, 600, 2700, 1400'              # x1, y1, x2, y2 \n",
    "#TRIM_REGION = None\n",
    "EXPOSURE_KEY = 'EXPTIME'"
   ]
  },
  {
   "cell_type": "code",
   "execution_count": null,
   "id": "412f69bd-3530-47ce-b673-110f8bd180fe",
   "metadata": {},
   "outputs": [],
   "source": [
    "CAPTURE_DIR='../../../CAPTURES/20231008_Void/'\n",
    "BIAS_FILES = \"Bias-0s-*.fit\"\n",
    "DARK_FILES = \"Dark-300s-*.fit\"\n",
    "FLAT_FILES = \"flat-*.fit\"\n",
    "CALIB_FILES = \"neon-15s-*.fit\"\n",
    "SCIENCE_FILES = \"deneb-200s-*.fit\"\n",
    "TRIM_REGION = None   \n",
    "EXPOSURE_KEY = 'EXPTIME'"
   ]
  },
  {
   "cell_type": "code",
   "execution_count": null,
   "id": "6505b75d-b56d-4c14-bb58-18c2f008909a",
   "metadata": {},
   "outputs": [],
   "source": [
    "CAPTURE_DIR='../../../CAPTURES/20231007_Void/'\n",
    "BIAS_FILES = \"Bias-*.fit\"\n",
    "DARK_FILES = \"Dark-300s-*.fit\"\n",
    "FLAT_FILES = \"flat-*.fit\"\n",
    "CALIB_FILES = \"neon-10s-*.fit\"\n",
    "SCIENCE_FILES = \"10lac-300s-*.fit\"\n",
    "TRIM_REGION = None\n",
    "#TRIM_REGION = '0, 600, 1600, 700'  \n",
    "EXPOSURE_KEY = 'EXPTIME'"
   ]
  },
  {
   "cell_type": "code",
   "execution_count": null,
   "id": "038c5d3b-8185-43f7-b231-0c577782b33b",
   "metadata": {},
   "outputs": [],
   "source": [
    "CAPTURE_DIR='../../../CAPTURES/HAT-P-32b/'\n",
    "BIAS_FILES = \"d*BIASR*.fit\"\n",
    "DARK_FILES = None\n",
    "FLAT_FILES = \"d*FLATR*.fit\"\n",
    "CALIB_FILES = None\n",
    "SCIENCE_FILES = \"d*UW32R10*.fit\"\n",
    "TRIM_REGION = None\n",
    "EXPOSURE_KEY = 'EXPOSURE'"
   ]
  },
  {
   "cell_type": "code",
   "execution_count": null,
   "id": "e96727af-957e-4d57-9b53-f826383fff66",
   "metadata": {},
   "outputs": [],
   "source": [
    "CAPTURE_DIR='../../../CAPTURES/20180818_spectro/'\n",
    "BIAS_FILES = \"offset-0*.fit\"\n",
    "DARK_FILES = \"dark-300s-*.fit\"\n",
    "FLAT_FILES = \"flat-0*.fit\"\n",
    "CALIB_FILES = \"neon-00*.fit\"\n",
    "SCIENCE_FILES = \"rrLyr-0*.fit\"\n",
    "TRIM_REGION = None\n",
    "EXPOSURE_KEY = 'EXPTIME'"
   ]
  },
  {
   "cell_type": "markdown",
   "id": "e0db7b6c-10ce-41ef-a516-e3556479dc8a",
   "metadata": {},
   "source": [
    "## define gain & readout noise"
   ]
  },
  {
   "cell_type": "code",
   "execution_count": null,
   "id": "6bc4d80a-e2d6-4729-9cb6-f79b96862af9",
   "metadata": {},
   "outputs": [],
   "source": [
    "### define gain @ readout noise for the camera (atik 420m)\n",
    "camera_electronic_gain = 1.2 * u.electron/u.adu      # asi 183mm\n",
    "camera_readout_noise = 2.2 * u.electron        # asi 183mm\n",
    "\n",
    "#camera_electronic_gain = 0.13 * u.electron/u.adu   # atik 420m \n",
    "#camera_readout_noise = 3.0 * u.electron     # atik 420m\n"
   ]
  },
  {
   "cell_type": "markdown",
   "id": "84588c75-1fce-473f-85c4-16eed0984acf",
   "metadata": {},
   "source": [
    "## define logger"
   ]
  },
  {
   "cell_type": "code",
   "execution_count": null,
   "id": "200f202b-5cc7-4c62-87b5-e900e456440a",
   "metadata": {},
   "outputs": [],
   "source": [
    "\"\"\"\n",
    "### use easy logger\n",
    "from logger_utils import logger, handler\n",
    "handler.show_logs()\n",
    "logger.setLevel('INFO')\n",
    "handler.clear_logs()\n",
    "logger.debug('logger created')\n",
    "\n",
    "\"\"\"\n",
    "### use standard logger\n",
    "import sys\n",
    "import logging\n",
    "\n",
    "logging.basicConfig(\n",
    "    format='%(asctime)s [%(levelname)s] - %(message)s',\n",
    "    level=logging.INFO,\n",
    "    datefmt='%Y-%m-%d %H:%M:%S',\n",
    "    stream=sys.stdout,\n",
    ")\n",
    "logger = logging.getLogger('notebook')\n"
   ]
  },
  {
   "cell_type": "markdown",
   "id": "f2398a11-e5d7-43d8-9cb5-79922b7181a9",
   "metadata": {},
   "source": [
    "## create masterbias"
   ]
  },
  {
   "cell_type": "code",
   "execution_count": null,
   "id": "0fffb687-dc30-40d8-889e-6ba6aade348c",
   "metadata": {},
   "outputs": [],
   "source": [
    "### create master bias\n",
    "\n",
    "if (BIAS_FILES is not None): # and not (os.path.exists(CAPTURE_DIR + 'masterbias.fit')):\n",
    "    master_bias = Images.from_fit(find_files(CAPTURE_DIR, BIAS_FILES)) \\\n",
    "                            .trim(TRIM_REGION) \\\n",
    "                            .median() \n",
    "    master_bias.write(CAPTURE_DIR + 'masterbias.fit', overwrite=True) \n",
    "    logger.info(f'min={master_bias.min()}, max={master_bias.max()}, avg={master_bias.mean()}')\n"
   ]
  },
  {
   "cell_type": "markdown",
   "id": "ae9f7420-af1e-4cb3-be1a-7c37c95e1e1f",
   "metadata": {},
   "source": [
    "## create masterdark"
   ]
  },
  {
   "cell_type": "code",
   "execution_count": null,
   "id": "e4e38947-8d85-4c44-867f-4790e0f5a0cc",
   "metadata": {},
   "outputs": [],
   "source": [
    "### create master dark\n",
    "if (DARK_FILES is not None): # and not (os.path.exists(CAPTURE_DIR + 'masterdark.fit')):\n",
    "    master_dark = Images.from_fit(find_files(CAPTURE_DIR, DARK_FILES)) \\\n",
    "                                .trim(TRIM_REGION) \\\n",
    "                                .bias_substract(master_bias) \\\n",
    "                                .median()\n",
    "#                                .offset(1000 * u.adu) \\\n",
    "    master_dark.write(CAPTURE_DIR + 'masterdark.fit', overwrite=True) \n",
    "    logger.info(f'min={master_dark.min()}, max={master_dark.max()}, avg={master_dark.mean()}')\n"
   ]
  },
  {
   "cell_type": "markdown",
   "id": "fbdd9ae3-1324-4b15-afd8-366e7df4f51f",
   "metadata": {},
   "source": [
    "## create masterflat"
   ]
  },
  {
   "cell_type": "code",
   "execution_count": null,
   "id": "4a756aa1-b279-47f2-8001-0e1e71b88ac3",
   "metadata": {},
   "outputs": [],
   "source": [
    "### create master flat\n",
    "if (FLAT_FILES is not None): # and not (os.path.exists(CAPTURE_DIR + 'masterflat.fit')):\n",
    "    master_flat = Images.from_fit(find_files(CAPTURE_DIR, FLAT_FILES)) \\\n",
    "                                .trim(TRIM_REGION) \\\n",
    "                                .bias_substract(master_bias) \\\n",
    "                                .median()\n",
    "#                                .offset(1000 * u.adu) \\\n",
    "    master_flat.write(CAPTURE_DIR + 'masterflat.fit', overwrite=True) \n",
    "    logger.info(f'min={master_flat.min()}, max={master_flat.max()}, avg={master_flat.mean()}')\n",
    "\n"
   ]
  },
  {
   "cell_type": "markdown",
   "id": "76e50783-65fc-4727-b991-28eeddceeb33",
   "metadata": {},
   "source": [
    "## create mastercalib"
   ]
  },
  {
   "cell_type": "code",
   "execution_count": null,
   "id": "3e53f1b7-5a1a-41b2-a583-e22e771662a9",
   "metadata": {},
   "outputs": [],
   "source": [
    "### create master calib\n",
    "if (CALIB_FILES is not None): # and not (os.path.exists(CAPTURE_DIR + 'mastercalib.fit')):\n",
    "    master_calib = Images.from_fit(find_files(CAPTURE_DIR, CALIB_FILES)) \\\n",
    "                                .trim(TRIM_REGION) \\\n",
    "                                .bias_substract(master_bias) \\\n",
    "                                .median()\n",
    "#                                .offset(1000 * u.adu) \\\n",
    "    master_calib.write(CAPTURE_DIR + 'mastercalib.fit', overwrite=True) \n",
    "    logger.info(f'min={master_calib.min()}, max={master_calib.max()}, avg={master_calib.mean()}')\n"
   ]
  },
  {
   "cell_type": "markdown",
   "id": "80014efa-3dbc-4a8f-bc9f-be49c9a37d8e",
   "metadata": {},
   "source": [
    "## reduce science frames"
   ]
  },
  {
   "cell_type": "code",
   "execution_count": null,
   "id": "144f641e-9631-4f68-9de8-8b5361d61209",
   "metadata": {},
   "outputs": [],
   "source": [
    "### reduce and align science frames\n",
    "master_sciences = Images.from_fit(find_files(CAPTURE_DIR, SCIENCE_FILES)) \\\n",
    "                            .trim(TRIM_REGION) \\\n",
    "                            .bias_substract(master_bias) \\\n",
    "                            .dark_substract(master_dark, scale_exposure = True, exposure = EXPOSURE_KEY) \\\n",
    "                            .flat_divide(master_flat) \\\n",
    "                            .offset(5000 * u.adu) \\\n",
    "                            .star_align(ref_image_index = 0)\n",
    "#                            .spec_align(ref_image_index = 0) \n",
    "\n",
    "for i, frame in zip(range(0, len(master_sciences)), master_sciences):\n",
    "    frame.write(f'{CAPTURE_DIR}science_reduced_{i}.fit', overwrite=True)\n",
    "    logger.info(f'frame {i}: min={frame.min()}, max={frame.max()}, avg={frame.mean()}')\n",
    "\n",
    "\n",
    "### combine science frames\n",
    "master_science = master_sciences.sum() \n",
    "#master_science = master_sciences.median()\n",
    "master_science.write(CAPTURE_DIR + 'masterscience.fit', overwrite=True) \n",
    "logger.info(f'master_science: min={master_science.min()}, max={master_science.max()}, avg={master_science.mean()}')\n"
   ]
  },
  {
   "cell_type": "markdown",
   "id": "f9923238-7dc2-425e-ab15-674344eb1ffd",
   "metadata": {},
   "source": [
    "## remove cosmics"
   ]
  },
  {
   "cell_type": "code",
   "execution_count": null,
   "id": "99213bc2-06d7-40da-8bf0-51e926cde1db",
   "metadata": {},
   "outputs": [],
   "source": [
    "from astropy.convolution import convolve, Gaussian2DKernel, Tophat2DKernel\n",
    "from astropy.modeling.models import Gaussian2D\n",
    "from astropy.convolution import Box2DKernel\n",
    "\n",
    "### reduce and align science frames\n",
    "camera_electronic_gain = 0.13 * u.electron/u.adu   # atik 420m \n",
    "camera_readout_noise = 3.0 * u.electron     # atik 420m\n",
    "logger.info(f'master_science: min={master_science.min()}, max={master_science.max()}, avg={master_science.mean()}')\n",
    "\n",
    "gain_corrected = gain_correct(master_science, camera_electronic_gain)\n",
    "logger.info(f'gain_corrected: min={gain_corrected.min()}, max={gain_corrected.max()}, avg={gain_corrected.mean()}')\n",
    "\n",
    "master_science_clean = cosmicray_lacosmic(gain_corrected,\n",
    "                                          satlevel = 1e7,\n",
    "                                          #niter = 1,\n",
    "                                          gain_apply = True,\n",
    "                                          sigclip = 5,\n",
    "                                          #cleantype = 'median',\n",
    "                                          #fsmode = 'median',\n",
    "                                          verbose = True\n",
    "                                         )\n",
    "\"\"\"\n",
    "master_science_clean = cosmicray_median(gain_corrected,\n",
    "                                        thresh = 13,\n",
    "                                        mbox = 3,\n",
    "                                        rbox = 3, \n",
    "                                        gbox = 0)\n",
    "\"\"\"\n",
    "#tophat_kernel = Box2DKernel(5)\n",
    "#master_science_clean = convolve(gain_corrected, tophat_kernel)\n",
    "\n",
    "#master_science_clean = CCDData(CCDData.add(master_science_clean, 1000 * u.electron))\n",
    "                                \n",
    "#print(master_science_clean.unit)\n",
    "logger.info(f'master_science_clean: min={master_science_clean.min()}, max={master_science_clean.max()}, avg={master_science_clean.mean()}')\n",
    "\n",
    "#master_science_clean.write(CAPTURE_DIR + 'masterscience_clean.fit', overwrite=True) \n"
   ]
  },
  {
   "cell_type": "code",
   "execution_count": null,
   "id": "1492db90-fc31-44f4-ab03-69de8d336844",
   "metadata": {},
   "outputs": [],
   "source": [
    "import numpy as np\n",
    "logger.info(f'master_science avg uncertainty : {master_science.uncertainty.array.mean()}')\n",
    "logger.info(f'master_science clean avg uncertainty : {master_science_clean.uncertainty.array.mean()}')\n"
   ]
  },
  {
   "cell_type": "markdown",
   "id": "5696dfc5-56c1-4562-84ea-acdc3bc3e574",
   "metadata": {},
   "source": [
    "## show data"
   ]
  },
  {
   "cell_type": "code",
   "execution_count": null,
   "id": "80012856-86a0-4258-ad1a-d67777a20763",
   "metadata": {},
   "outputs": [],
   "source": [
    "plt.close('all')\n",
    "#master_bias = CCDData.read(CAPTURE_DIR + 'masterbias.fit')\n",
    "\n",
    "#show_image(master_bias)\n",
    "#show_image(master_dark)\n",
    "#show_image(master_flat)\n",
    "#show_image(master_calib)\n",
    "#show_image(master_sciences[0])\n",
    "#show_image(master_sciences[6])\n",
    "\n",
    "show_image(master_science)\n",
    "show_image(master_science_clean)\n",
    "\n"
   ]
  },
  {
   "cell_type": "code",
   "execution_count": null,
   "id": "fadf34ba-6540-40b0-a146-2e43f021dd02",
   "metadata": {},
   "outputs": [],
   "source": []
  },
  {
   "cell_type": "code",
   "execution_count": null,
   "id": "d5e0450b-4143-487c-9682-55d9dba95f5b",
   "metadata": {},
   "outputs": [],
   "source": []
  },
  {
   "cell_type": "code",
   "execution_count": null,
   "id": "652bc865-5fbb-4683-bc9e-6196c20af57f",
   "metadata": {},
   "outputs": [],
   "source": []
  },
  {
   "cell_type": "code",
   "execution_count": null,
   "id": "756f42a9-9f10-4839-a3ac-07956afd84e1",
   "metadata": {},
   "outputs": [],
   "source": []
  }
 ],
 "metadata": {
  "kernelspec": {
   "display_name": "Python 3 (ipykernel)",
   "language": "python",
   "name": "python3"
  },
  "language_info": {
   "codemirror_mode": {
    "name": "ipython",
    "version": 3
   },
   "file_extension": ".py",
   "mimetype": "text/x-python",
   "name": "python",
   "nbconvert_exporter": "python",
   "pygments_lexer": "ipython3",
   "version": "3.11.0"
  }
 },
 "nbformat": 4,
 "nbformat_minor": 5
}
