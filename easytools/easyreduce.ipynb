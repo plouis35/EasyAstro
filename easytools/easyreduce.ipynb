{
 "cells": [
  {
   "cell_type": "markdown",
   "id": "2788bbd4-a91a-41c3-a4e2-b48ae0ff914e",
   "metadata": {},
   "source": [
    "# tools for pre-processing images"
   ]
  },
  {
   "cell_type": "code",
   "execution_count": null,
   "id": "e59b004a",
   "metadata": {
    "scrolled": true
   },
   "outputs": [],
   "source": [
    "%load_ext autoreload\n",
    "%autoreload 2"
   ]
  },
  {
   "cell_type": "code",
   "execution_count": null,
   "id": "f53b903b-1dec-4efb-9d32-21366f10e12f",
   "metadata": {},
   "outputs": [],
   "source": [
    "__main__ = 'EasyReduce'\n",
    "__author__ = 'Pascal Louis <plouis35@gmail.com>'\n",
    "__version__ = '1.1'\n",
    "__keywords__ = ['astronomy', 'astropy', 'astroalign', 'ccdproc', 'matplotlib']\n"
   ]
  },
  {
   "cell_type": "markdown",
   "id": "730e784e-db4e-40be-9422-0f898614a5cb",
   "metadata": {},
   "source": [
    "## import libraries"
   ]
  },
  {
   "cell_type": "code",
   "execution_count": null,
   "id": "16ffd74d",
   "metadata": {},
   "outputs": [],
   "source": [
    "import matplotlib.pyplot as plt\n",
    "\n",
    "%config InlineBackend.rc = {}\n",
    "plt.style.use(['dark_background'])\n",
    "plt.rcParams.update({'figure.max_open_warning': 0}) \n",
    "\n",
    "### set the mpl backend\n",
    "%matplotlib widget\n",
    "#%matplotlib inline\n",
    "\n",
    "import warnings, fnmatch, os\n",
    "from time import gmtime, strftime\n",
    "from pathlib import Path\n",
    "\n",
    "import numpy as np\n",
    "from astropy import units as u\n",
    "from astropy.nddata import CCDData\n",
    "from ccdproc import ImageFileCollection, cosmicray_median, cosmicray_lacosmic, gain_correct\n",
    "from convenience_functions import show_image\n",
    "from easycombiner import Images\n",
    "\n",
    "from astropy.utils.exceptions import AstropyWarning, AstropyUserWarning\n",
    "warnings.simplefilter('ignore', category=AstropyWarning)\n",
    "warnings.simplefilter('ignore', category=AstropyUserWarning)\n",
    "warnings.simplefilter('ignore', UserWarning)\n",
    "\n"
   ]
  },
  {
   "cell_type": "markdown",
   "id": "7cf7f3bf-45e6-4e3e-94b5-c94f53226586",
   "metadata": {},
   "source": [
    "## define targets\n",
    "```\n",
    "TARGET = name of object, used for naming generated files\n",
    "CAPTURE_DIR = directory with ending /\n",
    "BIAS_FILES = wildcard bias files names (wild cards)\n",
    "DARK_FILES = wildcard dark files names (wild cards)\n",
    "FLAT_FILES = wildcard flat files names (wild cards)\n",
    "CALIB_FILES = wildcard neon files names (wild cards)\n",
    "SCIENCE_FILES = wildcard science files names (wild cards)\n",
    "TRIM_REGION = x1, y1, x2, y2 region to crop before processing\n",
    "EXPOSURE_KEY = fit keyword defining 'EXPOSURE'\n",
    "CAMERA_ELECTRONIC_GAIN = # asi 183mm : 0.13 * u.electron/u.adu   # atik 420m : 0.024 asi183mm\n",
    "CAMERA_READOUT_NOISE = # asi 183mm : 3.0 * u.electron     # atik 420m : 2.8 asi183mm\n"
   ]
  },
  {
   "cell_type": "code",
   "execution_count": null,
   "id": "35c27872-8db9-4032-b961-34d7088dd7d7",
   "metadata": {},
   "outputs": [],
   "source": [
    "TARGET = 'HD171780'\n",
    "CAPTURE_DIR='../../../CAPTURES/20241005_Void/'\n",
    "BIAS_FILES = \"Bias*.fit\"\n",
    "DARK_FILES = \"Dark-600s*.fit\"\n",
    "FLAT_FILES = \"flat_tung*.fit\"\n",
    "CALIB_FILES = \"neon*.fits\"\n",
    "SCIENCE_FILES = \"HD171780*.fits\"\n",
    "#TRIM_REGION = '0, 1000, 5496, 2500'              # x1, y1, x2, y2 \n",
    "TRIM_REGION = None\n",
    "EXPOSURE_KEY = 'EXPTIME'\n",
    "CAMERA_ELECTRONIC_GAIN = 0.13 * u.electron/u.adu   \n",
    "CAMERA_READOUT_NOISE = 3.0 * u.electron     \n"
   ]
  },
  {
   "cell_type": "markdown",
   "id": "84588c75-1fce-473f-85c4-16eed0984acf",
   "metadata": {},
   "source": [
    "## define logger"
   ]
  },
  {
   "cell_type": "code",
   "execution_count": null,
   "id": "200f202b-5cc7-4c62-87b5-e900e456440a",
   "metadata": {},
   "outputs": [],
   "source": [
    "### logger prints after every notebook cell\n",
    "import sys\n",
    "import logging\n",
    "\n",
    "logging.basicConfig(\n",
    "    format='%(asctime)s [%(levelname)s] - %(message)s',\n",
    "    level=logging.INFO,\n",
    "    datefmt='%Y-%m-%d %H:%M:%S',\n",
    "    stream=sys.stdout,\n",
    ")\n",
    "logger = logging.getLogger('notebook')\n"
   ]
  },
  {
   "cell_type": "markdown",
   "id": "f2398a11-e5d7-43d8-9cb5-79922b7181a9",
   "metadata": {},
   "source": [
    "## create masterbias"
   ]
  },
  {
   "cell_type": "code",
   "execution_count": null,
   "id": "0fffb687-dc30-40d8-889e-6ba6aade348c",
   "metadata": {},
   "outputs": [],
   "source": [
    "### create master bias\n",
    "if (BIAS_FILES is not None): # and not (os.path.exists(CAPTURE_DIR + 'masterbias.fit')):\n",
    "    master_bias = Images.from_fit(dir = CAPTURE_DIR, filter = BIAS_FILES, \n",
    "                                  camera_electronic_gain = CAMERA_ELECTRONIC_GAIN, camera_readout_noise = CAMERA_READOUT_NOISE) \\\n",
    "                        .trim(TRIM_REGION) \\\n",
    "                        .median() \n",
    "                        #.sigmaclip() \n",
    "                        #.offset(1500 * u.adu) \\\n",
    "    \n",
    "    master_bias.uncertainty = None\n",
    "    master_bias.flags = None\n",
    "#    master_bias.data = master_bias.data.astype('int16')\n",
    "\n",
    "    master_bias.write(CAPTURE_DIR + 'masterbias.fit', overwrite=True) \n",
    "    logger.info(f'min={master_bias.min()}, max={master_bias.max()}, avg={master_bias.mean()}')\n",
    "    show_image(image = master_bias) #, figsize=(50, ),) #, percl = 0, percu = 95)\n"
   ]
  },
  {
   "cell_type": "markdown",
   "id": "ae9f7420-af1e-4cb3-be1a-7c37c95e1e1f",
   "metadata": {},
   "source": [
    "## create masterdark"
   ]
  },
  {
   "cell_type": "code",
   "execution_count": null,
   "id": "e4e38947-8d85-4c44-867f-4790e0f5a0cc",
   "metadata": {},
   "outputs": [],
   "source": [
    "### create master dark\n",
    "if (DARK_FILES is not None): # and not (os.path.exists(CAPTURE_DIR + 'masterdark.fit')):\n",
    "    master_dark = Images.from_fit(dir = CAPTURE_DIR, filter = DARK_FILES, \n",
    "                                  camera_electronic_gain = CAMERA_ELECTRONIC_GAIN, camera_readout_noise = CAMERA_READOUT_NOISE) \\\n",
    "                        .trim(TRIM_REGION) \\\n",
    "                        .bias_substract(master_bias) \\\n",
    "                        .median() \n",
    "                        #.sigmaclip() \n",
    "                        #.offset(1500 * u.adu) \\\n",
    "    master_dark.uncertainty = None\n",
    "    master_dark.flags = None\n",
    "#    master_dark.data = master_dark.data.astype('int16')\n",
    "\n",
    "    master_dark.write(CAPTURE_DIR + 'masterdark.fit', overwrite=True) \n",
    "    logger.info(f'min={master_dark.min()}, max={master_dark.max()}, avg={master_dark.mean()}')\n",
    "    show_image(image = master_dark) #,  figsize=(50, ))\n"
   ]
  },
  {
   "cell_type": "markdown",
   "id": "fbdd9ae3-1324-4b15-afd8-366e7df4f51f",
   "metadata": {},
   "source": [
    "## create masterflat"
   ]
  },
  {
   "cell_type": "code",
   "execution_count": null,
   "id": "4a756aa1-b279-47f2-8001-0e1e71b88ac3",
   "metadata": {},
   "outputs": [],
   "source": [
    "### create master flat\n",
    "if (FLAT_FILES is not None): # and not (os.path.exists(CAPTURE_DIR + 'masterflat.fit')):\n",
    "    master_flat = Images.from_fit(dir = CAPTURE_DIR, filter = FLAT_FILES, \n",
    "                                  camera_electronic_gain = CAMERA_ELECTRONIC_GAIN, camera_readout_noise = CAMERA_READOUT_NOISE) \\\n",
    "                        .trim(TRIM_REGION) \\\n",
    "                        .bias_substract(master_bias) \\\n",
    "                        .sum()\n",
    "#                        .median()\n",
    "#                        .offset(1500 * u.adu) \\\n",
    "\n",
    "    master_flat.uncertainty = None\n",
    "    master_flat.flags = None\n",
    "#    master_flat.data = master_flat.data.astype('int16')\n",
    "\n",
    "    master_flat.write(CAPTURE_DIR + 'masterflat.fit', overwrite=True) \n",
    "    logger.info(f'min={master_flat.min()}, max={master_flat.max()}, avg={master_flat.mean()}')\n",
    "    show_image(image = master_flat) #,  figsize=(50, ))\n"
   ]
  },
  {
   "cell_type": "markdown",
   "id": "76e50783-65fc-4727-b991-28eeddceeb33",
   "metadata": {},
   "source": [
    "## create mastercalib"
   ]
  },
  {
   "cell_type": "code",
   "execution_count": null,
   "id": "3e53f1b7-5a1a-41b2-a583-e22e771662a9",
   "metadata": {},
   "outputs": [],
   "source": [
    "### create master calib\n",
    "if (CALIB_FILES is not None): # and not (os.path.exists(CAPTURE_DIR + 'mastercalib.fit')):\n",
    "    master_calib = Images.from_fit(dir = CAPTURE_DIR, filter = CALIB_FILES,\n",
    "                                   camera_electronic_gain = CAMERA_ELECTRONIC_GAIN, camera_readout_noise = CAMERA_READOUT_NOISE) \\\n",
    "                         .trim(TRIM_REGION) \\\n",
    "                         .bias_substract(master_bias) \\\n",
    "                         .median()\n",
    "                         #.sigmaclip()\n",
    "#                         .offset(1500 * u.adu) \\\n",
    "\n",
    "    master_calib.uncertainty = None\n",
    "    master_calib.flags = None\n",
    "#    master_calib.data = master_calib.data.astype('int16')\n",
    "\n",
    "    master_calib.write(CAPTURE_DIR + 'mastercalib.fit', overwrite=True) \n",
    "    logger.info(f'min={master_calib.min()}, max={master_calib.max()}, avg={master_calib.mean()}')\n",
    "    show_image(image = master_calib) # ,figsize=(50, ))\n"
   ]
  },
  {
   "cell_type": "markdown",
   "id": "80014efa-3dbc-4a8f-bc9f-be49c9a37d8e",
   "metadata": {},
   "source": [
    "## reduce science frames"
   ]
  },
  {
   "cell_type": "code",
   "execution_count": null,
   "id": "144f641e-9631-4f68-9de8-8b5361d61209",
   "metadata": {},
   "outputs": [],
   "source": [
    "### read master reference frames\n",
    "logger.info('read refernce frames...')\n",
    "\n",
    "master_bias = CCDData.read(CAPTURE_DIR + 'masterbias.fit', unit = u.adu)\n",
    "master_dark = CCDData.read(CAPTURE_DIR + 'masterdark.fit', unit = u.adu)\n",
    "master_flat = CCDData.read(CAPTURE_DIR + 'masterflat.fit', unit = u.adu)\n",
    "\n",
    "### reduce science frames\n",
    "master_sciences = Images.from_fit(dir = CAPTURE_DIR, filter = SCIENCE_FILES, \n",
    "                                  camera_electronic_gain = CAMERA_ELECTRONIC_GAIN, camera_readout_noise = CAMERA_READOUT_NOISE) \\\n",
    "                        .trim(TRIM_REGION) \\\n",
    "                        .reduce(master_bias = master_bias, master_dark = master_dark, master_flat = master_flat, exposure_key = EXPOSURE_KEY) \\\n",
    "                        .spec_align(ref_image_index = 0)                        # fft based - best for spectra fields\n",
    "\n",
    "#                        .star_align(ref_image_index = 0)                        # astro_align (triangles) based - best for stars fields\n",
    "#                        .bias_substract(master_bias) \\\n",
    "#                        .dark_substract(master_dark, scale_exposure = True, exposure = EXPOSURE_KEY) \\\n",
    "#                        .flat_divide(master_flat) \\\n",
    "#                        .offset(1500 * u.adu) \\\n",
    "\n",
    "### optional: save individual frames\n",
    "for i, frame in zip(range(0, len(master_sciences)), master_sciences):\n",
    "    frame.uncertainty = None\n",
    "    frame.flags = None\n",
    "#    frame.data = frame.data.astype('int16')\n",
    "\n",
    "    frame.write(f'{CAPTURE_DIR}{TARGET}-{i}-reduced.fit', overwrite=True)\n",
    "    logger.info(f'frame {i}: min={frame.min()}, max={frame.max()}, avg={frame.mean()}')\n",
    "\n",
    "### combine frames (sum or median) & save master science frame\n",
    "#master_science = master_sciences.sum() \n",
    "master_science = master_sciences.median()\n",
    "\n",
    "### update fits header\n",
    "master_science.meta['EXPTIME2'] = f'{len(master_sciences)} x {master_science.meta[EXPOSURE_KEY]} s'\n",
    "master_science.meta['EXPTIME'] = len(master_sciences) * master_science.meta[EXPOSURE_KEY]\n",
    "\n",
    "master_science.uncertainty = None\n",
    "master_science.flags = None\n",
    "#master_science.data = master_science.data.astype('int16')\n",
    "\n",
    "master_science.write(f'{CAPTURE_DIR}{TARGET}-reduced.fit', overwrite=True)\n",
    "logger.info(f'master_science: min={master_science.min()}, max={master_science.max()}, avg={master_science.mean()}')\n",
    "show_image(image = master_science)#, figsize=(50, ))\n"
   ]
  },
  {
   "cell_type": "markdown",
   "id": "f9923238-7dc2-425e-ab15-674344eb1ffd",
   "metadata": {},
   "source": [
    "## remove cosmics (optional)"
   ]
  },
  {
   "cell_type": "code",
   "execution_count": null,
   "id": "99213bc2-06d7-40da-8bf0-51e926cde1db",
   "metadata": {},
   "outputs": [],
   "source": [
    "from astropy.convolution import convolve, Gaussian2DKernel, Tophat2DKernel\n",
    "from astropy.modeling.models import Gaussian2D\n",
    "from astropy.convolution import Box2DKernel\n",
    "\n",
    "logger.info(f'master_science: min={master_science.min()}, max={master_science.max()}, avg={master_science.mean()}')\n",
    "\n",
    "gain_corrected = gain_correct(master_science, CAMERA_ELECTRONIC_GAIN)\n",
    "logger.info(f'gain_corrected: min={gain_corrected.min()}, max={gain_corrected.max()}, avg={gain_corrected.mean()}')\n",
    "\n",
    "\n",
    "master_science_clean = cosmicray_lacosmic(gain_corrected,\n",
    "                                          #satlevel = 1e7,\n",
    "                                          #niter = 1,\n",
    "                                          gain_apply = False,\n",
    "                                          sigclip = 15,\n",
    "                                          cleantype = 'median',\n",
    "                                          fsmode = 'median',\n",
    "                                          verbose = True\n",
    "                                         )\n",
    "\"\"\"\n",
    "#cosmicray_median(sci_master, thresh = 3, mbox=3, rbox=5, gbox=3, error_image = np.ones(sci_master.shape))\n",
    "#sci_cleaned = cosmicray_median(sci_master, thresh = 3, mbox=3, rbox=5, gbox=3, error_image = np.ones(sci_master.shape))\n",
    "master_science_clean = cosmicray_median(gain_corrected, #gain_corrected,\n",
    "                                        thresh = 3,\n",
    "                                        mbox = 3,\n",
    "                                        rbox = 5, \n",
    "                                        gbox = 3,\n",
    "                                        #error_image = np.ones(gain_corrected.shape)\n",
    "                                       )\n",
    "\n",
    "\"\"\"\n",
    "#tophat_kernel = Box2DKernel(5)\n",
    "#master_science_clean = convolve(gain_corrected, tophat_kernel)\n",
    "\n",
    "#master_science_clean = CCDData(CCDData.add(master_science_clean, 1000 * u.electron))\n",
    "                                \n",
    "#print(master_science_clean.unit)\n",
    "logger.info(f'master_science_clean: min={master_science_clean.min()}, max={master_science_clean.max()}, avg={master_science_clean.mean()}')\n",
    "\n",
    "master_science_clean.uncertainty = None\n",
    "master_science_clean.flags = None\n",
    "#master_science_clean.data = master_science_clean.data.astype('int16')\n",
    "\n",
    "master_science_clean.write(f'{CAPTURE_DIR}{TARGET}-reduced-cosmics.fit', overwrite=True)\n",
    "show_image(image = master_science_clean)#,  figsize=(50, ))\n"
   ]
  },
  {
   "cell_type": "code",
   "execution_count": null,
   "id": "1492db90-fc31-44f4-ab03-69de8d336844",
   "metadata": {},
   "outputs": [],
   "source": [
    "import numpy as np\n",
    "#logger.info(f'master_science avg uncertainty : {master_science.uncertainty.array.mean()}')\n",
    "#logger.info(f'master_science clean avg uncertainty : {master_science_clean.uncertainty.array.mean()}')\n"
   ]
  },
  {
   "cell_type": "code",
   "execution_count": null,
   "id": "756f42a9-9f10-4839-a3ac-07956afd84e1",
   "metadata": {},
   "outputs": [],
   "source": []
  },
  {
   "cell_type": "code",
   "execution_count": null,
   "id": "1616ecc2-fbc3-4143-a129-8c8d18e7391e",
   "metadata": {},
   "outputs": [],
   "source": []
  }
 ],
 "metadata": {
  "kernelspec": {
   "display_name": "Python 3 (ipykernel)",
   "language": "python",
   "name": "python3"
  },
  "language_info": {
   "codemirror_mode": {
    "name": "ipython",
    "version": 3
   },
   "file_extension": ".py",
   "mimetype": "text/x-python",
   "name": "python",
   "nbconvert_exporter": "python",
   "pygments_lexer": "ipython3",
   "version": "3.12.7"
  }
 },
 "nbformat": 4,
 "nbformat_minor": 5
}
