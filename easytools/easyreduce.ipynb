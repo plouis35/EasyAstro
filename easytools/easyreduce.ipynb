{
 "cells": [
  {
   "cell_type": "markdown",
   "id": "2788bbd4-a91a-41c3-a4e2-b48ae0ff914e",
   "metadata": {},
   "source": [
    "# tools for pre-processing images"
   ]
  },
  {
   "cell_type": "code",
   "execution_count": null,
   "id": "e59b004a",
   "metadata": {},
   "outputs": [],
   "source": [
    "%load_ext autoreload\n",
    "%autoreload 2\n",
    "%matplotlib widget"
   ]
  },
  {
   "cell_type": "code",
   "execution_count": null,
   "id": "f53b903b-1dec-4efb-9d32-21366f10e12f",
   "metadata": {},
   "outputs": [],
   "source": [
    "__author__ = 'Pascal Louis <plouis35@gmail.com>'\n",
    "__version__ = '0.1 alpha'\n",
    "__keywords__ = ['astronomy', 'astropy', 'astroalign', 'ccdproc', 'matplotlib']\n"
   ]
  },
  {
   "cell_type": "code",
   "execution_count": null,
   "id": "5dae82e3-a88c-49ee-bf18-f36fb184fc3a",
   "metadata": {},
   "outputs": [],
   "source": [
    "import numpy as np\n",
    "import matplotlib.pyplot as plt\n",
    "\n",
    "%config InlineBackend.rc = {}\n",
    "plt.style.use(['dark_background'])\n",
    "plt.rcParams.update({'figure.max_open_warning': 0})      \n",
    "\n",
    "def show_image(img):\n",
    "    #img = lights_c[1]\n",
    "    #p2, p98 = np.percentile(img, (2, 98))\n",
    "    #l_rescale = sk.exposure.rescale_intensity(img, in_range=(p2, p98))\n",
    "    #plt.imshow(l_rescale / np.max(l_rescale), cmap=\"gray\")\n",
    "    colormap = plt.cm.inferno\n",
    "    cuts = (5, 98.0)\n",
    "    fig, ax = plt.subplots(1, 1, figsize=(8, 5))\n",
    "    plt.tight_layout()\n",
    "    im = ax.imshow(img, origin='lower', aspect='auto', cmap=colormap)\n",
    "    cb = plt.colorbar(im)\n",
    "    im.set_clim(np.percentile(img, cuts))\n",
    "    plt.show()\n"
   ]
  },
  {
   "cell_type": "code",
   "execution_count": null,
   "id": "200f202b-5cc7-4c62-87b5-e900e456440a",
   "metadata": {},
   "outputs": [],
   "source": [
    "from logger_utils import logger, handler\n",
    "handler.show_logs()\n",
    "logger.setLevel('INFO')\n",
    "handler.clear_logs()\n"
   ]
  },
  {
   "cell_type": "code",
   "execution_count": null,
   "id": "e6b84cce",
   "metadata": {},
   "outputs": [],
   "source": [
    "CAPTURE_DIR='../../../CAPTURES/NY_Vir/'\n",
    "BIAS_FILES = \"offset-15c-Bin2-*.fits\"\n",
    "DARK_FILES = \"darkBin2X-35C-30s-*.fits\"\n",
    "FLAT_FILES = \"Flat_v-*.fits\"\n",
    "CALIB_FILES = \"\"\n",
    "SCIENCE_FILES = \"NY VIR8*.fits\"\n",
    "TRIM_REGION = None\n",
    "EXPOSURE_KEY = 'EXPOSURE'"
   ]
  },
  {
   "cell_type": "code",
   "execution_count": null,
   "id": "aee5caab-a779-4a9f-9e0e-7b311411ed62",
   "metadata": {},
   "outputs": [],
   "source": [
    "CAPTURE_DIR='../../../CAPTURES/2023_RENNES_L3_TP/images_spectro/images_tp_spectro/'\n",
    "BIAS_FILES = \"offset-*.fit\"\n",
    "DARK_FILES = \"noir-600-*.fit\"\n",
    "FLAT_FILES = \"flat-*.fit\"\n",
    "CALIB_FILES = \"neon-*.fit\"\n",
    "SCIENCE_FILES = \"agdra-*.fit\"\n",
    "TRIM_REGION = '600, 600, 2700, 1400'              # x1, y1, x2, y2 \n",
    "#TRIM_REGION = None\n",
    "EXPOSURE_KEY = 'EXPTIME'"
   ]
  },
  {
   "cell_type": "code",
   "execution_count": null,
   "id": "412f69bd-3530-47ce-b673-110f8bd180fe",
   "metadata": {},
   "outputs": [],
   "source": [
    "CAPTURE_DIR='../../../CAPTURES/20231008_Void/'\n",
    "BIAS_FILES = \"Bias-0s-*.fit\"\n",
    "DARK_FILES = \"Dark-300s-*.fit\"\n",
    "FLAT_FILES = \"flat-*.fit\"\n",
    "CALIB_FILES = \"neon-15s-*.fit\"\n",
    "SCIENCE_FILES = \"deneb-200s-*.fit\"\n",
    "TRIM_REGION = None   \n",
    "EXPOSURE_KEY = 'EXPTIME'"
   ]
  },
  {
   "cell_type": "code",
   "execution_count": null,
   "id": "6505b75d-b56d-4c14-bb58-18c2f008909a",
   "metadata": {},
   "outputs": [],
   "source": [
    "CAPTURE_DIR='../../../CAPTURES/20231007_Void/'\n",
    "BIAS_FILES = \"Bias-*.fit\"\n",
    "DARK_FILES = \"Dark-300s-*.fit\"\n",
    "FLAT_FILES = \"flat-*.fit\"\n",
    "CALIB_FILES = \"neon-10s-*.fit\"\n",
    "SCIENCE_FILES = \"10lac-300s-*.fit\"\n",
    "TRIM_REGION = None\n",
    "TRIM_REGION = '0, 600, 1600, 700'  \n",
    "EXPOSURE_KEY = 'EXPTIME'"
   ]
  },
  {
   "cell_type": "code",
   "execution_count": null,
   "id": "16ffd74d",
   "metadata": {},
   "outputs": [],
   "source": [
    "import fnmatch, os\n",
    "from combiner import Images\n",
    "\n",
    "def find_files(directory: str, files_filter: str):\n",
    "    return [directory + f for f in fnmatch.filter(os.listdir(directory), files_filter)]\n",
    "\n",
    "master_bias = Images.from_fit(find_files(CAPTURE_DIR, BIAS_FILES)) \\\n",
    "                            .trim(TRIM_REGION) \\\n",
    "                            .median()\n",
    "\n",
    "master_dark = Images.from_fit(find_files(CAPTURE_DIR, DARK_FILES)) \\\n",
    "                            .trim(TRIM_REGION) \\\n",
    "                            .substract_bias(master_bias) \\\n",
    "                            .median()\n",
    "\n",
    "master_flat = Images.from_fit(find_files(CAPTURE_DIR, FLAT_FILES)) \\\n",
    "                            .trim(TRIM_REGION) \\\n",
    "                            .substract_bias(master_bias) \\\n",
    "                            .median()\n",
    "master_sciences = Images.from_fit(find_files(CAPTURE_DIR, SCIENCE_FILES)) \\\n",
    "                            .trim(TRIM_REGION) \\\n",
    "                            .substract_bias(master_bias) \\\n",
    "                            .substract_dark(master_dark, exposure = EXPOSURE_KEY) \\\n",
    "                            .divide_flat(master_flat) \\\n",
    "                            .align_fft() \\\n",
    "#                            .align_fft()\n",
    "\n",
    "\n",
    "master_science = master_sciences.median()\n",
    "#master_science = master_sciences.align_fft().sum()\n",
    "#master_science = master_sciences.align().sum()\n",
    "\n",
    "plt.close('all')\n",
    "#show_image(master_bias)\n",
    "#show_image(master_dark)\n",
    "#show_image(master_flat)\n",
    "show_image(master_sciences[0])\n",
    "show_image(master_science)\n"
   ]
  },
  {
   "cell_type": "code",
   "execution_count": null,
   "id": "ee100001-aa3b-4fca-bb4e-d10bd41b75d3",
   "metadata": {},
   "outputs": [],
   "source": []
  }
 ],
 "metadata": {
  "kernelspec": {
   "display_name": "Python 3 (ipykernel)",
   "language": "python",
   "name": "python3"
  },
  "language_info": {
   "codemirror_mode": {
    "name": "ipython",
    "version": 3
   },
   "file_extension": ".py",
   "mimetype": "text/x-python",
   "name": "python",
   "nbconvert_exporter": "python",
   "pygments_lexer": "ipython3",
   "version": "3.10.14"
  }
 },
 "nbformat": 4,
 "nbformat_minor": 5
}
