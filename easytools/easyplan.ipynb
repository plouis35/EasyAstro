{
 "cells": [
  {
   "cell_type": "markdown",
   "id": "e4814928-2726-4038-91b4-5521e57adc63",
   "metadata": {},
   "source": [
    "# tools for planning observations"
   ]
  },
  {
   "cell_type": "code",
   "execution_count": 1,
   "id": "11399fc5-f897-429b-8270-a4fdc08ac8e0",
   "metadata": {},
   "outputs": [],
   "source": [
    "__author__ = 'Pascal Louis <plouis35@gmail.com>'\n",
    "__version__ = '1.0'\n",
    "__keywords__ = ['astronomy', 'astropy', 'astroquery', 'astroplan', 'matplotlib']\n"
   ]
  },
  {
   "cell_type": "markdown",
   "id": "ba262d92-877e-43fb-a279-6412d308c185",
   "metadata": {},
   "source": [
    "# Targets"
   ]
  },
  {
   "cell_type": "code",
   "execution_count": 4,
   "id": "e3418a37-6d71-4fd3-91d7-50cc28536f55",
   "metadata": {},
   "outputs": [
    {
     "data": {
      "application/vnd.jupyter.widget-view+json": {
       "model_id": "39313243dcaf4d84bd7d9b5919b52b3a",
       "version_major": 2,
       "version_minor": 0
      },
      "text/plain": [
       "DatePicker(value=datetime.date(2024, 10, 8), description='Date', step=1)"
      ]
     },
     "metadata": {},
     "output_type": "display_data"
    },
    {
     "data": {
      "application/vnd.jupyter.widget-view+json": {
       "model_id": "f20fefec04804555908ec7e2abeefa7a",
       "version_major": 2,
       "version_minor": 0
      },
      "text/plain": [
       "Dropdown(description='Target', options=('--', '-- ExoPlanets', 'WASP-14', 'WASP-12', 'HAT-P-22', 'HD 147506', …"
      ]
     },
     "metadata": {},
     "output_type": "display_data"
    },
    {
     "data": {
      "application/vnd.jupyter.widget-view+json": {
       "model_id": "db9ff6f16a7e40d082caf95aed6f8ebd",
       "version_major": 2,
       "version_minor": 0
      },
      "text/plain": [
       "Button(description='Display', style=ButtonStyle())"
      ]
     },
     "metadata": {},
     "output_type": "display_data"
    },
    {
     "data": {
      "application/vnd.jupyter.widget-view+json": {
       "model_id": "d59f1e8e7fd247ac8b490aa7b106e8eb",
       "version_major": 2,
       "version_minor": 0
      },
      "text/plain": [
       "Output()"
      ]
     },
     "metadata": {},
     "output_type": "display_data"
    }
   ],
   "source": [
    "### Pises\n",
    "#obs_loc = EarthLocation(lat=44.0*u.deg, lon=-3.5*u.deg, height=1300*u.m)\n",
    "\n",
    "### CALC\n",
    "obs_longitude = 1.5\n",
    "obs_latitude = 48.0\n",
    "obs_height = 50\n",
    "\n",
    "### Pises\n",
    "#obs_longitude = -3.5\n",
    "#obs_latitude = 44.0\n",
    "#obs_height = 1300\n",
    "\n",
    "targets = [\n",
    "    '--',\n",
    "### Exoplanets\n",
    "    '-- ExoPlanets',\n",
    "    'WASP-14',\n",
    "    'WASP-12',                      \n",
    "    'HAT-P-22',    \n",
    "    'HD 147506',        # HAT-P-2,                 \n",
    "    'XO-1',                       \n",
    "    'HD 189733',   \n",
    "    'TOI-1141.01',\n",
    "    'TOI 2017.01',\n",
    "    'HD 135723',\n",
    "    'HD 93148',   # Kelt-24 exo\n",
    "    'GJ 3470',      # Exo neptune-tiède\n",
    "    'NY Vir',               # EA+RPHS   | 13.30   |  14.22     |            |V |            |     |                  \n",
    "\n",
    "### Eclipsing Binaries\n",
    "\n",
    "    '-- Binaries', \n",
    "                            #   Type      Max        Min I         Min II       Epoch        Year      Period           M-m/D  Spectrum \n",
    "    '44 Boo',               # EW        |  4.70   |   4.86     |   4.84     |V |52500.1807  |     |     0.2678190      |     |G2V+G2V   \n",
    "    'HD 23642',             # EA        |  6.84   |   6.94     |   6.88     |V |52903.5981  |     |     2.461134       |     |A0V   \n",
    "    'VW Cep',               # EW        |  7.37   |   7.77     |   7.73     |V |57625.370   |     |     0.2783085      |     |G5V+K0Ve    \n",
    "    'V0566 Oph',            # EW/KW     |  7.46   |   7.96     |   7.89     |V |41835.8617  |     |     0.40964569     |     |F4V   \n",
    "    'V0781 Tau',            # EW/KW     |  8.9    |   9.3      |   9.3      |p |43874.954   |     |     0.3449100      |     |G0      \n",
    "    'CN Lyn',               # EA        |  9.07   |   9.58     |            |Hp|            |     |                    |     |                 \n",
    "    'BF Lyn',               # BY        |  7.72   |(  0.1     )|            |V |            |     |            \n",
    "    'V0916 Her',            # E:        |  8.03   |   8.38     |            |Hp|            |     |                    |     |     \n",
    "    'MR Del',               # EA        |  8.85   |   9.16     |            |Hp|            |     |         \n",
    "    'HI Dra',               # RRC       |  9.02   |   9.20     |            |Hp|            |     |                \n",
    "    'V0432 Aur',            # EA        |  7.98   |   8.40     |            |V |51571.4123  |     |     3.08175        |09   |G0    \n",
    "    'WW Aur',               # EA        |  5.86   |   6.54     |   6.43     |V |52501.8139  |     |     2.52501936     |10  *|A4m+A5m   \n",
    "    'V505 Lac',             # EB        | 10.19  \n",
    "    'V505 Per ', \n",
    "    'Sig Gem',\n",
    "\n",
    "    # 'UV Leo',               # EA/DW     |  8.90   |   9.56     |   9.49     |V |38440.72633 |     |     0.60008478     |18   |G0V+G2V  \n",
    "   # 'UW LMi',               # EA        |  8.44   |   8.67     |            |Hp|            |     |                    |     |     \n",
    "   # 'DV Boo',               # EA        |  7.53   |   7.76     |   7.69     |V |48045.254   |     |     3.78264        |06   |A2   \n",
    "    #'AW Uma',               # EW/KW     |  7.75   |   8.48     |   8.43     |V |45765.7385  |     |     0.33363749     |     |F8Vp+F8Vp  \n",
    "   # 'DD Mon',               # EB/KE     | 11.1    |  11.8      |  11.3      |p |30321.453   |     |     0.56801193     |     |B5     \n",
    "  #  'V868 Mon',             # EB        |  8.9    |   9.5      |            |V |52681.731   |     |     0.63772        |   \n",
    "  #  'MW Vir',               # EW:       |  7.00   |   7.04     |            |Hp|            |     |          \n",
    "   # 'HW Vir',               # EA/D      | 10.5    |(  0.90    )|            |V |            |     |                    |     |           \n",
    "   # 'HD 112409',            # BCEP:     |  5.14   |   5.16     |            |Hp|            |     |     0.324798       |     |B8V        \n",
    "\n",
    "### Nova\n",
    "    '-- Nova',\n",
    "    'T CrB',                # NR        |  2.0    |  10.8      |            |V |31860.      |1946 |(29000.           ) |     |M3III+pec(Nova)  \n",
    "\n",
    "\n",
    "### Delta Scuti\n",
    "    '-- Delta Scuti',\n",
    "    #Variable       P       V     ∆V  Eb−y (b−y)0  δm1  Mv(ph) π sπ Mv(π)\n",
    "    'BL Cam',    #  0.0391 13.10 0.33 0.211 0.149 0.098 2.00\n",
    "    'KZ Hya',    #  0.0595 9.96  0.80 0.039 0.180 0.082 2.29\n",
    "    'SU Crt',    #  0.055  8.65  0.01 0.013 0.185 0.033 2.42 3.94(±1.27) 0.32\n",
    "    'XX Cyg',    #  0.1349 11.87 0.80 0.065 0.156 0.056 1.31 1.48(±2.00) 1.35\n",
    "    'CY Aqr',    #  0.0610 10.93 0.71 0.036 0.164 0.053 1.83 0.71(±2.28) 3.21\n",
    "    'DY Peg',    #  0.0729 10.36 0.54 0.055 0.155 0.048 1.78 0.36(±2.02) 5.61\n",
    "    'SX Phe',    #  0.0550 7.28  0.41 0.000 0.151 0.063 2.07 12.91(±0.78) 0.06 2.83(±0.12)\n",
    "    'V879 Her',  #  0.0569 15.65 0.65\n",
    "    'V2314 Oph', #  0.144  7.43  0.05 0.093 0.147 0.059 0.97\n",
    "    'BQ Ind',    #  0.0820  9.87  0.25 −0.10(±1.54)\n",
    "\n",
    "### OHP 2022\n",
    "    '-- OHP_2022',\n",
    "    'PN K  4-4', #                       281.04375 6.78194   PN K  4-4                       symb - no spectrum - V10.4\n",
    "    'Iot Lyr', #                         286.82542 36.10028  Iot Lyr                         iot Lyr -- Be Star - V 5.253\n",
    "    'CH Cyg', #                          291.13792 50.24139  CH Cyg                          symb - done\n",
    "    'RR Lyr', #                          291.36625 42.78444  RR Lyr                          V* RR Lyr -- RR Lyrae Variable - R 7.6\n",
    "    '12 Vul', #                          297.76708 22.61000  12 Vul                          12 Vul -- Be Star - V 4.96\n",
    "    'SS 443', #                          297.95167 -5.81389  SS 443                          micro quasar - V 11.99\n",
    "    'PN K  4-39', #                      298.27417 23.22667  PN K  4-39                      symb - no spectrum - V 8.8\n",
    "    '25 Cyg', #                          299.98000 37.04278  25 Cyg                          25 Cyg -- Be Star - V 5.19\n",
    "    'QR Vul', #                          303.81625 25.59194  QR Vul                          Double or Multiple Star - V 4.75\n",
    "    'P Cyg', #                           304.44667 38.03306  P Cyg                           P Cyg -- Blue Supergiant - V 4.82\n",
    "    '28 Vul', #                          309.63292 24.11611  28 Vul                          28 Vul -- Star - V 5.049\n",
    "    'BW Vul', #                          313.59333 28.52194  BW Vul                          V* BW Vul -- beta Cep Variable - V 6.54\n",
    "    'AG Peg', #                          327.75833 12.62556  AG Peg                          symb - done - V 8-9\n",
    "    'Z And', #                           353.41667 48.81833  Z And                           symb - done -\n",
    "    'R Aqr', #                           355.95625 -15.28444 R Aqr                           symb - done - V 6-10\n",
    "    'EG And', #                          11.15500  40.67944  EG And                          symb - done - V 7.0\n",
    "    'AX Per', #                          24.09458  54.25056  AX Per                          symb - done - V 10.5\n",
    "    'Mira', #                            34.83667  -2.97694  HR681                           symb - done - V 2.0\n",
    "    'UV Aur', #                          80.45375  32.51111  UV Aur                          symb - done - V 7.5\n",
    "    'SS Lep', #                          91.24625  -16.48444 SS Lep                          symb - done - V 4.9\n",
    "    'T CrB', #                           239.87583 25.92028  T CrB                           V* T CrB -- Symbiotic Star - V 10.247\n",
    "]\n",
    "\n",
    "from IPython.display import display, IFrame\n",
    "import ipywidgets as widgets\n",
    "from easyplan import PlotPosition, moon_illumination\n",
    "from datetime import date\n",
    "from astropy.time import Time\n",
    "\n",
    "output = widgets.Output()\n",
    "\n",
    "def showTarget(name, date):\n",
    "    with output:\n",
    "        output.clear_output()\n",
    "        ### moon phase\n",
    "        print (f'moon illumination: {moon_illumination(Time(str(date_selected.value), format=\"isot\", scale=\"utc\")):.0%}')\n",
    "\n",
    "        ###\n",
    "        obs_date = date\n",
    "        target = name\n",
    "        #obs_date = str(date_selected.value)\n",
    "        #target = change['new']\n",
    "        target = target_selected.value\n",
    "    \n",
    "        ### show position\n",
    "        plan = PlotPosition(obs_latitude = obs_latitude, \n",
    "                            obs_longitude = obs_longitude, \n",
    "                            obs_height = obs_height,\n",
    "                            obs_date = obs_date, \n",
    "                            name = target)\n",
    "        display(plan)\n",
    "        \n",
    "        ### Show SIMBAD infos\n",
    "        url = (f'https://simbad.cds.unistra.fr/simbad/sim-basic?Ident={target}&submit=SIMBAD+search')\n",
    "        simbad_infos = IFrame(url, width='100%', height=700)\n",
    "        display(simbad_infos)\n",
    "\n",
    "date_selected = widgets.DatePicker(\n",
    "    description='Date',\n",
    "    value = date.today(),\n",
    "    disabled=False\n",
    ")\n",
    "display (date_selected)\n",
    "\n",
    "target_selected = widgets.Dropdown(options=targets, description='Target')\n",
    "display(target_selected)\n",
    "\n",
    "button = widgets.Button(\n",
    "    description='Display',\n",
    "    disabled=False,\n",
    "    button_style='',\n",
    ")\n",
    "\n",
    "display(button)\n",
    "def on_button_clicked(b):\n",
    "    if target_selected.value != '--':\n",
    "        showTarget(target_selected.value, str(date_selected.value))\n",
    "    \n",
    "button.on_click(on_button_clicked)\n",
    "display(output)\n"
   ]
  },
  {
   "cell_type": "code",
   "execution_count": null,
   "id": "73794c65-b199-4176-b5c0-eb9e45aaa411",
   "metadata": {},
   "outputs": [],
   "source": []
  },
  {
   "cell_type": "code",
   "execution_count": null,
   "id": "aae767f1-aaf4-4ad1-be12-754dc69cc9c2",
   "metadata": {},
   "outputs": [],
   "source": []
  }
 ],
 "metadata": {
  "kernelspec": {
   "display_name": "Python 3 (ipykernel)",
   "language": "python",
   "name": "python3"
  },
  "language_info": {
   "codemirror_mode": {
    "name": "ipython",
    "version": 3
   },
   "file_extension": ".py",
   "mimetype": "text/x-python",
   "name": "python",
   "nbconvert_exporter": "python",
   "pygments_lexer": "ipython3",
   "version": "3.12.7"
  }
 },
 "nbformat": 4,
 "nbformat_minor": 5
}
