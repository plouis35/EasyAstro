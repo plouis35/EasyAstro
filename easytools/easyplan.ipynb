{
 "cells": [
  {
   "cell_type": "code",
   "execution_count": 1,
   "id": "11399fc5-f897-429b-8270-a4fdc08ac8e0",
   "metadata": {},
   "outputs": [],
   "source": [
    "__author__ = 'Pascal Louis <plouis35@gmail.com>'\n",
    "__version__ = '0.1 alpha'\n",
    "__keywords__ = ['astronomy', 'astropy', 'astroquery', 'matplotlib']\n"
   ]
  },
  {
   "cell_type": "markdown",
   "id": "e4814928-2726-4038-91b4-5521e57adc63",
   "metadata": {},
   "source": [
    "# tools for planning observations\n",
    "## instruments tested : \n",
    "- \n",
    "- "
   ]
  },
  {
   "cell_type": "code",
   "execution_count": null,
   "id": "114e26ea-d77c-4e09-b272-646a891bb9a5",
   "metadata": {},
   "outputs": [],
   "source": []
  }
 ],
 "metadata": {
  "kernelspec": {
   "display_name": "Python 3 (ipykernel)",
   "language": "python",
   "name": "python3"
  },
  "language_info": {
   "codemirror_mode": {
    "name": "ipython",
    "version": 3
   },
   "file_extension": ".py",
   "mimetype": "text/x-python",
   "name": "python",
   "nbconvert_exporter": "python",
   "pygments_lexer": "ipython3",
   "version": "3.11.5"
  }
 },
 "nbformat": 4,
 "nbformat_minor": 5
}
