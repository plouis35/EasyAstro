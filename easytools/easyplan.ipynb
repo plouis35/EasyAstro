{
 "cells": [
  {
   "cell_type": "markdown",
   "id": "e4814928-2726-4038-91b4-5521e57adc63",
   "metadata": {},
   "source": [
    "# tools for planning observations"
   ]
  },
  {
   "cell_type": "code",
   "execution_count": null,
   "id": "11399fc5-f897-429b-8270-a4fdc08ac8e0",
   "metadata": {},
   "outputs": [],
   "source": [
    "__author__ = 'Pascal Louis <plouis35@gmail.com>'\n",
    "__version__ = '0.1 alpha'\n",
    "__keywords__ = ['astronomy', 'astropy', 'astroquery', 'matplotlib']\n"
   ]
  },
  {
   "cell_type": "markdown",
   "id": "96e2c2ca-dfcf-4eae-9777-4dcea073971a",
   "metadata": {},
   "source": [
    "## Configuration"
   ]
  },
  {
   "cell_type": "code",
   "execution_count": null,
   "id": "e3418a37-6d71-4fd3-91d7-50cc28536f55",
   "metadata": {},
   "outputs": [],
   "source": [
    "# CALC\n",
    "obs_latitude = 47.89\n",
    "obs_longitude = -1.50\n",
    "\n",
    "target = 'RR lyr'\n",
    "obs_time = '2023-11-07'      # local time\n"
   ]
  },
  {
   "cell_type": "code",
   "execution_count": null,
   "id": "5a8cb959-6a56-4b39-a3cc-23f30c38cfea",
   "metadata": {},
   "outputs": [],
   "source": [
    "import matplotlib.pyplot as plt\n",
    "import numpy as np\n",
    "\n",
    "from astropy.visualization import astropy_mpl_style, quantity_support\n",
    "\n",
    "plt.style.use(astropy_mpl_style)\n",
    "quantity_support()\n"
   ]
  },
  {
   "cell_type": "markdown",
   "id": "3aafa2ca-e5cc-4576-9bb8-742f2a69c8f4",
   "metadata": {},
   "source": [
    "## Show alt and moon/sun rise and set"
   ]
  },
  {
   "cell_type": "code",
   "execution_count": null,
   "id": "989684bb-188c-49f6-9479-2e3bb16b5b94",
   "metadata": {},
   "outputs": [],
   "source": [
    "from astropy.coordinates import get_sun\n",
    "from astropy.coordinates import get_body\n",
    "\n",
    "### get SUN position\n",
    "delta_midnight = np.linspace(-12, 12, 1000)*u.hour\n",
    "times_to_tomorow = midnight + delta_midnight\n",
    "frame_to_tomorow = AltAz(obstime=times_to_tomorow, location=obs_loc)\n",
    "sunaltazs_to_tomorow = get_sun(times_to_tomorow).transform_to(frame_to_tomorow)\n",
    "\n",
    "### get MOON position\n",
    "moon_to_tomorow = get_body(\"moon\", times_to_tomorow)\n",
    "moonaltazs_to_tomorow= moon_to_tomorow.transform_to(frame_to_tomorow)\n",
    "obj_altazs_to_tomorow= obj.transform_to(frame_to_tomorow)\n",
    "\n",
    "plt.plot(delta_midnight, sunaltazs_to_tomorow.alt, color='r', label='Sun')\n",
    "plt.plot(delta_midnight, moonaltazs_to_tomorow.alt, color=[0.75]*3, ls='--', label='Moon')\n",
    "plt.scatter(delta_midnight, obj_altazs_to_tomorow.alt,\n",
    "            c=obj_altazs_to_tomorow.az.value, label=target, lw=0, s=8,\n",
    "            cmap='viridis')\n",
    "plt.fill_between(delta_midnight, 0*u.deg, 90*u.deg,\n",
    "                 sunaltazs_to_tomorow.alt < -0*u.deg, color='0.5', zorder=0)\n",
    "plt.fill_between(delta_midnight, 0*u.deg, 90*u.deg,\n",
    "                 sunaltazs_to_tomorow.alt < -18*u.deg, color='k', zorder=0)\n",
    "plt.colorbar().set_label('Azimuth [deg]')\n",
    "plt.legend(loc='upper left')\n",
    "plt.xlim(-12*u.hour, 12*u.hour)\n",
    "plt.xticks((np.arange(13)*2-12)*u.hour)\n",
    "plt.ylim(0*u.deg, 90*u.deg)\n",
    "plt.xlabel('Hours from EDT Midnight')\n",
    "plt.ylabel('Altitude [deg]')\n",
    "plt.show()\n"
   ]
  },
  {
   "cell_type": "markdown",
   "id": "a9d9afa1-ffaf-44b9-a7b0-8691ccdac0be",
   "metadata": {},
   "source": [
    "## Show target details"
   ]
  },
  {
   "cell_type": "code",
   "execution_count": null,
   "id": "d48165b4-ee9a-4bd2-b2b7-283e8a6dcc18",
   "metadata": {},
   "outputs": [],
   "source": [
    "#import module\n",
    "from astroquery.simbad import Simbad\n",
    "\n",
    "#get a simbad instance\n",
    "simbad = Simbad()\n",
    "\n",
    "#add spectral type parameters for VOTable request\n",
    "simbad.add_votable_fields('sptype')\n",
    "\n",
    "#request\n",
    "result_table = simbad.query_object(target)\n",
    "#result_table.pprint(show_unit=True)\n",
    "print(repr(result_table))\n",
    "\n",
    "#Coordinates\n",
    "print(\"\\nCoordinates\")\n",
    "print(result_table['RA'][0])\n",
    "print(result_table['DEC'][0])\n",
    "\n",
    "#Spectral Type\n",
    "print(\"\\nSpectral Type\")\n",
    "print(result_table['SP_TYPE'])"
   ]
  },
  {
   "cell_type": "markdown",
   "id": "d01e7567-45af-43d3-ba63-d3f45232d9f3",
   "metadata": {},
   "source": [
    "## Show field of view"
   ]
  },
  {
   "cell_type": "code",
   "execution_count": null,
   "id": "c7c51b39-a1b4-4f4d-9ceb-3c21147fd285",
   "metadata": {},
   "outputs": [],
   "source": [
    "from astroplan.plots import plot_finder_image\n",
    "from astroplan import FixedTarget\n",
    "import matplotlib.pyplot as plt\n",
    "from astroquery.skyview import SkyView\n",
    "\n",
    "obj_ = FixedTarget.from_name(target)\n",
    "ax, hdu = plot_finder_image(obj_, survey = \"DSS\", reticle = False, fov_radius=6*u.arcminute)\n",
    "plt.show()\n",
    "\n",
    "#'Optical:SDSS': ['SDSSg',"
   ]
  },
  {
   "cell_type": "code",
   "execution_count": null,
   "id": "5b4ae8ab-4009-420c-afb1-a7ab34e1a9e0",
   "metadata": {},
   "outputs": [],
   "source": [
    "#from astroquery.skyview import SkyView; SkyView.list_surveys()"
   ]
  },
  {
   "cell_type": "code",
   "execution_count": null,
   "id": "50f61d78-5ee4-4bde-a8a2-859cbf9d12d0",
   "metadata": {},
   "outputs": [],
   "source": [
    "from ipyaladin import Aladin\n",
    "aladin = Aladin(fov=0.1, target = 'm33', height = 600)\n",
    "aladin"
   ]
  },
  {
   "cell_type": "code",
   "execution_count": null,
   "id": "b2b50cad-a9e3-4799-a58b-734a4257c264",
   "metadata": {},
   "outputs": [],
   "source": []
  },
  {
   "cell_type": "code",
   "execution_count": null,
   "id": "a7b7ad42-6c31-4182-ba9d-bb3f0f574343",
   "metadata": {},
   "outputs": [],
   "source": []
  }
 ],
 "metadata": {
  "kernelspec": {
   "display_name": "Python 3 (ipykernel)",
   "language": "python",
   "name": "python3"
  },
  "language_info": {
   "codemirror_mode": {
    "name": "ipython",
    "version": 3
   },
   "file_extension": ".py",
   "mimetype": "text/x-python",
   "name": "python",
   "nbconvert_exporter": "python",
   "pygments_lexer": "ipython3",
   "version": "3.10.13"
  }
 },
 "nbformat": 4,
 "nbformat_minor": 5
}
