{
 "cells": [
  {
   "cell_type": "markdown",
   "id": "e4814928-2726-4038-91b4-5521e57adc63",
   "metadata": {},
   "source": [
    "# tools for planning observations"
   ]
  },
  {
   "cell_type": "code",
   "execution_count": null,
   "id": "11399fc5-f897-429b-8270-a4fdc08ac8e0",
   "metadata": {},
   "outputs": [],
   "source": [
    "__author__ = 'Pascal Louis <plouis35@gmail.com>'\n",
    "__version__ = '0.1 alpha'\n",
    "__keywords__ = ['astronomy', 'astropy', 'astroquery', 'matplotlib']\n"
   ]
  },
  {
   "cell_type": "code",
   "execution_count": 15,
   "id": "5a8cb959-6a56-4b39-a3cc-23f30c38cfea",
   "metadata": {},
   "outputs": [],
   "source": [
    "import matplotlib.pyplot as plt\n",
    "import numpy as np\n",
    "from astropy.visualization import astropy_mpl_style, quantity_support\n",
    "import astropy.units as u\n",
    "from astroplan.plots import plot_sky\n",
    "from astroplan.plots import plot_airmass\n",
    "from astropy.coordinates import AltAz, EarthLocation, SkyCoord\n",
    "from astropy.time import Time\n",
    "from astropy.coordinates import get_sun\n",
    "from astropy.coordinates import get_body\n",
    "\n",
    "plt.style.use(astropy_mpl_style)\n",
    "quantity_support();\n",
    "\n",
    "#%matplotlib widget\n"
   ]
  },
  {
   "cell_type": "markdown",
   "id": "96e2c2ca-dfcf-4eae-9777-4dcea073971a",
   "metadata": {},
   "source": [
    "## Configuration"
   ]
  },
  {
   "cell_type": "code",
   "execution_count": 16,
   "id": "e3418a37-6d71-4fd3-91d7-50cc28536f55",
   "metadata": {},
   "outputs": [
    {
     "data": {
      "application/vnd.jupyter.widget-view+json": {
       "model_id": "64ff9d68064b45ec81b1756e9f88d8f6",
       "version_major": 2,
       "version_minor": 0
      },
      "text/plain": [
       "Dropdown(description='Target:', options=('WASP-14', 'WASP-12', 'HAT-P-22', 'HD147506', 'XO-1', 'HD189733', 'HD…"
      ]
     },
     "metadata": {},
     "output_type": "display_data"
    }
   ],
   "source": [
    "# Pises\n",
    "obs_loc = EarthLocation(lat=44.0*u.deg, lon=-3.5*u.deg, height=1300*u.m)\n",
    "\n",
    "### Exoplanets\n",
    "targets = [\n",
    "    'WASP-14',\n",
    "    'WASP-12',                      \n",
    "    'HAT-P-22',    \n",
    "    'HD147506',        # HAT-P-2,                 \n",
    "    'XO-1',                       \n",
    "    'HD189733',                     \n",
    "\n",
    "### EB\n",
    "    'HD 112409',            # V945 Cen - bright hot short-period binary in a triple system\n",
    "    'V0432 Aur',            # HD 37071 -- Spectroscopic Binary\n",
    "       'WW Aur',            # \n",
    "    'V0781 Tau',    \n",
    "     'CN Lyn',     \n",
    "    'BF Lyn',   \n",
    "    'UV Leo',    \n",
    "    'UW LMi', \n",
    "     'HD93148',   \n",
    "    'DV Boo',       \n",
    "#    'i Boo',  \n",
    "        '44 Boo', #                        225.94292 47.65417  44 I Boo                        spectro binary - i Boo -- Eclipsing Binary - H 3.12\n",
    "\n",
    "##    'HD23642', #                         56.87250  24.28833  HD23642                         V* V1229 Tau -- Spectroscopic Binary - V 6.81\n",
    "    'V0916 Her',   \n",
    "##    'Gaia DR3 2210596444367488384', \n",
    "##   'V0505 Per', \n",
    "    'Sirius',\n",
    "        'HD23642', #                         56.87250  24.28833  HD23642                         V* V1229 Tau -- Spectroscopic Binary - V 6.81\n",
    "    'T CrB', #                           239.87583 25.92028  T CrB                           V* T CrB -- Symbiotic Star - V 10.247\n",
    "    'GJ 3470',\n",
    "\n",
    "]\n",
    "\n",
    "\"\"\"\n",
    "### OHP 2022 session\n",
    "targets = [\n",
    "#    'PN K  4-4', #                       281.04375 6.78194   PN K  4-4                       symb - no spectrum - V10.4\n",
    "#    'Iot Lyr', #                         286.82542 36.10028  Iot Lyr                         iot Lyr -- Be Star - V 5.253\n",
    "#    'CH Cyg', #                          291.13792 50.24139  CH Cyg                          symb - done\n",
    "#    'RR Lyr', #                          291.36625 42.78444  RR Lyr                          V* RR Lyr -- RR Lyrae Variable - R 7.6\n",
    "    '12 Vul', #                          297.76708 22.61000  12 Vul                          12 Vul -- Be Star - V 4.96\n",
    "#    'SS 443', #                          297.95167 -5.81389  SS 443                          micro quasar - V 11.99\n",
    "#    'PN K  4-39', #                      298.27417 23.22667  PN K  4-39                      symb - no spectrum - V 8.8\n",
    "    '25 Cyg', #                          299.98000 37.04278  25 Cyg                          25 Cyg -- Be Star - V 5.19\n",
    "    'QR Vul', #                          303.81625 25.59194  QR Vul                          Double or Multiple Star - V 4.75\n",
    "    'P Cyg', #                           304.44667 38.03306  P Cyg                           P Cyg -- Blue Supergiant - V 4.82\n",
    "#    '28 Vul', #                          309.63292 24.11611  28 Vul                          28 Vul -- Star - V 5.049\n",
    "#    'BW Vul', #                          313.59333 28.52194  BW Vul                          V* BW Vul -- beta Cep Variable - V 6.54\n",
    "#    'AG Peg', #                          327.75833 12.62556  AG Peg                          symb - done - V 8-9\n",
    "#    'Z And', #                           353.41667 48.81833  Z And                           symb - done -\n",
    "#    'R Aqr', #                           355.95625 -15.28444 R Aqr                           symb - done - V 6-10\n",
    "#    'EG And', #                          11.15500  40.67944  EG And                          symb - done - V 7.0\n",
    "#    'AX Per', #                          24.09458  54.25056  AX Per                          symb - done - V 10.5\n",
    "#    'Mira', #                            34.83667  -2.97694  HR681                           symb - done - V 2.0\n",
    "#    'UV Aur', #                          80.45375  32.51111  UV Aur                          symb - done - V 7.5\n",
    "#    'SS Lep', #                          91.24625  -16.48444 SS Lep                          symb - done - V 4.9\n",
    "    'T CrB', #                           239.87583 25.92028  T CrB                           V* T CrB -- Symbiotic Star - V 10.247\n",
    "]\n",
    "\"\"\"\n",
    "\n",
    "obs_time = '2024-04-10'      # local time\n",
    "utcoffset = +2*u.hour\n",
    "\n",
    "\n",
    "from IPython.display import display\n",
    "import ipywidgets as widgets\n",
    "\n",
    "target_selected = widgets.Dropdown(options=targets, description='Target:')\n",
    "display(target_selected)\n"
   ]
  },
  {
   "cell_type": "markdown",
   "id": "3aafa2ca-e5cc-4576-9bb8-742f2a69c8f4",
   "metadata": {},
   "source": [
    "## Show sky position"
   ]
  },
  {
   "cell_type": "code",
   "execution_count": 18,
   "id": "989684bb-188c-49f6-9479-2e3bb16b5b94",
   "metadata": {},
   "outputs": [
    {
     "data": {
      "application/vnd.jupyter.widget-view+json": {
       "model_id": "6093acbe24f041d9820502831bfadc6d",
       "version_major": 2,
       "version_minor": 0
      },
      "text/plain": [
       "HBox(children=(Output(layout=Layout(height='550px', width='50%')), Output(layout=Layout(height='550px', width=…"
      ]
     },
     "metadata": {},
     "output_type": "display_data"
    }
   ],
   "source": [
    "import numpy as np\n",
    "import matplotlib.pyplot as plt\n",
    "import astropy.units as u\n",
    "from astroplan import Observer\n",
    "from astroplan.plots import plot_sky\n",
    "from astroplan import FixedTarget\n",
    "\n",
    "### get coming night times\n",
    "midnight = Time(obs_time + ' 00:00:00') - utcoffset\n",
    "delta_midnight = np.linspace(-12, 12, 1000)*u.hour\n",
    "times_to_tomorow = midnight + delta_midnight\n",
    "frame_to_tomorow = AltAz(obstime=times_to_tomorow, location=obs_loc)\n",
    "\n",
    "### get SUN position\n",
    "sunaltazs_to_tomorow = get_sun(times_to_tomorow).transform_to(frame_to_tomorow)\n",
    "\n",
    "### get MOON position\n",
    "moon_to_tomorow = get_body(\"moon\", times_to_tomorow)\n",
    "moonaltazs_to_tomorow= moon_to_tomorow.transform_to(frame_to_tomorow)\n",
    "\n",
    "### get TARGETS position\n",
    "targets = [target_selected.value]\n",
    "targets_to_tomorow = [ SkyCoord.from_name(target) for target in targets ]\n",
    "targets_altazs_to_tomorow = [t.transform_to(frame_to_tomorow) for t in targets_to_tomorow ]\n",
    "\n",
    "right_panel = widgets.Output(layout={'width': '50%', 'height': '550px'})\n",
    "with right_panel:\n",
    "    #plt.figure(figsize=(8,6))\n",
    "    plt.plot(delta_midnight, sunaltazs_to_tomorow.alt, color='orange', ls='--', label='Sun')\n",
    "    plt.plot(delta_midnight, moonaltazs_to_tomorow.alt, color=[0.75]*3, ls='--', label='Moon')\n",
    "    for tt,name in zip(targets_altazs_to_tomorow, targets):\n",
    "        plt.scatter(delta_midnight, tt.alt, c=tt.az.value, label=name, lw=0, s=8, ls='dotted', cmap='viridis')\n",
    "        #plt.plot(delta_midnight, tt.alt, label=name) #, cmap='viridis')\n",
    "    plt.fill_between(delta_midnight, 0*u.deg, 90*u.deg, sunaltazs_to_tomorow.alt < -0*u.deg, color='0.5', zorder=0)\n",
    "    plt.fill_between(delta_midnight, 0*u.deg, 90*u.deg, sunaltazs_to_tomorow.alt < -18*u.deg, color='k', zorder=0)\n",
    "    plt.colorbar().set_label('Azimuth [deg]')\n",
    "    plt.legend(loc='upper left')\n",
    "    plt.xticks((np.arange(13)*2-12)*u.hour)\n",
    "    plt.ylim(0*u.deg, 90*u.deg)\n",
    "    plt.xlabel('Hours from EDT Midnight')\n",
    "    plt.ylabel('Altitude [deg]')\n",
    "    plt.xlim(-7*u.hour, 10*u.hour)\n",
    "    plt.show()\n",
    "\n",
    "left_panel = widgets.Output(layout={'width': '50%', 'height': '550px'})\n",
    "with left_panel:\n",
    "    observe_time = midnight + np.linspace(-4, 6, 10)*u.hour # - + np.linspace(-12, 12, 40)*u.hour\n",
    "    observer = Observer(location=obs_loc)\n",
    "    \n",
    "    targets = [target_selected.value]\n",
    "    for name in targets:\n",
    "        plot_sky(target = FixedTarget.from_name(name), observer = observer, time = observe_time, grid=True) #, north_to_east_ccw = True)\n",
    "    \n",
    "    plt.legend(loc='center left', bbox_to_anchor=(1.25, 0.5))\n",
    "    plt.show()\n",
    "\n",
    "display(widgets.HBox([right_panel, left_panel]))\n"
   ]
  },
  {
   "cell_type": "markdown",
   "id": "077fade1-4eaf-43c9-8e96-4e9f1d82f66b",
   "metadata": {},
   "source": [
    "## Show SIMBAD infos"
   ]
  },
  {
   "cell_type": "code",
   "execution_count": 12,
   "id": "fa8be639-594f-454b-b147-422b7905d8f8",
   "metadata": {},
   "outputs": [
    {
     "data": {
      "text/html": [
       "\n",
       "        <iframe\n",
       "            width=\"100%\"\n",
       "            height=\"800\"\n",
       "            src=\"https://simbad.cds.unistra.fr/simbad/sim-basic?Ident=WASP-12&submit=SIMBAD+search\"\n",
       "            frameborder=\"0\"\n",
       "            allowfullscreen\n",
       "            \n",
       "        ></iframe>\n",
       "        "
      ],
      "text/plain": [
       "<IPython.lib.display.IFrame at 0x7f9552d17d00>"
      ]
     },
     "execution_count": 12,
     "metadata": {},
     "output_type": "execute_result"
    }
   ],
   "source": [
    "from IPython.display import IFrame\n",
    "\n",
    "targets = target_selected.value\n",
    "url = (f'https://simbad.cds.unistra.fr/simbad/sim-basic?Ident={targets}&submit=SIMBAD+search')\n",
    "IFrame(url, width='100%', height=800)"
   ]
  },
  {
   "cell_type": "code",
   "execution_count": null,
   "id": "bf2a8052-8182-4588-aae8-1420d7e63188",
   "metadata": {},
   "outputs": [],
   "source": []
  },
  {
   "cell_type": "code",
   "execution_count": null,
   "id": "36790de2-9ee0-4151-b7dd-5c05848cf93e",
   "metadata": {},
   "outputs": [],
   "source": []
  }
 ],
 "metadata": {
  "kernelspec": {
   "display_name": "Python 3 (ipykernel)",
   "language": "python",
   "name": "python3"
  },
  "language_info": {
   "codemirror_mode": {
    "name": "ipython",
    "version": 3
   },
   "file_extension": ".py",
   "mimetype": "text/x-python",
   "name": "python",
   "nbconvert_exporter": "python",
   "pygments_lexer": "ipython3",
   "version": "3.10.14"
  }
 },
 "nbformat": 4,
 "nbformat_minor": 5
}
