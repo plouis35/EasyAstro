{
 "cells": [
  {
   "cell_type": "markdown",
   "id": "47f32bf4-199e-4631-add9-7f445a8e7aef",
   "metadata": {},
   "source": [
    "# FIT files browser & viewer"
   ]
  },
  {
   "cell_type": "markdown",
   "id": "d6afd6da-7c2e-493b-b568-7b4c09b2ccb7",
   "metadata": {},
   "source": [
    "# Versions inventory"
   ]
  },
  {
   "cell_type": "code",
   "execution_count": 1,
   "id": "74d2a298-da88-42d2-9750-779cb97af5f1",
   "metadata": {
    "scrolled": true
   },
   "outputs": [],
   "source": [
    "__main__ = 'EasyViewer'\n",
    "__author__ = 'Pascal Louis <plouis35@gmail.com>'\n",
    "__version__ = '0.1'\n",
    "__keywords__ = ['astronomy', 'spectroscopy', 'astropy', 'jdaviz', 'imviz', 'specviz']\n",
    "#import sys, numpy, matplotlib\n",
    "#print('Python ' + sys.version)\n",
    "#print('matplotlib ' + str(sys.modules['matplotlib'].__version__))\n",
    "#print('numpy ' + str(sys.modules['numpy'].__version__))\n",
    "#! jupyter --version\n"
   ]
  },
  {
   "cell_type": "markdown",
   "id": "3db0ea5b-3c0c-4e45-9005-0cf568cf5f3e",
   "metadata": {},
   "source": [
    "# Viewer"
   ]
  },
  {
   "cell_type": "code",
   "execution_count": 6,
   "id": "ea1d7c34-9125-493d-b8ab-fc0a52eec606",
   "metadata": {},
   "outputs": [
    {
     "data": {
      "application/vnd.jupyter.widget-view+json": {
       "model_id": "7b49811cb4eb4aa0a80cf52d730414ca",
       "version_major": 2,
       "version_minor": 0
      },
      "text/plain": [
       "Output(layout=Layout(border_bottom='1px solid grey', border_left='1px solid grey', border_right='1px solid gre…"
      ]
     },
     "metadata": {},
     "output_type": "display_data"
    },
    {
     "data": {
      "application/vnd.jupyter.widget-view+json": {
       "model_id": "2175b5eb78414c4089ae77748df905e4",
       "version_major": 2,
       "version_minor": 0
      },
      "text/plain": [
       "HBox(children=(Output(layout=Layout(border_bottom='1px solid grey', border_left='1px solid grey', border_right…"
      ]
     },
     "metadata": {},
     "output_type": "display_data"
    },
    {
     "data": {
      "application/vnd.jupyter.widget-view+json": {
       "model_id": "31dcd891263c45e59470f07e11b1a6ba",
       "version_major": 2,
       "version_minor": 0
      },
      "text/plain": [
       "VBox(children=(Output(layout=Layout(border_bottom='1px solid grey', border_left='1px solid grey', border_right…"
      ]
     },
     "metadata": {},
     "output_type": "display_data"
    },
    {
     "name": "stderr",
     "output_type": "stream",
     "text": [
      "INFO:logger_utils:Selected file : /Users/papa/Documents/ASTRO/CAPTURES/2023_RENNES_L3_TP/images_spectro/images_tp_spectro/offset-5_new.fit\n",
      "INFO:logger_utils:NAXIS = 2 --> returning image data\n",
      "INFO:logger_utils:showing image : /Users/papa/Documents/ASTRO/CAPTURES/2023_RENNES_L3_TP/images_spectro/images_tp_spectro/offset-5_new.fit\n",
      "INFO:logger_utils:image size : (2200, 2750)\n",
      "INFO:logger_utils:image stats : min = -100.496885785124, max = 100.503114214876, std = 18.255901241417153, mean = -2.6231330496158976e-14\n",
      "INFO:logger_utils:Selected file : /Users/papa/Documents/ASTRO/CAPTURES/2023_RENNES_L3_TP/images_spectro/images_tp_spectro/offset-9_new.fit\n",
      "INFO:logger_utils:NAXIS = 2 --> returning image data\n",
      "INFO:logger_utils:showing image : /Users/papa/Documents/ASTRO/CAPTURES/2023_RENNES_L3_TP/images_spectro/images_tp_spectro/offset-9_new.fit\n",
      "INFO:logger_utils:image size : (2200, 2750)\n",
      "INFO:logger_utils:image stats : min = -94.54633454545456, max = 98.45366545454544, std = 18.269111127100846, mean = -1.0609669102863831e-14\n",
      "INFO:logger_utils:Selected file : /Users/papa/Documents/ASTRO/CAPTURES/2023_RENNES_L3_TP/images_spectro/images_tp_spectro/masterscience.fit\n",
      "INFO:logger_utils:NAXIS = 2 --> returning image data\n",
      "INFO:logger_utils:showing image : /Users/papa/Documents/ASTRO/CAPTURES/2023_RENNES_L3_TP/images_spectro/images_tp_spectro/masterscience.fit\n",
      "INFO:logger_utils:image size : (800, 2100)\n",
      "INFO:logger_utils:image stats : min = -3282.868896484375, max = 464085.0, std = 390.68121337890625, mean = 17.08815574645996\n",
      "INFO:logger_utils:Selected file : /Users/papa/Documents/ASTRO/CAPTURES/2023_RENNES_L3_TP/images_spectro/images_tp_spectro/.DS_Store\n",
      "Exception in thread EASYSPEC_watch_thread:\n",
      "Traceback (most recent call last):\n",
      "  File \"/Users/papa/miniforge3/lib/python3.10/threading.py\", line 1016, in _bootstrap_inner\n",
      "    self.run()\n",
      "  File \"/Users/papa/miniforge3/lib/python3.10/site-packages/ipykernel/ipkernel.py\", line 761, in run_closure\n",
      "    _threading_Thread_run(self)\n",
      "  File \"/Users/papa/miniforge3/lib/python3.10/threading.py\", line 953, in run\n",
      "    self._target(*self._args, **self._kwargs)\n",
      "  File \"/Users/papa/Documents/ASTRO/DEV/EasyAstro/easytools/easyviewer.py\", line 178, in __watch_files\n",
      "    self.files_select.options = files_utils.list_files(self.dir_select.selected_path, self.files_filter.value)\n",
      "  File \"/Users/papa/miniforge3/lib/python3.10/site-packages/traitlets/traitlets.py\", line 716, in __set__\n",
      "    self.set(obj, value)\n",
      "  File \"/Users/papa/miniforge3/lib/python3.10/site-packages/traitlets/traitlets.py\", line 706, in set\n",
      "    obj._notify_trait(self.name, old_value, new_value)\n",
      "  File \"/Users/papa/miniforge3/lib/python3.10/site-packages/traitlets/traitlets.py\", line 1513, in _notify_trait\n",
      "    self.notify_change(\n",
      "  File \"/Users/papa/miniforge3/lib/python3.10/site-packages/ipywidgets/widgets/widget.py\", line 701, in notify_change\n",
      "    super().notify_change(change)\n",
      "  File \"/Users/papa/miniforge3/lib/python3.10/site-packages/traitlets/traitlets.py\", line 1525, in notify_change\n",
      "    return self._notify_observers(change)\n",
      "  File \"/Users/papa/miniforge3/lib/python3.10/site-packages/traitlets/traitlets.py\", line 1568, in _notify_observers\n",
      "    c(event)\n",
      "  File \"/Users/papa/miniforge3/lib/python3.10/site-packages/ipywidgets/widgets/widget_selection.py\", line 215, in _propagate_options\n",
      "    self._notify_trait('index', 0, 0)\n",
      "  File \"/Users/papa/miniforge3/lib/python3.10/site-packages/traitlets/traitlets.py\", line 1513, in _notify_trait\n",
      "    self.notify_change(\n",
      "  File \"/Users/papa/miniforge3/lib/python3.10/site-packages/ipywidgets/widgets/widget.py\", line 701, in notify_change\n",
      "    super().notify_change(change)\n",
      "  File \"/Users/papa/miniforge3/lib/python3.10/site-packages/traitlets/traitlets.py\", line 1525, in notify_change\n",
      "    return self._notify_observers(change)\n",
      "  File \"/Users/papa/miniforge3/lib/python3.10/site-packages/traitlets/traitlets.py\", line 1568, in _notify_observers\n",
      "    c(event)\n",
      "  File \"/Users/papa/miniforge3/lib/python3.10/site-packages/ipywidgets/widgets/widget_selection.py\", line 236, in _propagate_index\n",
      "    self.value = value\n",
      "  File \"/Users/papa/miniforge3/lib/python3.10/site-packages/traitlets/traitlets.py\", line 716, in __set__\n",
      "    self.set(obj, value)\n",
      "  File \"/Users/papa/miniforge3/lib/python3.10/site-packages/traitlets/traitlets.py\", line 706, in set\n",
      "    obj._notify_trait(self.name, old_value, new_value)\n",
      "  File \"/Users/papa/miniforge3/lib/python3.10/site-packages/traitlets/traitlets.py\", line 1513, in _notify_trait\n",
      "    self.notify_change(\n",
      "  File \"/Users/papa/miniforge3/lib/python3.10/site-packages/ipywidgets/widgets/widget.py\", line 701, in notify_change\n",
      "    super().notify_change(change)\n",
      "  File \"/Users/papa/miniforge3/lib/python3.10/site-packages/traitlets/traitlets.py\", line 1525, in notify_change\n",
      "    return self._notify_observers(change)\n",
      "  File \"/Users/papa/miniforge3/lib/python3.10/site-packages/traitlets/traitlets.py\", line 1568, in _notify_observers\n",
      "    c(event)\n",
      "  File \"/Users/papa/Documents/ASTRO/DEV/EasyAstro/easytools/easyviewer.py\", line 212, in display_infos\n",
      "    self.naxis, self.primary_data = files_utils.get_file_data(self.selected_file)\n",
      "TypeError: cannot unpack non-iterable NoneType object\n"
     ]
    }
   ],
   "source": [
    "from easyviewer import EasyViewer\n",
    "viewer = EasyViewer('../../../CAPTURES/2023_RENNES_L3_TP/images_spectro/images_tp_spectro/')"
   ]
  },
  {
   "cell_type": "code",
   "execution_count": null,
   "id": "41014f26-faec-493b-8ab9-0778de0f560f",
   "metadata": {},
   "outputs": [],
   "source": []
  },
  {
   "cell_type": "code",
   "execution_count": null,
   "id": "78ebbe15-3a1d-4e28-81d6-1a3a5ab32dfe",
   "metadata": {},
   "outputs": [],
   "source": []
  }
 ],
 "metadata": {
  "celltoolbar": "Format de la Cellule Texte Brut",
  "kernelspec": {
   "display_name": "Python 3 (ipykernel)",
   "language": "python",
   "name": "python3"
  },
  "language_info": {
   "codemirror_mode": {
    "name": "ipython",
    "version": 3
   },
   "file_extension": ".py",
   "mimetype": "text/x-python",
   "name": "python",
   "nbconvert_exporter": "python",
   "pygments_lexer": "ipython3",
   "version": "3.10.14"
  }
 },
 "nbformat": 4,
 "nbformat_minor": 5
}
