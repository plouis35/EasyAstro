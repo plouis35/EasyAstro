{
 "cells": [
  {
   "cell_type": "markdown",
   "id": "47f32bf4-199e-4631-add9-7f445a8e7aef",
   "metadata": {},
   "source": [
    "# FIT files browser & viewer"
   ]
  },
  {
   "cell_type": "markdown",
   "id": "d6afd6da-7c2e-493b-b568-7b4c09b2ccb7",
   "metadata": {},
   "source": [
    "# Versions inventory"
   ]
  },
  {
   "cell_type": "code",
   "execution_count": null,
   "id": "74d2a298-da88-42d2-9750-779cb97af5f1",
   "metadata": {
    "scrolled": true
   },
   "outputs": [],
   "source": [
    "__main__ = 'EasyViewer'\n",
    "__author__ = 'Pascal Louis <plouis35@gmail.com>'\n",
    "__version__ = '0.1'\n",
    "__keywords__ = ['astronomy', 'spectroscopy', 'astropy', 'jdaviz', 'imviz', 'specviz']\n",
    "#import sys, numpy, matplotlib\n",
    "#print('Python ' + sys.version)\n",
    "#print('matplotlib ' + str(sys.modules['matplotlib'].__version__))\n",
    "#print('numpy ' + str(sys.modules['numpy'].__version__))\n",
    "#! jupyter --version\n"
   ]
  },
  {
   "cell_type": "code",
   "execution_count": null,
   "id": "e447262d-1aea-432b-98d8-f5daaa0739fb",
   "metadata": {},
   "outputs": [],
   "source": [
    "%load_ext autoreload\n",
    "%autoreload 2\n",
    "%matplotlib widget"
   ]
  },
  {
   "cell_type": "markdown",
   "id": "3db0ea5b-3c0c-4e45-9005-0cf568cf5f3e",
   "metadata": {},
   "source": [
    "# Viewer"
   ]
  },
  {
   "cell_type": "code",
   "execution_count": null,
   "id": "ea1d7c34-9125-493d-b8ab-fc0a52eec606",
   "metadata": {},
   "outputs": [],
   "source": [
    "from easyviewer import EasyViewer\n",
    "viewer = EasyViewer('../../../Captures/20230418_millevaches/starEx/')"
   ]
  },
  {
   "cell_type": "code",
   "execution_count": null,
   "id": "41014f26-faec-493b-8ab9-0778de0f560f",
   "metadata": {},
   "outputs": [],
   "source": []
  }
 ],
 "metadata": {
  "celltoolbar": "Format de la Cellule Texte Brut",
  "kernelspec": {
   "display_name": "Python 3 (ipykernel)",
   "language": "python",
   "name": "python3"
  },
  "language_info": {
   "codemirror_mode": {
    "name": "ipython",
    "version": 3
   },
   "file_extension": ".py",
   "mimetype": "text/x-python",
   "name": "python",
   "nbconvert_exporter": "python",
   "pygments_lexer": "ipython3",
   "version": "3.11.0"
  }
 },
 "nbformat": 4,
 "nbformat_minor": 5
}
