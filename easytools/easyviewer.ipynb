{
 "cells": [
  {
   "cell_type": "markdown",
   "id": "47f32bf4-199e-4631-add9-7f445a8e7aef",
   "metadata": {},
   "source": [
    "# FIT files browser & viewer"
   ]
  },
  {
   "cell_type": "markdown",
   "id": "d6afd6da-7c2e-493b-b568-7b4c09b2ccb7",
   "metadata": {},
   "source": [
    "# Versions inventory"
   ]
  },
  {
   "cell_type": "code",
   "execution_count": 1,
   "id": "74d2a298-da88-42d2-9750-779cb97af5f1",
   "metadata": {
    "scrolled": true
   },
   "outputs": [],
   "source": [
    "__main__ = 'EasyViewer'\n",
    "__author__ = 'Pascal Louis <plouis35@gmail.com>'\n",
    "__version__ = '0.9'\n",
    "__keywords__ = ['astronomy', 'spectroscopy', 'astropy', 'jdaviz', 'imviz', 'specviz']\n",
    "#import sys, numpy, matplotlib\n",
    "#print('Python ' + sys.version)\n",
    "#print('matplotlib ' + str(sys.modules['matplotlib'].__version__))\n",
    "#print('numpy ' + str(sys.modules['numpy'].__version__))\n",
    "#! jupyter --version\n"
   ]
  },
  {
   "cell_type": "code",
   "execution_count": 2,
   "id": "e447262d-1aea-432b-98d8-f5daaa0739fb",
   "metadata": {},
   "outputs": [],
   "source": [
    "### reload imported libraries\n",
    "%load_ext autoreload\n",
    "%autoreload 2\n",
    "%matplotlib widget"
   ]
  },
  {
   "cell_type": "markdown",
   "id": "3db0ea5b-3c0c-4e45-9005-0cf568cf5f3e",
   "metadata": {},
   "source": [
    "# Viewer"
   ]
  },
  {
   "cell_type": "code",
   "execution_count": 4,
   "id": "ea1d7c34-9125-493d-b8ab-fc0a52eec606",
   "metadata": {},
   "outputs": [
    {
     "data": {
      "application/vnd.jupyter.widget-view+json": {
       "model_id": "43435077fc2d4d9497de462c05de8ccc",
       "version_major": 2,
       "version_minor": 0
      },
      "text/plain": [
       "Output(layout=Layout(border_bottom='1px solid grey', border_left='1px solid grey', border_right='1px solid gre…"
      ]
     },
     "metadata": {},
     "output_type": "display_data"
    },
    {
     "data": {
      "application/vnd.jupyter.widget-view+json": {
       "model_id": "8bb64e0675134151a80bc9d5e5d64c0a",
       "version_major": 2,
       "version_minor": 0
      },
      "text/plain": [
       "HBox(children=(Output(layout=Layout(border_bottom='1px solid grey', border_left='1px solid grey', border_right…"
      ]
     },
     "metadata": {},
     "output_type": "display_data"
    },
    {
     "data": {
      "application/vnd.jupyter.widget-view+json": {
       "model_id": "1f029f26be6e428eaf40e56429aae535",
       "version_major": 2,
       "version_minor": 0
      },
      "text/plain": [
       "VBox(children=(Output(layout=Layout(border_bottom='1px solid grey', border_left='1px solid grey', border_right…"
      ]
     },
     "metadata": {},
     "output_type": "display_data"
    }
   ],
   "source": [
    "from easyviewer import EasyViewer\n",
    "viewer = EasyViewer(root_path = '../../../CAPTURES/20231008_Void/', cuts = '95%')\n"
   ]
  },
  {
   "cell_type": "code",
   "execution_count": null,
   "id": "b909f542-f11d-43b5-b353-661dd9f74ad5",
   "metadata": {},
   "outputs": [],
   "source": []
  },
  {
   "cell_type": "code",
   "execution_count": null,
   "id": "c29b2c64-4be4-427d-a004-7088c2258975",
   "metadata": {},
   "outputs": [],
   "source": []
  },
  {
   "cell_type": "code",
   "execution_count": null,
   "id": "c63182ab-f70f-42bd-8b41-ec24ba952585",
   "metadata": {},
   "outputs": [],
   "source": []
  },
  {
   "cell_type": "code",
   "execution_count": null,
   "id": "41014f26-faec-493b-8ab9-0778de0f560f",
   "metadata": {},
   "outputs": [],
   "source": []
  },
  {
   "cell_type": "code",
   "execution_count": null,
   "id": "ecd5a5c6-1f41-4481-8222-a52aeeef7213",
   "metadata": {},
   "outputs": [],
   "source": []
  }
 ],
 "metadata": {
  "celltoolbar": "Format de la Cellule Texte Brut",
  "kernelspec": {
   "display_name": "Python 3 (ipykernel)",
   "language": "python",
   "name": "python3"
  },
  "language_info": {
   "codemirror_mode": {
    "name": "ipython",
    "version": 3
   },
   "file_extension": ".py",
   "mimetype": "text/x-python",
   "name": "python",
   "nbconvert_exporter": "python",
   "pygments_lexer": "ipython3",
   "version": "3.11.9"
  }
 },
 "nbformat": 4,
 "nbformat_minor": 5
}
