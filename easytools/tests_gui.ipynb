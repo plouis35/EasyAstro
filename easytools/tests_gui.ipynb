{
 "cells": [
  {
   "cell_type": "markdown",
   "id": "4f375a14-70da-4928-a65b-1d0602a450a8",
   "metadata": {},
   "source": [
    "## GUI templates"
   ]
  },
  {
   "cell_type": "code",
   "execution_count": 1,
   "id": "1adb3c5d-f621-4573-ae18-4bd3c537a661",
   "metadata": {},
   "outputs": [],
   "source": [
    "from IPython.display import display\n",
    "import ipywidgets as widgets"
   ]
  },
  {
   "cell_type": "code",
   "execution_count": 2,
   "id": "cda9ee44-fcab-4dd6-b51a-dbca7c0f36a6",
   "metadata": {},
   "outputs": [
    {
     "data": {
      "application/vnd.jupyter.widget-view+json": {
       "model_id": "f57cba72957a4cceaa05536d98e1fb0d",
       "version_major": 2,
       "version_minor": 0
      },
      "text/plain": [
       "Tab(children=(HBox(children=(VBox(children=(Label(value='Age of the captain'), IntSlider(value=40, continuous_…"
      ]
     },
     "metadata": {},
     "output_type": "display_data"
    },
    {
     "data": {
      "application/vnd.jupyter.widget-view+json": {
       "model_id": "b9f074099b2743b5b4c2982a796c3025",
       "version_major": 2,
       "version_minor": 0
      },
      "text/plain": [
       "HBox(children=(Button(button_style='info', description='Apply', style=ButtonStyle(), tooltip='Apply all change…"
      ]
     },
     "metadata": {},
     "output_type": "display_data"
    },
    {
     "data": {
      "application/vnd.jupyter.widget-view+json": {
       "model_id": "6d5756e60b4a4ddeb7f906fe32759887",
       "version_major": 2,
       "version_minor": 0
      },
      "text/plain": [
       "Output()"
      ]
     },
     "metadata": {},
     "output_type": "display_data"
    }
   ],
   "source": [
    "out = widgets.Output()\n",
    "\n",
    "all_widgets = {\n",
    "    'age' : widgets.Label(value='Age of the captain'),\n",
    "    'slider': widgets.IntSlider(min=40, max=60,continuous_update=False, description='slider'),\n",
    "    'egg' : widgets.Label(value='Egg style'),\n",
    "    'dropdown' : widgets.Dropdown(options=['Scrambled', 'Sunny side up', 'Over easy'], description='dropdown'),\n",
    "    'float' : widgets.FloatText(description='float'),\n",
    "    'info' : widgets.Label(value='Information'),\n",
    "    'texte' : widgets.Text(description='texte',continuous_update=False),\n",
    "}\n",
    "\n",
    "transform_box = widgets.HBox([\n",
    "    widgets.VBox([all_widgets['age'], all_widgets['slider']]),\n",
    "    widgets.VBox([all_widgets['egg'], all_widgets['dropdown'], all_widgets['float'], all_widgets['info'], all_widgets['texte']]),\n",
    "])\n",
    "\n",
    "masters_box = widgets.HBox([\n",
    "])\n",
    "\n",
    "reduction_box = widgets.HBox([\n",
    "])\n",
    "\n",
    "filters_box = widgets.HBox([\n",
    "])\n",
    "\n",
    "tab_box = widgets.Tab()\n",
    "tab_box.children = [transform_box, masters_box, reduction_box, filters_box]\n",
    "tab_box.titles = ['Transformations', 'Masters', 'Reduction', 'Filters']\n",
    "\n",
    "all_buttons = [\n",
    "    widgets.Button(description='Apply', tooltip='Apply all changes', button_style='info'),\n",
    "    widgets.Button(description='Reset', tooltip='Reset all changes', button_style='info'),\n",
    "    widgets.Button(description='Load', tooltip='Load changes settings from a file', button_style='info'),\n",
    "    widgets.Button(description='Save', tooltip='Save changes settings to a file', button_style='info'),\n",
    "]\n",
    "\n",
    "buttons_box = widgets.HBox(all_buttons)\n",
    "\n",
    "def handle_widgets_change(change):\n",
    "    with out:\n",
    "        print(change['owner'].description,  change['new'])\n",
    "            \n",
    "for key in all_widgets:\n",
    "    all_widgets[key].observe(handle_widgets_change, 'value')\n",
    "\n",
    "display(tab_box, buttons_box, out)\n",
    "\n",
    "def on_cmd_clicked(bt):\n",
    "    with out:\n",
    "        #print(bt)\n",
    "        match bt.description:\n",
    "            case 'Apply':\n",
    "                print('Apply')\n",
    "            case _:\n",
    "                print('unknown', bt.description)\n",
    "\n",
    "for bt in all_buttons:\n",
    "    bt.on_click(on_cmd_clicked)\n",
    " "
   ]
  },
  {
   "cell_type": "code",
   "execution_count": 3,
   "id": "9d78dad9-3dcc-4bd5-948d-8e924881307e",
   "metadata": {},
   "outputs": [
    {
     "name": "stdout",
     "output_type": "stream",
     "text": [
      "slider\n"
     ]
    }
   ],
   "source": [
    "print(all_widgets['slider'].description ) "
   ]
  },
  {
   "cell_type": "markdown",
   "id": "1603c6b2-8c51-4175-a500-bd59b3ab03df",
   "metadata": {},
   "source": [
    "## Create masters GUI"
   ]
  },
  {
   "cell_type": "code",
   "execution_count": 123,
   "id": "2e68c754-2233-4379-bf0f-346a10180089",
   "metadata": {},
   "outputs": [],
   "source": [
    "\"\"\"\n",
    "Jupyter widgets GUI front-end for combining raw frames (bias, dark, flat and calibration) \n",
    "in order to generate master frames used to reduce science frames\n",
    "\"\"\"\n",
    "from IPython.display import display\n",
    "import ipywidgets as widgets\n",
    "import yaml\n",
    "class EasyMasters:\n",
    "    def __init__(self, root_path: str = '.') -> None:\n",
    "        ### read configuration\n",
    "        with open(__class__.__name__ + \".yaml\", 'r') as cfg_file:\n",
    "            try:\n",
    "                self.config = yaml.safe_load(cfg_file)\n",
    "            except yaml.YAMLError as except_error:\n",
    "                raise (except_error)\n",
    "\n",
    "        ### public variables\n",
    "        self.root_path = root_path\n",
    "\n",
    "        ### create GUI widgets\n",
    "        self._createGUI()\n",
    "\n",
    "    def _combineMaster():\n",
    "        pass\n",
    "\n",
    "    def _loadConfig():\n",
    "        pass\n",
    "\n",
    "    def _saveConfig():\n",
    "        pass\n",
    "        \n",
    "    def _createGUI(self) -> None:\n",
    "        output = widgets.Output(layout={'border': '1px solid grey', 'width': '99%'})\n",
    "\n",
    "        with output:\n",
    "            all_widgets = [\n",
    "                bias_re := widgets.Text(description='bias files: ', continuous_update=False, layout={'width': '30%'}),\n",
    "                bias_count := widgets.Label(value='(0)', layout={'width': '10%'}),\n",
    "                bias_combine_method := widgets.Dropdown(options=['Median', 'Average', 'SigmaClip', 'Sum'], layout={'width': '10%'}),\n",
    "                bias_rts := widgets.Checkbox(description='rts'),\n",
    "                widgets.Label(value='--> ' + self.config['preprocess']['master_bias']),\n",
    "    \n",
    "                dark_re := widgets.Text(description='dark files: ', continuous_update=False, layout={'width': '30%'}),\n",
    "                dark_count := widgets.Label(value='(0)', layout={'width': '10%'}),\n",
    "                dark_combine_method := widgets.Dropdown(options=['Median', 'Average', 'SigmaClip', 'Sum'], layout={'width': '10%'}),\n",
    "                dark_rts := widgets.Checkbox(description='rts'),\n",
    "                widgets.Label(value='--> ' + self.config['preprocess']['master_dark']),\n",
    "    \n",
    "                flat_re := widgets.Text(description='flat files: ', continuous_update=False, layout={'width': '30%'}),\n",
    "                flat_count := widgets.Label(value='(0)', layout={'width': '10%'}),\n",
    "                flat_combine_method := widgets.Dropdown(options=['Median', 'Average', 'SigmaClip', 'Sum'], layout={'width': '10%'}),\n",
    "                flat_rts := widgets.Checkbox(description='rts'),\n",
    "                widgets.Label(value='--> ' + self.config['preprocess']['master_flat']),\n",
    "    \n",
    "                calib_re := widgets.Text(description='calib files: ', continuous_update=False, layout={'width': '30%'}),\n",
    "                calib_count := widgets.Label(value='(0)', layout={'width': '10%'}),\n",
    "                calib_combine_method := widgets.Dropdown(options=['Median', 'Average', 'SigmaClip', 'Sum'], layout={'width': '10%'}),\n",
    "                calib_rts := widgets.Checkbox(description='rts'),\n",
    "                widgets.Label(value='--> ' + self.config['preprocess']['master_calib']),\n",
    "            ]\n",
    "        \n",
    "            widgets_box = widgets.VBox([\n",
    "                widgets.HBox([ all_widgets[0], all_widgets[1], all_widgets[2], all_widgets[3], all_widgets[4] ]),\n",
    "                widgets.HBox([ all_widgets[5], all_widgets[6], all_widgets[7], all_widgets[8], all_widgets[9] ]),\n",
    "                widgets.HBox([ all_widgets[10], all_widgets[11], all_widgets[12], all_widgets[13], all_widgets[14] ]),\n",
    "                widgets.HBox([ all_widgets[15], all_widgets[16], all_widgets[17], all_widgets[18], all_widgets[19] ]),\n",
    "            ])\n",
    "        \n",
    "            all_buttons = [\n",
    "                widgets.Button(description='Run', tooltip='Apply all changes', button_style='info'),\n",
    "    #            widgets.Button(description='Reset', tooltip='Reset all changes', button_style='info'),\n",
    "                widgets.Button(description='Load settings', tooltip='Load changes settings from a file', button_style='info'),\n",
    "                widgets.Button(description='Save settings', tooltip='Save changes settings to a file', button_style='info'),\n",
    "            ]\n",
    "            \n",
    "            buttons_box = widgets.HBox(all_buttons)\n",
    "\n",
    "            display(widgets_box, buttons_box)\n",
    "        display (output)\n",
    "        \n",
    "        def handle_widgets_change(change):\n",
    "            with output:\n",
    "                #print (change)\n",
    "                print(change['owner'].description,  change['new'])\n",
    "                    \n",
    "        for w in all_widgets:\n",
    "            w.observe(handle_widgets_change, 'value')\n",
    "        \n",
    "        def on_cmd_clicked(bt):\n",
    "            with output:\n",
    "                #print(bt)\n",
    "                match bt.description:\n",
    "                    case 'Apply':\n",
    "                        print('Apply')\n",
    "                    case _:\n",
    "                        print('unknown', bt.description)\n",
    "        \n",
    "        for bt in all_buttons:\n",
    "            bt.on_click(on_cmd_clicked)\n",
    "        "
   ]
  },
  {
   "cell_type": "code",
   "execution_count": 124,
   "id": "62511314-a207-46b8-ac51-5ed071589fef",
   "metadata": {},
   "outputs": [
    {
     "data": {
      "application/vnd.jupyter.widget-view+json": {
       "model_id": "f6c696225758479c84d59b3615497743",
       "version_major": 2,
       "version_minor": 0
      },
      "text/plain": [
       "Output(layout=Layout(border_bottom='1px solid grey', border_left='1px solid grey', border_right='1px solid gre…"
      ]
     },
     "metadata": {},
     "output_type": "display_data"
    }
   ],
   "source": [
    "em = EasyMasters()"
   ]
  },
  {
   "cell_type": "code",
   "execution_count": null,
   "id": "92b8ea30-bf64-4106-8d2b-0191c939f49a",
   "metadata": {},
   "outputs": [],
   "source": []
  },
  {
   "cell_type": "code",
   "execution_count": null,
   "id": "a40944d7-9c0e-4722-9f60-6b8aeeeb9646",
   "metadata": {},
   "outputs": [],
   "source": []
  },
  {
   "cell_type": "code",
   "execution_count": null,
   "id": "c80ab442-c341-47d7-a84b-7dd2f45125ae",
   "metadata": {},
   "outputs": [],
   "source": []
  }
 ],
 "metadata": {
  "kernelspec": {
   "display_name": "Python 3 (ipykernel)",
   "language": "python",
   "name": "python3"
  },
  "language_info": {
   "codemirror_mode": {
    "name": "ipython",
    "version": 3
   },
   "file_extension": ".py",
   "mimetype": "text/x-python",
   "name": "python",
   "nbconvert_exporter": "python",
   "pygments_lexer": "ipython3",
   "version": "3.11.5"
  }
 },
 "nbformat": 4,
 "nbformat_minor": 5
}
