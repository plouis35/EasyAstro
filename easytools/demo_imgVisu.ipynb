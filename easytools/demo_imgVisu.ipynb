{
 "cells": [
  {
   "cell_type": "markdown",
   "id": "47f32bf4-199e-4631-add9-7f445a8e7aef",
   "metadata": {},
   "source": [
    "# Tools for longslit spectrographs reduction and analysis"
   ]
  },
  {
   "cell_type": "markdown",
   "id": "d6afd6da-7c2e-493b-b568-7b4c09b2ccb7",
   "metadata": {},
   "source": [
    "# Versions inventory"
   ]
  },
  {
   "cell_type": "code",
   "execution_count": null,
   "id": "74d2a298-da88-42d2-9750-779cb97af5f1",
   "metadata": {
    "scrolled": true
   },
   "outputs": [],
   "source": [
    "__main__ = 'EasySpec'\n",
    "__author__ = 'Pascal Louis <plouis35@gmail.com>'\n",
    "__version__ = '0.1'\n",
    "__keywords__ = ['astronomy', 'spectroscopy', 'astropy', 'specutils', 'specreduce', 'matplotlib']\n",
    "#import sys, numpy, matplotlib\n",
    "#print('Python ' + sys.version)\n",
    "#print('matplotlib ' + str(sys.modules['matplotlib'].__version__))\n",
    "#print('numpy ' + str(sys.modules['numpy'].__version__))\n",
    "#! jupyter --version\n"
   ]
  },
  {
   "cell_type": "markdown",
   "id": "9680ee12-9b0f-47e7-892e-9f193c68cc7c",
   "metadata": {},
   "source": [
    "# Initialize"
   ]
  },
  {
   "cell_type": "code",
   "execution_count": null,
   "id": "2d7362d0",
   "metadata": {
    "slideshow": {
     "slide_type": ""
    },
    "tags": []
   },
   "outputs": [],
   "source": [
    "### allow full width of browser\n",
    "from IPython.display import display, HTML\n",
    "display(HTML(\"<style>:root { --jp-notebook-max-width: 100% !important; }</style>\"))\n",
    "\n",
    "### matplotlib settings\n",
    "import matplotlib as plt\n",
    "\n",
    "%matplotlib widget\n",
    "%config InlineBackend.rc = {}\n",
    "matplotlib_config = {\n",
    "    'text.color': 'white',\n",
    "    'axes.labelcolor': 'white',\n",
    "    'xtick.color': 'white',\n",
    "    'ytick.color': 'white',\n",
    "    'legend.fontsize': 8,\n",
    "    'axes.labelsize': 8,\n",
    "    'axes.titlesize': 8, \n",
    "    'xtick.labelsize': 8,\n",
    "    'ytick.labelsize': 8, \n",
    "    'lines.linewidth': 1,\n",
    "    'axes.linewidth': 1, \n",
    "    'animation.html': 'html5',\n",
    "}\n",
    "\n",
    "plt.rcParams.update(matplotlib_config)\n",
    "plt.rcParams.update({'figure.max_open_warning': 0})      \n"
   ]
  },
  {
   "cell_type": "markdown",
   "id": "3db0ea5b-3c0c-4e45-9005-0cf568cf5f3e",
   "metadata": {},
   "source": [
    "# Viewer"
   ]
  },
  {
   "cell_type": "code",
   "execution_count": null,
   "id": "ea1d7c34-9125-493d-b8ab-fc0a52eec606",
   "metadata": {},
   "outputs": [],
   "source": [
    "from easyspec import EasySpec\n",
    "es = EasySpec('/Users/papa/Documents/ASTRO/CAPTURES/')"
   ]
  },
  {
   "cell_type": "code",
   "execution_count": 9,
   "id": "86d8b314-ea90-4417-af87-5770185a4e79",
   "metadata": {},
   "outputs": [],
   "source": [
    "logger.info('TEST')"
   ]
  },
  {
   "cell_type": "code",
   "execution_count": null,
   "id": "0f2ef4a2-c2e4-44ee-9bc4-f70e90486f5c",
   "metadata": {},
   "outputs": [],
   "source": []
  }
 ],
 "metadata": {
  "celltoolbar": "Format de la Cellule Texte Brut",
  "kernelspec": {
   "display_name": "Python 3 (ipykernel)",
   "language": "python",
   "name": "python3"
  },
  "language_info": {
   "codemirror_mode": {
    "name": "ipython",
    "version": 3
   },
   "file_extension": ".py",
   "mimetype": "text/x-python",
   "name": "python",
   "nbconvert_exporter": "python",
   "pygments_lexer": "ipython3",
   "version": "3.10.14"
  }
 },
 "nbformat": 4,
 "nbformat_minor": 5
}
