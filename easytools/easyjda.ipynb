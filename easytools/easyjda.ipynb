{
 "cells": [
  {
   "cell_type": "markdown",
   "id": "6a06438c-25bf-4a4f-a360-a1acd2c6ef72",
   "metadata": {},
   "source": [
    "# Tools for using the JWST Data Analysis tools (JDA)"
   ]
  },
  {
   "cell_type": "code",
   "execution_count": null,
   "id": "56bb9bf7-e066-4c6e-af0f-e3fe82511aa7",
   "metadata": {},
   "outputs": [],
   "source": [
    "__main__ = 'EasyJda'\n",
    "__author__ = 'Pascal Louis <plouis35@gmail.com>'\n",
    "__version__ = '0.1'\n",
    "__keywords__ = ['astronomy', 'spectroscopy', 'astropy', 'specutils', 'specreduce', 'matplotlib', 'jdaviz']\n",
    "import sys, numpy, matplotlib, jdaviz\n",
    "print('Python ' + sys.version)\n",
    "print('matplotlib ' + str(sys.modules['matplotlib'].__version__))\n",
    "print('numpy ' + str(sys.modules['numpy'].__version__))\n",
    "print('jdaviz ' + str(sys.modules['jdaviz'].__version__))\n",
    "#! jupyter --version\n"
   ]
  },
  {
   "cell_type": "code",
   "execution_count": null,
   "id": "4f127a5a-a111-4df7-8447-afa8eea13d56",
   "metadata": {},
   "outputs": [],
   "source": [
    "from jdaviz import Imviz\n",
    "\n",
    "imviz = Imviz()\n",
    "imviz.show()"
   ]
  },
  {
   "cell_type": "code",
   "execution_count": null,
   "id": "bc0e008e-99f9-4a66-8920-a3d320ad9472",
   "metadata": {},
   "outputs": [],
   "source": []
  }
 ],
 "metadata": {
  "kernelspec": {
   "display_name": "Python 3 (ipykernel)",
   "language": "python",
   "name": "python3"
  },
  "language_info": {
   "codemirror_mode": {
    "name": "ipython",
    "version": 3
   },
   "file_extension": ".py",
   "mimetype": "text/x-python",
   "name": "python",
   "nbconvert_exporter": "python",
   "pygments_lexer": "ipython3",
   "version": "3.10.13"
  }
 },
 "nbformat": 4,
 "nbformat_minor": 5
}
