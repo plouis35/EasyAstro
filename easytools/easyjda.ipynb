{
 "cells": [
  {
   "cell_type": "markdown",
   "id": "6a06438c-25bf-4a4f-a360-a1acd2c6ef72",
   "metadata": {},
   "source": [
    "# Tools for using the JWST Data Analysis tools (JDA)"
   ]
  },
  {
   "cell_type": "code",
   "execution_count": null,
   "id": "56bb9bf7-e066-4c6e-af0f-e3fe82511aa7",
   "metadata": {},
   "outputs": [],
   "source": [
    "__main__ = 'EasyJda'\n",
    "__author__ = 'Pascal Louis <plouis35@gmail.com>'\n",
    "__version__ = '0.1'\n",
    "__keywords__ = ['astronomy', 'spectroscopy', 'astropy', 'specutils', 'specreduce', 'matplotlib', 'jdaviz']\n",
    "#import sys, numpy, matplotlib, jdaviz\n",
    "#print('Python ' + sys.version)\n",
    "#print('matplotlib ' + str(sys.modules['matplotlib'].__version__))\n",
    "#print('numpy ' + str(sys.modules['numpy'].__version__))\n",
    "print('jdaviz ' + str(sys.modules['jdaviz'].__version__))\n",
    "#! jupyter --version\n"
   ]
  },
  {
   "cell_type": "code",
   "execution_count": 1,
   "id": "a544d1ba-a6d5-47c6-ad34-5b5171a4ef6e",
   "metadata": {},
   "outputs": [
    {
     "data": {
      "application/vnd.jupyter.widget-view+json": {
       "model_id": "23258a51a69b4ae680134bcbbeaa344e",
       "version_major": 2,
       "version_minor": 0
      },
      "text/plain": [
       "Application(config='imviz', docs_link='https://jdaviz.readthedocs.io/en/v3.8.2/imviz/index.html', events=['cal…"
      ]
     },
     "metadata": {},
     "output_type": "display_data"
    }
   ],
   "source": [
    "### display imViz viewer\n",
    "\n",
    "from IPython.display import display\n",
    "import ipywidgets as widgets\n",
    "from jdaviz import Imviz\n",
    "imviz = Imviz()\n",
    "imviz.show()"
   ]
  },
  {
   "cell_type": "code",
   "execution_count": 2,
   "id": "bc0e008e-99f9-4a66-8920-a3d320ad9472",
   "metadata": {},
   "outputs": [
    {
     "data": {
      "application/vnd.jupyter.widget-view+json": {
       "model_id": "c74d742d03fe49c18d229a2399d19074",
       "version_major": 2,
       "version_minor": 0
      },
      "text/plain": [
       "Application(config='specviz', docs_link='https://jdaviz.readthedocs.io/en/v3.8.2/specviz/index.html', events=[…"
      ]
     },
     "metadata": {},
     "output_type": "display_data"
    }
   ],
   "source": [
    "### display specViz viewer\n",
    "from specutils import Spectrum1D\n",
    "from jdaviz import Specviz\n",
    "specviz = Specviz()\n",
    "specviz.show()"
   ]
  },
  {
   "cell_type": "code",
   "execution_count": 4,
   "id": "8990ee2e-6497-4120-962c-9b2c54ab51db",
   "metadata": {},
   "outputs": [
    {
     "ename": "NameError",
     "evalue": "name 'FileChooser' is not defined",
     "output_type": "error",
     "traceback": [
      "\u001b[0;31m---------------------------------------------------------------------------\u001b[0m",
      "\u001b[0;31mNameError\u001b[0m                                 Traceback (most recent call last)",
      "Cell \u001b[0;32mIn[4], line 9\u001b[0m\n\u001b[1;32m      5\u001b[0m \u001b[38;5;28;01mfrom\u001b[39;00m \u001b[38;5;21;01mastropy\u001b[39;00m \u001b[38;5;28;01mimport\u001b[39;00m units \u001b[38;5;28;01mas\u001b[39;00m u\n\u001b[1;32m      7\u001b[0m root_path \u001b[38;5;241m=\u001b[39m \u001b[38;5;124m'\u001b[39m\u001b[38;5;124m../../../CAPTURES/2023_RENNES_L3_TP/images_spectro/images_tp_spectro\u001b[39m\u001b[38;5;124m'\u001b[39m\n\u001b[0;32m----> 9\u001b[0m select_file \u001b[38;5;241m=\u001b[39m \u001b[43mFileChooser\u001b[49m(\n\u001b[1;32m     10\u001b[0m     path \u001b[38;5;241m=\u001b[39m root_path,\n\u001b[1;32m     11\u001b[0m     title \u001b[38;5;241m=\u001b[39m \u001b[38;5;124m'\u001b[39m\u001b[38;5;124mSelect a 1d spectrum\u001b[39m\u001b[38;5;124m'\u001b[39m,\n\u001b[1;32m     12\u001b[0m     show_hidden \u001b[38;5;241m=\u001b[39m \u001b[38;5;28;01mTrue\u001b[39;00m,\n\u001b[1;32m     13\u001b[0m     select_default \u001b[38;5;241m=\u001b[39m \u001b[38;5;28;01mTrue\u001b[39;00m,\n\u001b[1;32m     14\u001b[0m     show_only_dirs \u001b[38;5;241m=\u001b[39m \u001b[38;5;28;01mFalse\u001b[39;00m,\n\u001b[1;32m     15\u001b[0m     layout \u001b[38;5;241m=\u001b[39m widgets\u001b[38;5;241m.\u001b[39mLayout(width \u001b[38;5;241m=\u001b[39m \u001b[38;5;124m'\u001b[39m\u001b[38;5;124m80\u001b[39m\u001b[38;5;124m%\u001b[39m\u001b[38;5;124m'\u001b[39m)\n\u001b[1;32m     16\u001b[0m )\n\u001b[1;32m     17\u001b[0m display(select_file)\n",
      "\u001b[0;31mNameError\u001b[0m: name 'FileChooser' is not defined"
     ]
    }
   ],
   "source": [
    "### create a file chooser\n",
    "\n",
    "from specutils import Spectrum1D\n",
    "from astropy.io import fits\n",
    "from astropy import units as u\n",
    "\n",
    "root_path = '../../../CAPTURES/2023_RENNES_L3_TP/images_spectro/images_tp_spectro'\n",
    "\n",
    "select_file = FileChooser(\n",
    "    path = root_path,\n",
    "    title = 'Select a 1d spectrum',\n",
    "    show_hidden = True,\n",
    "    select_default = True,\n",
    "    show_only_dirs = False,\n",
    "    layout = widgets.Layout(width = '80%')\n",
    ")\n",
    "display(select_file)\n"
   ]
  },
  {
   "cell_type": "code",
   "execution_count": 5,
   "id": "5bc5fe28-5b9f-4093-9d64-f099da68880f",
   "metadata": {},
   "outputs": [
    {
     "ename": "NameError",
     "evalue": "name 'select_file' is not defined",
     "output_type": "error",
     "traceback": [
      "\u001b[0;31m---------------------------------------------------------------------------\u001b[0m",
      "\u001b[0;31mNameError\u001b[0m                                 Traceback (most recent call last)",
      "Cell \u001b[0;32mIn[5], line 3\u001b[0m\n\u001b[1;32m      1\u001b[0m \u001b[38;5;66;03m### convert and display 1d spectrum\u001b[39;00m\n\u001b[0;32m----> 3\u001b[0m \u001b[38;5;28mprint\u001b[39m(\u001b[38;5;124m'\u001b[39m\u001b[38;5;124mOpening \u001b[39m\u001b[38;5;124m'\u001b[39m \u001b[38;5;241m+\u001b[39m \u001b[43mselect_file\u001b[49m\u001b[38;5;241m.\u001b[39mvalue \u001b[38;5;241m+\u001b[39m \u001b[38;5;124m'\u001b[39m\u001b[38;5;124m...\u001b[39m\u001b[38;5;124m'\u001b[39m)\n\u001b[1;32m      5\u001b[0m \u001b[38;5;28;01mwith\u001b[39;00m fits\u001b[38;5;241m.\u001b[39mopen(select_file\u001b[38;5;241m.\u001b[39mvalue) \u001b[38;5;28;01mas\u001b[39;00m file:\n\u001b[1;32m      6\u001b[0m         specdata \u001b[38;5;241m=\u001b[39m file[\u001b[38;5;241m1\u001b[39m]\u001b[38;5;241m.\u001b[39mdata\n",
      "\u001b[0;31mNameError\u001b[0m: name 'select_file' is not defined"
     ]
    }
   ],
   "source": [
    "### convert and display 1d spectrum\n",
    "\n",
    "print('Opening ' + select_file.value + '...')\n",
    "\n",
    "with fits.open(select_file.value) as file:\n",
    "        specdata = file[1].data\n",
    "        header = file[1].header\n",
    "        spec1d = Spectrum1D(flux = specdata['flux'] * u.mJy, spectral_axis = specdata['wavelength'] * u.AA)\n",
    "    \n",
    "\n",
    "specviz.load_data(spec1d, data_label=select_file.value)"
   ]
  },
  {
   "cell_type": "code",
   "execution_count": null,
   "id": "ae25ee20-bc1e-44dd-b14f-60b2a394a796",
   "metadata": {},
   "outputs": [],
   "source": []
  }
 ],
 "metadata": {
  "kernelspec": {
   "display_name": "Python 3 (ipykernel)",
   "language": "python",
   "name": "python3"
  },
  "language_info": {
   "codemirror_mode": {
    "name": "ipython",
    "version": 3
   },
   "file_extension": ".py",
   "mimetype": "text/x-python",
   "name": "python",
   "nbconvert_exporter": "python",
   "pygments_lexer": "ipython3",
   "version": "3.10.13"
  }
 },
 "nbformat": 4,
 "nbformat_minor": 5
}
