{
 "cells": [
  {
   "cell_type": "markdown",
   "id": "6a6517c4-9fa1-421f-b6f1-22fed9c1d0d1",
   "metadata": {},
   "source": [
    "# Photometry reduction and lightcurve plot"
   ]
  },
  {
   "cell_type": "code",
   "execution_count": null,
   "id": "a1300e95-d67f-49cb-a49a-bb3adf28e6b0",
   "metadata": {},
   "outputs": [],
   "source": [
    "__author__ = 'Pascal Louis <plouis35@gmail.com>'\n",
    "__version__ = '0.1 alpha'\n",
    "__keywords__ = ['astronomy', 'astropy', 'ccdproc', 'photutils', 'matplotlib']\n",
    "__forked_from__ = 'https://hebl.china-vo.org/course/PIA2020/et_schmidt_datareduction.pdf'"
   ]
  },
  {
   "cell_type": "markdown",
   "id": "bc77d11e-91fa-4c1b-b06b-e499ac576e93",
   "metadata": {},
   "source": [
    "# Configuration"
   ]
  },
  {
   "cell_type": "code",
   "execution_count": null,
   "id": "d24c5404-bea9-470e-8690-7ab59a2a74a1",
   "metadata": {},
   "outputs": [],
   "source": [
    "### local configuration\n",
    "\n",
    "raw_data = '../../raw_data/'\n",
    "reduced_data = '../../reduced_data/'\n",
    "bias = 'd*BIASR*.fit'      # zero (bias) full frames with overscan subtracted (size: 4096x4096)\n",
    "flats = 'd*FLATR*.fit'     # dome flat full frames with overscan subtracted\n",
    "sciences = 'd*UW32R*.fit'  # truncated science frames (an subregion with size of 512x512\n"
   ]
  },
  {
   "cell_type": "code",
   "execution_count": null,
   "id": "f1887b53-fe1a-4579-8c54-b5e5376b94ad",
   "metadata": {},
   "outputs": [],
   "source": [
    "#%matplotlib widget\n",
    "import warnings\n",
    "from astropy.utils.exceptions import AstropyWarning\n",
    "from astropy.io import fits\n",
    "from matplotlib import pyplot as plt\n",
    "import numpy as np\n",
    "import glob\n",
    "\n",
    "warnings.simplefilter('ignore', category=AstropyWarning)\n",
    "warnings.simplefilter('ignore', UserWarning)\n"
   ]
  },
  {
   "cell_type": "markdown",
   "id": "7048d7b7-f12c-4700-bd07-91463ead277b",
   "metadata": {},
   "source": [
    "# Reduction"
   ]
  },
  {
   "cell_type": "markdown",
   "id": "8d44e764-1331-4c6c-862e-9ed6e79b6be5",
   "metadata": {},
   "source": [
    "## Check images and data"
   ]
  },
  {
   "cell_type": "code",
   "execution_count": null,
   "id": "5165d31d-b3bd-41e8-86ea-b766ff335b0b",
   "metadata": {},
   "outputs": [],
   "source": [
    "# example of the FITS header and check the data\n",
    "\n",
    "head=fits.getheader(raw_data + 'd4466637UW32R008.fit')\n",
    "data=fits.getdata(raw_data + \"d4466637UW32R004.fit\")\n",
    "print(head)\n",
    "f,axs=plt.subplots(1,2,figsize=(10,8))\n",
    "axs[0].imshow(data,vmin=300,vmax=600,origin='lower')\n",
    "axs[0].set_title(\"north down, east left\")\n",
    "axs[1].imshow(np.flipud(data),vmin=300,vmax=600,origin='lower')\n",
    "axs[1].set_title(\"north up, east left\")\n",
    "plt.tight_layout()"
   ]
  },
  {
   "cell_type": "markdown",
   "id": "49fcf83c-498f-4624-98d6-13bcf5c6d4be",
   "metadata": {},
   "source": [
    "## Create masterbias"
   ]
  },
  {
   "cell_type": "code",
   "execution_count": null,
   "id": "5867c772-c2c8-49be-9849-d033d3ebc8fd",
   "metadata": {},
   "outputs": [],
   "source": [
    "## create the masterbias image\n",
    "\n",
    "bfiles=glob.glob(raw_data + bias)\n",
    "bfiles.sort()\n",
    "allbias=[]\n",
    "print(\"combining bias ...\")\n",
    "for i,ifile in enumerate(bfiles):\n",
    "    print(\"reading bias:\", i+1,len(bfiles),ifile)\n",
    "    data=fits.getdata(ifile)\n",
    "    allbias.append(data)\n",
    "allbias=np.stack(allbias)\n",
    "print(allbias.shape)\n",
    "superbias=np.median(allbias,axis=0)\n",
    "fits.writeto(reduced_data + 'bias.fit',superbias.astype('float32'),overwrite=True)\n",
    "print (superbias.min(), superbias.max(), superbias.mean(), superbias.std())"
   ]
  },
  {
   "cell_type": "code",
   "execution_count": null,
   "id": "1c015161-1c09-4f8a-b18e-46a6883c166e",
   "metadata": {},
   "outputs": [],
   "source": [
    "## display the masterbias\n",
    "plt.figure(figsize=(8,8))\n",
    "plt.imshow(superbias,vmin=-5,vmax=5,origin='lower')\n",
    "plt.colorbar()\n",
    "plt.title(\"super bias derived from bias frames\")"
   ]
  },
  {
   "cell_type": "markdown",
   "id": "ead03fa2-c5c3-48c9-aac0-a41e477ce5bb",
   "metadata": {},
   "source": [
    "## Create masterflat"
   ]
  },
  {
   "cell_type": "code",
   "execution_count": null,
   "id": "cf9e5d22-d978-4950-8172-cad6fc27a496",
   "metadata": {},
   "outputs": [],
   "source": [
    "ffiles=glob.glob(raw_data + flats)\n",
    "ffiles.sort()\n",
    "allflat=[]\n",
    "print(\"combining dome flats...\")\n",
    "for i,ifile in enumerate(ffiles):\n",
    "    print(\"reading flat:\", i+1,len(ffiles),ifile)\n",
    "    # flat-fielding: subtract bias and then normalize the flat images\n",
    "    data=fits.getdata(ifile)-superbias\n",
    "    mflat=np.median(data[1500-256:1500+256,1500-256:1500+256])\n",
    "    data/=mflat\n",
    "    #print(\"median flat:\",mflat)\n",
    "    allflat.append(data)\n",
    "allflat=np.stack(allflat)\n",
    "print(allflat.shape)\n",
    "domeflat=np.median(allflat,axis=0)\n",
    "fits.writeto(reduced_data + 'domeflat.fit',domeflat.astype('float32'),overwrite=True)\n",
    "print (domeflat.min(), domeflat.max(), domeflat.mean(), domeflat.std())\n"
   ]
  },
  {
   "cell_type": "code",
   "execution_count": null,
   "id": "b6b88beb-fd1c-4eef-9b1a-c3c3f7c1d040",
   "metadata": {},
   "outputs": [],
   "source": [
    "## display the masterflat\n",
    "plt.figure(figsize=(8,8))\n",
    "plt.imshow(domeflat,origin='lower')\n",
    "plt.colorbar()\n",
    "plt.title(\"dome flat derived from dome flats\")"
   ]
  },
  {
   "cell_type": "markdown",
   "id": "93f5f6f7-db9d-4d6a-8fe9-2c1b5e67fb7a",
   "metadata": {},
   "source": [
    "## Calculate gain and readout noise"
   ]
  },
  {
   "cell_type": "code",
   "execution_count": null,
   "id": "593b7e5b-8a49-4634-930d-bc6699146ac6",
   "metadata": {},
   "outputs": [],
   "source": [
    "## calculate gain and read noise\n",
    "from astropy.stats import sigma_clipped_stats\n",
    "biasfile1=raw_data + 'd4466637BIASR213.fit'\n",
    "biasfile2=raw_data + 'd4466637BIASR214.fit'\n",
    "flatfile1=raw_data + 'd4466637FLATR201.fit'\n",
    "flatfile2=raw_data + 'd4466637FLATR202.fit'\n",
    "bias1=fits.getdata(biasfile1)[1500-256:1500+256,1500-256:1500+256]\n",
    "bias2=fits.getdata(biasfile2)[1500-256:1500+256,1500-256:1500+256]\n",
    "flat1=fits.getdata(flatfile1)[1500-256:1500+256,1500-256:1500+256]\n",
    "flat2=fits.getdata(flatfile2)[1500-256:1500+256,1500-256:1500+256]\n",
    "mean_flat1=np.median(flat1)\n",
    "mean_flat2=np.median(flat2)\n",
    "mean_bias1=np.median(bias1)\n",
    "mean_bias2=np.median(bias2)\n",
    "_,_,std_biasdiff=sigma_clipped_stats(bias1-bias2,sigma=4.0,maxiters=2)\n",
    "_,_,std_flatdiff=sigma_clipped_stats(flat1-flat2,sigma=4.0,maxiters=2)\n",
    "#print(mean_bias1,mean_bias2,mean_flat1,mean_flat2,std_biasdiff,std_flatdiff)\n",
    "gain=((mean_flat1+mean_flat2)-(mean_bias1+mean_bias2))/((std_flatdiff**2-std_biasdiff**2))\n",
    "rdnoise=gain*std_biasdiff/np.sqrt(2)\n",
    "print(\"gain: \",gain, \"readout noise:\",rdnoise)"
   ]
  },
  {
   "cell_type": "markdown",
   "id": "6fa62463-7175-4a0e-987c-b5b741ec6e06",
   "metadata": {},
   "source": [
    "## Get object coord"
   ]
  },
  {
   "cell_type": "code",
   "execution_count": null,
   "id": "e1c3447a-bdac-43c5-bb5f-20c342d74563",
   "metadata": {},
   "outputs": [],
   "source": [
    "from astropy.coordinates import SkyCoord\n",
    "import astropy.units as u\n",
    "import glob,os\n",
    "c=SkyCoord(\"02:04:10.278\",\"+46:41:16.2\",frame='icrs',unit=(u.hourangle,u.degree))\n",
    "ra=c.ra.degree; dec=c.dec.degree\n",
    "print(\"ra:\", ra, \"dec:\",c.dec.degree)\n",
    "epoch=2000.0 \n",
    "pixscale=0.137 # in arcsec\n"
   ]
  },
  {
   "cell_type": "markdown",
   "id": "bef07f33-7288-4856-9dc7-b777709885ff",
   "metadata": {},
   "source": [
    "## Reduce sciences frames"
   ]
  },
  {
   "cell_type": "code",
   "execution_count": null,
   "id": "1c0ddc92-2027-4232-8896-975d9e4d5ee5",
   "metadata": {},
   "outputs": [],
   "source": [
    "## get the center of FoV (pointing to the target) and adding parameters to the FITS header\n",
    "# add keywords to FITS header of science frames\n",
    "outdir=reduced_data\n",
    "sfiles=glob.glob(raw_data + sciences) # science frames\n",
    "sfiles.sort() # in alphabetic order \n",
    "for i,ifile in enumerate(sfiles):\n",
    "    #print(\"reducing (debias, flat-fielding, and flipping) :\", i+1,len(sfiles),ifile)\n",
    "    indir,infile=os.path.split(ifile)\n",
    "    rootname,_=os.path.splitext(infile)\n",
    "    # we change the first character from \"d\" to \"p\" for new files and ensure not to cover the raw data\n",
    "    outfile=os.path.join(outdir,\"p\"+rootname[1:]+'.fit') \n",
    "    head=fits.getheader(ifile,output_verifystr=\"silentfix\")\n",
    "    # get the origin of the subregion\n",
    "    col_origin=head['CRVAL1']\n",
    "    row_origin=head['CRVAL2']\n",
    "    subflat=domeflat[row_origin:row_origin+512,col_origin:col_origin+512]\n",
    "    subbias=superbias[row_origin:row_origin+512,col_origin:col_origin+512]\n",
    "    if i==0:\n",
    "        ## to show an example of the subsection of bias and flat\n",
    "        fits.writeto('../../reduced_data/subflat.fit',subflat.astype('float32'),overwrite=True)\n",
    "        fits.writeto('../../reduced_data/subbias.fit',subbias.astype('float32'),overwrite=True)\n",
    "        #break\n",
    "    data=fits.getdata(ifile)\n",
    "    \n",
    "    # de-bias and flat-fielding\n",
    "    data=(data-subbias)/subflat\n",
    "    # set the initial reference point in the WCS parameters if doing astrometry \n",
    "    head['epoch']=2000.0\n",
    "    head['CRVAL1']=ra\n",
    "    head['CRVAL2']=dec\n",
    "    head['CRPIX1']=head['NAXIS1']/2.0\n",
    "    head['CRPIX2']=head['NAXIS2']/2.0\n",
    "    head['CDELT1']=-pixscale/3600.0 # minus for left east\n",
    "    head['CDELT2']=pixscale/3600.0\n",
    "    head['CTYPE1']='RA---TAN' # projection type\n",
    "    head['CTYPE2']='DEC--TAN'\n",
    "    head['GAIN']=(gain,'GAIN in e-/ADU')\n",
    "    head['RDNOISE']=(rdnoise,'readout noise in electron')\n",
    "    print(\"writing to \"+outfile)\n",
    "    # flip up down to make the image with north up and east left\n",
    "    fits.writeto(outfile,np.flipud(data),header=head,overwrite=True,output_verify=\"silentfix\")"
   ]
  },
  {
   "cell_type": "markdown",
   "id": "f674b548-d272-4306-88bd-217cb1307685",
   "metadata": {},
   "source": [
    "# Photometry\n",
    "- Compute relative position shift between different exposures and do aperture photometry using the python package of photutils (no astrometry done)"
   ]
  },
  {
   "cell_type": "markdown",
   "id": "ff8b6c2b-f8ad-4c4a-b750-bc0cf7235361",
   "metadata": {},
   "source": [
    "## Generate sources mask"
   ]
  },
  {
   "cell_type": "code",
   "execution_count": null,
   "id": "6741d45f-3947-427f-89cd-1845abf5ce37",
   "metadata": {},
   "outputs": [],
   "source": [
    "from astropy.io import fits\n",
    "import photutils as pht\n",
    "from astropy.stats import sigma_clipped_stats, SigmaClip\n",
    "from photutils.segmentation import detect_threshold, detect_sources\n",
    "from photutils.utils import circular_footprint\n",
    "\n",
    "data=fits.getdata(reduced_data + 'p4466637UW32R004.fit')\n",
    "mean, median, std = sigma_clipped_stats(data, sigma=3.0)\n",
    "print((mean, median, std))  \n",
    "\n",
    "sigma_clip = SigmaClip(sigma=3.0, maxiters=10)\n",
    "threshold = detect_threshold(data, nsigma=2.0, sigma_clip=sigma_clip)\n",
    "segment_img = detect_sources(data, threshold, npixels=5)\n",
    "footprint = circular_footprint(radius=3)\n",
    "mask = segment_img.make_source_mask(footprint=footprint)\n",
    "\n",
    "mean, median, std = sigma_clipped_stats(data, sigma=3.0, mask=mask)\n",
    "print((mean, median, std))  \n",
    "\n",
    "f,axs=plt.subplots(1,2,figsize=(16,8))\n",
    "axs[0].imshow(data,vmin=300,vmax=600,origin='lower')\n",
    "axs[0].set_title(\"data\")\n",
    "axs[1].imshow(mask,origin='lower')\n",
    "axs[1].set_title(\"mask\");"
   ]
  },
  {
   "cell_type": "markdown",
   "id": "b6d29a19-6c6b-4123-93d3-7407ff4cdfb1",
   "metadata": {},
   "source": [
    "## Generate background sky"
   ]
  },
  {
   "cell_type": "code",
   "execution_count": null,
   "id": "59940028-653e-4787-b39a-7ecd966efd68",
   "metadata": {},
   "outputs": [],
   "source": [
    "## get 2D sky map\n",
    "from astropy.stats import SigmaClip\n",
    "from photutils.background import SExtractorBackground\n",
    "from photutils.background import Background2D\n",
    "sigma_clip = SigmaClip(sigma=3.)\n",
    "bkg_estimator = SExtractorBackground()\n",
    "bkg = Background2D(data, (64, 64), mask=mask,filter_size=(3, 3), sigma_clip=sigma_clip, bkg_estimator=bkg_estimator)"
   ]
  },
  {
   "cell_type": "code",
   "execution_count": null,
   "id": "0129f675-917a-48f7-ae32-8ce4e29cfd2c",
   "metadata": {},
   "outputs": [],
   "source": [
    "print(bkg.background_median,bkg.background_rms_median)"
   ]
  },
  {
   "cell_type": "code",
   "execution_count": null,
   "id": "8809956d-4753-44d5-8666-6b5d6521970a",
   "metadata": {},
   "outputs": [],
   "source": [
    "f,axs=plt.subplots(1,2,figsize=(16,8))\n",
    "axs[0].imshow(bkg.background,origin='lower')\n",
    "axs[0].set_title(\"background\")\n",
    "axs[1].imshow(bkg.background_rms,origin='lower')\n",
    "axs[1].set_title(\"background rms\")"
   ]
  },
  {
   "cell_type": "markdown",
   "id": "67d3fe80-e107-4e7a-86b7-e74c1572e3c0",
   "metadata": {},
   "source": [
    "## Detect sources"
   ]
  },
  {
   "cell_type": "code",
   "execution_count": null,
   "id": "04782a67-b319-492a-ac8f-883f5a9617bb",
   "metadata": {},
   "outputs": [],
   "source": [
    "## find objects and calculate basic information\n",
    "from photutils.detection import IRAFStarFinder, DAOStarFinder\n",
    "\n",
    "daofind = IRAFStarFinder(fwhm=3.0, \n",
    "                         threshold=5.*bkg.background_rms_median,\n",
    "                         exclude_border=True,\n",
    "                         sharplo=0.5, \n",
    "                         sharphi=2.0, \n",
    "                         roundlo=0.0, \n",
    "                         roundhi=0.7)\n",
    "\"\"\"\n",
    "daofind = DAOStarFinder(fwhm=1.0, \n",
    "                         threshold=3.*bkg.background_rms_median,\n",
    "                         exclude_border=True,\n",
    "                         sharplo=0.5, \n",
    "                         sharphi=2.0, \n",
    "                         roundlo=0.0, \n",
    "                         roundhi=0.7)\n",
    "\"\"\"\n",
    "sources = daofind(data - bkg.background_median)\n"
   ]
  },
  {
   "cell_type": "code",
   "execution_count": null,
   "id": "0df21e5f-2074-489f-b508-206f06a6b65d",
   "metadata": {},
   "outputs": [],
   "source": [
    "print(sources)\n",
    "#print(sources.colnames)"
   ]
  },
  {
   "cell_type": "markdown",
   "id": "ce200a7a-4373-4ede-ae9b-71c7d25b878d",
   "metadata": {},
   "source": [
    "## Show sources"
   ]
  },
  {
   "cell_type": "code",
   "execution_count": null,
   "id": "47609de8-89cd-4989-9ea2-fc9882a3044b",
   "metadata": {},
   "outputs": [],
   "source": [
    "#from photutils import CircularAperture\n",
    "from photutils.aperture import CircularAperture\n",
    "positions = np.transpose((sources['xcentroid'], sources['ycentroid']))\n",
    "apertures = CircularAperture(positions, r=10.)\n",
    "plt.figure(figsize=(10,8))\n",
    "plt.imshow(data, cmap='Greys_r', origin='lower', vmin=300,vmax=600, interpolation='nearest')\n",
    "apertures.plot(color='red', lw=1.5, alpha=0.5);\n"
   ]
  },
  {
   "cell_type": "code",
   "execution_count": null,
   "id": "ce7fb084-3842-46c8-9511-64237c352dcc",
   "metadata": {},
   "outputs": [],
   "source": [
    "## error estimation = photon poisson error + background error\n",
    "from photutils.utils import calc_total_error\n",
    "#gain = 2.\n",
    "error=calc_total_error(data-bkg.background, bkg.background_rms, gain)\n",
    "print(np.median(error))"
   ]
  },
  {
   "cell_type": "markdown",
   "id": "0789dc83-1d83-4ee9-a7b6-29f7e89ce1ae",
   "metadata": {},
   "source": [
    "## Check photometry (aperture mode)"
   ]
  },
  {
   "cell_type": "code",
   "execution_count": null,
   "id": "4f3e0135-3808-4fd4-821d-49a182d61381",
   "metadata": {},
   "outputs": [],
   "source": [
    "## aperture photometry\n",
    "from astropy.table import Table\n",
    "from photutils.aperture import CircularAperture\n",
    "from photutils.aperture import aperture_photometry\n",
    "from astropy import table\n",
    "\n",
    "radii=[3,4,5,6,8,10,12] ## aperture radii in pixels\n",
    "positions=[(ix,iy) for ix,iy in zip(sources['xcentroid'],sources['ycentroid'])]\n",
    "apertures = [CircularAperture(positions, r=r) for r in radii]\n",
    "aper_phot= aperture_photometry(data - bkg.background, apertures, error=error)\n",
    "#convert flux to magnitude, using a instrumental zeropoint of 25\n",
    "for i in range(len(radii)):\n",
    "    fcol='aperture_sum_'+str(i)\n",
    "    ecol='aperture_sum_err_'+str(i)\n",
    "    flux=aper_phot[fcol]\n",
    "    fluxerr=aper_phot[ecol]\n",
    "    mag=-2.5*np.log10(flux)+25\n",
    "    magerr=2.5/(flux*np.log(10))*fluxerr\n",
    "    aper_phot[fcol]=mag\n",
    "    aper_phot[ecol]=magerr\n",
    "    aper_phot.rename_column(fcol,'mag_'+str(i))\n",
    "    aper_phot.rename_column(ecol,'magerr_'+str(i))"
   ]
  },
  {
   "cell_type": "code",
   "execution_count": null,
   "id": "baa92416-3f5b-44d7-b9c4-817663515b87",
   "metadata": {},
   "outputs": [],
   "source": [
    "#print(aper_phot.colnames)\n",
    "print(aper_phot)\n",
    "#print(aper_phot['mag_8'], aper_phot['magerr_8'])"
   ]
  },
  {
   "cell_type": "markdown",
   "id": "645ca549-efbf-400c-981f-12e9baaaa384",
   "metadata": {},
   "source": [
    "## Process sciences frames"
   ]
  },
  {
   "cell_type": "code",
   "execution_count": null,
   "id": "4da1df75-98e1-40e8-a929-15c576596c74",
   "metadata": {},
   "outputs": [],
   "source": [
    "from photutils.background import SExtractorBackground\n",
    "from photutils.background import Background2D\n",
    "from photutils.detection import IRAFStarFinder\n",
    "from photutils.aperture import CircularAperture\n",
    "from photutils.aperture import aperture_photometry\n",
    "\n",
    "cfiles=glob.glob(reduced_data + \"p*UW32R*.fit\") # science frames\n",
    "cfiles.sort() # in alphabetic order\n",
    "radii=[3,4,5,6,8,10,12,15] ## aperture radii in pixels\n",
    "for i,ifile in enumerate(cfiles):\n",
    "    print(\"aperture photometry :\", i+1,len(cfiles),ifile)\n",
    "    rootname,_=os.path.splitext(ifile)\n",
    "    catfile=rootname+'-cat.fits'\n",
    "    data=fits.getdata(ifile)\n",
    "    ## or first mask sources then estimate the sky background\n",
    "\n",
    "    sigma_clip = SigmaClip(sigma=3.0, maxiters=10)\n",
    "    threshold = detect_threshold(data, nsigma=2.0, sigma_clip=sigma_clip)\n",
    "    segment_img = detect_sources(data, threshold, npixels=5)\n",
    "    footprint = circular_footprint(radius=5)\n",
    "    mask = segment_img.make_source_mask(footprint=footprint)\n",
    "    mean, median, std = sigma_clipped_stats(data, sigma=3.0, mask=mask)\n",
    "    \n",
    "    bkg_estimator = SExtractorBackground()\n",
    "    bkg = Background2D(data, (64, 64), mask=mask,filter_size=(3, 3), \n",
    "                           sigma_clip=sigma_clip, bkg_estimator=bkg_estimator)\n",
    "    #print(bkg.background_median,bkg.background_rms_median)\n",
    "    daofind = IRAFStarFinder(fwhm=3.0, threshold=5.*bkg.background_rms_median,\n",
    "                                 exclude_border=True, sharplo=0.5, sharphi=2.0, roundlo=0.0, roundhi=0.7)\n",
    "    sources = daofind(data - bkg.background)\n",
    "    positions=[(ix,iy) for ix,iy in zip(sources['xcentroid'],sources['ycentroid'])]\n",
    "    apertures = [CircularAperture(positions, r=r) for r in radii]\n",
    "    error=calc_total_error(data-bkg.background, bkg.background_rms, gain)\n",
    "    aper_phot= aperture_photometry(data - bkg.background, apertures, error=error)\n",
    "    #print(len(aper_phot))\n",
    "    #convert flux to magnitude, using a instrumental zeropoint of 25\n",
    "    #for j in range(len(radii)):\n",
    "    # fcol='aperture_sum_'+str(j)\n",
    "    # ecol='aperture_sum_err_'+str(j)\n",
    "    #flux=aper_phot[fcol]\n",
    "    #fluxerr=aper_phot[ecol]\n",
    "    #mag=-2.5*np.log10(flux)+25\n",
    "    #magerr=2.5/(flux*np.log(10))*fluxerr\n",
    "    #aper_phot[fcol]=mag\n",
    "    #aper_phot[ecol]=magerr\n",
    "    #aper_phot.rename_column(fcol,'mag_'+str(j))\n",
    "    #aper_phot.rename_column(ecol,'magerr_'+str(j))\n",
    "    aper_phot.write(catfile,overwrite=True)\n"
   ]
  },
  {
   "cell_type": "markdown",
   "id": "c59ece1c-2051-4b32-a41e-3642385dadbc",
   "metadata": {},
   "source": [
    "## Check shift"
   ]
  },
  {
   "cell_type": "code",
   "execution_count": null,
   "id": "9875c570-e79f-4b63-a738-c4921acfd746",
   "metadata": {},
   "outputs": [],
   "source": [
    "## display two images to see the shift\n",
    "f,axs=plt.subplots(1,2,figsize=(10,8))\n",
    "data1=fits.getdata(reduced_data + 'p4466637UW32R004.fit')\n",
    "data2=fits.getdata(reduced_data + 'p4466637UW32R007.fit')\n",
    "axs[0].imshow(data1,vmin=300,vmax=600,origin='lower')\n",
    "axs[0].set_title(\"image 1\")\n",
    "axs[1].imshow(data2,vmin=300,vmax=600,origin='lower')\n",
    "axs[1].set_title(\"image 2\")"
   ]
  },
  {
   "cell_type": "code",
   "execution_count": null,
   "id": "86b8d47e-acef-4b54-be04-d29b31b5de67",
   "metadata": {},
   "outputs": [],
   "source": [
    "cat1 = Table.read(reduced_data + 'p4466637UW32R004-cat.fits')\n",
    "cat2 = Table.read(reduced_data + 'p4466637UW32R007-cat.fits')\n",
    "x1=cat1['xcenter']\n",
    "y1=cat1['ycenter']\n",
    "x2=cat2['xcenter']\n",
    "y2=cat2['ycenter']\n",
    "ncat1=len(cat1)\n",
    "ncat2=len(cat2)\n",
    "XX=[]\n",
    "YY=[]\n",
    "for i in range(ncat2):\n",
    "    XX.extend((x1-x2[i]))\n",
    "    YY.extend((y1-y2[i]))\n",
    "XX=np.array(XX)\n",
    "YY=np.array(YY)\n",
    "xhist,xbins=np.histogram(XX,range=[-200,200],bins=401)\n",
    "yhist,ybins=np.histogram(YY,range=[-200,200],bins=401)\n",
    "print(np.median(xhist),np.median(yhist))\n",
    "f,axs=plt.subplots(1,2,figsize=(16,8))\n",
    "axs[0].hist(XX,range=[-200,200],bins=401)\n",
    "axs[0].set_title(\"x shift\")\n",
    "axs[1].hist(YY,range=[-200,200],bins=401)\n",
    "axs[1].set_title(\"y shift\")\n"
   ]
  },
  {
   "cell_type": "markdown",
   "id": "e9dd87ac-faef-4bba-a78a-fda966170aca",
   "metadata": {},
   "source": [
    "## Apply shift"
   ]
  },
  {
   "cell_type": "code",
   "execution_count": null,
   "id": "60be537f-1e84-4ec4-a4ca-0bb72ea2bf5b",
   "metadata": {},
   "outputs": [],
   "source": [
    "## calculate shifts and update catalogs\n",
    "\n",
    "for i,ifile in enumerate(cfiles):\n",
    "    rootname,_=os.path.splitext(ifile)\n",
    "    catfile=rootname+'-cat.fits'\n",
    "    print(\"calculate shifts :\", i+1,len(cfiles),ifile)\n",
    "    if i==0:\n",
    "        cat1=Table.read(catfile)\n",
    "        x1=cat1['xcenter']\n",
    "        y1=cat1['ycenter']\n",
    "        if 'x_sht' not in cat1.colnames:\n",
    "            xcol=Table.Column(x1,name='x_sht')\n",
    "            ycol=Table.Column(y1,name='y_sht')\n",
    "            cat1.add_columns([xcol,ycol])\n",
    "        else:\n",
    "            cat1['x_sht']=x1\n",
    "            cat1['y_sht']=y1\n",
    "        cat1.write(catfile,overwrite=True)\n",
    "    else:\n",
    "        cat2=Table.read(catfile)\n",
    "        ncat2=len(cat2)\n",
    "        x2=cat2['xcenter']\n",
    "        y2=cat2['ycenter']\n",
    "        XX=[]; YY=[]\n",
    "        for j in range(ncat2):\n",
    "            XX.extend((x1-x2[j]))\n",
    "            YY.extend((y1-y2[j]))\n",
    "        XX=np.array(XX)\n",
    "        YY=np.array(YY)\n",
    "        xhist,xbins=np.histogram(XX,range=[-200,200],bins=401)\n",
    "        yhist,ybins=np.histogram(YY,range=[-200,200],bins=401)\n",
    "        idx=np.argmax(xhist)\n",
    "        xsht0=(xbins[idx]+xbins[idx+1])/2.0\n",
    "        idx=np.argmax(yhist)\n",
    "        ysht0=(ybins[idx]+ybins[idx+1])/2.0\n",
    "        print(\"initial shift:\",xsht0,ysht0)\n",
    "        mask=(np.abs(XX-xsht0)<3) & (np.abs(YY-ysht0)<3)\n",
    "        #print(mask.sum())\n",
    "        xsht1=np.median(XX[mask])\n",
    "        ysht1=np.median(YY[mask])\n",
    "        print(\"finetuned shift:\",xsht1,ysht1)\n",
    "        if 'x_sht' not in cat1.colnames:\n",
    "            xcol=Table.Column(x2+xsht1,name='x_sht')\n",
    "            ycol=Table.Column(y2+ysht1,name='y_sht')\n",
    "            cat2.add_columns([xcol,ycol])\n",
    "        else:\n",
    "            cat2['x_sht']=x2+xsht1\n",
    "            cat2['y_sht']=y2+ysht1\n",
    "        \n",
    "        cat2.write(catfile,overwrite=True)"
   ]
  },
  {
   "cell_type": "code",
   "execution_count": null,
   "id": "b803c94d-5633-4444-b956-09769732d136",
   "metadata": {},
   "outputs": [],
   "source": [
    "## define target\n",
    "\n",
    "data=fits.getdata(reduced_data + 'p4466637UW32R004.fit')\n",
    "x_targ,y_targ=(193.39-1,358.18-1)\n",
    "#x_comp,y_comp=(159.54-1,336.61-1)\n",
    "#x_vali,y_vali=(111.89-1,358.47-1)\n",
    "x_comp,y_comp=(329.82-1,375.68-1)\n",
    "x_vali,y_vali=(179.24-1,413.60-1)\n",
    "aper_targ = CircularAperture((x_targ,y_targ), r=10.)\n",
    "aper_comp = CircularAperture((x_comp,y_comp), r=10.)\n",
    "aper_vali = CircularAperture((x_vali,y_vali), r=10.)\n",
    "plt.figure(figsize=(8,8))\n",
    "plt.imshow(data, cmap='Greys_r', origin='lower', vmin=300,vmax=600, interpolation='nearest')\n",
    "aper_targ.plot(color='red', lw=1.5, alpha=0.5)\n",
    "aper_comp.plot(color='cyan', lw=1.5, alpha=0.5)\n",
    "aper_vali.plot(color='yellow', lw=1.5, alpha=0.5)\n",
    "plt.title('red: target, cyan: comparison, yellow: validation')\n"
   ]
  },
  {
   "cell_type": "markdown",
   "id": "e7d671d9-f753-40ec-8ae7-cda38ce29546",
   "metadata": {},
   "source": [
    "## Run photometry"
   ]
  },
  {
   "cell_type": "code",
   "execution_count": null,
   "id": "016edcd0-c6b2-4348-a545-e9bb3b93ef39",
   "metadata": {},
   "outputs": [],
   "source": [
    "## prepare data\n",
    "\n",
    "from astropy.time import Time\n",
    "naper=len(radii)\n",
    "nfiles=len(cfiles)\n",
    "lc_targ=np.zeros((1+2*naper,nfiles))\n",
    "lc_comp=np.zeros((1+2*naper,nfiles))\n",
    "lc_vali=np.zeros((1+2*naper,nfiles))\n",
    "print(\"calculating light curves...\")\n",
    "for i,ifile in enumerate(cfiles):\n",
    " rootname,_=os.path.splitext(ifile)\n",
    " head=fits.getheader(ifile)\n",
    " datestr=head['DATE-OBS']\n",
    " date=np.array(datestr.split('/')).astype('int')\n",
    " date[2]=2000\n",
    " timestr=head['TIME']\n",
    " datetime=\"%4d-%2d-%2d\"%(date[2],date[1],date[0])+'T'+timestr.strip()\n",
    " t=Time(datetime,format='isot',scale='utc')\n",
    " jd=t.mjd\n",
    " lc_targ[0,i]=jd\n",
    " lc_comp[0,i]=jd\n",
    " lc_vali[0,i]=jd\n",
    " \n",
    " print(\"MJD: \",datetime,jd)\n",
    " catfile=rootname+'-cat.fits'\n",
    " print(\"reading:\", i+1,len(cfiles),ifile)\n",
    " \n",
    " cat=fits.getdata(catfile)\n",
    " x=cat['x_sht']\n",
    " y=cat['y_sht']\n",
    " \n",
    " # get target star\n",
    " d=np.sqrt((x-x_targ)**2+(y-y_targ)**2)\n",
    " idx=np.argmin(d)\n",
    " icat=cat[idx]\n",
    " dt=d[idx]\n",
    " if d[idx]<2:\n",
    "     for j in range(naper):\n",
    "         lc_targ[j+1,i]=icat['aperture_sum_'+str(j)]\n",
    "         lc_targ[naper+j+1,i]=icat['aperture_sum_err_'+str(j)]\n",
    " else:\n",
    "     lc_targ[1:,i]=np.nan\n",
    " \n",
    " \n",
    " # get comparison star\n",
    " d=np.sqrt((x-x_comp)**2+(y-y_comp)**2)\n",
    " idx=np.argmin(d)\n",
    " icat=cat[idx]\n",
    " dc=d[idx]\n",
    " if d[idx]<2:\n",
    "     for j in range(naper):\n",
    "         lc_comp[j+1,i]=icat['aperture_sum_'+str(j)]\n",
    "         lc_comp[naper+j+1,i]=icat['aperture_sum_err_'+str(j)]\n",
    " else:\n",
    "     lc_comp[1:,i]=np.nan\n",
    " \n",
    " # get validation star\n",
    " d=np.sqrt((x-x_vali)**2+(y-y_vali)**2)\n",
    " idx=np.argmin(d)\n",
    " icat=cat[idx]\n",
    " dv=d[idx]\n",
    " if d[idx]<2:\n",
    "     for j in range(naper):\n",
    "         lc_vali[j+1,i]=icat['aperture_sum_'+str(j)]\n",
    "         lc_vali[naper+j+1,i]=icat['aperture_sum_err_'+str(j)]\n",
    " else:\n",
    "     lc_vali[1:,i]=np.nan\n",
    " \n",
    " print(dt,dc,dv)"
   ]
  },
  {
   "cell_type": "markdown",
   "id": "578dd983-6628-4cd6-a29d-f277546ea845",
   "metadata": {},
   "source": [
    "## Plot lightcurves"
   ]
  },
  {
   "cell_type": "code",
   "execution_count": null,
   "id": "2202669a-48b0-4b8f-b363-dbb430896926",
   "metadata": {},
   "outputs": [],
   "source": [
    "### function to show curve according to aperture value\n",
    "\n",
    "def show_lightcurve(change): #(iaper: int = 4) -> None:\n",
    "    #iaper=4 # for iaper aperture\n",
    "    iaper=change['new'] # for iaper aperture\n",
    "    rlc_targ=lc_targ[iaper+1,:]/lc_comp[iaper+1,:]\n",
    "    rlc_vali=lc_vali[iaper+1,:]/lc_comp[iaper+1,:]\n",
    "    a1=1.0/lc_comp[iaper+1,:]; e1=lc_targ[iaper+naper+1,:]\n",
    "    a2=lc_targ[iaper+1,:]/lc_comp[iaper+1,:]**2; e2=lc_comp[iaper+naper+1,:]\n",
    "    rlcerr_targ=np.sqrt(a1**2*e1**2+a2**2*e2**2)\n",
    "    a1=1.0/lc_comp[iaper+1,:]; e1=lc_vali[iaper+naper+1,:]\n",
    "    a2=lc_vali[iaper+1,:]/lc_comp[iaper+1,:]**2; e2=lc_comp[iaper+naper+1,:]\n",
    "    rlcerr_vali=np.sqrt(a1**2*e1**2+a2**2*e2**2)\n",
    "    idx=np.argmin(np.abs(lc_targ[0,:]-51888.67))\n",
    "    norm_targ=np.median(rlc_targ[idx:])\n",
    "    norm_vali=np.median(rlc_vali[idx:])\n",
    "    tmpx=[np.min(lc_targ[0,:]),np.max(lc_targ[0,:])]\n",
    "    plt.figure(figsize=(10,6))\n",
    "    plt.plot(lc_targ[0,:],rlc_targ/norm_targ,'r.')\n",
    "    plt.plot(lc_targ[0,:],rlc_vali/norm_vali+0.08,'b.')\n",
    "    plt.plot(tmpx,[1.0,1.0],'g-',linewidth=2)\n",
    "    plt.plot(tmpx,[1.08,1.08],'g-',linewidth=2)\n",
    "    plt.ylim([0.95,1.125])\n",
    "    plt.xlabel('MJD',fontsize=20)\n",
    "    plt.ylabel('$\\Delta m$')\n",
    "    plt.title(\"red: exoplanet transit, blue: validation star\")\n",
    "    plt.show()\n",
    "    print('photerr for target/comparison:',np.median(rlcerr_targ))\n",
    "    print('photerr for validation/comparison:',np.median(rlcerr_vali))\n",
    "    #print(iaper, sigma_clipped_stats(2.5*np.log10(rlc_vali),sigma=3,maxiters=3));\n"
   ]
  },
  {
   "cell_type": "code",
   "execution_count": null,
   "id": "3cb165a5-572e-4692-847c-bd83aab19f12",
   "metadata": {},
   "outputs": [],
   "source": [
    "aper_select = widgets.Dropdown(options=radii, value=4, description='Aperture size:')\n",
    "display(aper_select)\n",
    "\n",
    "def handle_aperture_change(change):\n",
    "    with out:\n",
    "        out.clear_output()\n",
    "        show_lightcurve(change)\n",
    "\n",
    "aper_select.observe(handle_aperture_change, names='value')\n"
   ]
  },
  {
   "cell_type": "code",
   "execution_count": null,
   "id": "b0bd55ab-58c8-4a0c-afae-efeb85653e86",
   "metadata": {},
   "outputs": [],
   "source": [
    "out.clear_output()"
   ]
  },
  {
   "cell_type": "code",
   "execution_count": null,
   "id": "f5715e8b-b035-4bf4-9f5b-63ce9360e4ab",
   "metadata": {},
   "outputs": [],
   "source": []
  }
 ],
 "metadata": {
  "kernelspec": {
   "display_name": "Python 3 (ipykernel)",
   "language": "python",
   "name": "python3"
  },
  "language_info": {
   "codemirror_mode": {
    "name": "ipython",
    "version": 3
   },
   "file_extension": ".py",
   "mimetype": "text/x-python",
   "name": "python",
   "nbconvert_exporter": "python",
   "pygments_lexer": "ipython3",
   "version": "3.10.13"
  }
 },
 "nbformat": 4,
 "nbformat_minor": 5
}
