{
 "cells": [
  {
   "cell_type": "code",
   "execution_count": 1,
   "id": "a1300e95-d67f-49cb-a49a-bb3adf28e6b0",
   "metadata": {},
   "outputs": [],
   "source": [
    "__author__ = 'Pascal Louis <plouis35@gmail.com>'\n",
    "__version__ = '0.1 alpha'\n",
    "__keywords__ = ['astronomy', 'astropy', 'ccdproc', 'photutils', 'matplotlib']\n"
   ]
  },
  {
   "cell_type": "markdown",
   "id": "6a6517c4-9fa1-421f-b6f1-22fed9c1d0d1",
   "metadata": {},
   "source": [
    "# tools for exoplanet / binary stars reduction and analysis\n",
    "## instruments tested : \n",
    "- \n",
    "- "
   ]
  },
  {
   "cell_type": "code",
   "execution_count": null,
   "id": "e7ca9f6a-03e0-49e2-b037-c24806069049",
   "metadata": {},
   "outputs": [],
   "source": []
  }
 ],
 "metadata": {
  "kernelspec": {
   "display_name": "Python 3 (ipykernel)",
   "language": "python",
   "name": "python3"
  },
  "language_info": {
   "codemirror_mode": {
    "name": "ipython",
    "version": 3
   },
   "file_extension": ".py",
   "mimetype": "text/x-python",
   "name": "python",
   "nbconvert_exporter": "python",
   "pygments_lexer": "ipython3",
   "version": "3.11.5"
  }
 },
 "nbformat": 4,
 "nbformat_minor": 5
}
