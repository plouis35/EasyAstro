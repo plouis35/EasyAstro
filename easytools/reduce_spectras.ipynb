{
 "cells": [
  {
   "cell_type": "markdown",
   "id": "9dea645d-5940-4a19-988e-fffa12c9beb1",
   "metadata": {},
   "source": [
    "# Manual reduction script - long-slit spectra"
   ]
  },
  {
   "cell_type": "markdown",
   "id": "104cb13c-6fa1-4e1a-91a0-f4cc5f6a2c1b",
   "metadata": {},
   "source": [
    "## Configuration"
   ]
  },
  {
   "cell_type": "code",
   "execution_count": null,
   "id": "697aa66e-6787-493e-8d1b-a9d3e5253547",
   "metadata": {},
   "outputs": [],
   "source": [
    "#dir = 'e:/Astro/Captures/20231008_Void/'\n",
    "dir = 'E:/Astro/Captures/20161006_tp_spectro_L3/'\n",
    "#bias = 'Bias*.fit'\n",
    "bias = 'offset-*.fit'\n",
    "#darks = 'dark*.fit'\n",
    "darks = 'noir-600-*.fit'\n",
    "flats = 'flat*.fit'\n",
    "#flats = 'flat*.fit'\n",
    "sciences = 'hd158460-*.fit'\n",
    "#sciences = 'deneb*.fit'\n",
    "calibs = 'neon-*.fit'\n",
    "\n",
    "trim_region = '600, 600, 2700, 1400'              # x1, y1, x2, y2 \n",
    "#trim_region = None\n",
    "\n",
    "masterbias = 'masterbias.fit'\n",
    "masterdark = 'masterdark.fit'\n",
    "masterflat = 'masterflat.fit'\n",
    "sciencedata = 'hd158460.fit'\n",
    "mastercalib = 'mastercalib.fit'\n",
    "\n",
    "overwrite_masters = True         # recreate masters or not ?\n",
    "memory_limit = 1e9               # how much memory (bytes) to allocate to combine operations ?\n",
    "\n",
    "camera_electronic_gain = 1.2     # asi 183mm\n",
    "camera_readout_noise = 2.2       # asi 183mm"
   ]
  },
  {
   "cell_type": "markdown",
   "id": "0c7c8eaf-61c3-4548-8456-4049886ff5fd",
   "metadata": {},
   "source": [
    "## Imports libs"
   ]
  },
  {
   "cell_type": "code",
   "execution_count": null,
   "id": "b342e474-bed5-45e6-af9c-321de95bbe7b",
   "metadata": {},
   "outputs": [],
   "source": [
    "%matplotlib widget\n",
    "import warnings, fnmatch, os\n",
    "from time import gmtime, strftime\n",
    "from pathlib import Path\n",
    "\n",
    "import numpy as np\n",
    "import matplotlib.pyplot as plt\n",
    "\n",
    "from astropy.table import Table, QTable\n",
    "from astropy import units as u\n",
    "from astropy.nddata import CCDData, StdDevUncertainty\n",
    "from astropy.stats import mad_std\n",
    "from astropy.io import fits\n",
    "from astropy.utils.exceptions import AstropyWarning\n",
    "\n",
    "from ccdproc import Combiner, combine, subtract_bias, subtract_dark, flat_correct\n",
    "from ccdproc import trim_image, Combiner, ccd_process, cosmicray_median\n",
    "\n",
    "from align_combine import align_and_combine\n",
    "\n",
    "warnings.simplefilter('ignore', category=AstropyWarning)\n",
    "#warnings.simplefilter('ignore', category=FITSFixedWarning)\n"
   ]
  },
  {
   "cell_type": "markdown",
   "id": "aa1fcd1a-93f6-4baf-a315-5ae01ac7b45f",
   "metadata": {},
   "source": [
    "## Create logger"
   ]
  },
  {
   "cell_type": "code",
   "execution_count": null,
   "id": "ad67f1e8-c81e-4763-a0e0-e91b635ccf2d",
   "metadata": {},
   "outputs": [],
   "source": [
    "from logger_utils import logger, handler\n",
    "handler.show_logs()\n",
    "handler.clear_logs()\n",
    "logger.setLevel('INFO')"
   ]
  },
  {
   "cell_type": "markdown",
   "id": "b042371d-24c4-42b5-bf14-ef8ba3f6a47e",
   "metadata": {},
   "source": [
    "## Create masters"
   ]
  },
  {
   "cell_type": "markdown",
   "id": "6cf19b64-db85-45a7-a321-21d3ce9d7e8a",
   "metadata": {},
   "source": [
    "### Bias"
   ]
  },
  {
   "cell_type": "code",
   "execution_count": null,
   "id": "958ac4a5-4e66-4810-b2b3-ad9ddde03c96",
   "metadata": {},
   "outputs": [],
   "source": [
    "### prepare filenames lists\n",
    "bias_files = [dir + f for f in fnmatch.filter(os.listdir(dir), bias)]\n",
    "logger.info('bias files to combine: ' + repr(bias_files))\n",
    "\n",
    "### create masterbias\n",
    "bias_list =  []\n",
    "if (os.path.exists(dir + masterbias)) and (overwrite_masters is False):\n",
    "    logger.info(masterbias + ' not (re)created')\n",
    "else:\n",
    "    #bias_list = [CCDData.read(f, unit = u.adu ) for f in bias_files]\n",
    "    for bias_file in bias_files:\n",
    "        logger.info('bias trim {} ...'.format(bias_file))\n",
    "        _bias_data = CCDData.read(bias_file, unit = u.adu )\n",
    "\n",
    "        _bias_trim = _bias_data\n",
    "        if trim_region is not None:\n",
    "            _bias_trim = trim_image(_bias_data[eval(trim_region)[1]:eval(trim_region)[3], eval(trim_region)[0]:eval(trim_region)[2]]) \n",
    "\n",
    "        bias_trim = CCDData(_bias_trim.data.astype('float32'), unit = u.adu , header = _bias_data.header)            \n",
    "        bias_list.append(bias_trim)\n",
    "        _bias_data = None\n",
    "\n",
    "    logger.info('masterbias combine...')\n",
    "    #_bias_master = combine(bias_list, method = 'median', dtype = np.float32, mem_limit = memory_limit)   \n",
    "    _bias_master = combine(bias_list,\n",
    "                             method='average',\n",
    "                             sigma_clip=True, sigma_clip_low_thresh=5, sigma_clip_high_thresh=5,\n",
    "                             sigma_clip_func=np.ma.median, signma_clip_dev_func=mad_std, dtype = np.float32,\n",
    "                             mem_limit = memory_limit\n",
    "                            )\n",
    "\n",
    "    bias_master = CCDData(_bias_master.data.astype('float32'), unit = u.adu , header = _bias_master.header)\n",
    "\n",
    "    #logger.info('masterbias nomalization...')\n",
    "    #bias_master.data = (bias_master.data - 1) / (10 - 1)\n",
    "    \n",
    "    bias_master.meta['DATE'] = strftime(\"%Y-%m-%dT%H:%M:%S\", gmtime())\n",
    "    bias_master.meta['combined'] = True\n",
    "    bias_master.meta['history'] = 'combined from {} bias file(s)'.format(len(bias_files))\n",
    "    bias_master.write(dir + masterbias, overwrite=True)\n",
    "    logger.info('masterbias created - combined from {} bias file(s)'.format(len(bias_files)))\n",
    "    bias_list = None\n",
    "    _bias_master = None\n"
   ]
  },
  {
   "cell_type": "markdown",
   "id": "79cb13dd-5fcc-4a0d-9364-904e94105333",
   "metadata": {},
   "source": [
    "### Darks"
   ]
  },
  {
   "cell_type": "code",
   "execution_count": null,
   "id": "bb3ebca3-593f-4fac-83d1-0d941f9626bf",
   "metadata": {},
   "outputs": [],
   "source": [
    "### prepare filenames lists\n",
    "dark_files = [dir + f for f in fnmatch.filter(os.listdir(dir), darks)]\n",
    "logger.info('dark files to combine : ' + repr(dark_files))\n",
    "\n",
    "### create masterdark\n",
    "darks_list = []\n",
    "if (os.path.exists(dir + masterdark)) and (overwrite_masters is False):\n",
    "    logger.info(masterdark + ' not (re)created')\n",
    "else:\n",
    "    for dark_file in dark_files:\n",
    "        _dark_data = CCDData.read(dark_file, unit = u.adu )\n",
    "        _dark_trim = _dark_data\n",
    "        if trim_region is not None:\n",
    "            logger.info('dark trim {} ...'.format(dark_file))\n",
    "            _dark_trim = trim_image(_dark_data[eval(trim_region)[1]:eval(trim_region)[3], eval(trim_region)[0]:eval(trim_region)[2]]) \n",
    "\n",
    "        logger.info('masterbias sub {} ...'.format(dark_file))\n",
    "        _dark_sub = subtract_bias(_dark_trim, bias_master)\n",
    "        dark_sub = CCDData(_dark_sub.data.astype('float32'), unit = u.adu , header = _dark_data.header)\n",
    "        darks_list.append(dark_sub)\n",
    "        _dark_data = None\n",
    "        _dark_sub = None\n",
    "        _dark_trim = None\n",
    "    \n",
    "    logger.info('masterdark combine...')\n",
    "    #dark_master = combine(darks_list, method='median', dtype=np.uint32, mem_limit = memory_limit)\n",
    "    _dark_master = combine(darks_list,\n",
    "                                 method='average',\n",
    "                                 sigma_clip=True, sigma_clip_low_thresh=5, sigma_clip_high_thresh=5,\n",
    "                                 sigma_clip_func=np.ma.median, signma_clip_dev_func=mad_std, dtype=np.float32,\n",
    "                                 mem_limit=memory_limit\n",
    "                                )\n",
    "    \n",
    "    dark_master = CCDData(_dark_master.data.astype('float32'), unit = u.adu , header = _dark_master.header)\n",
    "    dark_master.meta['DATE'] = strftime(\"%Y-%m-%dT%H:%M:%S\", gmtime())\n",
    "    dark_master.meta['combined'] = True\n",
    "    dark_master.meta['history'] = 'masterbias sub + combined from {} dark file(s)'.format(len(dark_files))\n",
    "    dark_master.write(dir + masterdark, overwrite=True)\n",
    "    logger.info('masterdark created - bias substracted + combined from {} dark file(s)'.format(len(dark_files)))\n",
    "    darks_list = None\n",
    "    _dark_master = None\n"
   ]
  },
  {
   "cell_type": "markdown",
   "id": "9d3c146d-9b01-421c-90ff-7f7a1ba8d896",
   "metadata": {},
   "source": [
    "### Flats"
   ]
  },
  {
   "cell_type": "code",
   "execution_count": null,
   "id": "85c92742-ca57-43b4-9434-3a0ec2f6bbb7",
   "metadata": {},
   "outputs": [],
   "source": [
    "### prepare filenames lists\n",
    "flat_files = [dir + f for f in fnmatch.filter(os.listdir(dir), flats)]\n",
    "logger.info('flat files to combine: ' + repr(flat_files))\n",
    "\n",
    "### create masterflat\n",
    "flats_list = []\n",
    "\n",
    "def inv_median(a):\n",
    "    return 1 / np.median(a)\n",
    "    \n",
    "if (os.path.exists(dir + masterflat)) and (overwrite_masters is False):\n",
    "    logger.info(masterflat + ' not (re)created')\n",
    "else:\n",
    "    for flat_file in flat_files:\n",
    "        _flat_data = CCDData.read(flat_file, unit = u.adu )\n",
    "        _flat_trim = _flat_data\n",
    "        if trim_region is not None:\n",
    "            logger.info('flat trim {} ...'.format(flat_file))\n",
    "            _flat_trim = trim_image(_flat_data[eval(trim_region)[1]:eval(trim_region)[3], eval(trim_region)[0]:eval(trim_region)[2]]) \n",
    "\n",
    "        logger.info('masterbias sub {} ...'.format(flat_file))\n",
    "        _flat_sub = subtract_bias(_flat_trim, bias_master)\n",
    "        flat_sub = CCDData(_flat_sub.data.astype('float32'), unit = u.adu , header = _flat_data.header)\n",
    "        flats_list.append(flat_sub)\n",
    "        _flat_data = None\n",
    "        _flat_sub = None\n",
    "        _flat_trim = None\n",
    "    \n",
    "    logger.info('masterflat combine...')\n",
    "    _flat_master = combine(flats_list, method='sum', dtype=np.float32, mem_limit = memory_limit)\n",
    "    #_flat_master = combine(flats_list,\n",
    "     #                            method='average', #scale=inv_median,\n",
    "      #                           sigma_clip=True, sigma_clip_low_thresh=5, sigma_clip_high_thresh=5,\n",
    "       #                          sigma_clip_func=np.ma.median, signma_clip_dev_func=mad_std, dtype=np.float32,\n",
    "        #                         mem_limit=memory_limit\n",
    "         #                       )\n",
    "    flat_master = CCDData(_flat_master.data.astype('float32'), unit = u.adu , header = _flat_master.header)\n",
    "    flat_master.meta['DATE'] = strftime(\"%Y-%m-%dT%H:%M:%S\", gmtime())\n",
    "    flat_master.meta['combined'] = True\n",
    "    flat_master.meta['history'] = 'bias substracted + combined from {} flat file(s)'.format(len(flat_files))\n",
    "    flat_master.write(dir + masterflat, overwrite=True)\n",
    "    logger.info('masterflat created : bias substracted + combined from {} flat file(s)'.format(len(flat_files)))\n",
    "    flats_list = None\n",
    "    _flat_master = None\n"
   ]
  },
  {
   "cell_type": "markdown",
   "id": "7287f819-6388-4907-8cbd-5cd8258ed4e6",
   "metadata": {},
   "source": [
    "### Calibration"
   ]
  },
  {
   "cell_type": "code",
   "execution_count": null,
   "id": "1c3449bb-28a3-4c30-9770-6adcd0eb134d",
   "metadata": {},
   "outputs": [],
   "source": [
    "calib_files = [dir + f for f in fnmatch.filter(os.listdir(dir), calibs)]\n",
    "logger.info('calibration files to combine: ' + repr(calib_files))\n",
    "\n",
    "### create mastercalib\n",
    "calibs_list = []\n",
    "   \n",
    "if (os.path.exists(dir + mastercalib)) and (overwrite_masters is False):\n",
    "    logger.info(mastercalib + ' not (re)created')\n",
    "else:\n",
    "    for calib_file in calib_files:\n",
    "        _calib_data = CCDData.read(calib_file, unit = u.adu )\n",
    "        _calib_trim = _calib_data\n",
    "        if trim_region is not None:\n",
    "            logger.info('calib trim {} ...'.format(calib_file))\n",
    "            _calib_trim = trim_image(_calib_data[eval(trim_region)[1]:eval(trim_region)[3], eval(trim_region)[0]:eval(trim_region)[2]]) \n",
    "        \n",
    "        logger.info('masterbias sub {} ...'.format(calib_file))\n",
    "        _calib_sub = subtract_bias(_calib_trim, bias_master)\n",
    "        calib_sub = CCDData(_calib_sub.data.astype('float32'), unit = u.adu , header = _calib_data.header)\n",
    "        calibs_list.append(calib_sub)\n",
    "        _calib_data = None\n",
    "        _calib_sub = None\n",
    "    \n",
    "    logger.info('mastercalib combine...')\n",
    "    #calib_master = combine(calib_list, method='median', dtype=np.float32, mem_limit = memory_limit)\n",
    "    _calib_master = combine(calibs_list,\n",
    "                                 method='average', \n",
    "                                 sigma_clip=True, sigma_clip_low_thresh=5, sigma_clip_high_thresh=5,\n",
    "                                 sigma_clip_func=np.ma.median, signma_clip_dev_func=mad_std, dtype=np.float32,\n",
    "                                 mem_limit=memory_limit\n",
    "                                )\n",
    "    calib_master = CCDData(_calib_master.data.astype('float32'), unit = u.adu , header = _calib_master.header)\n",
    "    calib_master.meta['DATE'] = strftime(\"%Y-%m-%dT%H:%M:%S\", gmtime())\n",
    "    calib_master.meta['combined'] = True\n",
    "    calib_master.meta['history'] = 'bias substracted + combined from {} calib file(s)'.format(len(calib_files))\n",
    "    calib_master.write(dir + mastercalib, overwrite=True)\n",
    "    logger.info('mastercalib created : bias substracted + combined from {} calib file(s)'.format(len(calib_files)))\n",
    "    calib_list = None\n",
    "    _calib_master = None\n"
   ]
  },
  {
   "cell_type": "markdown",
   "id": "b9becd0d-46c5-4884-a086-0a035ff84ef8",
   "metadata": {},
   "source": [
    "## Process science files"
   ]
  },
  {
   "cell_type": "markdown",
   "id": "7153edf1-2bc8-424d-a9e1-cc8e554f9eca",
   "metadata": {},
   "source": [
    "### Reduce"
   ]
  },
  {
   "cell_type": "code",
   "execution_count": null,
   "id": "1643f684-419c-4c71-8edd-349a2390dfad",
   "metadata": {},
   "outputs": [],
   "source": [
    "### prepare filenames lists\n",
    "science_files  = [dir + f for f in fnmatch.filter(os.listdir(dir), sciences)]\n",
    "logger.info('science files : ' + repr(science_files))\n",
    "\n",
    "if overwrite_masters is False:\n",
    "    bias_master = CCDData.read(dir + masterbias, unit = u.adu )\n",
    "    dark_master = CCDData.read(dir + masterdark, unit = u.adu )\n",
    "    flat_master = CCDData.read(dir + masterflat, unit = u.adu )\n",
    "\n",
    "\"\"\"\n",
    "### process science files - individual science file process version\n",
    "for sci_file in science_files:\n",
    "    logger.info('masterbias sub {} ...'.format(sci_file))\n",
    "    #sci_data = CCDData.read(sci_file, unit = u.adu )\n",
    "    sci_sub_bias = subtract_bias(CCDData.read(sci_file, unit = u.adu ), bias_master)\n",
    "    #sci_data = None\n",
    "    logger.info('masterdark sub {} ...'.format(sci_file))\n",
    "    sci_sub_dark = subtract_dark(sci_sub_bias, dark_master, scale = True, exposure_time='EXPTIME', exposure_unit=u.second)\n",
    "    sci_sub_bias = None\n",
    "    logger.info('masterflat divide {} ...'.format(sci_file))\n",
    "    sci_div_flat = flat_correct(sci_sub_dark, flat_master)\n",
    "    sci_sub_dark = None\n",
    "    sci_ok = CCDData(sci_div_flat.data.astype('float32'), unit = u.adu , header = sci_div_flat.header)\n",
    "    sci_div_flat = None\n",
    "    logger.info('writing science file (-ppr) {}'.format(sci_file))\n",
    "    sci_ok.meta['DATE'] = strftime(\"%Y-%m-%dT%H:%M:%S\", gmtime())\n",
    "    sci_ok.meta['history'] = 'bias substracted + dark substrated + flat divide'\n",
    "    sci_ok.write(Path(sci_file).with_stem(f\"{'ppr'}-{Path(sci_file).stem}\"), overwrite=True)\n",
    "\"\"\"\n",
    "\n",
    "### process science files - ccd_process version\n",
    "for sci_file in science_files:\n",
    "    sci_data = CCDData.read(sci_file, unit = u.adu )\n",
    "    _sci_trim = sci_data\n",
    "    if trim_region is not None:\n",
    "        logger.info('science trim {} ...'.format(calib_file))\n",
    "        _sci_trim = trim_image(sci_data[eval(trim_region)[1]:eval(trim_region)[3], eval(trim_region)[0]:eval(trim_region)[2]]) \n",
    "    \n",
    "    logger.info('processing (masterbias sub + masterdark sub + masterflat divide) {} ...'.format(sci_file))\n",
    "    sci_data_processed = ccd_process(_sci_trim, \n",
    "            oscan = None, \n",
    "            gain_corrected = False, \n",
    "            trim = None, \n",
    "            error = False,\n",
    "            gain = camera_electronic_gain*u.electron/u.adu ,\n",
    "            readnoise = camera_readout_noise*u.electron,\n",
    "            master_bias = bias_master,\n",
    "            dark_frame = dark_master,\n",
    "            master_flat = flat_master,\n",
    "            exposure_key = 'EXPTIME',\n",
    "            exposure_unit = u.second,\n",
    "            dark_scale = True)\n",
    "    sci_ok = CCDData(sci_data_processed.data.astype('float32'), unit = u.adu , header = sci_data.header)\n",
    "    sci_data = None\n",
    "    logger.info('writing science datafile (-ppr) {}'.format(sci_file))\n",
    "    sci_ok.meta['DATE'] = strftime(\"%Y-%m-%dT%H:%M:%S\", gmtime())\n",
    "    sci_ok.meta['history'] = 'bias substracted + dark substrated + flat divide'\n",
    "    sci_ok.write(Path(sci_file).with_stem(f\"{'ppr'}-{Path(sci_file).stem}\"), overwrite=True)\n"
   ]
  },
  {
   "cell_type": "markdown",
   "id": "bafe9d86-24f9-4891-b89d-45658b1e36f6",
   "metadata": {},
   "source": [
    "### Align and combine"
   ]
  },
  {
   "cell_type": "code",
   "execution_count": null,
   "id": "517aac46-72bb-495a-a6ef-df2ba0089f7c",
   "metadata": {},
   "outputs": [],
   "source": [
    "if overwrite_masters is False:\n",
    "    bias_master = CCDData.read(dir + masterbias, unit = u.adu )\n",
    "    dark_master = CCDData.read(dir + masterdark, unit = u.adu )\n",
    "    flat_master = CCDData.read(dir + masterflat, unit = u.adu )\n",
    "\n",
    "\n",
    "### align images and combine using a SUM\n",
    "science_files_ppr  = [dir + f for f in fnmatch.filter(os.listdir(dir), 'ppr-*' + sciences)]\n",
    "logger.info('science files aligning and combining ... : ' + repr(science_files_ppr))\n",
    "sci_aligned = align_and_combine(science_files_ppr, np.sum)\n",
    "sci_master = CCDData(sci_aligned, unit = u.adu , header = sci_ok.header)\n",
    "sci_master.meta['DATE'] = strftime(\"%Y-%m-%dT%H:%M:%S\", gmtime())\n",
    "sci_master.meta['combined'] = True\n",
    "sci_master.meta['history'] = 'aligned + combined from {} sciences file(s)'.format(len(science_files))\n",
    "sci_master.write(dir + 'ppr-' + sciencedata, overwrite=True)\n",
    "logger.info('aligned + combined from {} sciences file(s)'.format(len(science_files)))\n"
   ]
  },
  {
   "cell_type": "markdown",
   "id": "9e45fa3c-5096-44e6-b911-f8bb545816cd",
   "metadata": {},
   "source": [
    "### Remove cosmic rays"
   ]
  },
  {
   "cell_type": "code",
   "execution_count": null,
   "id": "c36d9c57-9428-4b9f-b723-f955ed19f14b",
   "metadata": {},
   "outputs": [],
   "source": [
    "if overwrite_masters is False:\n",
    "    bias_master = CCDData.read(dir + masterbias, unit = u.adu )\n",
    "    dark_master = CCDData.read(dir + masterdark, unit = u.adu )\n",
    "    flat_master = CCDData.read(dir + masterflat, unit = u.adu )\n",
    "\n",
    "### remove cosmic\n",
    "logger.info('removing cosmic rays...')\n",
    "sci_cleaned = cosmicray_median(sci_master, thresh = 5, mbox=11, rbox=11, gbox=5, error_image = np.ones(sci_master.shape))\n",
    "#sci_cleaned = cosmicray_median(sci_master, thresh = 3, mbox=5, rbox=5, gbox=5, error_image = None)\n",
    "sci_cleaned.meta['DATE'] = strftime(\"%Y-%m-%dT%H:%M:%S\", gmtime())\n",
    "sci_cleaned.meta['history'] = 'cosmicray median removed'\n",
    "sci_cleaned.write(dir + 'final-' + sciencedata, overwrite=True)\n",
    "logger.info('final-' + sciencedata + ' created')\n"
   ]
  },
  {
   "cell_type": "markdown",
   "id": "dbb75626-b822-47f1-bcd0-393df4924d2e",
   "metadata": {},
   "source": [
    "## Display"
   ]
  },
  {
   "cell_type": "code",
   "execution_count": null,
   "id": "37e79086-5f03-4ed0-8813-a096801533f0",
   "metadata": {},
   "outputs": [],
   "source": [
    "master_bias = CCDData.read(dir + masterbias, unit = u.adu)\n",
    "master_dark = CCDData.read(dir + masterdark, unit = u.adu)\n",
    "master_flat = CCDData.read(dir + masterflat, unit = u.adu)\n",
    "science_files  = [dir + f for f in fnmatch.filter(os.listdir(dir), sciences)]\n",
    "ppr_science_files  = [dir + f for f in fnmatch.filter(os.listdir(dir), 'ppr-' + sciences)]\n",
    "one_science = CCDData.read(science_files[0], unit = u.adu)\n",
    "one_science_ppr = CCDData.read(ppr_science_files[0], unit = u.adu)\n",
    "master_science = CCDData.read(dir + 'ppr-' + sciencedata, unit = u.adu)\n",
    "master_science_cosmic = CCDData.read(dir + 'final-' + sciencedata, unit = u.adu)\n",
    "master_calib = CCDData.read(dir + mastercalib, unit = u.adu)\n",
    "\n",
    "#cmap = plt.cm.magma\n",
    "colormap = plt.cm.magma\n",
    "cuts = (5, 99.90)\n",
    "\n",
    "fig, ((ax1, ax2), (ax3, ax4), (ax5, ax6), (ax7, ax8)) = plt.subplots(4, 2,figsize=(15, 15))\n",
    "#fig.subplots_adjust(bottom=1, top=1.1, left=1, right=1.1)\n",
    "fig.canvas.toolbar_position = 'bottom'\n",
    "\n",
    "\n",
    "im1 = ax1.imshow(master_bias, origin='lower', aspect='auto', cmap=colormap)\n",
    "ax1.xaxis.set_visible(False)\n",
    "ax1.yaxis.set_visible(False)\n",
    "im1.set_clim(np.percentile(master_bias, cuts))\n",
    "ax1.set_title('master_bias')\n",
    "cb = plt.colorbar(im1)\n",
    "\n",
    "im2 = ax2.imshow(master_dark, origin='lower', aspect='auto', cmap=colormap)\n",
    "ax2.xaxis.set_visible(False)\n",
    "ax2.yaxis.set_visible(False)\n",
    "im2.set_clim(np.percentile(master_dark, cuts))\n",
    "ax2.set_title('master_dark')\n",
    "cb = plt.colorbar(im2)\n",
    "\n",
    "im3 = ax3.imshow(master_flat, origin='lower', aspect='auto', cmap=colormap)\n",
    "ax3.xaxis.set_visible(False)\n",
    "ax3.yaxis.set_visible(False)\n",
    "im3.set_clim(np.percentile(master_flat, cuts))\n",
    "ax3.set_title('master_flat')\n",
    "cb = plt.colorbar(im3)\n",
    "\n",
    "im4 = ax4.imshow(master_calib, origin='lower', aspect='auto', cmap=colormap)\n",
    "ax4.xaxis.set_visible(False)\n",
    "ax4.yaxis.set_visible(False)\n",
    "im4.set_clim(np.percentile(master_calib, cuts))\n",
    "ax4.set_title('master_calib')\n",
    "cb = plt.colorbar(im4)\n",
    "\n",
    "im5 = ax5.imshow(one_science, origin='lower', aspect='auto', cmap=colormap)\n",
    "ax5.xaxis.set_visible(False)\n",
    "ax5.yaxis.set_visible(False)\n",
    "im5.set_clim(np.percentile(one_science, cuts))\n",
    "ax5.set_title('one_science_raw')\n",
    "cb = plt.colorbar(im5)\n",
    "\n",
    "im6 = ax6.imshow(one_science_ppr, origin='lower', aspect='auto', cmap=colormap)\n",
    "ax6.xaxis.set_visible(False)\n",
    "ax6.yaxis.set_visible(False)\n",
    "im6.set_clim(np.percentile(one_science_ppr, cuts))\n",
    "ax6.set_title('one_science_processed')\n",
    "cb = plt.colorbar(im6)\n",
    "\n",
    "im7 = ax7.imshow(master_science, origin='lower', aspect='auto', cmap=colormap)\n",
    "ax7.xaxis.set_visible(False)\n",
    "ax7.yaxis.set_visible(False)\n",
    "im7.set_clim(np.percentile(master_science, cuts))\n",
    "ax7.set_title('master_science')\n",
    "cb = plt.colorbar(im7)\n",
    "\n",
    "im8 = ax8.imshow(master_science_cosmic.data , origin='lower', aspect='auto', cmap=colormap)\n",
    "ax8.xaxis.set_visible(False)\n",
    "ax8.yaxis.set_visible(False)\n",
    "im8.set_clim(np.percentile(master_science_cosmic.data, cuts))\n",
    "ax8.set_title('master_science_cosmicray_removed')\n",
    "cb = plt.colorbar(im8)\n"
   ]
  },
  {
   "cell_type": "markdown",
   "id": "f3264b1c-0649-4afb-a8ec-429f4ae4ed2a",
   "metadata": {},
   "source": [
    "## Create spectra "
   ]
  },
  {
   "cell_type": "markdown",
   "id": "34ed5373-b83a-446c-94dd-3b856a5df0e0",
   "metadata": {},
   "source": [
    "### Extract science spectra"
   ]
  },
  {
   "cell_type": "code",
   "execution_count": null,
   "id": "4270aacd-1bad-4709-9144-b189f00bd2fc",
   "metadata": {},
   "outputs": [],
   "source": [
    "from astropy.modeling import models\n",
    "from specreduce import tracing, background, extract\n",
    "#sci_tr = tracing.FlatTrace(master_science, 686)   #FitTrace(image, peak_method='gaussian', guess=trace_pos)\n",
    "sci_tr = tracing.FitTrace(master_science,  bins = 64, trace_model=models.Polynomial1D(degree=1), peak_method = 'gaussian')\n",
    "#trace_model : one of Chebyshev1D, Legendre1D, Polynomial1D, or Spline1D\n",
    "#peak_method : One of gaussian, centroid, or max. gaussian\n",
    "bg = background.Background.two_sided(master_science, sci_tr, separation=80, width=50) \n",
    "extract = extract.BoxcarExtract(master_science - bg, sci_tr, width = 15)\n",
    "\n",
    "sci_spectrum = extract()\n",
    "\n"
   ]
  },
  {
   "cell_type": "code",
   "execution_count": null,
   "id": "c2276ab8-31b8-4e7f-aad4-d34070684f31",
   "metadata": {},
   "outputs": [],
   "source": [
    "cuts = (5, 99.0)\n",
    "plt.figure(figsize=(10,6))\n",
    "im = plt.imshow(master_science, origin='lower', aspect='auto', cmap=plt.cm.magma)\n",
    "im.set_clim(np.percentile(master_science, cuts))\n",
    "\n",
    "plt.imshow(bg.bkg_wimage, origin='lower', aspect='auto', cmap=plt.cm.gray, alpha=0.1)\n",
    "plt.imshow(sci_tr.image.data, origin='lower', aspect='auto', cmap=plt.cm.gray, alpha=0.1)\n",
    "plt.plot(sci_tr.trace , color='r')\n",
    "plt.plot(sci_tr.trace + extract.width , color='g', linestyle='dashed', alpha=0.5)\n",
    "plt.plot(sci_tr.trace - extract.width , color='g', linestyle='dashed', alpha=0.5)\n",
    "cb = plt.colorbar()\n",
    "\n",
    "plt.figure(figsize=(10,6))\n",
    "plt.plot(sci_spectrum.flux, color='b',  linewidth = '0.6')\n"
   ]
  },
  {
   "cell_type": "markdown",
   "id": "0385ecc4-5ba2-4d7f-8806-8952688c4b38",
   "metadata": {},
   "source": [
    "### Extract calibration spectra"
   ]
  },
  {
   "cell_type": "code",
   "execution_count": null,
   "id": "83417d3b-aad8-46b2-bc95-c03cef433111",
   "metadata": {},
   "outputs": [],
   "source": [
    "\n",
    "neon_data = CCDData.read(dir + mastercalib, unit = u.adu)\n",
    "plt.figure(figsize=(10,6))\n",
    "plt.imshow(neon_data, origin='lower', aspect='auto', cmap=plt.cm.grey)\n",
    "plt.title('neon_data')\n",
    "plt.clim(np.percentile(neon_data, (10, 90)))\n",
    "cb = plt.colorbar()"
   ]
  },
  {
   "cell_type": "code",
   "execution_count": null,
   "id": "4d539453-e7c8-49bc-9be7-5300009a5e1d",
   "metadata": {},
   "outputs": [],
   "source": [
    "from specreduce import tracing, background, extract\n",
    "#specreduce.tracing.ArrayTrace(image: NDData, trace: ndarray)\n",
    "neon_tr = tracing.FlatTrace(neon_data,sci_tr.trace[int(sci_tr.shape[0] / 2.0)])   #FitTrace(image, peak_method='gaussian', guess=trace_pos)\n",
    "#neon_tr = tracing.ArrayTrace(neon_data, sci_tr.trace[int(sci_tr.shape[0] / 2.0)])   #FitTrace(image, peak_method='gaussian', guess=trace_pos)\n",
    "#bg = background.Background.two_sided(nccd, sci_tr, separation=50, width=50) \n",
    "extract = extract.BoxcarExtract(neon_data , neon_tr, width = 5)\n",
    "neon_spectrum = extract()\n",
    "plt.figure(figsize=(10,6))\n",
    "plt.plot(neon_spectrum.flux, color='b',  linewidth = '0.6')\n"
   ]
  },
  {
   "cell_type": "markdown",
   "id": "25c92ea3-3f49-4da4-9f89-4fcc4503ecc2",
   "metadata": {},
   "source": [
    "### Calibrate calibration spectra (StarEx 2400)"
   ]
  },
  {
   "cell_type": "code",
   "execution_count": null,
   "id": "26715f61-f2d4-4bfa-8cc0-82cdec80f39d",
   "metadata": {},
   "outputs": [],
   "source": [
    "import astropy.units as u\n",
    "from specreduce import WavelengthCalibration1D\n",
    "\n",
    "pixels = [868, 1276, 2342, 3635, 4263]*u.pix\n",
    "wavelength = [6506.53, 6532.88, 6598.95, 6678.28, 6717.04]*u.AA\n",
    "line_list = QTable([pixels, wavelength], names=[\"pixel_center\", \"wavelength\"])\n",
    "test_cal = WavelengthCalibration1D(neon_spectrum, matched_line_list=line_list)\n",
    "print(test_cal.residuals )\n",
    "print(test_cal.fitted_model )\n",
    "neon_calibrated_spectrum = test_cal.apply_to_spectrum(neon_spectrum)\n",
    "\n",
    "plt.figure(figsize=(10,6))\n",
    "plt.plot(neon_calibrated_spectrum.spectral_axis, neon_calibrated_spectrum.flux)  \n"
   ]
  },
  {
   "cell_type": "markdown",
   "id": "cf8b3a5d-574b-4413-885d-01dc1b08a967",
   "metadata": {},
   "source": [
    "### Calibrate calibration spectra (DADOS 200)"
   ]
  },
  {
   "cell_type": "code",
   "execution_count": null,
   "id": "d5d78a2a-ba85-45d7-9d36-026b3aaa912c",
   "metadata": {},
   "outputs": [],
   "source": [
    "import astropy.units as u\n",
    "from specreduce import WavelengthCalibration1D\n",
    "\n",
    "pixels = [868, 1276, 2342, 3635, 4263]*u.pix\n",
    "wavelength = [6506.53, 6532.88, 6598.95, 6678.28, 6717.04]*u.AA\n",
    "line_list = QTable([pixels, wavelength], names=[\"pixel_center\", \"wavelength\"])\n",
    "test_cal = WavelengthCalibration1D(neon_spectrum, matched_line_list=line_list)\n",
    "print(test_cal.residuals )\n",
    "print(test_cal.fitted_model )\n",
    "neon_calibrated_spectrum = test_cal.apply_to_spectrum(neon_spectrum)\n",
    "\n",
    "plt.figure(figsize=(10,6))\n",
    "plt.plot(neon_calibrated_spectrum.spectral_axis, neon_calibrated_spectrum.flux)  \n"
   ]
  },
  {
   "cell_type": "markdown",
   "id": "2c952d8e-dd7a-4565-802a-43c3b282904a",
   "metadata": {},
   "source": [
    "### Apply to science spectra"
   ]
  },
  {
   "cell_type": "code",
   "execution_count": null,
   "id": "a3170267-cc5a-4468-a404-bb30611d04be",
   "metadata": {},
   "outputs": [],
   "source": [
    "sci_calibrated_spectrum = test_cal.apply_to_spectrum(sci_spectrum)\n",
    "\n",
    "plt.figure(figsize=(10,6))\n",
    "plt.plot(sci_calibrated_spectrum.spectral_axis, sci_calibrated_spectrum.flux)  \n"
   ]
  },
  {
   "cell_type": "markdown",
   "id": "68d33208-444d-41b1-9877-373f7b1159d5",
   "metadata": {},
   "source": [
    "## Analyse spectra"
   ]
  },
  {
   "cell_type": "markdown",
   "id": "2c4f322b-f227-4d22-a45f-f73d4550eecb",
   "metadata": {},
   "source": [
    "### Identify lines"
   ]
  },
  {
   "cell_type": "code",
   "execution_count": null,
   "id": "b12a4221-f64b-4bb9-b076-6d76931a39bf",
   "metadata": {},
   "outputs": [],
   "source": []
  },
  {
   "cell_type": "markdown",
   "id": "57385b72-8c44-4119-91ef-f50c15c18afb",
   "metadata": {},
   "source": [
    "### Measure R, SNR, Flux, EW"
   ]
  },
  {
   "cell_type": "code",
   "execution_count": null,
   "id": "382f60fe-e188-482e-bb1e-333119f92426",
   "metadata": {},
   "outputs": [],
   "source": []
  },
  {
   "cell_type": "code",
   "execution_count": null,
   "id": "3e23fe81-a614-42a6-847e-7a58ee504a5a",
   "metadata": {},
   "outputs": [],
   "source": []
  }
 ],
 "metadata": {
  "kernelspec": {
   "display_name": "Python 3 (ipykernel)",
   "language": "python",
   "name": "python3"
  },
  "language_info": {
   "codemirror_mode": {
    "name": "ipython",
    "version": 3
   },
   "file_extension": ".py",
   "mimetype": "text/x-python",
   "name": "python",
   "nbconvert_exporter": "python",
   "pygments_lexer": "ipython3",
   "version": "3.11.7"
  }
 },
 "nbformat": 4,
 "nbformat_minor": 5
}
