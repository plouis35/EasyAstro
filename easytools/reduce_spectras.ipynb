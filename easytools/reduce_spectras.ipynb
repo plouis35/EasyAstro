{
 "cells": [
  {
   "cell_type": "markdown",
   "id": "9dea645d-5940-4a19-988e-fffa12c9beb1",
   "metadata": {},
   "source": [
    "# Complete reduction script - for spectra"
   ]
  },
  {
   "cell_type": "markdown",
   "id": "104cb13c-6fa1-4e1a-91a0-f4cc5f6a2c1b",
   "metadata": {},
   "source": [
    "## Configuration"
   ]
  },
  {
   "cell_type": "code",
   "execution_count": 8,
   "id": "697aa66e-6787-493e-8d1b-a9d3e5253547",
   "metadata": {},
   "outputs": [],
   "source": [
    "#dir = 'e:/Astro/Captures/20231008_Void/'\n",
    "dir = 'E:/Astro/Captures/20181020_spectro/'\n",
    "#bias = 'Bias*.fit'\n",
    "bias = 'offset-*.fit'\n",
    "#darks = 'dark*.fit'\n",
    "darks = 'dark*.fit'\n",
    "flats = 'flat*.fit'\n",
    "#flats = 'flat*.fit'\n",
    "sciences = 'bwvull-*.fit'\n",
    "#sciences = 'deneb*.fit'\n",
    "\n",
    "masterbias = 'masterbias.fit'\n",
    "masterdark = 'masterdark.fit'\n",
    "masterflat = 'masterflat.fit'\n",
    "sciencedata = 'bwvull-star.fit'\n",
    "\n",
    "overwrite_masters = True         # recreate masters or not ?\n",
    "memory_limit = 1e9               # how much memory (bytes) to allocate to ccdproc combine ?\n",
    "\n",
    "camera_electronic_gain = 1.2     # asi 183mm\n",
    "camera_readout_noise = 2.2       # asi 183mm"
   ]
  },
  {
   "cell_type": "markdown",
   "id": "0c7c8eaf-61c3-4548-8456-4049886ff5fd",
   "metadata": {},
   "source": [
    "## Imports libs"
   ]
  },
  {
   "cell_type": "code",
   "execution_count": 9,
   "id": "b342e474-bed5-45e6-af9c-321de95bbe7b",
   "metadata": {},
   "outputs": [],
   "source": [
    "%matplotlib widget\n",
    "import warnings, fnmatch, os\n",
    "from time import gmtime, strftime\n",
    "from pathlib import Path\n",
    "\n",
    "import numpy as np\n",
    "import matplotlib.pyplot as plt\n",
    "\n",
    "from astropy.table import Table, QTable\n",
    "from astropy import units as u\n",
    "from astropy.nddata import CCDData, StdDevUncertainty\n",
    "from astropy.stats import mad_std\n",
    "from astropy.io import fits\n",
    "from astropy.utils.exceptions import AstropyWarning\n",
    "\n",
    "from ccdproc import Combiner, combine, subtract_bias, subtract_dark, flat_correct\n",
    "from ccdproc import trim_image, Combiner, ccd_process, cosmicray_median\n",
    "\n",
    "from align_combine import align_and_combine\n",
    "\n",
    "warnings.simplefilter('ignore', category=AstropyWarning)\n",
    "#warnings.simplefilter('ignore', category=FITSFixedWarning)\n"
   ]
  },
  {
   "cell_type": "markdown",
   "id": "aa1fcd1a-93f6-4baf-a315-5ae01ac7b45f",
   "metadata": {},
   "source": [
    "## Create logger"
   ]
  },
  {
   "cell_type": "code",
   "execution_count": 10,
   "id": "e7c843c6-0300-47d2-a7dd-d53c5801d43f",
   "metadata": {},
   "outputs": [
    {
     "data": {
      "application/vnd.jupyter.widget-view+json": {
       "model_id": "eb3d4e43407d46bdac9256c8133afe86",
       "version_major": 2,
       "version_minor": 0
      },
      "text/plain": [
       "Output(layout=Layout(border_bottom='1px solid grey', border_left='1px solid grey', border_right='1px solid gre…"
      ]
     },
     "metadata": {},
     "output_type": "display_data"
    }
   ],
   "source": [
    "from logger_utils import logger, handler\n",
    "handler.show_logs()\n",
    "handler.clear_logs()\n",
    "logger.setLevel('INFO')\n"
   ]
  },
  {
   "cell_type": "markdown",
   "id": "b042371d-24c4-42b5-bf14-ef8ba3f6a47e",
   "metadata": {},
   "source": [
    "## Create masters"
   ]
  },
  {
   "cell_type": "code",
   "execution_count": 18,
   "id": "958ac4a5-4e66-4810-b2b3-ad9ddde03c96",
   "metadata": {},
   "outputs": [
    {
     "name": "stdout",
     "output_type": "stream",
     "text": [
      "INFO: splitting each image into 2 chunks to limit memory usage to 1000000000.0 bytes. [ccdproc.combiner]\n"
     ]
    }
   ],
   "source": [
    "### prepare filenames lists\n",
    "bias_files = [dir + f for f in fnmatch.filter(os.listdir(dir), bias)]\n",
    "dark_files = [dir + f for f in fnmatch.filter(os.listdir(dir), darks)]\n",
    "flat_files = [dir + f for f in fnmatch.filter(os.listdir(dir), flats)]\n",
    "science_files  = [dir + f for f in fnmatch.filter(os.listdir(dir), sciences)]\n",
    "logger.info('bias files : ' + repr(bias_files))\n",
    "logger.info('dark files : ' + repr(dark_files))\n",
    "logger.info('flat files : ' + repr(flat_files))\n",
    "logger.info('science files : ' + repr(science_files))\n",
    "\n",
    "### create masterbias\n",
    "bias_list =  []\n",
    "bias_master = np.array([])\n",
    "if (os.path.exists(dir + masterbias)) and (overwrite_masters is False):\n",
    "    logger.info(masterbias + ' not (re)created')\n",
    "else:\n",
    "    logger.info('masterbias combine...')\n",
    "    bias_list = [CCDData.read(f, unit = u.adu ) for f in bias_files]         \n",
    "    #_bias_master = combine(bias_list, method = 'median', dtype = np.float32, mem_limit = memory_limit)   \n",
    "    _bias_master = combine(bias_list,\n",
    "                             method='average',\n",
    "                             sigma_clip=True, sigma_clip_low_thresh=5, sigma_clip_high_thresh=5,\n",
    "                             sigma_clip_func=np.ma.median, signma_clip_dev_func=mad_std, # dtype = np.float32,\n",
    "                             mem_limit = memory_limit\n",
    "                            )\n",
    "\n",
    "    bias_master = CCDData(_bias_master.data.astype('float32'), unit = u.adu , header = _bias_master.header)\n",
    "    bias_master.meta['DATE'] = strftime(\"%Y-%m-%dT%H:%M:%S\", gmtime())\n",
    "    bias_master.meta['combined'] = True\n",
    "    bias_master.meta['history'] = 'combined from {} bias file(s)'.format(len(bias_files))\n",
    "    bias_master.write(dir + masterbias, overwrite=True)\n",
    "    logger.info('masterbias created - combined from {} bias file(s)'.format(len(bias_files)))\n",
    "    bias_list = None\n",
    "    _bias_master = None    \n",
    "\n",
    "### create masterdark\n",
    "darks_list = []\n",
    "dark_master = np.array([])\n",
    "if (os.path.exists(dir + masterdark)) and (overwrite_masters is False):\n",
    "    logger.info(masterdark + ' not (re)created')\n",
    "else:\n",
    "    for dark_file in dark_files:\n",
    "        logger.info('masterbias sub {} ...'.format(dark_file))\n",
    "        _dark_data = CCDData.read(dark_file, unit = u.adu )\n",
    "        #_dark_sub = subtract_bias(_dark_data, bias_master)\n",
    "        _dark_sub = ccd_process(_dark_data, \n",
    "            oscan = None, \n",
    "            gain_corrected = False, \n",
    "            trim = None, \n",
    "            error = False,\n",
    "            gain = camera_electronic_gain*u.electron/u.adu ,\n",
    "            readnoise = camera_readout_noise*u.electron,\n",
    "            master_bias = bias_master,\n",
    "            dark_frame = None,\n",
    "            master_flat = None,\n",
    "            exposure_key = 'EXPTIME',\n",
    "            exposure_unit = u.second,\n",
    "            dark_scale = False)\n",
    "      \n",
    "        dark_sub = CCDData(_dark_sub.data.astype('float32'), unit = u.adu , header = _dark_data.header)\n",
    "        darks_list.append(dark_sub)\n",
    "        _dark_data = None\n",
    "        _dark_sub = None\n",
    "    \n",
    "    logger.info('masterdark combine...')\n",
    "    #dark_master = combine(darks_list, method='median', dtype=np.uint32, mem_limit = memory_limit)\n",
    "    _dark_master = combine(darks_list,\n",
    "                                 method='average',\n",
    "                                 sigma_clip=True, sigma_clip_low_thresh=5, sigma_clip_high_thresh=5,\n",
    "                                 sigma_clip_func=np.ma.median, signma_clip_dev_func=mad_std, dtype=np.float32,\n",
    "                                 mem_limit=memory_limit\n",
    "                                )\n",
    "    \n",
    "    dark_master = CCDData(_dark_master.data.astype('float32'), unit = u.adu , header = _dark_master.header)\n",
    "    dark_master.meta['DATE'] = strftime(\"%Y-%m-%dT%H:%M:%S\", gmtime())\n",
    "    dark_master.meta['combined'] = True\n",
    "    dark_master.meta['history'] = 'masterbias sub + combined from {} dark file(s)'.format(len(dark_files))\n",
    "    dark_master.write(dir + masterdark, overwrite=True)\n",
    "    logger.info('masterdark created - bias substracted + combined from {} dark file(s)'.format(len(dark_files)))\n",
    "    darks_list = None\n",
    "    _dark_master = None\n",
    "\n",
    "### create masterflat\n",
    "flats_list = []\n",
    "flat_master = np.array([])\n",
    "\n",
    "def inv_median(a):\n",
    "    return 1 / np.median(a)\n",
    "    \n",
    "if (os.path.exists(dir + masterflat)) and (overwrite_masters is False):\n",
    "    logger.info(masterflat + ' not (re)created')\n",
    "else:\n",
    "    for flat_file in flat_files:\n",
    "        logger.info('masterbias sub {} ...'.format(flat_file))\n",
    "        _flat_data = CCDData.read(flat_file, unit = u.adu )\n",
    "        _flat_sub = subtract_bias(_flat_data, bias_master)\n",
    "        flat_sub = CCDData(_flat_sub.data.astype('float32'), unit = u.adu , header = _flat_data.header)\n",
    "        flats_list.append(flat_sub)\n",
    "        _flat_data = None\n",
    "        _flat_sub = None\n",
    "    \n",
    "    logger.info('masterflat combine...')\n",
    "    #flat_master = combine(flats_list, method='median', dtype=np.float32, mem_limit = memory_limit)\n",
    "    _flat_master = combine(flats_list,\n",
    "                                 method='average', #scale=inv_median,\n",
    "                                 sigma_clip=True, sigma_clip_low_thresh=5, sigma_clip_high_thresh=5,\n",
    "                                 sigma_clip_func=np.ma.median, signma_clip_dev_func=mad_std, dtype=np.float32,\n",
    "                                 mem_limit=memory_limit\n",
    "                                )\n",
    "    flat_master = CCDData(_flat_master.data.astype('float32'), unit = u.adu , header = _flat_master.header)\n",
    "    flat_master.meta['DATE'] = strftime(\"%Y-%m-%dT%H:%M:%S\", gmtime())\n",
    "    flat_master.meta['combined'] = True\n",
    "    flat_master.meta['history'] = 'bias substracted + combined from {} flat file(s)'.format(len(flat_files))\n",
    "    flat_master.write(dir + masterflat, overwrite=True)\n",
    "    logger.info('masterflat created : bias substracted + combined from {} flat file(s)'.format(len(flat_files)))\n",
    "    flats_list = None\n",
    "    _flat_master = None\n",
    "\n"
   ]
  },
  {
   "cell_type": "markdown",
   "id": "b9becd0d-46c5-4884-a086-0a035ff84ef8",
   "metadata": {},
   "source": [
    "## Reduce science data"
   ]
  },
  {
   "cell_type": "code",
   "execution_count": 15,
   "id": "1643f684-419c-4c71-8edd-349a2390dfad",
   "metadata": {},
   "outputs": [
    {
     "data": {
      "text/plain": [
       "'\\n### remove cosmic\\nlogger.info(\\'removing cosmic rays...\\')\\n#sci_cleaned = cosmicray_median(sci_master, thresh = 5, mbox=11, rbox=11, gbox=5, error_image = np.ones(sci_master.shape))\\nsci_cleaned = cosmicray_median(sci_master, thresh = 3, mbox=5, rbox=5, gbox=5, error_image = np.ones(sci_master.shape))\\nsci_cleaned.meta[\\'DATE\\'] = strftime(\"%Y-%m-%dT%H:%M:%S\", gmtime())\\nsci_cleaned.meta[\\'history\\'] = \\'cosmicray median removed\\'\\nsci_cleaned.write(dir + \\'final-\\' + sciencedata, overwrite=True)\\nlogger.info(\\'final-\\' + sciencedata + \\' created\\')\\n'"
      ]
     },
     "execution_count": 15,
     "metadata": {},
     "output_type": "execute_result"
    }
   ],
   "source": [
    "if overwrite_masters is False:\n",
    "    bias_master = CCDData.read(dir + masterbias, unit = u.adu )\n",
    "    dark_master = CCDData.read(dir + masterdark, unit = u.adu )\n",
    "    flat_master = CCDData.read(dir + masterflat, unit = u.adu )\n",
    "\n",
    "\"\"\"\n",
    "### process science files - individual science file process version\n",
    "for sci_file in science_files:\n",
    "    logger.info('masterbias sub {} ...'.format(sci_file))\n",
    "    #sci_data = CCDData.read(sci_file, unit = u.adu )\n",
    "    sci_sub_bias = subtract_bias(CCDData.read(sci_file, unit = u.adu ), bias_master)\n",
    "    #sci_data = None\n",
    "    logger.info('masterdark sub {} ...'.format(sci_file))\n",
    "    sci_sub_dark = subtract_dark(sci_sub_bias, dark_master, scale = True, exposure_time='EXPTIME', exposure_unit=u.second)\n",
    "    sci_sub_bias = None\n",
    "    logger.info('masterflat divide {} ...'.format(sci_file))\n",
    "    sci_div_flat = flat_correct(sci_sub_dark, flat_master)\n",
    "    sci_sub_dark = None\n",
    "    sci_ok = CCDData(sci_div_flat.data.astype('float32'), unit = u.adu , header = sci_div_flat.header)\n",
    "    sci_div_flat = None\n",
    "    logger.info('writing science file (-ppr) {}'.format(sci_file))\n",
    "    sci_ok.meta['DATE'] = strftime(\"%Y-%m-%dT%H:%M:%S\", gmtime())\n",
    "    sci_ok.meta['history'] = 'bias substracted + dark substrated + flat divide'\n",
    "    sci_ok.write(Path(sci_file).with_stem(f\"{'ppr'}-{Path(sci_file).stem}\"), overwrite=True)\n",
    "\"\"\"\n",
    "\n",
    "### process science files - ccd_process version\n",
    "for sci_file in science_files:\n",
    "    logger.info('processing (masterbias sub + masterdark sub + masterflat divide) {} ...'.format(sci_file))\n",
    "    sci_data = CCDData.read(sci_file, unit = u.adu )\n",
    "    sci_data_processed = ccd_process(sci_data, \n",
    "            oscan = None, \n",
    "            gain_corrected = False, \n",
    "            trim = None, \n",
    "            error = False,\n",
    "            gain = camera_electronic_gain*u.electron/u.adu ,\n",
    "            readnoise = camera_readout_noise*u.electron,\n",
    "            master_bias = bias_master,\n",
    "            dark_frame = dark_master,\n",
    "            master_flat = flat_master,\n",
    "            exposure_key = 'EXPTIME',\n",
    "            exposure_unit = u.second,\n",
    "            dark_scale = True)\n",
    "    sci_ok = CCDData(sci_data_processed.data.astype('float32'), unit = u.adu , header = sci_data.header)\n",
    "    sci_data = None\n",
    "    logger.info('writing science datafile (-ppr) {}'.format(sci_file))\n",
    "    sci_ok.meta['DATE'] = strftime(\"%Y-%m-%dT%H:%M:%S\", gmtime())\n",
    "    sci_ok.meta['history'] = 'bias substracted + dark substrated + flat divide'\n",
    "    sci_ok.write(Path(sci_file).with_stem(f\"{'ppr'}-{Path(sci_file).stem}\"), overwrite=True)\n",
    "\n",
    "### align images and combine using a SUM\n",
    "science_files_ppr  = [dir + f for f in fnmatch.filter(os.listdir(dir), 'ppr-*' + sciences)]\n",
    "logger.info('science files aligning and combining ... : ' + repr(science_files_ppr))\n",
    "sci_aligned = align_and_combine(science_files_ppr, np.sum)\n",
    "sci_master = CCDData(sci_aligned, unit = u.adu , header = sci_ok.header)\n",
    "sci_master.meta['DATE'] = strftime(\"%Y-%m-%dT%H:%M:%S\", gmtime())\n",
    "sci_master.meta['combined'] = True\n",
    "sci_master.meta['history'] = 'aligned + combined from {} sciences file(s)'.format(len(science_files))\n",
    "sci_master.write(dir + 'ppr-' + sciencedata, overwrite=True)\n",
    "logger.info('aligned + combined from {} sciences file(s)'.format(len(science_files)))\n",
    "\n",
    "\"\"\"\n",
    "### remove cosmic\n",
    "logger.info('removing cosmic rays...')\n",
    "#sci_cleaned = cosmicray_median(sci_master, thresh = 5, mbox=11, rbox=11, gbox=5, error_image = np.ones(sci_master.shape))\n",
    "sci_cleaned = cosmicray_median(sci_master, thresh = 3, mbox=5, rbox=5, gbox=5, error_image = np.ones(sci_master.shape))\n",
    "sci_cleaned.meta['DATE'] = strftime(\"%Y-%m-%dT%H:%M:%S\", gmtime())\n",
    "sci_cleaned.meta['history'] = 'cosmicray median removed'\n",
    "sci_cleaned.write(dir + 'final-' + sciencedata, overwrite=True)\n",
    "logger.info('final-' + sciencedata + ' created')\n",
    "\"\"\""
   ]
  },
  {
   "cell_type": "code",
   "execution_count": null,
   "id": "236d4a15-167e-4805-8556-2b25d8e8c8fb",
   "metadata": {},
   "outputs": [],
   "source": [
    "logger.info('removing cosmic rays...')\n",
    "sci_cleaned = cosmicray_median(sci_aligned, thresh = 5, mbox=11, rbox=11, gbox=11, error_image = None)\n",
    "sci_cleaned.meta['DATE'] = strftime(\"%Y-%m-%dT%H:%M:%S\", gmtime())\n",
    "sci_cleaned.meta['history'] = 'cosmicray median removed'\n",
    "sci_cleaned.write(dir + 'final-' + sciencedata, overwrite=True)\n",
    "logger.info('final-' + sciencedata + ' created')\n"
   ]
  },
  {
   "cell_type": "code",
   "execution_count": null,
   "id": "a076c45a-1104-4f16-9bb1-ad0a09565463",
   "metadata": {},
   "outputs": [],
   "source": [
    "dark_300 = dark_master.multiply(1.2 * u.electron / u.adu).divide(300 * u.second)\n",
    "plt.figure(figsize=(8, 6))\n",
    "\n",
    "plt.hist(dark_300.data.flatten(), bins=500, density=False, label='300 sec dark', alpha=0.4)\n",
    "plt.xlabel('dark current, $e^-$/sec')\n",
    "plt.ylabel('Number of pixels')\n",
    "plt.loglog()\n",
    "plt.legend();"
   ]
  },
  {
   "cell_type": "code",
   "execution_count": null,
   "id": "3371e9e8-dede-43a4-b576-a20d21e59d06",
   "metadata": {},
   "outputs": [],
   "source": [
    "hot_pixels = (dark_300.data > 10)\n",
    "plt.figure(figsize=(10, 10))\n",
    "plt.plot(dark_300.data[hot_pixels].flatten(), '.', alpha=0.2, label='Data')\n",
    "plt.xlabel(\"dark current ($e^-$/sec), 90 sec exposure time\")\n",
    "plt.ylabel(\"dark current ($e^-$/sec), 1000 sec exposure time\")\n",
    "plt.plot([0, 100], [0, 100], label='Ideal relationship')\n",
    "plt.grid()\n",
    "plt.xlim(0.5, 10)\n",
    "plt.ylim(0.5, 10)\n",
    "plt.legend();"
   ]
  },
  {
   "cell_type": "code",
   "execution_count": null,
   "id": "c05e5954-8b78-4ad3-b5e6-e51fd6993fba",
   "metadata": {},
   "outputs": [],
   "source": [
    "plt.figure(figsize=(10,6))\n",
    "plt.imshow(sci_master.data, origin='lower', aspect='auto', cmap=plt.cm.magma)\n",
    "plt.title('sci_master')\n",
    "plt.clim(np.percentile(sci_master.data, (5, 98)))\n",
    "cb = plt.colorbar()\n",
    "\n",
    "plt.figure(figsize=(10,6))\n",
    "plt.imshow(sci_cleaned[0], origin='lower', aspect='auto', cmap=plt.cm.magma)\n",
    "plt.title('sci_cleaned')\n",
    "plt.clim(np.percentile(sci_cleaned[0], (5, 98)))\n",
    "cb = plt.colorbar()"
   ]
  },
  {
   "cell_type": "code",
   "execution_count": null,
   "id": "37e79086-5f03-4ed0-8813-a096801533f0",
   "metadata": {},
   "outputs": [],
   "source": [
    "master_bias = CCDData.read(dir + masterbias, unit = u.adu)\n",
    "master_dark = CCDData.read(dir + masterdark, unit = u.adu)\n",
    "master_flat = CCDData.read(dir + masterflat, unit = u.adu)\n",
    "science_files  = [dir + f for f in fnmatch.filter(os.listdir(dir), sciences)]\n",
    "ppr_science_files  = [dir + f for f in fnmatch.filter(os.listdir(dir), 'ppr-' + sciences)]\n",
    "one_science = CCDData.read(science_files[0], unit = u.adu)\n",
    "one_science_ppr = CCDData.read(ppr_science_files[0], unit = u.adu)\n",
    "master_science = CCDData.read(dir + 'ppr-' +sciencedata, unit = u.adu)\n",
    "#master_science_cosmic = CCDData.read(dir + 'final-' + sciencedata, unit = u.adu)\n",
    "\n",
    "#cmap = plt.cm.magma\n",
    "colormap = plt.cm.magma\n",
    "cuts = (5, 99.)\n",
    "\n",
    "fig, ((ax1, ax2), (ax3, ax4), (ax5, ax6), (ax7, _)) = plt.subplots(4, 2,figsize=(15, 15))\n",
    "\n",
    "im1 = ax1.imshow(master_bias, origin='lower', aspect='auto', cmap=colormap)\n",
    "ax1.xaxis.set_visible(False)\n",
    "ax1.yaxis.set_visible(False)\n",
    "im1.set_clim(np.percentile(master_bias, cuts))\n",
    "ax1.set_title('master_bias')\n",
    "cb = plt.colorbar(im1)\n",
    "\n",
    "im2 = ax2.imshow(master_dark, origin='lower', aspect='auto', cmap=colormap)\n",
    "ax2.xaxis.set_visible(False)\n",
    "ax2.yaxis.set_visible(False)\n",
    "im2.set_clim(np.percentile(master_dark, cuts))\n",
    "ax2.set_title('master_dark')\n",
    "cb = plt.colorbar(im2)\n",
    "\n",
    "im3 = ax3.imshow(master_flat, origin='lower', aspect='auto', cmap=colormap)\n",
    "ax3.xaxis.set_visible(False)\n",
    "ax3.yaxis.set_visible(False)\n",
    "im3.set_clim(np.percentile(master_flat, cuts))\n",
    "ax3.set_title('master_flat')\n",
    "cb = plt.colorbar(im3)\n",
    "\n",
    "im4 = ax4.imshow(one_science, origin='lower', aspect='auto', cmap=colormap)\n",
    "ax4.xaxis.set_visible(False)\n",
    "ax4.yaxis.set_visible(False)\n",
    "im4.set_clim(np.percentile(one_science, cuts))\n",
    "ax4.set_title('one_science_raw')\n",
    "cb = plt.colorbar(im4)\n",
    "\n",
    "im5 = ax5.imshow(one_science_ppr, origin='lower', aspect='auto', cmap=colormap)\n",
    "ax5.xaxis.set_visible(False)\n",
    "ax5.yaxis.set_visible(False)\n",
    "im5.set_clim(np.percentile(one_science_ppr, cuts))\n",
    "ax5.set_title('one_science_processed')\n",
    "cb = plt.colorbar(im5)\n",
    "\n",
    "im6 = ax6.imshow(master_science, origin='lower', aspect='auto', cmap=colormap)\n",
    "ax6.xaxis.set_visible(False)\n",
    "ax6.yaxis.set_visible(False)\n",
    "im6.set_clim(np.percentile(master_science, cuts))\n",
    "ax6.set_title('master_science')\n",
    "cb = plt.colorbar(im6)\n",
    "\"\"\"\n",
    "im7 = ax7.imshow(master_science_cosmic[0], origin='lower', aspect='auto', cmap=colormap)\n",
    "ax7.xaxis.set_visible(False)\n",
    "ax7.yaxis.set_visible(False)\n",
    "im7.set_clim(np.percentile(master_science_cosmic, cuts))\n",
    "ax7.set_title('master_science_cosmicray_removed')\n",
    "cb = plt.colorbar(im7)\n",
    "\"\"\"\n",
    "_.cla()\n",
    "_.clear()\n",
    "\n"
   ]
  },
  {
   "cell_type": "code",
   "execution_count": null,
   "id": "e1cc4542-8e5b-4e02-aba8-6f878d3373c1",
   "metadata": {},
   "outputs": [],
   "source": [
    "from align_combine import align_and_combine\n",
    "dir = 'e:/Astro/Captures/20231007_Void/'\n",
    "#dir = 'E:/Astro/Captures/20181020_spectro/'\n",
    "\n",
    "#sci_files  = [dir + f for f in fnmatch.filter(os.listdir(dir), 'bwvull-*.fit')]\n",
    "sci_files  = [dir + f for f in fnmatch.filter(os.listdir(dir), '10lac-300s-*.fit')]\n",
    "\n",
    "sci_datas = [CCDData.read(f, unit = u.adu) for f in sci_files]\n",
    "sci_data = np.sum(sci_datas, axis = 0, dtype = np.float32)\n",
    "\n",
    "\n",
    "plt.figure(figsize=(10,6))\n",
    "plt.imshow(sci_data, origin='lower', aspect='auto', cmap=plt.cm.magma)\n",
    "plt.title('sci_data')\n",
    "plt.clim(np.percentile(sci_data, (5, 99.95)))\n",
    "cb = plt.colorbar()\n",
    "\n",
    "\n",
    "sci_aligned = align_and_combine(sci_files, np.sum)\n",
    "plt.figure(figsize=(10,6))\n",
    "plt.imshow(sci_aligned, origin='lower', aspect='auto', cmap=plt.cm.magma)\n",
    "plt.title('sci_aligned')\n",
    "plt.clim(np.percentile(sci_aligned, (5, 99.95)))\n",
    "cb = plt.colorbar()\n",
    "\n"
   ]
  },
  {
   "cell_type": "code",
   "execution_count": null,
   "id": "ba0588f2-7c5a-4926-8ed5-f05432dc8bc9",
   "metadata": {},
   "outputs": [],
   "source": []
  },
  {
   "cell_type": "code",
   "execution_count": null,
   "id": "52941651-4e46-4027-987b-46929d1b1ee0",
   "metadata": {},
   "outputs": [],
   "source": [
    "#sci_data.header['EXPOSURE'] = sci_data.header['EXPTIME']  # for dark subtraction\n",
    "\n",
    "sci_data = ccdproc.ccd_process(sci_data, oscan=None, gain_corrected=False,\n",
    "                           trim=None,\n",
    "                           gain=2.0*u.electron/u.adu,\n",
    "                           readnoise=5*u.electron,\n",
    "                           dark_frame=master_dark,\n",
    "                           master_bias = master_bias,\n",
    "                           exposure_key='EXPTIME',\n",
    "                           exposure_unit=u.second,\n",
    "                           dark_scale=True,\n",
    "                           master_flat=master_flat)\n"
   ]
  },
  {
   "cell_type": "code",
   "execution_count": null,
   "id": "20d3f7c2-77a3-47b0-9e63-0c84c6a3f4dd",
   "metadata": {},
   "outputs": [],
   "source": [
    "plt.figure(figsize=(10,6))\n",
    "plt.imshow(sci_data, origin='lower', aspect='auto', cmap=plt.cm.magma)\n",
    "plt.title('sci_data')\n",
    "plt.clim(np.percentile(sci_data, (5, 99.99)))\n",
    "cb = plt.colorbar()\n"
   ]
  },
  {
   "cell_type": "code",
   "execution_count": null,
   "id": "91dd3586-d42d-4b9d-87f0-096672347d1f",
   "metadata": {},
   "outputs": [],
   "source": [
    "#newccd = ccdproc.cosmicray_median(nccd, thresh=5, mbox=11, rbox=11, gbox=5) \n",
    "#cr_cleaned = ccdproc.cosmicray_lacosmic(nccd, sigclip=1)\n",
    "cr_cleaned = ccdproc.cosmicray_median(sci_data, thresh = 3, mbox=5, rbox=5, gbox=5, error_image = None) #np.ones(sci_data.shape))\n",
    "cr_cleaned"
   ]
  },
  {
   "cell_type": "code",
   "execution_count": null,
   "id": "59abd73b-7b39-493d-a6f2-049e42fccf08",
   "metadata": {},
   "outputs": [],
   "source": [
    "plt.figure(figsize=(10,6))\n",
    "plt.imshow(cr_cleaned[0], origin='lower', aspect='auto', cmap=plt.cm.magma)\n",
    "plt.title('cr_cleaned')\n",
    "plt.clim(np.percentile(cr_cleaned, (5, 99.99)))\n",
    "cb = plt.colorbar()"
   ]
  },
  {
   "cell_type": "code",
   "execution_count": null,
   "id": "4270aacd-1bad-4709-9144-b189f00bd2fc",
   "metadata": {},
   "outputs": [],
   "source": [
    "from specreduce import tracing, background, extract\n",
    "sci_tr = tracing.FitTrace(nccd,  peak_method='max')   #FitTrace(image, peak_method='gaussian', guess=trace_pos)\n",
    "bg = background.Background.two_sided(nccd, sci_tr, separation=50, width=50) \n",
    "extract = extract.BoxcarExtract(nccd - bg, sci_tr, width = 5)\n",
    "sci_spectrum = extract()\n"
   ]
  },
  {
   "cell_type": "code",
   "execution_count": null,
   "id": "3e9417e9-5d62-4711-a214-92672b41ab87",
   "metadata": {},
   "outputs": [],
   "source": []
  },
  {
   "cell_type": "code",
   "execution_count": null,
   "id": "379e18f1-1e3f-4722-b285-1e73302e5f54",
   "metadata": {},
   "outputs": [],
   "source": [
    "plt.figure(figsize=(10,6))\n",
    "plt.imshow(sci_data, origin='lower', aspect='auto', cmap=plt.cm.gray)\n",
    "plt.imshow(bg.bkg_wimage, origin='lower', aspect='auto', cmap=plt.cm.gray, alpha=0.1)\n",
    "plt.plot(sci_tr.trace , color='r')\n",
    "plt.plot(sci_tr.trace+extract.width , color='g', linestyle='dashed', alpha=0.5)\n",
    "plt.plot(sci_tr.trace-extract.width , color='g', linestyle='dashed', alpha=0.5)\n",
    "\n",
    "cb = plt.colorbar()\n",
    "\n"
   ]
  },
  {
   "cell_type": "code",
   "execution_count": null,
   "id": "3748daed-e25c-4da3-8e05-fac3e1b1c8c5",
   "metadata": {},
   "outputs": [],
   "source": [
    "plt.figure(figsize=(10,6))\n",
    "plt.plot(sci_spectrum.flux, color='r',  linewidth = '0.6')\n"
   ]
  },
  {
   "cell_type": "code",
   "execution_count": null,
   "id": "83417d3b-aad8-46b2-bc95-c03cef433111",
   "metadata": {},
   "outputs": [],
   "source": [
    "dir = 'e:/Astro/Captures/20231008_Void/'\n",
    "neon_data = CCDData.read(dir + 'neon-15s-2.fit', unit = u.adu)\n",
    "plt.figure(figsize=(10,6))\n",
    "plt.imshow(neon_data, origin='lower', aspect='auto', cmap=plt.cm.grey)\n",
    "plt.title('neon_data')\n",
    "plt.clim(np.percentile(sci_data, (10, 90)))\n",
    "cb = plt.colorbar()"
   ]
  },
  {
   "cell_type": "code",
   "execution_count": null,
   "id": "4d539453-e7c8-49bc-9be7-5300009a5e1d",
   "metadata": {},
   "outputs": [],
   "source": [
    "from specreduce import tracing, background, extract\n",
    "#specreduce.tracing.ArrayTrace(image: NDData, trace: ndarray)\n",
    "neon_tr = tracing.ArrayTrace(neon_data, [1900, 2000])   #FitTrace(image, peak_method='gaussian', guess=trace_pos)\n",
    "#bg = background.Background.two_sided(nccd, sci_tr, separation=50, width=50) \n",
    "extract = extract.BoxcarExtract(neon_data , neon_tr, width = 5)\n",
    "neon_spectrum = extract()\n",
    "plt.figure(figsize=(10,6))\n",
    "plt.plot(neon_spectrum.flux, color='b',  linewidth = '0.6')\n",
    "\n"
   ]
  },
  {
   "cell_type": "code",
   "execution_count": null,
   "id": "26715f61-f2d4-4bfa-8cc0-82cdec80f39d",
   "metadata": {},
   "outputs": [],
   "source": [
    "import astropy.units as u\n",
    "from specreduce import WavelengthCalibration1D\n",
    "\n",
    "\n",
    "pixels = [868, 1276, 2342, 3635, 4263]*u.pix\n",
    "wavelength = [6506.53, 6532.88, 6598.95, 6678.28, 6717.04]*u.AA\n",
    "line_list = QTable([pixels, wavelength], names=[\"pixel_center\", \"wavelength\"])\n",
    "test_cal = WavelengthCalibration1D(neon_spectrum, matched_line_list=line_list)\n",
    "print(test_cal.residuals )\n",
    "print(test_cal.fitted_model )\n",
    "neon_calibrated_spectrum = test_cal.apply_to_spectrum(neon_spectrum)\n",
    "sci_calibrated_spectrum = test_cal.apply_to_spectrum(sci_spectrum)\n",
    "\n",
    "plt.figure(figsize=(10,6))\n",
    "plt.plot(neon_calibrated_spectrum.spectral_axis, neon_calibrated_spectrum.flux)  \n",
    "\n",
    "plt.figure(figsize=(10,6))\n",
    "plt.plot(sci_calibrated_spectrum.spectral_axis, sci_calibrated_spectrum.flux)  \n"
   ]
  },
  {
   "cell_type": "code",
   "execution_count": null,
   "id": "00ce9388-5c30-4224-92e1-9a71cbce8511",
   "metadata": {},
   "outputs": [],
   "source": []
  },
  {
   "cell_type": "code",
   "execution_count": null,
   "id": "a3170267-cc5a-4468-a404-bb30611d04be",
   "metadata": {},
   "outputs": [],
   "source": []
  },
  {
   "cell_type": "code",
   "execution_count": null,
   "id": "49b4d57a-05d3-4769-9bfb-d981ad1ad2aa",
   "metadata": {},
   "outputs": [],
   "source": []
  }
 ],
 "metadata": {
  "kernelspec": {
   "display_name": "Python 3 (ipykernel)",
   "language": "python",
   "name": "python3"
  },
  "language_info": {
   "codemirror_mode": {
    "name": "ipython",
    "version": 3
   },
   "file_extension": ".py",
   "mimetype": "text/x-python",
   "name": "python",
   "nbconvert_exporter": "python",
   "pygments_lexer": "ipython3",
   "version": "3.11.7"
  }
 },
 "nbformat": 4,
 "nbformat_minor": 5
}
