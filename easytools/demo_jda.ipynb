{
 "cells": [
  {
   "cell_type": "markdown",
   "id": "6a06438c-25bf-4a4f-a360-a1acd2c6ef72",
   "metadata": {},
   "source": [
    "# Tools using the JWST Data Analysis tools (JDA)"
   ]
  },
  {
   "cell_type": "code",
   "execution_count": null,
   "id": "56bb9bf7-e066-4c6e-af0f-e3fe82511aa7",
   "metadata": {},
   "outputs": [],
   "source": [
    "__main__ = 'EasyJda'\n",
    "__author__ = 'Pascal Louis <plouis35@gmail.com>'\n",
    "__version__ = '0.1'\n",
    "__keywords__ = ['astronomy', 'spectroscopy', 'astropy', 'specutils', 'specreduce', 'matplotlib', 'jdaviz']\n",
    "#import sys, numpy, matplotlib, jdaviz\n",
    "#print('Python ' + sys.version)\n",
    "#print('matplotlib ' + str(sys.modules['matplotlib'].__version__))\n",
    "#print('numpy ' + str(sys.modules['numpy'].__version__))\n",
    "#print('jdaviz ' + str(sys.modules['jdaviz'].__version__))\n",
    "#! jupyter --version\n"
   ]
  },
  {
   "cell_type": "code",
   "execution_count": null,
   "id": "9d2d12f4-3c27-4a6d-96a1-dfd1092364fa",
   "metadata": {},
   "outputs": [],
   "source": [
    "root_path = '../../../CAPTURES/2023_RENNES_L3_TP/images_spectro/images_tp_spectro/'"
   ]
  },
  {
   "cell_type": "code",
   "execution_count": null,
   "id": "8663c62f-6a19-4a51-b4cf-0976214b826c",
   "metadata": {},
   "outputs": [],
   "source": [
    "### display imViz viewer\n",
    "\n",
    "from IPython.display import display\n",
    "import ipywidgets as widgets\n",
    "from jdaviz import Imviz\n",
    "imviz = Imviz()\n",
    "imviz.show()"
   ]
  },
  {
   "cell_type": "code",
   "execution_count": null,
   "id": "f256aaaf-780e-4bc7-866c-104640a152b5",
   "metadata": {},
   "outputs": [],
   "source": [
    "from astropy.io import fits\n",
    "from astropy import units as u\n",
    "from astropy.nddata import CCDData\n",
    "\n",
    "_data = CCDData.read(root_path + 'hd145454-neon-1.fit', unit = u.adu )\n",
    "\n",
    "imviz.load_data(_data, data_label='my_data')\n"
   ]
  },
  {
   "cell_type": "code",
   "execution_count": null,
   "id": "bc0e008e-99f9-4a66-8920-a3d320ad9472",
   "metadata": {},
   "outputs": [],
   "source": [
    "### display specViz viewer\n",
    "from specutils import Spectrum1D\n",
    "from jdaviz import Specviz\n",
    "specviz = Specviz()\n",
    "specviz.show()"
   ]
  },
  {
   "cell_type": "code",
   "execution_count": null,
   "id": "8990ee2e-6497-4120-962c-9b2c54ab51db",
   "metadata": {},
   "outputs": [],
   "source": [
    "### create a file chooser\n",
    "\n",
    "from specutils import Spectrum1D\n",
    "from astropy.io import fits\n",
    "from astropy import units as u\n",
    "from ipyfilechooser import FileChooser\n",
    "\n",
    "\n",
    "root_path = '../../../CAPTURES/2023_RENNES_L3_TP/images_spectro/images_tp_spectro'\n",
    "\n",
    "select_file = FileChooser(\n",
    "    path = root_path,\n",
    "    title = 'Select a 1d spectrum',\n",
    "    show_hidden = True,\n",
    "    select_default = True,\n",
    "    show_only_dirs = False,\n",
    "    layout = widgets.Layout(width = '80%')\n",
    ")\n",
    "display(select_file)\n"
   ]
  },
  {
   "cell_type": "code",
   "execution_count": null,
   "id": "5bc5fe28-5b9f-4093-9d64-f099da68880f",
   "metadata": {},
   "outputs": [],
   "source": [
    "### convert and display 1d spectrum\n",
    "\n",
    "print('Opening ' + select_file.value + '...')\n",
    "\n",
    "with fits.open(select_file.value) as file:\n",
    "        specdata = file[1].data\n",
    "        header = file[1].header\n",
    "        spec1d = Spectrum1D(flux = specdata['flux'] * u.mJy, spectral_axis = specdata['wavelength'] * u.AA)\n",
    "    \n",
    "\n",
    "specviz.load_data(spec1d, data_label=select_file.value)"
   ]
  },
  {
   "cell_type": "code",
   "execution_count": null,
   "id": "ae25ee20-bc1e-44dd-b14f-60b2a394a796",
   "metadata": {},
   "outputs": [],
   "source": []
  }
 ],
 "metadata": {
  "kernelspec": {
   "display_name": "Python 3 (ipykernel)",
   "language": "python",
   "name": "python3"
  },
  "language_info": {
   "codemirror_mode": {
    "name": "ipython",
    "version": 3
   },
   "file_extension": ".py",
   "mimetype": "text/x-python",
   "name": "python",
   "nbconvert_exporter": "python",
   "pygments_lexer": "ipython3",
   "version": "3.10.14"
  }
 },
 "nbformat": 4,
 "nbformat_minor": 5
}
