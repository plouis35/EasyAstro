{
 "cells": [
  {
   "cell_type": "code",
   "execution_count": null,
   "id": "ef03f564-9b54-401b-bc99-70d47f127126",
   "metadata": {},
   "outputs": [],
   "source": [
    "import tempfile\n",
    "import warnings\n",
    "from astropy.utils.data import download_file\n",
    "from astroquery.mast import Observations\n",
    "from zipfile import ZipFile\n",
    "from jdaviz import Mosviz, Specviz2d\n",
    "warnings.simplefilter('ignore')"
   ]
  },
  {
   "cell_type": "code",
   "execution_count": null,
   "id": "387f3d51-99a4-4fce-b0ee-6a81686e2944",
   "metadata": {},
   "outputs": [],
   "source": [
    "# If downloading data from Box:\n",
    "#example_data = 'https://stsci.box.com/shared/static/pg8f2vyb6lvn4flfetpetsprkh30e5ud.zip'\n",
    "#data_dir = tempfile.gettempdir()\n",
    "data_dir = 'd:/Astro/Download/'\n",
    "#fn = download_file(example_data, cache=False)\n",
    "#with ZipFile(fn, 'r') as sample_data_zip:\n",
    " #   sample_data_zip.extractall(data_dir)\n",
    "\n",
    "# If running on JWebbinar platform:\n",
    "#data_dir = '/home/shared/preloaded-fits/jdaviz_data'\n",
    "\n",
    "mosviz = Mosviz()\n",
    "#mosviz.load_data(directory=f\"{data_dir}/115\", instrument=\"niriss\")\n",
    "\n",
    "#mosviz.app.get_viewer('table-viewer').select_row(1)\n",
    "#view2d = mosviz.app.get_data_from_viewer('spectrum-2d-viewer', 'F115W Source 219 spec2d C')\n",
    "#view2d\n",
    "#spectra2d = mosviz.get_data ( 'F115W Source 246 spec2d R')\n",
    "#spectrum_2d = mosviz. get_spectrum_2d (data_label='F115W Source 158 spec2d C')\n",
    "#print(spectra2d)\n",
    "#print(view2d.get_layer_artist)"
   ]
  },
  {
   "cell_type": "code",
   "execution_count": null,
   "id": "f570901d-60a5-4e26-b14c-8c49887c0bc7",
   "metadata": {},
   "outputs": [],
   "source": [
    "mosviz.show()"
   ]
  },
  {
   "cell_type": "code",
   "execution_count": null,
   "id": "0462a496-5839-4d86-b9aa-0d25e68eb161",
   "metadata": {},
   "outputs": [],
   "source": [
    "fn = \"jw01538-o160_s00004_nirspec_f170lp-g235h-s1600a1-sub2048_s2d.fits\"\n",
    "uri = f\"mast:JWST/product/{fn}\"\n",
    "result = Observations.download_file(uri, local_path=f'{data_dir}/{fn}')"
   ]
  },
  {
   "cell_type": "code",
   "execution_count": null,
   "id": "eb9462ff-0e65-4ae1-b8a5-3f9198e54719",
   "metadata": {},
   "outputs": [],
   "source": [
    "specviz2d = Specviz2d()\n",
    "#specviz2d.load_data(spectrum_2d=spectra2d)\n",
    "specviz2d.load_data(f'{data_dir}/{fn}')\n",
    "specviz2d.show()"
   ]
  },
  {
   "cell_type": "code",
   "execution_count": null,
   "id": "7c995044-5ef6-4abd-b762-9a0f131e7bbe",
   "metadata": {},
   "outputs": [],
   "source": [
    "from astropy.io import fits\n",
    "from astropy import units as u\n",
    "import numpy as np\n",
    "from matplotlib import pyplot as plt\n",
    "from astropy.visualization import quantity_support\n",
    "quantity_support()  # for getting units on the axes below  "
   ]
  },
  {
   "cell_type": "code",
   "execution_count": null,
   "id": "715c9245-5810-4e59-9533-0c6fc827c93b",
   "metadata": {},
   "outputs": [],
   "source": [
    "filename = 'https://data.sdss.org/sas/dr16/sdss/spectro/redux/26/spectra/1323/spec-1323-52797-0012.fits'\n",
    "# The spectrum is in the second HDU of this file.\n",
    "with fits.open(filename) as f:  \n",
    "    specdata = f[1].data  "
   ]
  },
  {
   "cell_type": "code",
   "execution_count": null,
   "id": "7dd17705-a743-48ec-ac4e-77d61fb764f8",
   "metadata": {},
   "outputs": [],
   "source": [
    "from specutils import Spectrum1D\n",
    "lamb = 10**specdata['loglam'] * u.AA \n",
    "flux = specdata['flux'] * 10**-17 * u.Unit('erg cm-2 s-1 AA-1') \n",
    "spec = Spectrum1D(spectral_axis=lamb, flux=flux) "
   ]
  },
  {
   "cell_type": "code",
   "execution_count": null,
   "id": "b85f8351-79b9-4fc5-b7ae-2671786bf938",
   "metadata": {},
   "outputs": [],
   "source": [
    "spec2d = Spectrum1D.read(\"d:/Astro/Captures/Alpy/Vega_0s_20150820_220016-4.fit\", format='tabular-fits')  "
   ]
  },
  {
   "cell_type": "code",
   "execution_count": null,
   "id": "e7ebe728-4c74-4458-ab08-3fc66e7abfb5",
   "metadata": {},
   "outputs": [],
   "source": [
    "specviz2d.load_data(spectrum_2d=spec2d)"
   ]
  },
  {
   "cell_type": "code",
   "execution_count": null,
   "id": "a27ddd2f-593f-4b8b-82ee-1e546fbdd45c",
   "metadata": {},
   "outputs": [],
   "source": [
    "f, ax = plt.subplots()  \n",
    "ax.step(spec.spectral_axis, spec.flux) "
   ]
  },
  {
   "cell_type": "code",
   "execution_count": null,
   "id": "5a06cc98-b1df-4a41-9728-f1840f282b70",
   "metadata": {},
   "outputs": [],
   "source": []
  }
 ],
 "metadata": {
  "kernelspec": {
   "display_name": "Python 3 (ipykernel)",
   "language": "python",
   "name": "python3"
  },
  "language_info": {
   "codemirror_mode": {
    "name": "ipython",
    "version": 3
   },
   "file_extension": ".py",
   "mimetype": "text/x-python",
   "name": "python",
   "nbconvert_exporter": "python",
   "pygments_lexer": "ipython3",
   "version": "3.11.5"
  }
 },
 "nbformat": 4,
 "nbformat_minor": 5
}
