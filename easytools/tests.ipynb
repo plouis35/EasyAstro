{
 "cells": [
  {
   "cell_type": "code",
   "execution_count": 1,
   "id": "9f29e9f9-a416-4497-8996-14393221d680",
   "metadata": {},
   "outputs": [],
   "source": [
    "%matplotlib widget\n",
    "import numpy as np\n",
    "import matplotlib.pyplot as plt\n",
    "\n",
    "from astropy.table import Table\n",
    "from astropy import units as u\n",
    "\n",
    "from astropy.nddata import CCDData, StdDevUncertainty\n",
    "from specutils import Spectrum1D\n",
    "import ccdproc\n",
    "from astropy.stats import mad_std\n",
    "from ccdproc import trim_image, Combiner\n"
   ]
  },
  {
   "cell_type": "code",
   "execution_count": 2,
   "id": "7882bc8c-e1d3-498a-b181-f9320c4c4a3e",
   "metadata": {},
   "outputs": [],
   "source": [
    "from astropy.io import fits\n",
    "from time import gmtime, strftime\n",
    "\n",
    "def combine_fits(files_data: list[np], operation, outfile: str) -> None:\n",
    "    img_array = []\n",
    "    hdu_array = []\n",
    "    nb_images = 0\n",
    "   \n",
    "    #median_array = np.median(img_array, axis=0)\n",
    "    median_array = operation(img_array, axis=0)\n",
    "    out_file = fits.PrimaryHDU(median_array, hdu_array[0])\n",
    "    out_hdr = out_file.header\n",
    "    out_hdr['DATE'] = strftime(\"%Y-%m-%d %H:%M:%S\", gmtime())\n",
    "    out_hdr['history'] = 'Median of %d images by numpy.median' %(nb_images,)\n",
    "    out_hdr['history'] = 'First image '+  files[0]\n",
    "    out_hdr['history'] = 'Last image  '+  files[nb_images - 1]\n",
    "    out_file.writeto(outfile, overwrite = True)\n"
   ]
  },
  {
   "cell_type": "code",
   "execution_count": 19,
   "id": "958ac4a5-4e66-4810-b2b3-ad9ddde03c96",
   "metadata": {},
   "outputs": [
    {
     "name": "stdout",
     "output_type": "stream",
     "text": [
      "bias combine...\n"
     ]
    },
    {
     "name": "stderr",
     "output_type": "stream",
     "text": [
      "WARNING: FITSFixedWarning: 'datfix' made the change 'Set MJD-OBS to 60175.784118 from DATE-OBS'. [astropy.wcs.wcs]\n",
      "WARNING: FITSFixedWarning: 'datfix' made the change 'Set MJD-OBS to 60175.784355 from DATE-OBS'. [astropy.wcs.wcs]\n",
      "WARNING: FITSFixedWarning: 'datfix' made the change 'Set MJD-OBS to 60175.784382 from DATE-OBS'. [astropy.wcs.wcs]\n",
      "WARNING: FITSFixedWarning: 'datfix' made the change 'Set MJD-OBS to 60175.784408 from DATE-OBS'. [astropy.wcs.wcs]\n",
      "WARNING: FITSFixedWarning: 'datfix' made the change 'Set MJD-OBS to 60175.784434 from DATE-OBS'. [astropy.wcs.wcs]\n",
      "WARNING: FITSFixedWarning: 'datfix' made the change 'Set MJD-OBS to 60175.784460 from DATE-OBS'. [astropy.wcs.wcs]\n",
      "WARNING: FITSFixedWarning: 'datfix' made the change 'Set MJD-OBS to 60175.784486 from DATE-OBS'. [astropy.wcs.wcs]\n",
      "WARNING: FITSFixedWarning: 'datfix' made the change 'Set MJD-OBS to 60175.784146 from DATE-OBS'. [astropy.wcs.wcs]\n",
      "WARNING: FITSFixedWarning: 'datfix' made the change 'Set MJD-OBS to 60175.784172 from DATE-OBS'. [astropy.wcs.wcs]\n",
      "WARNING: FITSFixedWarning: 'datfix' made the change 'Set MJD-OBS to 60175.784198 from DATE-OBS'. [astropy.wcs.wcs]\n",
      "WARNING: FITSFixedWarning: 'datfix' made the change 'Set MJD-OBS to 60175.784224 from DATE-OBS'. [astropy.wcs.wcs]\n",
      "WARNING: FITSFixedWarning: 'datfix' made the change 'Set MJD-OBS to 60175.784250 from DATE-OBS'. [astropy.wcs.wcs]\n",
      "WARNING: FITSFixedWarning: 'datfix' made the change 'Set MJD-OBS to 60175.784277 from DATE-OBS'. [astropy.wcs.wcs]\n",
      "WARNING: FITSFixedWarning: 'datfix' made the change 'Set MJD-OBS to 60175.784303 from DATE-OBS'. [astropy.wcs.wcs]\n",
      "WARNING: FITSFixedWarning: 'datfix' made the change 'Set MJD-OBS to 60175.784329 from DATE-OBS'. [astropy.wcs.wcs]\n"
     ]
    },
    {
     "name": "stdout",
     "output_type": "stream",
     "text": [
      "INFO: splitting each image into 4 chunks to limit memory usage to 1000000000.0 bytes. [ccdproc.combiner]\n"
     ]
    },
    {
     "data": {
      "text/plain": [
       "'\\ncombined_dark = ccdp.combine(calibrated_darks,\\n                                 method=\\'average\\',\\n                                 sigma_clip=True, sigma_clip_low_thresh=5, sigma_clip_high_thresh=5,\\n                                 sigma_clip_func=np.ma.median, signma_clip_dev_func=mad_std,\\n                                 mem_limit=350e6\\n                                )\\n\\n    combined_dark.meta[\\'combined\\'] = True\\n\\n    dark_file_name = \\'combined_dark_{:6.3f}.fit\\'.format(exp_time)\\n    combined_dark.write(calibrated_path / dark_file_name)\\n    \\nprint (\\'dark combine...\\')\\ndark_datas = [ccdproc.subtract_bias(CCDData.read(f, unit = u.adu), bias_median) for f in dark_files]\\nprint(\\'memory = \\' + dark_datas.nbytes)\\n#dark_median = np.median(dark_datas, axis=0)\\n#dark_median = CCDData(np.median(dark_datas, axis=0), unit=\"adu\")\\n#dark_median.write(dir + \\'masterdark.fits\\', overwrite=True)\\n#dark_datas = None\\n\\ndark_datas = None\\nccd = ccdproc.subtract_bias(ccd, master_bias_red)\\nprint (\\'flat combine...\\')\\nflat_datas = [(fits.open(f)[0].data.astype(\\'float32\\') - bias_median) for f in flat_files]\\ndark_sub = ccdproc.subtract_bias(dark, masterbias)\\nflat_median = CCDData(np.median(flat_datas, axis=0), unit=\"adu\")\\nflat_median.write(dir + \\'masterflat.fits\\', overwrite=True)\\nflat_datas = None\\n\\nprint (\\'science combine...\\')\\nsci_datas = [((fits.open(f)[0].data.astype(\\'float32\\') - dark_median - bias_median) / flat_median) for f in sci_files]\\nsci_add = CCDData(np.sum(sci_datas, axis=0, unit=\"adu\"))\\nccd.write(dir + \\'mastersci.fits\\', overwrite=True)\\n\\nsci_datas = None\\nbias_median = None\\ndark_median = None\\nflat_median = None\\nsci_add = None\\n'"
      ]
     },
     "execution_count": 19,
     "metadata": {},
     "output_type": "execute_result"
    }
   ],
   "source": [
    "import warnings\n",
    "import fnmatch\n",
    "import os\n",
    "import ccdproc\n",
    "from astropy.utils.exceptions import AstropyWarning\n",
    "from time import gmtime, strftime\n",
    "#warnings.simplefilter('ignore', category=AstropyWarning)\n",
    "\n",
    "dir = 'e:/Astro/Captures/20231008_Void/'\n",
    "bias_files = [dir + f for f in fnmatch.filter(os.listdir(dir), 'Bias*')]\n",
    "dark_files = [dir + f for f in fnmatch.filter(os.listdir(dir), 'dark*')]\n",
    "flat_files = [dir + f for f in fnmatch.filter(os.listdir(dir), 'flat*')]\n",
    "sci_files  = [dir + f for f in fnmatch.filter(os.listdir(dir), 'deneb*')]\n",
    "\n",
    "print ('bias combine...')\n",
    "bias_datas = [CCDData.read(f, unit = u.adu) for f in bias_files]\n",
    "bias_median = ccdproc.combine(bias_datas,method='average',\n",
    "    sigma_clip = True, sigma_clip_low_thresh = 5, sigma_clip_high_thresh = 5,\n",
    "    sigma_clip_func = np.ma.median, signma_clip_dev_func = mad_std, \n",
    "    dtype = np.int16, mem_limit = 1e9)\n",
    "\n",
    "out_file = fits.PrimaryHDU(data=bias_median.data.astype(np.uint32), header=bias_median.header)\n",
    "out_hdr = out_file.header\n",
    "out_hdr['DATE'] = strftime(\"%Y-%m-%d %H:%M:%S\", gmtime())\n",
    "out_hdr['HISTORY'] = 'CCDProc.combine - sygma-clip'\n",
    "out_file.writeto(dir + 'masterbias.fits', overwrite = True)\n",
    "\n",
    "#bias_median.write(dir + 'masterbias.fits', overwrite=True)\n",
    "bias_datas = None\n",
    "bias_median = None\n",
    "\n",
    "\"\"\"\n",
    "combined_dark = ccdp.combine(calibrated_darks,\n",
    "                                 method='average',\n",
    "                                 sigma_clip=True, sigma_clip_low_thresh=5, sigma_clip_high_thresh=5,\n",
    "                                 sigma_clip_func=np.ma.median, signma_clip_dev_func=mad_std,\n",
    "                                 mem_limit=350e6\n",
    "                                )\n",
    "\n",
    "    combined_dark.meta['combined'] = True\n",
    "\n",
    "    dark_file_name = 'combined_dark_{:6.3f}.fit'.format(exp_time)\n",
    "    combined_dark.write(calibrated_path / dark_file_name)\n",
    "    \n",
    "print ('dark combine...')\n",
    "dark_datas = [ccdproc.subtract_bias(CCDData.read(f, unit = u.adu), bias_median) for f in dark_files]\n",
    "print('memory = ' + dark_datas.nbytes)\n",
    "#dark_median = np.median(dark_datas, axis=0)\n",
    "#dark_median = CCDData(np.median(dark_datas, axis=0), unit=\"adu\")\n",
    "#dark_median.write(dir + 'masterdark.fits', overwrite=True)\n",
    "#dark_datas = None\n",
    "\n",
    "dark_datas = None\n",
    "ccd = ccdproc.subtract_bias(ccd, master_bias_red)\n",
    "print ('flat combine...')\n",
    "flat_datas = [(fits.open(f)[0].data.astype('float32') - bias_median) for f in flat_files]\n",
    "dark_sub = ccdproc.subtract_bias(dark, masterbias)\n",
    "flat_median = CCDData(np.median(flat_datas, axis=0), unit=\"adu\")\n",
    "flat_median.write(dir + 'masterflat.fits', overwrite=True)\n",
    "flat_datas = None\n",
    "\n",
    "print ('science combine...')\n",
    "sci_datas = [((fits.open(f)[0].data.astype('float32') - dark_median - bias_median) / flat_median) for f in sci_files]\n",
    "sci_add = CCDData(np.sum(sci_datas, axis=0, unit=\"adu\"))\n",
    "ccd.write(dir + 'mastersci.fits', overwrite=True)\n",
    "\n",
    "sci_datas = None\n",
    "bias_median = None\n",
    "dark_median = None\n",
    "flat_median = None\n",
    "sci_add = None\n",
    "\"\"\""
   ]
  },
  {
   "cell_type": "code",
   "execution_count": 14,
   "id": "312c4eea-7043-4d4a-8acb-460d4d2e40fe",
   "metadata": {},
   "outputs": [],
   "source": [
    "bias_datas = None\n",
    "bias_median = None"
   ]
  },
  {
   "cell_type": "code",
   "execution_count": null,
   "id": "49ef996a-1f7a-44ff-9cf6-b09a45eba02c",
   "metadata": {},
   "outputs": [],
   "source": [
    "\"\"\"\n",
    "inhdr = inlist[0].header\n",
    "darkhdr = darklist[0].header \n",
    "inexp = float(inhdr['EXPTIME'])\n",
    "darkexp = float(darkhdr['EXPTIME'])\n",
    "darkscale = inexp/darkexp\n",
    "\n",
    "\n",
    "# Create a dark-subtracted image\n",
    "\n",
    "outimage = (inimage -inbias) - darkscale * (indark -inbias)\n",
    "\n",
    "combine_fits(bias_files, np.median, dir + 'masterbias.fit')\n",
    "\n",
    "darks_list = []\n",
    "masterbias = CCDData.read(dir + 'masterbias.fit', unit = u.adu)\n",
    "for dark in darkfiles:\n",
    "    dark = CCDData.read(dark, unit = u.adu)\n",
    "    dark_sub = ccdp.subtract_bias(dark, masterbias)\n",
    "    darks_list.append(dark_sub)\n",
    "\n",
    "dark_sub_file = ccdproc.combine(blue_flat_list, method='median')\n",
    "dark_sub_file.write('master_flat_blue.fits', clobber=True)\n",
    "\n",
    "\n",
    "\n",
    "combine_fits(biasfiles, np.median, dir + 'masterdark.fit')\n",
    "\"\"\""
   ]
  },
  {
   "cell_type": "code",
   "execution_count": null,
   "id": "37e79086-5f03-4ed0-8813-a096801533f0",
   "metadata": {},
   "outputs": [],
   "source": []
  },
  {
   "cell_type": "code",
   "execution_count": null,
   "id": "20d3f7c2-77a3-47b0-9e63-0c84c6a3f4dd",
   "metadata": {},
   "outputs": [],
   "source": [
    "plt.figure(figsize=(10,6))\n",
    "plt.imshow(outimage, origin='lower', aspect='auto', cmap=plt.cm.inferno)\n",
    "plt.title('outimage')\n",
    "plt.clim(np.percentile(outimage, (5, 98)))\n",
    "cb = plt.colorbar()"
   ]
  },
  {
   "cell_type": "code",
   "execution_count": null,
   "id": "808ac8dd-ede2-42e4-80d2-b588fbb34778",
   "metadata": {},
   "outputs": [],
   "source": []
  },
  {
   "cell_type": "code",
   "execution_count": null,
   "id": "837ccf82-48c3-4b8d-9ed0-15003b018e85",
   "metadata": {},
   "outputs": [],
   "source": [
    "import fnmatch\n",
    "import os\n",
    "dir = 'e:/Astro/Captures/20231008_Void/'\n",
    "biasfiles = [dir + f for f in fnmatch.filter(os.listdir(dir), 'Bias*')]\n",
    "combine_median(biasfiles, dir + 'masterbias.fit')\n",
    "scifile = 'deneb-200s-1.fit'\n",
    "masterbias = CCDData.read(dir + 'masterbias.fit', unit = u.adu)\n",
    "ccd_bias = ccdp.subtract_bias(ccd, masterbias)\n",
    "\n",
    "#masterdark = CCDData.read(dir + 'masterdark.fit', unit = u.adu)\n",
    "#masterflat = CCDData.read(dir + 'masterflat.fit', unit = u.adu)\n",
    "ccd_dark = ccdp.subtract_dark(ccd_bias, masterdark, exposure_unit=u.second, scale = True, dark_exposure = 300.0*u.second, data_exposure = 200.0*u.second)\n",
    "ccd = ccdp.flat_correct(ccd_dark, masterflat, min_value=0.9)\n",
    "ccd = CCDData.read(dir + scifile, unit = u.adu)\n",
    "plt.figure(figsize=(10,6))\n",
    "plt.imshow(ccd, origin='lower', aspect='auto', cmap=plt.cm.gray)\n",
    "plt.title('outimage')\n",
    "#plt.clim(np.percentile(ccd, (5, 98)))\n",
    "cb = plt.colorbar()"
   ]
  },
  {
   "cell_type": "code",
   "execution_count": null,
   "id": "4270aacd-1bad-4709-9144-b189f00bd2fc",
   "metadata": {},
   "outputs": [],
   "source": [
    "from specreduce import tracing, background, extract\n",
    "sci_tr = tracing.FitTrace(ccd,  peak_method='max')   #FitTrace(image, peak_method='gaussian', guess=trace_pos)\n",
    "bg = background.Background.two_sided(ccd, sci_tr, separation=50, width=20) \n",
    "extract = extract.BoxcarExtract(ccd - bg, sci_tr, width = 10)\n",
    "spectrum = extract()\n"
   ]
  },
  {
   "cell_type": "code",
   "execution_count": null,
   "id": "3c8fcce4-43f0-4c07-819b-48ab7351379e",
   "metadata": {},
   "outputs": [],
   "source": [
    "extract.width\n"
   ]
  },
  {
   "cell_type": "code",
   "execution_count": null,
   "id": "379e18f1-1e3f-4722-b285-1e73302e5f54",
   "metadata": {},
   "outputs": [],
   "source": [
    "plt.figure(figsize=(10,6))\n",
    "plt.imshow(ccd, origin='lower', aspect='auto', cmap=plt.cm.gray)\n",
    "plt.imshow(bg.bkg_wimage, origin='lower', aspect='auto', cmap=plt.cm.gray, alpha=0.5)\n",
    "plt.plot(sci_tr.trace , color='r')\n",
    "plt.plot(sci_tr.trace+extract.width , color='g', linestyle='dashed')\n",
    "plt.plot(sci_tr.trace-extract.width , color='g', linestyle='dashed')\n",
    "\n",
    "cb = plt.colorbar()\n",
    "\n"
   ]
  },
  {
   "cell_type": "code",
   "execution_count": null,
   "id": "3748daed-e25c-4da3-8e05-fac3e1b1c8c5",
   "metadata": {},
   "outputs": [],
   "source": [
    "plt.figure(figsize=(10,6))\n",
    "#plt.imshow(bg.sub_image(ccd).data, origin='lower', aspect='auto', cmap=plt.cm.gray)\n",
    "#plt.imshow(bg.sub_image(ccd).data, origin='lower', aspect='auto', cmap=plt.cm.gray)\n",
    "plt.plot(spectrum.flux, color='r')\n",
    "#cb = plt.colorbar()\n",
    "\n"
   ]
  },
  {
   "cell_type": "code",
   "execution_count": null,
   "id": "87f4aa6e-9ad0-411a-892e-259c328ffcb7",
   "metadata": {},
   "outputs": [],
   "source": []
  }
 ],
 "metadata": {
  "kernelspec": {
   "display_name": "Python 3 (ipykernel)",
   "language": "python",
   "name": "python3"
  },
  "language_info": {
   "codemirror_mode": {
    "name": "ipython",
    "version": 3
   },
   "file_extension": ".py",
   "mimetype": "text/x-python",
   "name": "python",
   "nbconvert_exporter": "python",
   "pygments_lexer": "ipython3",
   "version": "3.11.7"
  }
 },
 "nbformat": 4,
 "nbformat_minor": 5
}
