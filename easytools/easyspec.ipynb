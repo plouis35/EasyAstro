{
 "cells": [
  {
   "cell_type": "markdown",
   "id": "47f32bf4-199e-4631-add9-7f445a8e7aef",
   "metadata": {},
   "source": [
    "# Tools for longslit spectrographs reduction and analysis"
   ]
  },
  {
   "cell_type": "markdown",
   "id": "d6afd6da-7c2e-493b-b568-7b4c09b2ccb7",
   "metadata": {},
   "source": [
    "# Versions inventory"
   ]
  },
  {
   "cell_type": "code",
   "execution_count": 1,
   "id": "74d2a298-da88-42d2-9750-779cb97af5f1",
   "metadata": {
    "scrolled": true
   },
   "outputs": [
    {
     "name": "stdout",
     "output_type": "stream",
     "text": [
      "Python 3.11.7 | packaged by conda-forge | (main, Dec 23 2023, 14:27:59) [MSC v.1937 64 bit (AMD64)]\n",
      "matplotlib 3.8.2\n",
      "numpy 1.26.4\n",
      "Selected Jupyter core packages...\n",
      "IPython          : 8.21.0\n",
      "ipykernel        : 6.29.1\n",
      "ipywidgets       : 8.1.1\n",
      "jupyter_client   : 8.6.0\n",
      "jupyter_core     : 5.7.1\n",
      "jupyter_server   : 2.12.5\n",
      "jupyterlab       : 4.1.0\n",
      "nbclient         : 0.9.0\n",
      "nbconvert        : 7.15.0\n",
      "nbformat         : 5.9.2\n",
      "notebook         : 7.1.0b0\n",
      "qtconsole        : 5.5.1\n",
      "traitlets        : 5.14.1\n"
     ]
    }
   ],
   "source": [
    "__main__ = 'EasySpec'\n",
    "__author__ = 'Pascal Louis <plouis35@gmail.com>'\n",
    "__version__ = '0.1'\n",
    "__keywords__ = ['astronomy', 'spectroscopy', 'astropy', 'specutils', 'specreduce', 'matplotlib']\n",
    "import sys, numpy, matplotlib\n",
    "print('Python ' + sys.version)\n",
    "print('matplotlib ' + str(sys.modules['matplotlib'].__version__))\n",
    "print('numpy ' + str(sys.modules['numpy'].__version__))\n",
    "! jupyter --version\n"
   ]
  },
  {
   "cell_type": "markdown",
   "id": "9680ee12-9b0f-47e7-892e-9f193c68cc7c",
   "metadata": {},
   "source": [
    "# Initialize"
   ]
  },
  {
   "cell_type": "code",
   "execution_count": 2,
   "id": "2d7362d0",
   "metadata": {
    "slideshow": {
     "slide_type": ""
    },
    "tags": []
   },
   "outputs": [
    {
     "data": {
      "text/html": [
       "<style>:root { --jp-notebook-max-width: 100% !important; }</style>"
      ],
      "text/plain": [
       "<IPython.core.display.HTML object>"
      ]
     },
     "metadata": {},
     "output_type": "display_data"
    }
   ],
   "source": [
    "### allow full width of browser\n",
    "from IPython.display import display, HTML\n",
    "display(HTML(\"<style>:root { --jp-notebook-max-width: 100% !important; }</style>\"))\n",
    "\n",
    "### matplotlib settings\n",
    "import matplotlib as plt\n",
    "\n",
    "%matplotlib widget\n",
    "%config InlineBackend.rc = {}\n",
    "matplotlib_config = {\n",
    "    'text.color': 'white',\n",
    "    'axes.labelcolor': 'white',\n",
    "    'xtick.color': 'white',\n",
    "    'ytick.color': 'white',\n",
    "    'legend.fontsize': 8,\n",
    "    'axes.labelsize': 8,\n",
    "    'axes.titlesize': 8, \n",
    "    'xtick.labelsize': 8,\n",
    "    'ytick.labelsize': 8, \n",
    "    'lines.linewidth': 1,\n",
    "    'axes.linewidth': 1, \n",
    "    'animation.html': 'html5',\n",
    "}\n",
    "\n",
    "plt.rcParams.update(matplotlib_config)\n",
    "plt.rcParams.update({'figure.max_open_warning': 0})      \n"
   ]
  },
  {
   "cell_type": "markdown",
   "id": "3db0ea5b-3c0c-4e45-9005-0cf568cf5f3e",
   "metadata": {},
   "source": [
    "# Viewer"
   ]
  },
  {
   "cell_type": "code",
   "execution_count": 3,
   "id": "ea1d7c34-9125-493d-b8ab-fc0a52eec606",
   "metadata": {},
   "outputs": [
    {
     "data": {
      "application/vnd.jupyter.widget-view+json": {
       "model_id": "ce88969a9f5449edb03c7a7bbd5e13c9",
       "version_major": 2,
       "version_minor": 0
      },
      "text/plain": [
       "Output(layout=Layout(border_bottom='1px solid grey', border_left='1px solid grey', border_right='1px solid gre…"
      ]
     },
     "metadata": {},
     "output_type": "display_data"
    },
    {
     "data": {
      "application/vnd.jupyter.widget-view+json": {
       "model_id": "be554341b8914549b86a0d6c6626f4aa",
       "version_major": 2,
       "version_minor": 0
      },
      "text/plain": [
       "HBox(children=(Output(layout=Layout(border_bottom='1px solid grey', border_left='1px solid grey', border_right…"
      ]
     },
     "metadata": {},
     "output_type": "display_data"
    },
    {
     "data": {
      "application/vnd.jupyter.widget-view+json": {
       "model_id": "e32e9640b70649329f73d955d54347a3",
       "version_major": 2,
       "version_minor": 0
      },
      "text/plain": [
       "HBox(children=(Output(layout=Layout(border_bottom='1px solid grey', border_left='1px solid grey', border_right…"
      ]
     },
     "metadata": {},
     "output_type": "display_data"
    },
    {
     "name": "stderr",
     "output_type": "stream",
     "text": [
      "WARNING: File may have been truncated: actual file length (161453376) is smaller than the expected size (161455680) [astropy.io.fits.file]\n"
     ]
    }
   ],
   "source": [
    "from easyspec import EasySpec\n",
    "es = EasySpec()"
   ]
  },
  {
   "cell_type": "code",
   "execution_count": null,
   "id": "02ee4756-0bf8-4e0d-86cb-7361181dff92",
   "metadata": {},
   "outputs": [],
   "source": []
  }
 ],
 "metadata": {
  "celltoolbar": "Format de la Cellule Texte Brut",
  "kernelspec": {
   "display_name": "Python 3 (ipykernel)",
   "language": "python",
   "name": "python3"
  },
  "language_info": {
   "codemirror_mode": {
    "name": "ipython",
    "version": 3
   },
   "file_extension": ".py",
   "mimetype": "text/x-python",
   "name": "python",
   "nbconvert_exporter": "python",
   "pygments_lexer": "ipython3",
   "version": "3.11.7"
  }
 },
 "nbformat": 4,
 "nbformat_minor": 5
}
