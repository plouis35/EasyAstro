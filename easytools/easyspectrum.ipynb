{
 "cells": [
  {
   "cell_type": "markdown",
   "id": "9dea645d-5940-4a19-988e-fffa12c9beb1",
   "metadata": {},
   "source": [
    "# Extract, calibrate & analyze long-slit spectrum"
   ]
  },
  {
   "cell_type": "code",
   "execution_count": null,
   "id": "fca17236-ba26-4ba8-8397-d6a8f8ac95eb",
   "metadata": {},
   "outputs": [],
   "source": [
    "%load_ext autoreload\n",
    "%autoreload 2"
   ]
  },
  {
   "cell_type": "code",
   "execution_count": null,
   "id": "e73cead3-15b8-4f48-a516-3e778f6f478a",
   "metadata": {},
   "outputs": [],
   "source": [
    "__main__ = 'EasySpectrum'\n",
    "__author__ = 'Pascal Louis <plouis35@gmail.com>'\n",
    "__version__ = '0.6'\n",
    "__keywords__ = ['astronomy', 'spectroscopy', 'astropy', 'specutils', 'specreduce', 'matplotlib']\n"
   ]
  },
  {
   "cell_type": "markdown",
   "id": "0c7c8eaf-61c3-4548-8456-4049886ff5fd",
   "metadata": {},
   "source": [
    "## Imports libs"
   ]
  },
  {
   "cell_type": "code",
   "execution_count": null,
   "id": "b342e474-bed5-45e6-af9c-321de95bbe7b",
   "metadata": {},
   "outputs": [],
   "source": [
    "### matplotlib settings\n",
    "import matplotlib.pyplot as plt\n",
    "\n",
    "%config InlineBackend.rc = {}\n",
    "#plt.style.use(['dark_background'])\n",
    "plt.rcParams.update({'figure.max_open_warning': 0}) \n",
    "\n",
    "### set the mpl backend\n",
    "#%matplotlib widget\n",
    "%matplotlib widget\n",
    "\n",
    "import warnings, fnmatch, os\n",
    "from time import gmtime, strftime\n",
    "from pathlib import Path\n",
    "\n",
    "import numpy as np\n",
    "\n",
    "from astropy.table import Table, QTable\n",
    "from astropy import units as u\n",
    "from astropy.nddata import CCDData, StdDevUncertainty\n",
    "from astropy.stats import mad_std\n",
    "from astropy.io import fits\n",
    "from astropy.utils.exceptions import AstropyWarning\n",
    "\n",
    "from ccdproc import Combiner, combine, subtract_bias, subtract_dark, flat_correct\n",
    "from ccdproc import trim_image, Combiner, ccd_process, cosmicray_median\n",
    "\n",
    "from align_combine import align_and_combine\n",
    "\n",
    "warnings.simplefilter('ignore', category=AstropyWarning)\n",
    "warnings.simplefilter('ignore', UserWarning)\n"
   ]
  },
  {
   "cell_type": "markdown",
   "id": "104cb13c-6fa1-4e1a-91a0-f4cc5f6a2c1b",
   "metadata": {},
   "source": [
    "## Define target"
   ]
  },
  {
   "cell_type": "code",
   "execution_count": null,
   "id": "697aa66e-6787-493e-8d1b-a9d3e5253547",
   "metadata": {},
   "outputs": [],
   "source": [
    "### Observatory location\n",
    "# CALC\n",
    "#OBS_LATITUDE = 47.89\n",
    "#OBS_LONGITUDE = -1.50\n",
    "#ALTITUDE: 50\n",
    "\n",
    "#OHP\n",
    "#OBS_LATITUDE = 43.931\n",
    "#OBS_LONGITUDE = 5.712\n",
    "#ALTITUDE: 600\n",
    "\n",
    "#Void\n",
    "OBS_LONGITUDE = 5.622875\n",
    "OBS_LATITUDE = 48.686385\n",
    "ALTITUDE = 250\n",
    "\n",
    "### science target\n",
    "CAPTURE_DIR = '../../../CAPTURES/20241005_Void/'\n",
    "TARGET = 'HD171780'\n",
    "REFERENCE_STAR = 'delumi_stis_004.fits'             # CALSPEC\n",
    "WAVE_RANGE = 6400, 6800\n",
    "MEDIAN_SMOOTH = 7\n",
    "WAVELENGTH = [6506.53, 6532.88, 6598.95, 6678.28, 6717.04]*u.AA\n",
    "PIXELS = [770, 1190, 2240, 3484, 4160]*u.pix\n"
   ]
  },
  {
   "cell_type": "markdown",
   "id": "aa1fcd1a-93f6-4baf-a315-5ae01ac7b45f",
   "metadata": {},
   "source": [
    "## Create logger"
   ]
  },
  {
   "cell_type": "code",
   "execution_count": null,
   "id": "ad67f1e8-c81e-4763-a0e0-e91b635ccf2d",
   "metadata": {},
   "outputs": [],
   "source": [
    "import sys\n",
    "import logging\n",
    "\n",
    "logging.basicConfig(\n",
    "    format='%(asctime)s [%(levelname)s] - %(message)s',\n",
    "    level=logging.INFO,\n",
    "    datefmt='%Y-%m-%d %H:%M:%S',\n",
    "    stream=sys.stdout,\n",
    ")\n",
    "logger = logging.getLogger('notebook')"
   ]
  },
  {
   "cell_type": "markdown",
   "id": "f3264b1c-0649-4afb-a8ec-429f4ae4ed2a",
   "metadata": {},
   "source": [
    "## Create spectrum"
   ]
  },
  {
   "cell_type": "markdown",
   "id": "34ed5373-b83a-446c-94dd-3b856a5df0e0",
   "metadata": {},
   "source": [
    "### Extract science spectrum"
   ]
  },
  {
   "cell_type": "code",
   "execution_count": null,
   "id": "4270aacd-1bad-4709-9144-b189f00bd2fc",
   "metadata": {},
   "outputs": [],
   "source": [
    "from astropy.modeling import models\n",
    "from specreduce import tracing, background, extract\n",
    "\n",
    "logger.info('extracting science spectra...')\n",
    "\n",
    "master_science = CCDData.read(CAPTURE_DIR + TARGET + '-reduced.fit', unit = u.adu)\n",
    "#master_science = CCDData.read(CAPTURE_DIR + TARGET + '-reduced-cosmics' + '.fit', unit = u.adu)\n",
    "master_calib = CCDData.read(CAPTURE_DIR + 'mastercalib.fit', unit = u.adu)\n",
    "\n",
    "#sci_tr = tracing.FlatTrace(master_science, 407)\n",
    "sci_tr = tracing.FitTrace(master_science,  bins = 64, trace_model=models.Polynomial1D(degree=2), peak_method = 'gaussian', window = 50) \n",
    "#, guess=605) #, guess=407)\n",
    "\n",
    "#trace_model : one of Chebyshev1D, Legendre1D, Polynomial1D, or Spline1D\n",
    "#peak_method : One of gaussian, centroid, or max. gaussian\n",
    "bg = background.Background.two_sided(master_science, sci_tr, separation=80, width=50) \n",
    "extract = extract.BoxcarExtract(master_science - bg, sci_tr, width = 15)\n",
    "sci_spectrum = extract()\n",
    "\n",
    "cuts = (10,95) #(5, 95.0)\n",
    "ax0, ax1 = plt.subplots(2, 1, figsize = (10,6))[1]\n",
    "plt.tight_layout()\n",
    "\n",
    "im = ax0.imshow(master_science, origin='lower', aspect='auto', cmap=plt.cm.magma)\n",
    "ax0.imshow(bg.bkg_wimage, origin='lower', aspect='auto', cmap=plt.cm.gray, alpha=0.3)\n",
    "ax0.imshow(sci_tr.image.data, origin='lower', aspect='auto', cmap=plt.cm.gray, alpha=0.1)\n",
    "im.set_clim(np.percentile(master_science, cuts))\n",
    "ax0.step(sci_spectrum.spectral_axis, sci_tr.trace , color='g', linewidth = '0.3')\n",
    "ax0.step(sci_spectrum.spectral_axis, sci_tr.trace + extract.width , color='g', linestyle='dashed', alpha=0.5)\n",
    "ax0.step(sci_spectrum.spectral_axis, sci_tr.trace - extract.width , color='g', linestyle='dashed', alpha=0.5)\n",
    "ax0.set_title('spectrum2D + background + trace fitted')\n",
    "\n",
    "ax1.step(sci_spectrum.spectral_axis , sci_spectrum.flux, color='black', linewidth = '0.6')\n",
    "ax1.set_xlabel('Pixels')\n",
    "ax1.set_ylabel('ADU')\n"
   ]
  },
  {
   "cell_type": "markdown",
   "id": "ddbe70f7-5d3f-416e-b4e5-b230d70f2cd6",
   "metadata": {},
   "source": [
    "### Extract calibration spectrum"
   ]
  },
  {
   "cell_type": "code",
   "execution_count": null,
   "id": "4d539453-e7c8-49bc-9be7-5300009a5e1d",
   "metadata": {},
   "outputs": [],
   "source": [
    "from astropy.modeling import models\n",
    "from specreduce import tracing, background, extract\n",
    "\n",
    "logger.info('extracting neon spectrum...')\n",
    "\n",
    "neon_data = CCDData.read(CAPTURE_DIR + 'mastercalib.fit', unit = u.adu)\n",
    "\n",
    "#specreduce.tracing.ArrayTrace(image: NDData, trace: ndarray)\n",
    "#neon_tr = tracing.FlatTrace(neon_data,sci_tr.trace[int(sci_tr.shape[0] / 2.0)])   #FitTrace(image, peak_method='gaussian', guess=trace_pos)\n",
    "#neon_tr = tracing.ArrayTrace(neon_data, sci_tr.trace[int(sci_tr.shape[0] / 2.0)])   #FitTrace(image, peak_method='gaussian', guess=trace_pos)\n",
    "#bg = background.Background.two_sided(neon_data, sci_tr, separation=50, width=0) \n",
    "extract = extract.BoxcarExtract(neon_data , sci_tr, width = 35)\n",
    "neon_spectrum = extract()\n",
    "\n",
    "cuts = (5, 95.0)\n",
    "ax0, ax1 = plt.subplots(2, 1, figsize = (10,6))[1]\n",
    "#plt.tight_layout()\n",
    "\n",
    "im = ax0.imshow(neon_data, origin='lower', aspect='auto', cmap=plt.cm.grey)\n",
    "#ax0.imshow(bg.bkg_wimage, origin='lower', aspect='auto', cmap=plt.cm.gray, alpha=0.1)\n",
    "ax0.imshow(sci_tr.image.data, origin='lower', aspect='auto', cmap=plt.cm.gray, alpha=0.1)\n",
    "im.set_clim(np.percentile(master_science, cuts))\n",
    "ax0.step(neon_spectrum.spectral_axis, sci_tr.trace , color='g', linewidth = '0.3')\n",
    "ax0.step(neon_spectrum.spectral_axis, sci_tr.trace + extract.width , color='g', linestyle='dashed', alpha=0.5)\n",
    "ax0.step(neon_spectrum.spectral_axis, sci_tr.trace - extract.width , color='g', linestyle='dashed', alpha=0.5)\n",
    "\n",
    "ax0.set_title('spectra2D + trace')\n",
    "\n",
    "ax1.step(neon_spectrum.spectral_axis , neon_spectrum.flux, color='blue', linewidth = '0.6')\n",
    "ax1.set_xlabel('Pixels')\n",
    "ax1.set_ylabel('ADU')\n",
    "ax1.set_ylim(0, 0.1e6)\n"
   ]
  },
  {
   "cell_type": "markdown",
   "id": "25c92ea3-3f49-4da4-9f89-4fcc4503ecc2",
   "metadata": {},
   "source": [
    "### Calibrate calibration spectrum"
   ]
  },
  {
   "cell_type": "code",
   "execution_count": null,
   "id": "26715f61-f2d4-4bfa-8cc0-82cdec80f39d",
   "metadata": {},
   "outputs": [],
   "source": [
    "import astropy.units as u\n",
    "from astropy.modeling import models, fitting\n",
    "from specreduce import WavelengthCalibration1D\n",
    "\n",
    "logger.info('calibrating neon spectrum...')\n",
    "\n",
    "### alpy-600 + neon builtin\n",
    "#pixels = [351, 589, 1045, 1403, 1885, 2073]*u.pix\n",
    "#wavelength = [4200.67, 4764.87, 5852.49, 6677.28, 7272.94, 7635.11]*u.AA\n",
    "#pixels =     [355,     1045,    1171     , 1284,   1406,      1535  , 1674  , 1840 ]*u.pix\n",
    "#wavelength = [4200.67, 5852.49, 6143.06,  6402.25  , 6677.28  ,   6965.43 , 7272.94 , 7635.11]*u.AA\n",
    "#wavelength_ = wavelength #= [4200.67, 5852.49, 6143.06,  6402.25  , 6677.28  ,   6965.43 , 7272.94 , 7635.11]\n",
    "\n",
    "# Dados200 + Xenon lamp\n",
    "#pixels = [191, 400, 871, 1105, 1533]*u.pix\n",
    "#pixels = [188, 396, 868, 1102, 1530]*u.pix\n",
    "#wavelength = [4671.22, 5028.28, 5852.49, 6266.49, 7031.41]*u.AA\n",
    "\n",
    "### Dados200 + neon lamp\n",
    "#pixels = [868, 1276, 2342, 3635, 4263]*u.pix\n",
    "#wavelength = [6506.53, 6532.88, 6598.95, 6678.28, 6717.04]*u.AA\n",
    "\n",
    "### StarEx-2400 + neon lamp\n",
    "#pixels = [868, 1276, 2342, 3635, 4263]*u.pix\n",
    "#pixels = [853, 1266, 2314, 3599, 4238]*u.pix\n",
    "#wavelength = [6506.53, 6532.88, 6598.95, 6678.28, 6717.04]*u.AA\n",
    "wavelength = WAVELENGTH\n",
    "pixels = PIXELS\n",
    "\n",
    "#line_list = QTable([pixels, wavelength], names=[\"pixel_center\", \"wavelength\"])\n",
    "#input_spectrum, matched_line_list=None, line_pixels=None, line_wavelengths=None, catalog=None, input_model=Linear1D(), fitter=None\n",
    "cal = WavelengthCalibration1D(input_spectrum = neon_spectrum,\n",
    "      #matched_line_list = line_list,\n",
    "      line_wavelengths = wavelength,\n",
    "      line_pixels = pixels,\n",
    "      input_model = models.Polynomial1D(degree = 2),\n",
    "      #fitter = fitting.LMLSQFitter()\n",
    "      fitter = fitting.LinearLSQFitter()\n",
    "     )\n",
    "print('residuals :', cal.residuals )\n",
    "print('fitted ', cal.fitted_model )\n",
    "\n",
    "neon_calibrated_spectrum = cal.apply_to_spectrum(neon_spectrum)\n",
    "\n",
    "plt.figure(figsize=(10,6))\n",
    "plt.xlabel('Wavelength (Ang)')\n",
    "plt.ylabel('ADU')\n",
    "plt.step(neon_calibrated_spectrum.spectral_axis, neon_calibrated_spectrum.flux, linewidth = '0.6')  \n",
    "for line in wavelength:\n",
    "    plt.axvline(line.value, 0.95, 1.0, color = 'b', lw = 1.0)\n",
    "    plt.axvline(line.value, color = 'b', lw = 1.0, linestyle = ':')\n",
    "plt.ylim(0, 0.2e6);\n"
   ]
  },
  {
   "cell_type": "markdown",
   "id": "2c952d8e-dd7a-4565-802a-43c3b282904a",
   "metadata": {},
   "source": [
    "### Apply to science spectrum"
   ]
  },
  {
   "cell_type": "code",
   "execution_count": null,
   "id": "a3170267-cc5a-4468-a404-bb30611d04be",
   "metadata": {},
   "outputs": [],
   "source": [
    "logger.info('calibrating science spectra...')\n",
    "sci_calibrated_spectrum = cal.apply_to_spectrum(sci_spectrum)\n",
    "\n",
    "plt.figure(figsize=(10,6))\n",
    "plt.xlabel('Wavelength (Ang)')\n",
    "plt.ylabel('ADU')\n",
    "plt.plot(sci_calibrated_spectrum.wavelength, sci_calibrated_spectrum.flux, linewidth = '0.6');\n"
   ]
  },
  {
   "cell_type": "markdown",
   "id": "2c4f322b-f227-4d22-a45f-f73d4550eecb",
   "metadata": {},
   "source": [
    "### Smooth spectrum (optional)"
   ]
  },
  {
   "cell_type": "code",
   "execution_count": null,
   "id": "02bef288-038c-4306-aeee-58e6610c997b",
   "metadata": {},
   "outputs": [],
   "source": [
    "from specutils.manipulation import median_smooth, gaussian_smooth\n",
    "\n",
    "smooth_spec = median_smooth(sci_calibrated_spectrum, width = MEDIAN_SMOOTH) \n",
    "\n",
    "plt.figure(figsize=(10,6))\n",
    "#plt.xlim(3000, 9000)\n",
    "plt.xlabel('Wavelength (Ang)')\n",
    "plt.ylabel('ADU')\n",
    "plt.step(sci_calibrated_spectrum.wavelength, sci_calibrated_spectrum.flux + 1*u.adu, color = 'black', linewidth = '0.6', label = 'orig')\n",
    "plt.step(smooth_spec.wavelength, smooth_spec.flux , color = 'red', linewidth = '0.6', label = 'smoothed')\n",
    "plt.legend(loc=('best'))\n",
    "\n",
    "### decide to keep the median smoothed version ?\n",
    "sci_calibrated_spectrum = smooth_spec\n"
   ]
  },
  {
   "cell_type": "markdown",
   "id": "96773984-0b25-40cf-a2c8-548bd93b4251",
   "metadata": {},
   "source": [
    "### Compute airmass"
   ]
  },
  {
   "cell_type": "code",
   "execution_count": null,
   "id": "ba245790-128f-4f59-9d10-624c813d7702",
   "metadata": {},
   "outputs": [],
   "source": [
    "from astropy.coordinates import get_sun, AltAz, EarthLocation\n",
    "from astropy.coordinates import SpectralCoord, SkyCoord\n",
    "from astropy.time import Time\n",
    "\n",
    "### compute zenith distance (if not present in fit header)\n",
    "#TARGET = 'v558 lyr'\n",
    "target_coord = SkyCoord.from_name(TARGET)\n",
    "target_time = Time(master_science.header['DATE-OBS'])\n",
    "obs_coord = EarthLocation(lon = OBS_LONGITUDE * u.deg, lat = OBS_LATITUDE * u.deg)\n",
    "altaz = AltAz(obstime=target_time, location = obs_coord)\n",
    "\n",
    "ZD = target_coord.transform_to(AltAz(obstime = target_time, location = obs_coord)).zen\n",
    "airmass = 1.0 / np.cos(ZD)\n",
    "logger.info(f'computed ZD={ZD}, airmass={airmass}')\n"
   ]
  },
  {
   "cell_type": "markdown",
   "id": "d3115be7-b5e5-43c3-903f-19920305e0d9",
   "metadata": {},
   "source": [
    "### Correct instrument response"
   ]
  },
  {
   "cell_type": "code",
   "execution_count": null,
   "id": "33b8d2d4-4a61-478e-b066-f7937c2a7f25",
   "metadata": {},
   "outputs": [],
   "source": [
    "import matplotlib.pyplot as plt\n",
    "from specreduce.calibration_data import load_MAST_calspec, load_onedstds\n",
    "from specutils import Spectrum1D, SpectralRegion\n",
    "from astropy.nddata import StdDevUncertainty\n",
    "from specreduce.fluxcal import FluxCalibration\n",
    "from specutils.manipulation import extract_region, gaussian_smooth, convolution_smooth, median_smooth\n",
    "from astropy.coordinates import SpectralCoord, SkyCoord\n",
    "from astropy import units as u\n",
    "from astropy.wcs import WCS\n",
    "from astropy.convolution import Box1DKernel\n",
    "from astropy.modeling import models, fitting\n",
    "from specutils.fitting import fit_generic_continuum\n",
    "import astropy.wcs as fitswcs\n",
    "import astropy.io.fits as pyfits\n",
    "\n",
    "from astropy.table import Table\n",
    "from specutils.io.registers import custom_writer\n",
    "\n",
    "### load proper reference star from CALSPEC database according to spectral type\n",
    "\n",
    "#std_spec = load_onedstds(dataset = 'spec50cal', specfile = 'hd217086.dat')\n",
    "#std_spec = load_onedstds(dataset = 'bstdscal', specfile = 'hr5511.dat')\n",
    "#std_spec = load_MAST_calspec(\"delumi_stis_004.fits\")\n",
    "std_spec = load_MAST_calspec(REFERENCE_STAR)\n",
    "#std_spec = load_MAST_calspec(\"bd60d1753_stiswfc_004.fits\")\n",
    "#std_spec = load_MAST_calspec(\"hd93521_stis_007.fits\")         # O9Vp\n",
    "#std_spec = load_MAST_calspec(\"hd101452_stis_004.fits\")        # A2/3\n",
    "#std_spec = load_MAST_calspec('etauma_stis_008.fits') # B3V\n",
    "\n",
    "### slice spectra (optional)\n",
    "#std_slice = std_spec[3800*u.AA:8200*u.AA]\n",
    "#sci_slice = sci_calibrated_spectrum[3800*u.AA:8200*u.AA]\n",
    "\n",
    "std_slice = std_spec\n",
    "sci_slice = sci_calibrated_spectrum\n",
    "\n",
    "### show both spectra\n",
    "fig, ax = plt.subplots(figsize=(10,6))\n",
    "\n",
    "#plt.xlim(3000, 9000)      # DADOS 200\n",
    "plt.xlim(WAVE_RANGE)       # starEx2400\n",
    "\n",
    "ax.step(std_slice.spectral_axis, std_slice.flux, label = 'calspec star') #, where=\"mid\"\n",
    "ax.step(sci_slice.spectral_axis, sci_slice.flux, label = 'science star') # where=\"mid\", \n",
    "ax.set_yscale('log')\n",
    "ax.set_xlabel(f\"Wavelength ({std_slice.spectral_axis.unit})\")\n",
    "ax.set_ylabel(f\"Flux ({std_slice.flux.unit})\");\n",
    "plt.legend(loc=('best'))\n",
    "\n",
    "obj_spectrum = Spectrum1D(spectral_axis = sci_slice.spectral_axis, flux = sci_slice.flux)\n",
    "sci_spectrum = FluxCalibration(obj_spectrum, airmass = airmass) \n",
    "                \n",
    "### reuse response file if exists\n",
    "#if False:\n",
    "if os.path.exists(CAPTURE_DIR + 'masterresponse.fit'):\n",
    "    logger.info('reusing existing response file ... ')\n",
    "    with fits.open(CAPTURE_DIR + 'masterresponse.fit') as resp:\n",
    "        specdata = resp[1].data\n",
    "        header = resp[1].header\n",
    "        responsefunc = Spectrum1D(flux = specdata['flux']* u.mJy, spectral_axis = specdata['wavelength'] * u.AA)\n",
    "        \n",
    "        final_spec = sci_spectrum.apply_sensfunc(responsefunc)\n",
    "    logger.info('response applied')\n",
    "else:\n",
    "    logger.info('creating a new response file ...')\n",
    "    responsefunc = sci_spectrum.standard_sensfunc(\n",
    "        standard = std_slice,\n",
    "        mode = 'spline', #'linear', # 'poly', #'spline', \n",
    "        polydeg = 3,\n",
    "        #badlines=[7516, 6880, 6844, 6860, 6920, 6563, 6566, 4861, 4341],\n",
    "        display = False)\n",
    "    logger.info('response created')\n",
    "\n",
    "    ### smooth the response func ?\n",
    "    #smooth_response = gaussian_smooth(responsefunc, stddev=3) \n",
    "    smooth_response = median_smooth(responsefunc, width=2055) \n",
    "    responsefunc = smooth_response\n",
    "    logger.info('response median smoothed')\n",
    "        \n",
    "    final_spec = sci_spectrum.apply_sensfunc(responsefunc)\n",
    "    logger.info('response applied')\n",
    "\n",
    "    responsefunc.write(CAPTURE_DIR + 'masterresponse.fit', overwrite = True)\n",
    "\n",
    "final_spec.write(CAPTURE_DIR + TARGET + '-1D.fit', overwrite = True)\n",
    "\n",
    "\n",
    "plt.figure(figsize=(10,6))\n",
    "#plt.xlim(3000, 9000)      # DADOS 200\n",
    "plt.xlim(WAVE_RANGE)       # starEx2400\n",
    "\n",
    "plt.xlabel('Wavelength (Ang)')\n",
    "plt.ylabel('ADU')\n",
    "plt.step(responsefunc.wavelength, responsefunc.flux, linewidth = '1.6', color = 'r');\n",
    "plt.title('response curve')\n",
    "\n",
    "\n",
    "plt.figure(figsize=(10,6))\n",
    "#plt.xlim(3000, 9000)      # DADOS 200\n",
    "plt.xlim(WAVE_RANGE)       # starEx2400\n",
    "\n",
    "plt.xlabel('Wavelength (Ang)')\n",
    "plt.ylabel('ADU')\n",
    "#plt.step(obj_spectrum.wavelength, obj_spectrum.flux, linewidth = '0.6', color = 'black');\n",
    "plt.step(std_slice.wavelength, std_slice.flux, color = 'r', label = 'calspec star') #, where=\"mid\", \n",
    "plt.step(final_spec.wavelength, final_spec.flux, linewidth = '0.6', color = 'b', label = 'science star'); #, where=\"mid\",\n",
    "plt.legend(loc=('best'))\n",
    "#plt.step(std_spec.wavelength, std_spec.flux + 5000 * u.mJy, linewidth = '0.6', color = 'r')\n"
   ]
  },
  {
   "cell_type": "markdown",
   "id": "86133f1d-b38e-4a24-910d-812e1fef529e",
   "metadata": {},
   "source": [
    "### Normalize & save spectrum"
   ]
  },
  {
   "cell_type": "code",
   "execution_count": null,
   "id": "649e9fd4-e778-4296-adee-8e62bf76fe5f",
   "metadata": {},
   "outputs": [],
   "source": [
    "### now export science spectrum (with header from 2D science frame)\n",
    "### normalize spectra to 1\n",
    "#sci_mean_norm_region = final_spec[6000 * u.AA: 6200 * u.AA].flux.mean()        # DADOS200 : low resolution\n",
    "sci_mean_norm_region = final_spec[6500 * u.AA: 6520 * u.AA].flux.mean()       # starEx2400 : high resolution\n",
    "final_spec = Spectrum1D(spectral_axis = final_spec.wavelength, flux = final_spec.flux / sci_mean_norm_region)  \n",
    "\n",
    "with fits.open(CAPTURE_DIR + TARGET + '-reduced.fit') as scihead:\n",
    "    hdr = scihead[0].header\n",
    "    del hdr['NAXIS2']\n",
    "    hdr['SIMPLE']  = 'T'\n",
    "    hdr['BITPIX']  = -32 \n",
    "    hdr['NAXIS']   = 1 \n",
    "    hdr['CRPIX1']  = 1\n",
    "    hdr['CTYPE1']  = 'Wavelength' #'Linear'\n",
    "    hdr['CUNIT1']  = 'Angstrom'\n",
    "    hdr['VERSION'] = 'EasyAstro - ' + __version__  \n",
    "#    hdr['BSS_TELL'] = 'None'  \n",
    "#    hdr['BSS_NORM'] = 'None'  \n",
    "    hdr['CRVAL1']  = final_spec.wavelength[0].value\n",
    "    hdr['CDELT1']  = (final_spec.wavelength[-1].value - final_spec.wavelength[0].value) / (len(final_spec.wavelength))\n",
    "#    print(f'crval1={hdr[\"CRVAL1\"]}, cdelt1={hdr[\"CDELT1\"]}')\n",
    "    hdr['OBJNAME'] = hdr['OBJECT'] \n",
    "    \n",
    "    ### LEFT TO COMPUTE:\n",
    "    #hdr['BSS_ITRP'] = 670\n",
    "    #hdr['SPE_RPOW'] = 670\n",
    "    #hdr['JD-OBS']  = '2460502.47465'\n",
    "    \n",
    "    #fits.writeto(CAPTURE_DIR + TARGET + '-1D-final.fit', final_spec.data, header = hdr, overwrite=True)\n",
    "\n",
    "final_spec.write(CAPTURE_DIR + TARGET + '-1D-final-tabular.fit', overwrite=True, format='tabular-fits')\n"
   ]
  },
  {
   "cell_type": "markdown",
   "id": "d3be14f5-9d0b-4c96-8e58-853c9c32b343",
   "metadata": {},
   "source": [
    "## Analyse spectrum"
   ]
  },
  {
   "cell_type": "markdown",
   "id": "53b04698-6ed9-42f6-ab71-36db27cea05d",
   "metadata": {},
   "source": [
    "### Show known lines"
   ]
  },
  {
   "cell_type": "code",
   "execution_count": null,
   "id": "dd7a7ad1-00f3-4b9e-9e81-b4d8e62bf0a8",
   "metadata": {},
   "outputs": [],
   "source": [
    "from spec_utils import show_lines\n",
    "plt.figure(figsize = (10,6))\n",
    "plt.step(final_spec.wavelength, final_spec.flux, color='black', linewidth = '0.6') #, where=\"mid\")\n",
    "plt.xlabel('Wavelength (Ang)')\n",
    "plt.ylabel('ADU')\n",
    "#plt.ylim(-10000, 1e6)\n",
    "\n",
    "show_lines(ax = None, show_line = True)\n"
   ]
  },
  {
   "cell_type": "markdown",
   "id": "57385b72-8c44-4119-91ef-f50c15c18afb",
   "metadata": {},
   "source": [
    "### Measure SNR"
   ]
  },
  {
   "cell_type": "code",
   "execution_count": null,
   "id": "cf3214ae-366d-491e-9a9b-57b63b7e15ce",
   "metadata": {},
   "outputs": [],
   "source": [
    "from specutils.fitting import fit_generic_continuum, fit_continuum\n",
    "from specutils import SpectralRegion\n",
    "from astropy.modeling import models, fitting\n",
    "from specutils.analysis import snr, snr_derived\n",
    "from specutils import Spectrum1D\n",
    "from specutils.spectra import SpectralRegion\n",
    "from specutils.manipulation import extract_region\n",
    "\n",
    "#with fits.open(CAPTURE_DIR + TARGET + '-1D-final.fit') as file:\n",
    "#    specdata = file[1].data\n",
    " #   header = file[1].header\n",
    "  #  final_spec1d = Spectrum1D(flux = specdata['flux'] * u.mJy, spectral_axis = specdata['wavelength'] * u.AA)\n",
    "\n",
    "print(f'snr = {snr_derived(final_spec)}')"
   ]
  },
  {
   "cell_type": "markdown",
   "id": "a2b2deba-24b0-42ac-8df6-8dd6b9a75d55",
   "metadata": {},
   "source": [
    "### Remove continuum"
   ]
  },
  {
   "cell_type": "code",
   "execution_count": null,
   "id": "edcfb5a1-8611-4e8f-9907-9871d63c1cb0",
   "metadata": {},
   "outputs": [],
   "source": [
    "### extract continuum on a selected region\n",
    "\n",
    "#region = SpectralRegion(3800*u.AA, 6930*u.AA)     # low resolution\n",
    "region = SpectralRegion(6450*u.AA, 6750*u.AA)     # high resolution\n",
    "\n",
    "\n",
    "sub_spectra = extract_region(final_spec, region)\n",
    "\n",
    "#generic_continuum = fit_generic_continuum(sub_spectra, exclude_regions = [\n",
    "        #SpectralRegion(3700 * u.AA, 4000 * u.AA),\n",
    "         #SpectralRegion(4825 * u.AA, 4885 * u.AA),\n",
    "         #SpectralRegion(4825 * u.AA, 5200 * u.AA),\n",
    "         #SpectralRegion(6400 * u.AA, 6800 * u.AA)\n",
    "        #])\n",
    "generic_continuum = fit_continuum(sub_spectra, models.Chebyshev1D (1) ) #Chebyshev1D (3)) #   Hermite1D(3))\n",
    "\n",
    "generic_continuum_evaluated = generic_continuum(sub_spectra.spectral_axis)\n",
    "\n",
    "spec_normalized = (sub_spectra / generic_continuum_evaluated)\n",
    "\n",
    "plt.figure(figsize = (10,6))\n",
    "plt.step(sub_spectra.spectral_axis, sub_spectra.flux)\n",
    "plt.plot(sub_spectra.spectral_axis, generic_continuum_evaluated)\n",
    "plt.plot(spec_normalized.spectral_axis, spec_normalized.flux)\n",
    "plt.legend(['original', 'continuum', 'corrected'], loc=('best'))\n",
    "#plt.xlim(4700, 5000)\n",
    "\n"
   ]
  },
  {
   "cell_type": "markdown",
   "id": "dc207a72-a11d-40bc-a33c-113107662194",
   "metadata": {},
   "source": [
    "### Identify lines"
   ]
  },
  {
   "cell_type": "code",
   "execution_count": null,
   "id": "c7da7de4-820a-48a9-8155-b8081e4c0576",
   "metadata": {},
   "outputs": [],
   "source": [
    "### identify lines\n",
    "from specutils.fitting import find_lines_derivative\n",
    "from specutils.fitting import fit_lines\n",
    "\n",
    "lines = find_lines_derivative(spec_normalized, flux_threshold=2)\n",
    "print('\\nemission: \\n', lines[lines['line_type'] == 'emission']) \n",
    "print('\\nabsorption: \\n', lines[lines['line_type'] == 'absorption']) \n"
   ]
  },
  {
   "cell_type": "markdown",
   "id": "87d92d66-9642-420b-839a-f6dedd7b66b2",
   "metadata": {},
   "source": [
    "### Fit a line"
   ]
  },
  {
   "cell_type": "code",
   "execution_count": null,
   "id": "89a69e6f-7c0a-4734-afe9-8c2080cd8d01",
   "metadata": {},
   "outputs": [],
   "source": [
    "from specutils.manipulation import extract_region\n",
    "from specutils.fitting import estimate_line_parameters\n",
    "from specutils.analysis import centroid, fwhm\n",
    "from specutils.fitting import fit_lines\n",
    "\n",
    "#lineAA = 5016\n",
    "lineAA = 6563\n",
    "#lineAA = 4861\n",
    "\n",
    "sr =  SpectralRegion((lineAA-50)*u.AA, (lineAA+50)*u.AA)\n",
    "#sr =  SpectralRegion((lineAA-50)*u.AA, (lineAA+50)*u.AA)\n",
    "\n",
    "#create a new spectrum of the selected region for plot\n",
    "sub_spectrum = extract_region(spec_normalized, sr)\n",
    "a_line = Spectrum1D(flux = sub_spectrum.flux, spectral_axis = sub_spectrum.spectral_axis)\n",
    "\n",
    "line_estimate = models.Gaussian1D(mean = lineAA*u.AA, stddev = 5*u.AA, amplitude=45000)\n",
    "line_model = fit_lines(sub_spectrum, line_estimate)\n",
    "evaluated_model = line_model(sub_spectrum.wavelength)\n",
    "\n",
    "print(line_model)\n",
    "\n",
    "plt.figure(figsize = (10,6))\n",
    "#plt.step(reg_spectra.wavelength, reg_spectra.flux, label=\"Original spectrum\")\n",
    "plt.plot(a_line.spectral_axis, a_line.flux , label=\"original spectrum\", color = 'b')\n",
    "plt.plot(a_line.spectral_axis, evaluated_model , label=\"Fit result\", color = 'r')\n",
    "#plt.plot(a_line.spectral_axis, a_line.flux)\n",
    "plt.xlim(lineAA-50, lineAA+50)\n"
   ]
  },
  {
   "cell_type": "markdown",
   "id": "c79093d4-59ff-4b24-8cd5-da60abda764c",
   "metadata": {},
   "source": [
    "### Measure line"
   ]
  },
  {
   "cell_type": "code",
   "execution_count": null,
   "id": "8d7ed189-ed34-43ef-91b8-1ea7ead5fa12",
   "metadata": {},
   "outputs": [],
   "source": [
    "### measure \n",
    "from specutils.analysis import line_flux\n",
    "from specutils.analysis import equivalent_width\n",
    "from specutils.analysis import gaussian_sigma_width, gaussian_fwhm, fwhm, fwzi\n",
    "\n",
    "\n",
    "print(f'gaussian fwhm = {gaussian_fwhm(a_line)}' )\n",
    "center = centroid(spec_normalized, sr)  \n",
    "print(f'center = {center}')\n",
    "\n",
    "print(f'fwhm = {fwhm(a_line)}') \n",
    "print(f'R = {(center / fwhm(a_line))}')\n",
    "#print(f'fwzi = {fwzi(a_line)}') \n",
    "\n",
    "print(f'line flux = {line_flux(a_line)}'  )\n",
    "\n",
    "#noisy_gaussian_with_continuum = noisy_gaussian + 1*u.Jy\n",
    "print(f'equivalent width = {equivalent_width(a_line)}')\n"
   ]
  },
  {
   "cell_type": "code",
   "execution_count": null,
   "id": "f0ce592c-5d9c-4114-b7f6-dc05ac759cb7",
   "metadata": {},
   "outputs": [],
   "source": []
  },
  {
   "cell_type": "code",
   "execution_count": null,
   "id": "f521ba50-d406-4794-b7ab-ffe1f0fe0dcd",
   "metadata": {},
   "outputs": [],
   "source": []
  }
 ],
 "metadata": {
  "kernelspec": {
   "display_name": "Python 3 (ipykernel)",
   "language": "python",
   "name": "python3"
  },
  "language_info": {
   "codemirror_mode": {
    "name": "ipython",
    "version": 3
   },
   "file_extension": ".py",
   "mimetype": "text/x-python",
   "name": "python",
   "nbconvert_exporter": "python",
   "pygments_lexer": "ipython3",
   "version": "3.12.7"
  }
 },
 "nbformat": 4,
 "nbformat_minor": 5
}
